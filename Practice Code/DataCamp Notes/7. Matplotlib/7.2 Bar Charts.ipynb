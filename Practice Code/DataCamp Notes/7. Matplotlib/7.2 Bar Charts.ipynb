{
 "cells": [
  {
   "cell_type": "markdown",
   "metadata": {},
   "source": [
    "# Matplotlib Cheat Sheet\n",
    "BAR CHARTS | Stacked BAR CHARTS"
   ]
  },
  {
   "cell_type": "markdown",
   "metadata": {},
   "source": [
    "___"
   ]
  },
  {
   "cell_type": "code",
   "execution_count": 1,
   "metadata": {},
   "outputs": [],
   "source": [
    "from matplotlib import pyplot as plt\n",
    "import pandas as pd"
   ]
  },
  {
   "cell_type": "code",
   "execution_count": 2,
   "metadata": {},
   "outputs": [],
   "source": [
    "# Creating dictionaries holding workers hours worked\n",
    "\n",
    "timesheet = {'officer': ['Deshaun', 'Mengfei', 'Aditya'], \n",
    "           'avg_hours_worked': [45, 33, 42],\n",
    "            'error_hours': [3, 9, 5] }"
   ]
  },
  {
   "cell_type": "code",
   "execution_count": 3,
   "metadata": {},
   "outputs": [
    {
     "name": "stdout",
     "output_type": "stream",
     "text": [
      "   officer  avg_hours_worked  error_hours\n",
      "0  Deshaun                45            3\n",
      "1  Mengfei                33            9\n",
      "2   Aditya                42            5\n"
     ]
    }
   ],
   "source": [
    "# Convert to dataframe\n",
    "\n",
    "time_df = pd.DataFrame(timesheet)\n",
    "print(time_df)"
   ]
  },
  {
   "cell_type": "markdown",
   "metadata": {},
   "source": [
    "___"
   ]
  },
  {
   "cell_type": "markdown",
   "metadata": {},
   "source": [
    "## 1. Bar Chart"
   ]
  },
  {
   "cell_type": "code",
   "execution_count": 4,
   "metadata": {
    "scrolled": true
   },
   "outputs": [
    {
     "data": {
      "image/png": "[encoded data removed]",
      "text/plain": [
       "<Figure size 432x288 with 1 Axes>"
      ]
     },
     "metadata": {
      "needs_background": "light"
     },
     "output_type": "display_data"
    }
   ],
   "source": [
    "plt.bar(time_df.officer, time_df.avg_hours_worked)\n",
    "plt.show()"
   ]
  },
  {
   "cell_type": "markdown",
   "metadata": {},
   "source": [
    "- #### Error Bars"
   ]
  },
  {
   "cell_type": "code",
   "execution_count": 5,
   "metadata": {},
   "outputs": [
    {
     "data": {
      "image/png": "[encoded data removed]",
      "text/plain": [
       "<Figure size 432x288 with 1 Axes>"
      ]
     },
     "metadata": {
      "needs_background": "light"
     },
     "output_type": "display_data"
    }
   ],
   "source": [
    "plt.bar(time_df.officer, time_df.avg_hours_worked, yerr = time_df.error_hours)\n",
    "plt.show()"
   ]
  },
  {
   "cell_type": "markdown",
   "metadata": {},
   "source": [
    "___"
   ]
  },
  {
   "cell_type": "markdown",
   "metadata": {},
   "source": [
    "## 2. Stacked Bar Chart"
   ]
  },
  {
   "cell_type": "code",
   "execution_count": 6,
   "metadata": {},
   "outputs": [],
   "source": [
    "# Creating another list in dictionaries holding workers hours worked for another set of weeks\n",
    "\n",
    "timesheet = {'officer': ['Deshaun', 'Mengfei', 'Aditya'], \n",
    "           'avg_hours_worked': [52, 32, 22],\n",
    "             'avg_hours2': [45, 33, 42],\n",
    "            'error_hours': [3, 9, 5] }"
   ]
  },
  {
   "cell_type": "code",
   "execution_count": 7,
   "metadata": {},
   "outputs": [
    {
     "name": "stdout",
     "output_type": "stream",
     "text": [
      "   officer  avg_hours_worked  avg_hours2  error_hours\n",
      "0  Deshaun                52          45            3\n",
      "1  Mengfei                32          33            9\n",
      "2   Aditya                22          42            5\n"
     ]
    }
   ],
   "source": [
    "# Convert to dataframe\n",
    "\n",
    "time_df = pd.DataFrame(timesheet)\n",
    "print(time_df)"
   ]
  },
  {
   "cell_type": "code",
   "execution_count": 8,
   "metadata": {},
   "outputs": [
    {
     "data": {
      "image/png": "[encoded data removed]",
      "text/plain": [
       "<Figure size 432x288 with 1 Axes>"
      ]
     },
     "metadata": {
      "needs_background": "light"
     },
     "output_type": "display_data"
    }
   ],
   "source": [
    "# bottom bar\n",
    "plt.bar(time_df.officer, time_df.avg_hours_worked, label = '1st set')\n",
    "\n",
    "# top bar\n",
    "plt.bar(time_df.officer, time_df.avg_hours2, bottom = time_df.avg_hours_worked, label = '2nd set')\n",
    "\n",
    "plt.legend()\n",
    "plt.show()"
   ]
  }
 ],
 "metadata": {
  "kernelspec": {
   "display_name": "Python 3",
   "language": "python",
   "name": "python3"
  },
  "language_info": {
   "codemirror_mode": {
    "name": "ipython",
    "version": 3
   },
   "file_extension": ".py",
   "mimetype": "text/x-python",
   "name": "python",
   "nbconvert_exporter": "python",
   "pygments_lexer": "ipython3",
   "version": "3.7.4"
  }
 },
 "nbformat": 4,
 "nbformat_minor": 2
}
