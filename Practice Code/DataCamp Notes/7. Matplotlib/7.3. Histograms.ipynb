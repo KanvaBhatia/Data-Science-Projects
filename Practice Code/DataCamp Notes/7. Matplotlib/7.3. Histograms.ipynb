{
 "cells": [
  {
   "cell_type": "markdown",
   "metadata": {},
   "source": [
    "# Matplotlib Cheat Sheet\n",
    "HISTOGRAM"
   ]
  },
  {
   "cell_type": "code",
   "execution_count": 5,
   "metadata": {},
   "outputs": [],
   "source": [
    "from matplotlib import pyplot as plt\n",
    "import pandas as pd"
   ]
  },
  {
   "cell_type": "code",
   "execution_count": 57,
   "metadata": {},
   "outputs": [],
   "source": [
    "# Creating dictionaries holding puppy breed and weight\n",
    "\n",
    "puppies_info = {'weight': [9.79, 11.69, 5.98, 14.20, 17.19, 30.56, 10.35, 35.20, 31.43, 32.80, 11.97, 14.98,\n",
    "                          11.69, 5.98, 14.20, 17.19, 30.56, 10.35, 41.20, 25.43, 32.80, 11.97, 14.98, 20.22, \n",
    "                           9.79, 11.69, 5.98, 14.20, 17.19, 30.56, 10.35, 35.20, 31.43, 32.80, 11.97, 14.98,\n",
    "                          9.79, 11.69, 5.98, 14.20, 17.19, 30.56, 10.35, 35.20, 31.43, 32.80, 11.97, 14.98,\n",
    "                          9.79, 11.69, 5.98, 14.20, 17.19, 30.56, 10.35, 35.20, 31.43, 32.80, 11.97, 14.98,\n",
    "                          9.79, 11.69, 5.98, 14.20, 17.19, 30.56, 10.35, 35.20, 31.43, 32.80, 11.97, 14.98], \n",
    "                \n",
    "               'breed': ['pug', 'pug', 'pitbull', 'poodle', 'poodle', 'labrador', 'pug', 'poodle', 'labrador', \n",
    "                         'labrador', 'pug', 'poodle', 'pug', 'pug', 'pitbull', 'poodle', 'poodle', 'labrador', \n",
    "                         'pug', 'poodle', 'labrador', 'labrador', 'pug', 'poodle', 'pug', 'pug', 'pitbull', \n",
    "                         'poodle', 'poodle', 'labrador', 'pug', 'poodle', 'labrador', 'labrador', 'pug', \n",
    "                         'poodle', 'pug', 'pug', 'pitbull', 'poodle', 'poodle', 'labrador', 'pug', 'poodle', \n",
    "                         'labrador', 'labrador', 'pug', 'poodle', 'pug', 'pug', 'pitbull', 'poodle', 'poodle', \n",
    "                         'labrador', 'pug', 'poodle', 'labrador', 'labrador', 'pug', 'poodle', 'pug', 'pug', \n",
    "                         'pitbull', 'poodle', 'poodle', 'labrador', 'pug', 'poodle', 'labrador', 'labrador', \n",
    "                         'pug', 'poodle'] \n",
    "               }\n",
    "\n",
    "puppies2_info = {'weight': [9.79, 11.69, 5.98, 14.20, 17.19, 30.56, 10.35, 35.20, 31.43, 32.80, 11.97, 14.98],\n",
    "                  'breed' : ['pug', 'pug', 'pitbull', 'poodle', 'poodle', 'labrador', 'pug', 'poodle', 'labrador', \n",
    "                             'labrador', 'pug', 'poodle']\n",
    "                 }"
   ]
  },
  {
   "cell_type": "code",
   "execution_count": 58,
   "metadata": {},
   "outputs": [
    {
     "name": "stdout",
     "output_type": "stream",
     "text": [
      "    weight     breed\n",
      "0     9.79       pug\n",
      "1    11.69       pug\n",
      "2     5.98   pitbull\n",
      "3    14.20    poodle\n",
      "4    17.19    poodle\n",
      "..     ...       ...\n",
      "67   35.20    poodle\n",
      "68   31.43  labrador\n",
      "69   32.80  labrador\n",
      "70   11.97       pug\n",
      "71   14.98    poodle\n",
      "\n",
      "[72 rows x 2 columns]\n"
     ]
    }
   ],
   "source": [
    "# Convert to dataframe\n",
    "\n",
    "puppies = pd.DataFrame(puppies_info)\n",
    "print(puppies)"
   ]
  },
  {
   "cell_type": "code",
   "execution_count": 59,
   "metadata": {},
   "outputs": [
    {
     "name": "stdout",
     "output_type": "stream",
     "text": [
      "    weight     breed\n",
      "0     9.79       pug\n",
      "1    11.69       pug\n",
      "2     5.98   pitbull\n",
      "3    14.20    poodle\n",
      "4    17.19    poodle\n",
      "5    30.56  labrador\n",
      "6    10.35       pug\n",
      "7    35.20    poodle\n",
      "8    31.43  labrador\n",
      "9    32.80  labrador\n",
      "10   11.97       pug\n",
      "11   14.98    poodle\n"
     ]
    }
   ],
   "source": [
    "# Convert to dataframe\n",
    "\n",
    "puppies2 = pd.DataFrame(puppies2_info)\n",
    "print(puppies2)"
   ]
  },
  {
   "cell_type": "markdown",
   "metadata": {},
   "source": [
    "___"
   ]
  },
  {
   "cell_type": "markdown",
   "metadata": {},
   "source": [
    "## 1. Histogram\n",
    "- Matplotlib automatically chooses the number of bins. It divides into 10 bins of equal size\n",
    "- plt.hist takes only one argument"
   ]
  },
  {
   "cell_type": "code",
   "execution_count": 60,
   "metadata": {},
   "outputs": [
    {
     "data": {
      "image/png": "[encoded data removed]",
      "text/plain": [
       "<Figure size 432x288 with 1 Axes>"
      ]
     },
     "metadata": {
      "needs_background": "light"
     },
     "output_type": "display_data"
    }
   ],
   "source": [
    "# Creating hisogram, of the weight column\n",
    "\n",
    "plt.hist(puppies.weight)\n",
    "\n",
    "plt.xlabel('Puppy Weight (lbs)')\n",
    "plt.ylabel('No of Puppies')\n",
    "\n",
    "plt.show()"
   ]
  },
  {
   "cell_type": "markdown",
   "metadata": {},
   "source": [
    "- #### Change No of Bins"
   ]
  },
  {
   "cell_type": "code",
   "execution_count": 61,
   "metadata": {},
   "outputs": [
    {
     "data": {
      "image/png": "[encoded data removed]",
      "text/plain": [
       "<Figure size 432x288 with 1 Axes>"
      ]
     },
     "metadata": {
      "needs_background": "light"
     },
     "output_type": "display_data"
    }
   ],
   "source": [
    "# Set bins to 20\n",
    "plt.hist(puppies.weight, bins = 20)\n",
    "\n",
    "plt.xlabel('Puppy Weight (lbs)')\n",
    "plt.ylabel('No of Puppies')\n",
    "\n",
    "plt.show()"
   ]
  },
  {
   "cell_type": "markdown",
   "metadata": {},
   "source": [
    "- #### Change Range"
   ]
  },
  {
   "cell_type": "code",
   "execution_count": 62,
   "metadata": {},
   "outputs": [
    {
     "data": {
      "image/png": "[encoded data removed]",
      "text/plain": [
       "<Figure size 432x288 with 1 Axes>"
      ]
     },
     "metadata": {
      "needs_background": "light"
     },
     "output_type": "display_data"
    }
   ],
   "source": [
    "# Set ange betweeb 10 and 30\n",
    "plt.hist(puppies.weight, range = (10,30))\n",
    "\n",
    "plt.xlabel('Puppy Weight (lbs)')\n",
    "plt.ylabel('No of Puppies')\n",
    "\n",
    "plt.show()"
   ]
  },
  {
   "cell_type": "markdown",
   "metadata": {},
   "source": [
    "- #### 2 Histograms"
   ]
  },
  {
   "cell_type": "code",
   "execution_count": 77,
   "metadata": {},
   "outputs": [
    {
     "data": {
      "image/png": "[encoded data removed]",
      "text/plain": [
       "<Figure size 432x288 with 1 Axes>"
      ]
     },
     "metadata": {
      "needs_background": "light"
     },
     "output_type": "display_data"
    }
   ],
   "source": [
    "# Dataframes puppies 1 and puppies 2\n",
    "plt.hist(puppies.weight, label = 'puppies')\n",
    "plt.hist(puppies2.weight, label = 'puppies2')\n",
    "\n",
    "\n",
    "plt.xlabel('Puppy Weight (lbs)')\n",
    "plt.ylabel('No of Puppies')\n",
    "\n",
    "plt.legend()\n",
    "plt.show()"
   ]
  },
  {
   "cell_type": "markdown",
   "metadata": {},
   "source": [
    "- #### Normalize"
   ]
  },
  {
   "cell_type": "code",
   "execution_count": 79,
   "metadata": {},
   "outputs": [
    {
     "data": {
      "image/png": "[encoded data removed]",
      "text/plain": [
       "<Figure size 432x288 with 1 Axes>"
      ]
     },
     "metadata": {
      "needs_background": "light"
     },
     "output_type": "display_data"
    }
   ],
   "source": [
    "# Density = True set alpha for transparency\n",
    "plt.hist(puppies.weight, density = True, label = 'puppies')\n",
    "plt.hist(puppies2.weight, density = True, alpha = 0.5, label = 'puppies2')\n",
    "\n",
    "\n",
    "plt.xlabel('Puppy Weight (lbs)')\n",
    "plt.ylabel('Frequency')\n",
    "\n",
    "plt.legend()\n",
    "plt.show()"
   ]
  }
 ],
 "metadata": {
  "kernelspec": {
   "display_name": "Python 3",
   "language": "python",
   "name": "python3"
  },
  "language_info": {
   "codemirror_mode": {
    "name": "ipython",
    "version": 3
   },
   "file_extension": ".py",
   "mimetype": "text/x-python",
   "name": "python",
   "nbconvert_exporter": "python",
   "pygments_lexer": "ipython3",
   "version": "3.7.4"
  }
 },
 "nbformat": 4,
 "nbformat_minor": 2
}
