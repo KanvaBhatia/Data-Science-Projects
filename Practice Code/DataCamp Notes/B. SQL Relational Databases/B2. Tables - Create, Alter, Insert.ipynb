{
 "cells": [
  {
   "cell_type": "markdown",
   "metadata": {},
   "source": [
    "# Relational SQL Notes: Tables\n",
    "REDUNDANCY | CREATE | ALTER | INSERT"
   ]
  },
  {
   "cell_type": "code",
   "execution_count": 3,
   "metadata": {},
   "outputs": [],
   "source": [
    "reload_ext sql"
   ]
  },
  {
   "cell_type": "code",
   "execution_count": 4,
   "metadata": {},
   "outputs": [
    {
     "data": {
      "text/plain": [
       "'Connected: @uni_data'"
      ]
     },
     "execution_count": 4,
     "metadata": {},
     "output_type": "execute_result"
    }
   ],
   "source": [
    "%%sql\n",
    "postgresql://localhost/uni_data"
   ]
  },
  {
   "cell_type": "markdown",
   "metadata": {},
   "source": [
    "____"
   ]
  },
  {
   "cell_type": "markdown",
   "metadata": {},
   "source": [
    "## 0. Redundancy in Table\n",
    "- Achim Conzelmann ins listed twice, and the only difference is in the organisation and organisation sector\n",
    "- We can see that for each entry we have The Professors, Their Univeristy info,  and their affiliations\n",
    "- Their afficiations contaan their funtion and the organisation name and sector\n",
    "- So instead of having one table(entity) withall this info. it is better to split it up into more tables to abiud redundancy\n",
    "    - Professors table to hold the names and univerisyt short code\n",
    "    - Universities table to hold the UNiversity names, city and short code\n",
    "    - Affiliations table to hols professors names and their multiple affiliations (Universities, Organisations and their functions at these organisations)\n",
    "    - Organisations table to hold heach organisation and their sector"
   ]
  },
  {
   "cell_type": "code",
   "execution_count": 9,
   "metadata": {},
   "outputs": [
    {
     "name": "stdout",
     "output_type": "stream",
     "text": [
      " * postgresql://localhost/uni_data\n",
      "3 rows affected.\n"
     ]
    },
    {
     "data": {
      "text/html": [
       "<table>\n",
       "    <tr>\n",
       "        <th>id</th>\n",
       "        <th>first_name</th>\n",
       "        <th>last_name</th>\n",
       "        <th>uni</th>\n",
       "        <th>uni_shortname</th>\n",
       "        <th>uni_city</th>\n",
       "        <th>funct</th>\n",
       "        <th>organisation</th>\n",
       "        <th>org_sector</th>\n",
       "    </tr>\n",
       "    <tr>\n",
       "        <td>1</td>\n",
       "        <td>Achim</td>\n",
       "        <td>Conzelmann</td>\n",
       "        <td>Uni Bern</td>\n",
       "        <td>UBE</td>\n",
       "        <td>Bern</td>\n",
       "        <td>NA</td>\n",
       "        <td>PH Bern, Schulrat</td>\n",
       "        <td>Education &amp; research</td>\n",
       "    </tr>\n",
       "    <tr>\n",
       "        <td>2</td>\n",
       "        <td>Achim</td>\n",
       "        <td>Conzelmann</td>\n",
       "        <td>Uni Bern</td>\n",
       "        <td>UBE</td>\n",
       "        <td>Bern</td>\n",
       "        <td>NA</td>\n",
       "        <td>Foundation of Talents</td>\n",
       "        <td>Society, Social, Culture &amp; Sports</td>\n",
       "    </tr>\n",
       "    <tr>\n",
       "        <td>3</td>\n",
       "        <td>Adrian</td>\n",
       "        <td>Vatter</td>\n",
       "        <td>Uni Bern</td>\n",
       "        <td>UBE</td>\n",
       "        <td>Bern</td>\n",
       "        <td>NA</td>\n",
       "        <td>Büro Vatter AG</td>\n",
       "        <td>Consulting, public relations, legal &amp; trust</td>\n",
       "    </tr>\n",
       "</table>"
      ],
      "text/plain": [
       "[(1, 'Achim', 'Conzelmann', 'Uni Bern', 'UBE', 'Bern', 'NA', 'PH Bern, Schulrat', 'Education & research'),\n",
       " (2, 'Achim', 'Conzelmann', 'Uni Bern', 'UBE', 'Bern', 'NA', 'Foundation of Talents', 'Society, Social, Culture & Sports'),\n",
       " (3, 'Adrian', 'Vatter', 'Uni Bern', 'UBE', 'Bern', 'NA', 'Büro Vatter AG', 'Consulting, public relations, legal & trust')]"
      ]
     },
     "execution_count": 9,
     "metadata": {},
     "output_type": "execute_result"
    }
   ],
   "source": [
    "%%sql\n",
    "SELECT * FROM uni_profs\n",
    "LIMIT 3;"
   ]
  },
  {
   "cell_type": "markdown",
   "metadata": {},
   "source": [
    "## 1. Create Table\n",
    "-  To create a table you need to specify the column names and their data types\n",
    "- Data types \n",
    "    - text, numeric, char(no of string characters)"
   ]
  },
  {
   "cell_type": "markdown",
   "metadata": {},
   "source": [
    "### 1.1. Create Professors table"
   ]
  },
  {
   "cell_type": "code",
   "execution_count": 51,
   "metadata": {},
   "outputs": [
    {
     "name": "stdout",
     "output_type": "stream",
     "text": [
      " * postgresql://localhost/uni_data\n",
      "Done.\n",
      "0 rows affected.\n"
     ]
    },
    {
     "data": {
      "text/html": [
       "<table>\n",
       "    <tr>\n",
       "        <th>firstname</th>\n",
       "        <th>lastname</th>\n",
       "    </tr>\n",
       "</table>"
      ],
      "text/plain": [
       "[]"
      ]
     },
     "execution_count": 51,
     "metadata": {},
     "output_type": "execute_result"
    }
   ],
   "source": [
    "%%sql\n",
    "CREATE TABLE professors (\n",
    "    firstname text,\n",
    "    lastname text\n",
    ");\n",
    "\n",
    "SELECT * FROM professors"
   ]
  },
  {
   "cell_type": "markdown",
   "metadata": {},
   "source": [
    "### 1.2. Create Universities Table"
   ]
  },
  {
   "cell_type": "code",
   "execution_count": 25,
   "metadata": {},
   "outputs": [
    {
     "name": "stdout",
     "output_type": "stream",
     "text": [
      " * postgresql://localhost/uni_data\n",
      "Done.\n",
      "0 rows affected.\n"
     ]
    },
    {
     "data": {
      "text/html": [
       "<table>\n",
       "    <tr>\n",
       "        <th>university_shortname</th>\n",
       "        <th>university</th>\n",
       "        <th>university_city</th>\n",
       "    </tr>\n",
       "</table>"
      ],
      "text/plain": [
       "[]"
      ]
     },
     "execution_count": 25,
     "metadata": {},
     "output_type": "execute_result"
    }
   ],
   "source": [
    "%%sql\n",
    "CREATE TABLE universities (\n",
    "    university_shortname text,\n",
    "    university text,\n",
    "    university_city text\n",
    ");\n",
    "\n",
    "SELECT * FROM universities;"
   ]
  },
  {
   "cell_type": "markdown",
   "metadata": {},
   "source": [
    "### 1.3. Create Organisations Table"
   ]
  },
  {
   "cell_type": "code",
   "execution_count": 74,
   "metadata": {},
   "outputs": [
    {
     "name": "stdout",
     "output_type": "stream",
     "text": [
      " * postgresql://localhost/uni_data\n",
      "Done.\n",
      "0 rows affected.\n"
     ]
    },
    {
     "data": {
      "text/html": [
       "<table>\n",
       "    <tr>\n",
       "        <th>organisation</th>\n",
       "        <th>organisation_sector</th>\n",
       "    </tr>\n",
       "</table>"
      ],
      "text/plain": [
       "[]"
      ]
     },
     "execution_count": 74,
     "metadata": {},
     "output_type": "execute_result"
    }
   ],
   "source": [
    "%%sql\n",
    "CREATE TABLE organisations (\n",
    "    organisation text,\n",
    "    organisation_sector text\n",
    ");\n",
    "\n",
    "SELECT * FROM organisations;"
   ]
  },
  {
   "cell_type": "markdown",
   "metadata": {},
   "source": [
    "### 1.4. Create Affiliations Table"
   ]
  },
  {
   "cell_type": "code",
   "execution_count": 57,
   "metadata": {},
   "outputs": [
    {
     "name": "stdout",
     "output_type": "stream",
     "text": [
      " * postgresql://localhost/uni_data\n",
      "Done.\n",
      "0 rows affected.\n"
     ]
    },
    {
     "data": {
      "text/html": [
       "<table>\n",
       "    <tr>\n",
       "        <th>firstname</th>\n",
       "        <th>lastname</th>\n",
       "        <th>university_shortname</th>\n",
       "        <th>organization</th>\n",
       "        <th>function</th>\n",
       "    </tr>\n",
       "</table>"
      ],
      "text/plain": [
       "[]"
      ]
     },
     "execution_count": 57,
     "metadata": {},
     "output_type": "execute_result"
    }
   ],
   "source": [
    "%%sql\n",
    "CREATE TABLE affiliations (\n",
    "    firstname text,\n",
    "    lastname text,\n",
    "    university_shortname text,\n",
    "    organization text,\n",
    "    function text\n",
    ");\n",
    "\n",
    "SELECT * FROM affiliations;"
   ]
  },
  {
   "cell_type": "markdown",
   "metadata": {},
   "source": [
    "_____"
   ]
  },
  {
   "cell_type": "markdown",
   "metadata": {},
   "source": [
    "## 2. Alter Table"
   ]
  },
  {
   "cell_type": "markdown",
   "metadata": {},
   "source": [
    "### 2.1. Add Column\n",
    "- Add university_shortname column to the professors table\n",
    "\n",
    ">`ALTER TABLE table_name\n",
    "ADD COLUMN column_name data_type;`"
   ]
  },
  {
   "cell_type": "code",
   "execution_count": 52,
   "metadata": {},
   "outputs": [
    {
     "name": "stdout",
     "output_type": "stream",
     "text": [
      " * postgresql://localhost/uni_data\n",
      "Done.\n",
      "0 rows affected.\n"
     ]
    },
    {
     "data": {
      "text/html": [
       "<table>\n",
       "    <tr>\n",
       "        <th>firstname</th>\n",
       "        <th>lastname</th>\n",
       "        <th>university_shortname</th>\n",
       "    </tr>\n",
       "</table>"
      ],
      "text/plain": [
       "[]"
      ]
     },
     "execution_count": 52,
     "metadata": {},
     "output_type": "execute_result"
    }
   ],
   "source": [
    "%%sql\n",
    "\n",
    "ALTER TABLE professors\n",
    "ADD COLUMN university_shortname text;\n",
    "\n",
    "SELECT * FROM professors;"
   ]
  },
  {
   "cell_type": "markdown",
   "metadata": {},
   "source": [
    "### 2.2. Rename Column\n",
    "Rename organization to organisation in affiliations\n",
    "> `ALTER TABLE table_name\n",
    "RENAME COLUMN old_name TO new_name;`"
   ]
  },
  {
   "cell_type": "code",
   "execution_count": 58,
   "metadata": {},
   "outputs": [
    {
     "name": "stdout",
     "output_type": "stream",
     "text": [
      " * postgresql://localhost/uni_data\n",
      "Done.\n",
      "0 rows affected.\n"
     ]
    },
    {
     "data": {
      "text/html": [
       "<table>\n",
       "    <tr>\n",
       "        <th>firstname</th>\n",
       "        <th>lastname</th>\n",
       "        <th>university_shortname</th>\n",
       "        <th>organisation</th>\n",
       "        <th>function</th>\n",
       "    </tr>\n",
       "</table>"
      ],
      "text/plain": [
       "[]"
      ]
     },
     "execution_count": 58,
     "metadata": {},
     "output_type": "execute_result"
    }
   ],
   "source": [
    "%%sql\n",
    "\n",
    "ALTER TABLE affiliations\n",
    "RENAME COLUMN organization to organisation;\n",
    "\n",
    "\n",
    "SELECT * FROM affiliations;"
   ]
  },
  {
   "cell_type": "markdown",
   "metadata": {},
   "source": [
    "### 2.2. Delete Column\n",
    "Delete the university_shortname columns from affiliations\n",
    " - Because the first name and last name is sufficient to identify all professors\n",
    " - There are no two prefessors with the same name (SEE ONENOTE)\n",
    "> `ALTER TABLE table_name\n",
    "DROP COLUMN column_name;`"
   ]
  },
  {
   "cell_type": "code",
   "execution_count": 60,
   "metadata": {},
   "outputs": [
    {
     "name": "stdout",
     "output_type": "stream",
     "text": [
      " * postgresql://localhost/uni_data\n",
      "Done.\n",
      "0 rows affected.\n"
     ]
    },
    {
     "data": {
      "text/html": [
       "<table>\n",
       "    <tr>\n",
       "        <th>firstname</th>\n",
       "        <th>lastname</th>\n",
       "        <th>organisation</th>\n",
       "        <th>function</th>\n",
       "    </tr>\n",
       "</table>"
      ],
      "text/plain": [
       "[]"
      ]
     },
     "execution_count": 60,
     "metadata": {},
     "output_type": "execute_result"
    }
   ],
   "source": [
    "%%sql\n",
    "\n",
    "ALTER TABLE affiliations\n",
    "DROP COLUMN university_shortname;\n",
    "\n",
    "\n",
    "SELECT * FROM affiliations;"
   ]
  },
  {
   "cell_type": "markdown",
   "metadata": {},
   "source": [
    "### 2.4. Delete table\n",
    ">`DROP TABLE table_name;`"
   ]
  },
  {
   "cell_type": "markdown",
   "metadata": {},
   "source": [
    "___"
   ]
  },
  {
   "cell_type": "markdown",
   "metadata": {},
   "source": [
    "## 3. Updating Database\n",
    "- Inserting Distinct records/data into tables"
   ]
  },
  {
   "cell_type": "markdown",
   "metadata": {},
   "source": [
    "#### - INTO Professors"
   ]
  },
  {
   "cell_type": "code",
   "execution_count": 64,
   "metadata": {},
   "outputs": [
    {
     "name": "stdout",
     "output_type": "stream",
     "text": [
      " * postgresql://localhost/uni_data\n",
      "548 rows affected.\n"
     ]
    },
    {
     "data": {
      "text/plain": [
       "[]"
      ]
     },
     "execution_count": 64,
     "metadata": {},
     "output_type": "execute_result"
    }
   ],
   "source": [
    "#DO NOT RUN AGAIN. TO AVOID DUPLICATES (uncomment if never run before)\n",
    "%%sql\n",
    "--DO NOT RUN AGAIN\n",
    "\n",
    "--INSERT INTO professors\n",
    "--SELECT DISTINCT first_name, last_name, uni_shortname\n",
    "--FROM uni_profs;"
   ]
  },
  {
   "cell_type": "code",
   "execution_count": 65,
   "metadata": {},
   "outputs": [
    {
     "name": "stdout",
     "output_type": "stream",
     "text": [
      " * postgresql://localhost/uni_data\n",
      "1 rows affected.\n"
     ]
    },
    {
     "data": {
      "text/html": [
       "<table>\n",
       "    <tr>\n",
       "        <th>firstname</th>\n",
       "        <th>lastname</th>\n",
       "        <th>university_shortname</th>\n",
       "    </tr>\n",
       "    <tr>\n",
       "        <td>Michel</td>\n",
       "        <td>Rappaz</td>\n",
       "        <td>EPF</td>\n",
       "    </tr>\n",
       "</table>"
      ],
      "text/plain": [
       "[('Michel', 'Rappaz', 'EPF')]"
      ]
     },
     "execution_count": 65,
     "metadata": {},
     "output_type": "execute_result"
    }
   ],
   "source": [
    "%%sql\n",
    "SELECT * FROM professors\n",
    "LIMIT 1;"
   ]
  },
  {
   "cell_type": "markdown",
   "metadata": {},
   "source": [
    "#### - INTO Universities"
   ]
  },
  {
   "cell_type": "code",
   "execution_count": 66,
   "metadata": {},
   "outputs": [
    {
     "name": "stdout",
     "output_type": "stream",
     "text": [
      " * postgresql://localhost/uni_data\n",
      "11 rows affected.\n"
     ]
    },
    {
     "data": {
      "text/plain": [
       "[]"
      ]
     },
     "execution_count": 66,
     "metadata": {},
     "output_type": "execute_result"
    }
   ],
   "source": [
    "#DO NOT RUN AGAIN. TO AVOID DUPLICATES (uncomment if never run before)\n",
    "%%sql\n",
    "--DO NOT RUN AGAIN\n",
    "\n",
    "--INSERT INTO universities\n",
    "--SELECT DISTINCT uni_shortname, uni, uni_city\n",
    "--FROM uni_profs;"
   ]
  },
  {
   "cell_type": "code",
   "execution_count": 67,
   "metadata": {},
   "outputs": [
    {
     "name": "stdout",
     "output_type": "stream",
     "text": [
      " * postgresql://localhost/uni_data\n",
      "1 rows affected.\n"
     ]
    },
    {
     "data": {
      "text/html": [
       "<table>\n",
       "    <tr>\n",
       "        <th>university_shortname</th>\n",
       "        <th>university</th>\n",
       "        <th>university_city</th>\n",
       "    </tr>\n",
       "    <tr>\n",
       "        <td>UGE</td>\n",
       "        <td>Uni Genf</td>\n",
       "        <td>Geneva</td>\n",
       "    </tr>\n",
       "</table>"
      ],
      "text/plain": [
       "[('UGE', 'Uni Genf', 'Geneva')]"
      ]
     },
     "execution_count": 67,
     "metadata": {},
     "output_type": "execute_result"
    }
   ],
   "source": [
    "%%sql\n",
    "SELECT * FROM universities\n",
    "LIMIT 1;"
   ]
  },
  {
   "cell_type": "markdown",
   "metadata": {},
   "source": [
    "#### - INTO Affiliations"
   ]
  },
  {
   "cell_type": "code",
   "execution_count": 72,
   "metadata": {},
   "outputs": [
    {
     "name": "stdout",
     "output_type": "stream",
     "text": [
      " * postgresql://localhost/uni_data\n",
      "1372 rows affected.\n"
     ]
    },
    {
     "data": {
      "text/plain": [
       "[]"
      ]
     },
     "execution_count": 72,
     "metadata": {},
     "output_type": "execute_result"
    }
   ],
   "source": [
    "#DO NOT RUN AGAIN. TO AVOID DUPLICATES (uncomment if never run before)\n",
    "%%sql\n",
    "--DO NOT RUN AGAIN\n",
    "\n",
    "--INSERT INTO affiliations\n",
    "--SELECT DISTINCT first_name, last_name, organisation, funct\n",
    "--FROM uni_profs;"
   ]
  },
  {
   "cell_type": "code",
   "execution_count": 73,
   "metadata": {},
   "outputs": [
    {
     "name": "stdout",
     "output_type": "stream",
     "text": [
      " * postgresql://localhost/uni_data\n",
      "1 rows affected.\n"
     ]
    },
    {
     "data": {
      "text/html": [
       "<table>\n",
       "    <tr>\n",
       "        <th>firstname</th>\n",
       "        <th>lastname</th>\n",
       "        <th>organisation</th>\n",
       "        <th>function</th>\n",
       "    </tr>\n",
       "    <tr>\n",
       "        <td>Ursula</td>\n",
       "        <td>Wolf</td>\n",
       "        <td>EuroPCR</td>\n",
       "        <td>Course Director</td>\n",
       "    </tr>\n",
       "</table>"
      ],
      "text/plain": [
       "[('Ursula', 'Wolf', 'EuroPCR', 'Course Director')]"
      ]
     },
     "execution_count": 73,
     "metadata": {},
     "output_type": "execute_result"
    }
   ],
   "source": [
    "%%sql\n",
    "SELECT * FROM affiliations\n",
    "LIMIT 1;"
   ]
  },
  {
   "cell_type": "markdown",
   "metadata": {},
   "source": [
    "#### - INTO Organisations"
   ]
  },
  {
   "cell_type": "code",
   "execution_count": 75,
   "metadata": {},
   "outputs": [
    {
     "name": "stdout",
     "output_type": "stream",
     "text": [
      " * postgresql://localhost/uni_data\n",
      "1282 rows affected.\n"
     ]
    },
    {
     "data": {
      "text/plain": [
       "[]"
      ]
     },
     "execution_count": 75,
     "metadata": {},
     "output_type": "execute_result"
    }
   ],
   "source": [
    "#DO NOT RUN AGAIN. TO AVOID DUPLICATES (uncomment if never run before)\n",
    "%%sql\n",
    "--DO NOT RUN AGAIN\n",
    "--INSERT INTO organisations\n",
    "--SELECT DISTINCT organisation, org_sector\n",
    "--FROM uni_profs;"
   ]
  },
  {
   "cell_type": "code",
   "execution_count": 78,
   "metadata": {},
   "outputs": [
    {
     "name": "stdout",
     "output_type": "stream",
     "text": [
      " * postgresql://localhost/uni_data\n",
      "1 rows affected.\n"
     ]
    },
    {
     "data": {
      "text/html": [
       "<table>\n",
       "    <tr>\n",
       "        <th>organisation</th>\n",
       "        <th>organisation_sector</th>\n",
       "    </tr>\n",
       "    <tr>\n",
       "        <td>Stiftung-Sammlung Schweizer Rechtsquellen</td>\n",
       "        <td>Not classifiable</td>\n",
       "    </tr>\n",
       "</table>"
      ],
      "text/plain": [
       "[('Stiftung-Sammlung Schweizer Rechtsquellen', 'Not classifiable')]"
      ]
     },
     "execution_count": 78,
     "metadata": {},
     "output_type": "execute_result"
    }
   ],
   "source": [
    "%%sql\n",
    "SELECT * FROM organisations\n",
    "LIMIT 1;"
   ]
  },
  {
   "cell_type": "markdown",
   "metadata": {},
   "source": [
    "___"
   ]
  }
 ],
 "metadata": {
  "kernelspec": {
   "display_name": "Python 3",
   "language": "python",
   "name": "python3"
  },
  "language_info": {
   "codemirror_mode": {
    "name": "ipython",
    "version": 3
   },
   "file_extension": ".py",
   "mimetype": "text/x-python",
   "name": "python",
   "nbconvert_exporter": "python",
   "pygments_lexer": "ipython3",
   "version": "3.7.4"
  }
 },
 "nbformat": 4,
 "nbformat_minor": 2
}
