{
 "cells": [
  {
   "cell_type": "markdown",
   "metadata": {},
   "source": [
    "# Relational SQL Cheat Sheet"
   ]
  },
  {
   "cell_type": "markdown",
   "metadata": {},
   "source": [
    "- Connect to DB"
   ]
  },
  {
   "cell_type": "code",
   "execution_count": 4,
   "metadata": {},
   "outputs": [],
   "source": [
    "reload_ext sql"
   ]
  },
  {
   "cell_type": "code",
   "execution_count": 46,
   "metadata": {},
   "outputs": [
    {
     "data": {
      "text/plain": [
       "'Connected: @countries'"
      ]
     },
     "execution_count": 46,
     "metadata": {},
     "output_type": "execute_result"
    }
   ],
   "source": [
    "%%sql\n",
    "postgresql://localhost/countries"
   ]
  },
  {
   "cell_type": "markdown",
   "metadata": {},
   "source": [
    "____"
   ]
  },
  {
   "cell_type": "markdown",
   "metadata": {},
   "source": [
    "## 0. Information Schema\n",
    "- The information schema itself is a schema named information_schema. This schema automatically exists in all databases. The owner of this schema is the initial database user in the cluster, and that user naturally has all the privileges on this schema, including the ability to drop it (but the space savings achieved by that are minuscule)."
   ]
  },
  {
   "cell_type": "markdown",
   "metadata": {},
   "source": [
    "#### - A look at the DB Table Names"
   ]
  },
  {
   "cell_type": "code",
   "execution_count": 47,
   "metadata": {},
   "outputs": [
    {
     "name": "stdout",
     "output_type": "stream",
     "text": [
      " * postgresql://localhost/countries\n",
      "   postgresql://localhost/uni_data\n",
      "5 rows affected.\n"
     ]
    },
    {
     "data": {
      "text/html": [
       "<table>\n",
       "    <tr>\n",
       "        <th>table_schema</th>\n",
       "        <th>table_name</th>\n",
       "    </tr>\n",
       "    <tr>\n",
       "        <td>public</td>\n",
       "        <td>cities</td>\n",
       "    </tr>\n",
       "    <tr>\n",
       "        <td>public</td>\n",
       "        <td>countries</td>\n",
       "    </tr>\n",
       "    <tr>\n",
       "        <td>public</td>\n",
       "        <td>languages</td>\n",
       "    </tr>\n",
       "    <tr>\n",
       "        <td>public</td>\n",
       "        <td>economies</td>\n",
       "    </tr>\n",
       "    <tr>\n",
       "        <td>public</td>\n",
       "        <td>currencies</td>\n",
       "    </tr>\n",
       "</table>"
      ],
      "text/plain": [
       "[('public', 'cities'),\n",
       " ('public', 'countries'),\n",
       " ('public', 'languages'),\n",
       " ('public', 'economies'),\n",
       " ('public', 'currencies')]"
      ]
     },
     "execution_count": 47,
     "metadata": {},
     "output_type": "execute_result"
    }
   ],
   "source": [
    "%%sql\n",
    "SELECT table_schema, table_name\n",
    "FROM information_schema.tables\n",
    "LIMIT 5;"
   ]
  },
  {
   "cell_type": "markdown",
   "metadata": {},
   "source": [
    "#### - A look at the columns"
   ]
  },
  {
   "cell_type": "code",
   "execution_count": 7,
   "metadata": {},
   "outputs": [
    {
     "name": "stdout",
     "output_type": "stream",
     "text": [
      " * postgresql://localhost/countries\n",
      "1 rows affected.\n"
     ]
    },
    {
     "data": {
      "text/html": [
       "<table>\n",
       "    <tr>\n",
       "        <th>code</th>\n",
       "        <th>name</th>\n",
       "        <th>continent</th>\n",
       "        <th>region</th>\n",
       "        <th>surface_area</th>\n",
       "        <th>indep_year</th>\n",
       "        <th>local_name</th>\n",
       "        <th>gov_form</th>\n",
       "        <th>capital</th>\n",
       "        <th>cap_long</th>\n",
       "        <th>cap_lat</th>\n",
       "    </tr>\n",
       "    <tr>\n",
       "        <td>AFG</td>\n",
       "        <td>Afghanistan</td>\n",
       "        <td>Asia</td>\n",
       "        <td>Southern and Central Asia</td>\n",
       "        <td>652090.0</td>\n",
       "        <td>1919</td>\n",
       "        <td>Afganistan/Afqanestan</td>\n",
       "        <td>Islamic Emirate</td>\n",
       "        <td>Kabul</td>\n",
       "        <td>69.1761</td>\n",
       "        <td>34.5228</td>\n",
       "    </tr>\n",
       "</table>"
      ],
      "text/plain": [
       "[('AFG', 'Afghanistan', 'Asia', 'Southern and Central Asia', 652090.0, 1919, 'Afganistan/Afqanestan', 'Islamic Emirate', 'Kabul', 69.1761, 34.5228)]"
      ]
     },
     "execution_count": 7,
     "metadata": {},
     "output_type": "execute_result"
    }
   ],
   "source": [
    "%%sql\n",
    "SELECT * FROM countries\n",
    "LIMIT 1;"
   ]
  },
  {
   "cell_type": "code",
   "execution_count": 8,
   "metadata": {},
   "outputs": [
    {
     "name": "stdout",
     "output_type": "stream",
     "text": [
      " * postgresql://localhost/countries\n",
      "5 rows affected.\n"
     ]
    },
    {
     "data": {
      "text/html": [
       "<table>\n",
       "    <tr>\n",
       "        <th>table_name</th>\n",
       "        <th>column_name</th>\n",
       "        <th>data_type</th>\n",
       "    </tr>\n",
       "    <tr>\n",
       "        <td>countries</td>\n",
       "        <td>code</td>\n",
       "        <td>character varying</td>\n",
       "    </tr>\n",
       "    <tr>\n",
       "        <td>countries</td>\n",
       "        <td>name</td>\n",
       "        <td>character varying</td>\n",
       "    </tr>\n",
       "    <tr>\n",
       "        <td>countries</td>\n",
       "        <td>continent</td>\n",
       "        <td>character varying</td>\n",
       "    </tr>\n",
       "    <tr>\n",
       "        <td>countries</td>\n",
       "        <td>region</td>\n",
       "        <td>character varying</td>\n",
       "    </tr>\n",
       "    <tr>\n",
       "        <td>countries</td>\n",
       "        <td>surface_area</td>\n",
       "        <td>real</td>\n",
       "    </tr>\n",
       "</table>"
      ],
      "text/plain": [
       "[('countries', 'code', 'character varying'),\n",
       " ('countries', 'name', 'character varying'),\n",
       " ('countries', 'continent', 'character varying'),\n",
       " ('countries', 'region', 'character varying'),\n",
       " ('countries', 'surface_area', 'real')]"
      ]
     },
     "execution_count": 8,
     "metadata": {},
     "output_type": "execute_result"
    }
   ],
   "source": [
    "%%sql\n",
    "SELECT table_name, column_name, data_type\n",
    "FROM information_schema.columns\n",
    "WHERE table_name = 'countries'\n",
    "LIMIT 5;"
   ]
  },
  {
   "cell_type": "markdown",
   "metadata": {},
   "source": [
    "___"
   ]
  },
  {
   "cell_type": "markdown",
   "metadata": {},
   "source": [
    "## 1. Info Schema Continued (Univerity Professors Dataset)"
   ]
  },
  {
   "cell_type": "code",
   "execution_count": 48,
   "metadata": {},
   "outputs": [
    {
     "data": {
      "text/plain": [
       "'Connected: @uni_data'"
      ]
     },
     "execution_count": 48,
     "metadata": {},
     "output_type": "execute_result"
    }
   ],
   "source": [
    "%%sql\n",
    "postgresql://localhost/uni_data"
   ]
  },
  {
   "cell_type": "markdown",
   "metadata": {},
   "source": [
    "#### - Look at tables"
   ]
  },
  {
   "cell_type": "code",
   "execution_count": 52,
   "metadata": {},
   "outputs": [
    {
     "name": "stdout",
     "output_type": "stream",
     "text": [
      "   postgresql://localhost/countries\n",
      " * postgresql://localhost/uni_data\n",
      "5 rows affected.\n"
     ]
    },
    {
     "data": {
      "text/html": [
       "<table>\n",
       "    <tr>\n",
       "        <th>table_name</th>\n",
       "    </tr>\n",
       "    <tr>\n",
       "        <td>pg_statistic</td>\n",
       "    </tr>\n",
       "    <tr>\n",
       "        <td>pg_type</td>\n",
       "    </tr>\n",
       "    <tr>\n",
       "        <td>pg_foreign_server</td>\n",
       "    </tr>\n",
       "    <tr>\n",
       "        <td>pg_authid</td>\n",
       "    </tr>\n",
       "    <tr>\n",
       "        <td>pg_shadow</td>\n",
       "    </tr>\n",
       "</table>"
      ],
      "text/plain": [
       "[('pg_statistic',),\n",
       " ('pg_type',),\n",
       " ('pg_foreign_server',),\n",
       " ('pg_authid',),\n",
       " ('pg_shadow',)]"
      ]
     },
     "execution_count": 52,
     "metadata": {},
     "output_type": "execute_result"
    }
   ],
   "source": [
    "%%sql\n",
    "SELECT table_name\n",
    "FROM information_schema.tables\n",
    "LIMIT 5;"
   ]
  },
  {
   "cell_type": "markdown",
   "metadata": {},
   "source": [
    "#### -  A look at the columns"
   ]
  },
  {
   "cell_type": "code",
   "execution_count": 50,
   "metadata": {},
   "outputs": [
    {
     "name": "stdout",
     "output_type": "stream",
     "text": [
      "   postgresql://localhost/countries\n",
      " * postgresql://localhost/uni_data\n",
      "9 rows affected.\n"
     ]
    },
    {
     "data": {
      "text/html": [
       "<table>\n",
       "    <tr>\n",
       "        <th>column_name</th>\n",
       "        <th>data_type</th>\n",
       "    </tr>\n",
       "    <tr>\n",
       "        <td>id</td>\n",
       "        <td>integer</td>\n",
       "    </tr>\n",
       "    <tr>\n",
       "        <td>first_name</td>\n",
       "        <td>character varying</td>\n",
       "    </tr>\n",
       "    <tr>\n",
       "        <td>last_name</td>\n",
       "        <td>character varying</td>\n",
       "    </tr>\n",
       "    <tr>\n",
       "        <td>uni</td>\n",
       "        <td>character varying</td>\n",
       "    </tr>\n",
       "    <tr>\n",
       "        <td>uni_shortname</td>\n",
       "        <td>character varying</td>\n",
       "    </tr>\n",
       "    <tr>\n",
       "        <td>uni_city</td>\n",
       "        <td>character varying</td>\n",
       "    </tr>\n",
       "    <tr>\n",
       "        <td>funct</td>\n",
       "        <td>character varying</td>\n",
       "    </tr>\n",
       "    <tr>\n",
       "        <td>organisation</td>\n",
       "        <td>character varying</td>\n",
       "    </tr>\n",
       "    <tr>\n",
       "        <td>org_sector</td>\n",
       "        <td>character varying</td>\n",
       "    </tr>\n",
       "</table>"
      ],
      "text/plain": [
       "[('id', 'integer'),\n",
       " ('first_name', 'character varying'),\n",
       " ('last_name', 'character varying'),\n",
       " ('uni', 'character varying'),\n",
       " ('uni_shortname', 'character varying'),\n",
       " ('uni_city', 'character varying'),\n",
       " ('funct', 'character varying'),\n",
       " ('organisation', 'character varying'),\n",
       " ('org_sector', 'character varying')]"
      ]
     },
     "execution_count": 50,
     "metadata": {},
     "output_type": "execute_result"
    }
   ],
   "source": [
    "%%sql\n",
    "SELECT column_name, data_type\n",
    "FROM information_schema.columns\n",
    "WHERE table_name = 'uni_profs'\n",
    "LIMIT 10;"
   ]
  },
  {
   "cell_type": "code",
   "execution_count": 40,
   "metadata": {},
   "outputs": [
    {
     "name": "stdout",
     "output_type": "stream",
     "text": [
      "   postgresql://localhost/countries\n",
      " * postgresql://localhost/uni_data\n",
      "5 rows affected.\n"
     ]
    },
    {
     "data": {
      "text/html": [
       "<table>\n",
       "    <tr>\n",
       "        <th>id</th>\n",
       "        <th>first_name</th>\n",
       "        <th>last_name</th>\n",
       "        <th>uni</th>\n",
       "        <th>uni_shortname</th>\n",
       "        <th>uni_city</th>\n",
       "        <th>funct</th>\n",
       "        <th>organisation</th>\n",
       "        <th>org_sector</th>\n",
       "    </tr>\n",
       "    <tr>\n",
       "        <td>1</td>\n",
       "        <td>Achim</td>\n",
       "        <td>Conzelmann</td>\n",
       "        <td>Uni Bern</td>\n",
       "        <td>UBE</td>\n",
       "        <td>Bern</td>\n",
       "        <td>NA</td>\n",
       "        <td>PH Bern, Schulrat</td>\n",
       "        <td>Education &amp; research</td>\n",
       "    </tr>\n",
       "    <tr>\n",
       "        <td>2</td>\n",
       "        <td>Achim</td>\n",
       "        <td>Conzelmann</td>\n",
       "        <td>Uni Bern</td>\n",
       "        <td>UBE</td>\n",
       "        <td>Bern</td>\n",
       "        <td>NA</td>\n",
       "        <td>Foundation of Talents</td>\n",
       "        <td>Society, Social, Culture &amp; Sports</td>\n",
       "    </tr>\n",
       "    <tr>\n",
       "        <td>3</td>\n",
       "        <td>Adrian</td>\n",
       "        <td>Vatter</td>\n",
       "        <td>Uni Bern</td>\n",
       "        <td>UBE</td>\n",
       "        <td>Bern</td>\n",
       "        <td>NA</td>\n",
       "        <td>Büro Vatter AG</td>\n",
       "        <td>Consulting, public relations, legal &amp; trust</td>\n",
       "    </tr>\n",
       "    <tr>\n",
       "        <td>4</td>\n",
       "        <td>Adriano</td>\n",
       "        <td>Marantelli</td>\n",
       "        <td>Uni Bern</td>\n",
       "        <td>UBE</td>\n",
       "        <td>Bern</td>\n",
       "        <td>NA</td>\n",
       "        <td>Curt Rommel Stiftung</td>\n",
       "        <td>Education &amp; research</td>\n",
       "    </tr>\n",
       "    <tr>\n",
       "        <td>5</td>\n",
       "        <td>Adriano</td>\n",
       "        <td>Marantelli</td>\n",
       "        <td>Uni Bern</td>\n",
       "        <td>UBE</td>\n",
       "        <td>Bern</td>\n",
       "        <td>NA</td>\n",
       "        <td>Stiftung Archiv für schweizerisches Abgaberecht</td>\n",
       "        <td>Society, Social, Culture &amp; Sports</td>\n",
       "    </tr>\n",
       "</table>"
      ],
      "text/plain": [
       "[(1, 'Achim', 'Conzelmann', 'Uni Bern', 'UBE', 'Bern', 'NA', 'PH Bern, Schulrat', 'Education & research'),\n",
       " (2, 'Achim', 'Conzelmann', 'Uni Bern', 'UBE', 'Bern', 'NA', 'Foundation of Talents', 'Society, Social, Culture & Sports'),\n",
       " (3, 'Adrian', 'Vatter', 'Uni Bern', 'UBE', 'Bern', 'NA', 'Büro Vatter AG', 'Consulting, public relations, legal & trust'),\n",
       " (4, 'Adriano', 'Marantelli', 'Uni Bern', 'UBE', 'Bern', 'NA', 'Curt Rommel Stiftung', 'Education & research'),\n",
       " (5, 'Adriano', 'Marantelli', 'Uni Bern', 'UBE', 'Bern', 'NA', 'Stiftung Archiv für schweizerisches Abgaberecht', 'Society, Social, Culture & Sports')]"
      ]
     },
     "execution_count": 40,
     "metadata": {},
     "output_type": "execute_result"
    }
   ],
   "source": [
    "%%sql \n",
    "--Finally, print the first five rows of the university_professors table.\n",
    "\n",
    "SELECT * FROM uni_profs\n",
    "LIMIT 5;"
   ]
  }
 ],
 "metadata": {
  "kernelspec": {
   "display_name": "Python 3",
   "language": "python",
   "name": "python3"
  },
  "language_info": {
   "codemirror_mode": {
    "name": "ipython",
    "version": 3
   },
   "file_extension": ".py",
   "mimetype": "text/x-python",
   "name": "python",
   "nbconvert_exporter": "python",
   "pygments_lexer": "ipython3",
   "version": "3.7.4"
  }
 },
 "nbformat": 4,
 "nbformat_minor": 2
}
