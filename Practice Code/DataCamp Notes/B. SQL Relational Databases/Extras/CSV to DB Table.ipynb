{
 "cells": [
  {
   "cell_type": "markdown",
   "metadata": {},
   "source": [
    "# CSV to PSQL DB Table"
   ]
  },
  {
   "cell_type": "code",
   "execution_count": 1,
   "metadata": {},
   "outputs": [],
   "source": [
    "reload_ext sql"
   ]
  },
  {
   "cell_type": "code",
   "execution_count": 2,
   "metadata": {},
   "outputs": [
    {
     "data": {
      "text/plain": [
       "'Connected: @uni_data'"
      ]
     },
     "execution_count": 2,
     "metadata": {},
     "output_type": "execute_result"
    }
   ],
   "source": [
    "%%sql\n",
    "postgresql://localhost/uni_data"
   ]
  },
  {
   "cell_type": "code",
   "execution_count": 25,
   "metadata": {},
   "outputs": [
    {
     "name": "stdout",
     "output_type": "stream",
     "text": [
      " * postgresql://localhost/uni_data\n",
      "2 rows affected.\n"
     ]
    },
    {
     "data": {
      "text/html": [
       "<table>\n",
       "    <tr>\n",
       "        <th>id</th>\n",
       "        <th>first_name</th>\n",
       "        <th>last_name</th>\n",
       "        <th>uni</th>\n",
       "        <th>uni_shortname</th>\n",
       "        <th>uni_city</th>\n",
       "        <th>funct</th>\n",
       "        <th>organisation</th>\n",
       "        <th>org_sector</th>\n",
       "    </tr>\n",
       "    <tr>\n",
       "        <td>1</td>\n",
       "        <td>Achim</td>\n",
       "        <td>Conzelmann</td>\n",
       "        <td>Uni Bern</td>\n",
       "        <td>UBE</td>\n",
       "        <td>Bern</td>\n",
       "        <td>NA</td>\n",
       "        <td>PH Bern, Schulrat</td>\n",
       "        <td>Education &amp; research</td>\n",
       "    </tr>\n",
       "    <tr>\n",
       "        <td>2</td>\n",
       "        <td>Achim</td>\n",
       "        <td>Conzelmann</td>\n",
       "        <td>Uni Bern</td>\n",
       "        <td>UBE</td>\n",
       "        <td>Bern</td>\n",
       "        <td>NA</td>\n",
       "        <td>Foundation of Talents</td>\n",
       "        <td>Society, Social, Culture &amp; Sports</td>\n",
       "    </tr>\n",
       "</table>"
      ],
      "text/plain": [
       "[(1, 'Achim', 'Conzelmann', 'Uni Bern', 'UBE', 'Bern', 'NA', 'PH Bern, Schulrat', 'Education & research'),\n",
       " (2, 'Achim', 'Conzelmann', 'Uni Bern', 'UBE', 'Bern', 'NA', 'Foundation of Talents', 'Society, Social, Culture & Sports')]"
      ]
     },
     "execution_count": 25,
     "metadata": {},
     "output_type": "execute_result"
    }
   ],
   "source": [
    "%%sql\n",
    "select * from uni_profs\n",
    "limit 2"
   ]
  },
  {
   "cell_type": "markdown",
   "metadata": {},
   "source": [
    "____"
   ]
  },
  {
   "cell_type": "markdown",
   "metadata": {},
   "source": [
    "- Create table\n",
    "- For some reason it could not read my csv file i have to use pgAdmin4 to import the csv \n",
    "- have to keep csv file in the root folder"
   ]
  },
  {
   "cell_type": "code",
   "execution_count": 22,
   "metadata": {},
   "outputs": [
    {
     "name": "stdout",
     "output_type": "stream",
     "text": [
      " * postgresql://localhost/uni_data\n",
      "Done.\n"
     ]
    },
    {
     "data": {
      "text/plain": [
       "[]"
      ]
     },
     "execution_count": 22,
     "metadata": {},
     "output_type": "execute_result"
    }
   ],
   "source": [
    "%%sql\n",
    "\n",
    "CREATE TABLE uni_profs(\n",
    "    id serial NOT NULL,\n",
    "    first_name character varying(50),\n",
    "    last_name character varying(50),\n",
    "    uni character varying(50),\n",
    "    uni_shortname character varying(50),\n",
    "    uni_city character varying(50),\n",
    "    funct character varying(255),\n",
    "    organisation character varying(255),\n",
    "    org_sector character varying(255)\n",
    ");"
   ]
  },
  {
   "cell_type": "code",
   "execution_count": 24,
   "metadata": {},
   "outputs": [
    {
     "name": "stdout",
     "output_type": "stream",
     "text": [
      " * postgresql://localhost/uni_data\n",
      "1372 rows affected.\n"
     ]
    },
    {
     "data": {
      "text/plain": [
       "[]"
      ]
     },
     "execution_count": 24,
     "metadata": {},
     "output_type": "execute_result"
    }
   ],
   "source": [
    "%%sql\n",
    "\n",
    "copy uni_profs\n",
    "FROM '/Users/temikelani/uni_profs.csv'\n",
    "DELIMITER ',' \n",
    "CSV HEADER;"
   ]
  },
  {
   "cell_type": "markdown",
   "metadata": {},
   "source": [
    "___"
   ]
  },
  {
   "cell_type": "code",
   "execution_count": 27,
   "metadata": {},
   "outputs": [
    {
     "data": {
      "text/html": [
       "<div>\n",
       "<style scoped>\n",
       "    .dataframe tbody tr th:only-of-type {\n",
       "        vertical-align: middle;\n",
       "    }\n",
       "\n",
       "    .dataframe tbody tr th {\n",
       "        vertical-align: top;\n",
       "    }\n",
       "\n",
       "    .dataframe thead th {\n",
       "        text-align: right;\n",
       "    }\n",
       "</style>\n",
       "<table border=\"1\" class=\"dataframe\">\n",
       "  <thead>\n",
       "    <tr style=\"text-align: right;\">\n",
       "      <th></th>\n",
       "      <th>firstname</th>\n",
       "      <th>lastname</th>\n",
       "      <th>university</th>\n",
       "      <th>university_shortname</th>\n",
       "      <th>university_city</th>\n",
       "      <th>functions</th>\n",
       "      <th>organization</th>\n",
       "      <th>organization_sector</th>\n",
       "    </tr>\n",
       "  </thead>\n",
       "  <tbody>\n",
       "    <tr>\n",
       "      <td>0</td>\n",
       "      <td>Achim</td>\n",
       "      <td>Conzelmann</td>\n",
       "      <td>Uni Bern</td>\n",
       "      <td>UBE</td>\n",
       "      <td>Bern</td>\n",
       "      <td>NaN</td>\n",
       "      <td>PH Bern, Schulrat</td>\n",
       "      <td>Education &amp; research</td>\n",
       "    </tr>\n",
       "    <tr>\n",
       "      <td>1</td>\n",
       "      <td>Achim</td>\n",
       "      <td>Conzelmann</td>\n",
       "      <td>Uni Bern</td>\n",
       "      <td>UBE</td>\n",
       "      <td>Bern</td>\n",
       "      <td>NaN</td>\n",
       "      <td>Foundation of Talents</td>\n",
       "      <td>Society, Social, Culture &amp; Sports</td>\n",
       "    </tr>\n",
       "    <tr>\n",
       "      <td>2</td>\n",
       "      <td>Adrian</td>\n",
       "      <td>Vatter</td>\n",
       "      <td>Uni Bern</td>\n",
       "      <td>UBE</td>\n",
       "      <td>Bern</td>\n",
       "      <td>NaN</td>\n",
       "      <td>Büro Vatter AG</td>\n",
       "      <td>Consulting, public relations, legal &amp; trust</td>\n",
       "    </tr>\n",
       "    <tr>\n",
       "      <td>3</td>\n",
       "      <td>Adriano</td>\n",
       "      <td>Marantelli</td>\n",
       "      <td>Uni Bern</td>\n",
       "      <td>UBE</td>\n",
       "      <td>Bern</td>\n",
       "      <td>NaN</td>\n",
       "      <td>Curt Rommel Stiftung</td>\n",
       "      <td>Education &amp; research</td>\n",
       "    </tr>\n",
       "    <tr>\n",
       "      <td>4</td>\n",
       "      <td>Adriano</td>\n",
       "      <td>Marantelli</td>\n",
       "      <td>Uni Bern</td>\n",
       "      <td>UBE</td>\n",
       "      <td>Bern</td>\n",
       "      <td>NaN</td>\n",
       "      <td>Stiftung Archiv für schweizerisches Abgaberecht</td>\n",
       "      <td>Society, Social, Culture &amp; Sports</td>\n",
       "    </tr>\n",
       "    <tr>\n",
       "      <td>...</td>\n",
       "      <td>...</td>\n",
       "      <td>...</td>\n",
       "      <td>...</td>\n",
       "      <td>...</td>\n",
       "      <td>...</td>\n",
       "      <td>...</td>\n",
       "      <td>...</td>\n",
       "      <td>...</td>\n",
       "    </tr>\n",
       "    <tr>\n",
       "      <td>1367</td>\n",
       "      <td>Yvan</td>\n",
       "      <td>Lengwiler</td>\n",
       "      <td>Uni Basel</td>\n",
       "      <td>UBA</td>\n",
       "      <td>Basel</td>\n",
       "      <td>Mitglied des Stiftungsrates</td>\n",
       "      <td>Max Geldner-Stiftung, Basel</td>\n",
       "      <td>Society, Social, Culture &amp; Sports</td>\n",
       "    </tr>\n",
       "    <tr>\n",
       "      <td>1368</td>\n",
       "      <td>Yvan</td>\n",
       "      <td>Lengwiler</td>\n",
       "      <td>Uni Basel</td>\n",
       "      <td>UBA</td>\n",
       "      <td>Basel</td>\n",
       "      <td>Mitglied des Stiftungsrates</td>\n",
       "      <td>Studienzentrum Gerzensee</td>\n",
       "      <td>Education &amp; research</td>\n",
       "    </tr>\n",
       "    <tr>\n",
       "      <td>1369</td>\n",
       "      <td>Yvan</td>\n",
       "      <td>Lengwiler</td>\n",
       "      <td>Uni Basel</td>\n",
       "      <td>UBA</td>\n",
       "      <td>Basel</td>\n",
       "      <td>Mitglied des Verwaltungsrates</td>\n",
       "      <td>Finanzmarktaufsicht FINMA, Bern</td>\n",
       "      <td>Politics, administration, justice system &amp; sec...</td>\n",
       "    </tr>\n",
       "    <tr>\n",
       "      <td>1370</td>\n",
       "      <td>Yves</td>\n",
       "      <td>Pigneur</td>\n",
       "      <td>Uni Lausanne</td>\n",
       "      <td>ULA</td>\n",
       "      <td>Lausanne</td>\n",
       "      <td>NaN</td>\n",
       "      <td>Activités académiques</td>\n",
       "      <td>Education &amp; research</td>\n",
       "    </tr>\n",
       "    <tr>\n",
       "      <td>1371</td>\n",
       "      <td>Yves</td>\n",
       "      <td>Weinand</td>\n",
       "      <td>ETH Lausanne</td>\n",
       "      <td>EPF</td>\n",
       "      <td>Lausanne</td>\n",
       "      <td>Parlement vaudois, mission de stabilité</td>\n",
       "      <td>Canton de Vaud, Service Immeubles, Patrimoine ...</td>\n",
       "      <td>Politics, administration, justice system &amp; sec...</td>\n",
       "    </tr>\n",
       "  </tbody>\n",
       "</table>\n",
       "<p>1372 rows × 8 columns</p>\n",
       "</div>"
      ],
      "text/plain": [
       "     firstname    lastname    university university_shortname university_city  \\\n",
       "0        Achim  Conzelmann      Uni Bern                  UBE            Bern   \n",
       "1        Achim  Conzelmann      Uni Bern                  UBE            Bern   \n",
       "2       Adrian      Vatter      Uni Bern                  UBE            Bern   \n",
       "3      Adriano  Marantelli      Uni Bern                  UBE            Bern   \n",
       "4      Adriano  Marantelli      Uni Bern                  UBE            Bern   \n",
       "...        ...         ...           ...                  ...             ...   \n",
       "1367      Yvan   Lengwiler     Uni Basel                  UBA           Basel   \n",
       "1368      Yvan   Lengwiler     Uni Basel                  UBA           Basel   \n",
       "1369      Yvan   Lengwiler     Uni Basel                  UBA           Basel   \n",
       "1370      Yves     Pigneur  Uni Lausanne                  ULA        Lausanne   \n",
       "1371      Yves     Weinand  ETH Lausanne                  EPF        Lausanne   \n",
       "\n",
       "                                    functions  \\\n",
       "0                                         NaN   \n",
       "1                                         NaN   \n",
       "2                                         NaN   \n",
       "3                                         NaN   \n",
       "4                                         NaN   \n",
       "...                                       ...   \n",
       "1367              Mitglied des Stiftungsrates   \n",
       "1368              Mitglied des Stiftungsrates   \n",
       "1369            Mitglied des Verwaltungsrates   \n",
       "1370                                      NaN   \n",
       "1371  Parlement vaudois, mission de stabilité   \n",
       "\n",
       "                                           organization  \\\n",
       "0                                     PH Bern, Schulrat   \n",
       "1                                 Foundation of Talents   \n",
       "2                                        Büro Vatter AG   \n",
       "3                                  Curt Rommel Stiftung   \n",
       "4       Stiftung Archiv für schweizerisches Abgaberecht   \n",
       "...                                                 ...   \n",
       "1367                        Max Geldner-Stiftung, Basel   \n",
       "1368                           Studienzentrum Gerzensee   \n",
       "1369                    Finanzmarktaufsicht FINMA, Bern   \n",
       "1370                              Activités académiques   \n",
       "1371  Canton de Vaud, Service Immeubles, Patrimoine ...   \n",
       "\n",
       "                                    organization_sector  \n",
       "0                                  Education & research  \n",
       "1                     Society, Social, Culture & Sports  \n",
       "2           Consulting, public relations, legal & trust  \n",
       "3                                  Education & research  \n",
       "4                     Society, Social, Culture & Sports  \n",
       "...                                                 ...  \n",
       "1367                  Society, Social, Culture & Sports  \n",
       "1368                               Education & research  \n",
       "1369  Politics, administration, justice system & sec...  \n",
       "1370                               Education & research  \n",
       "1371  Politics, administration, justice system & sec...  \n",
       "\n",
       "[1372 rows x 8 columns]"
      ]
     },
     "execution_count": 27,
     "metadata": {},
     "output_type": "execute_result"
    }
   ],
   "source": [
    "import pandas as pd\n",
    "\n",
    "uni = pd.read_csv('Datasets/uni_profs.csv')\n",
    "\n",
    "uni "
   ]
  }
 ],
 "metadata": {
  "kernelspec": {
   "display_name": "Python 3",
   "language": "python",
   "name": "python3"
  },
  "language_info": {
   "codemirror_mode": {
    "name": "ipython",
    "version": 3
   },
   "file_extension": ".py",
   "mimetype": "text/x-python",
   "name": "python",
   "nbconvert_exporter": "python",
   "pygments_lexer": "ipython3",
   "version": "3.7.4"
  }
 },
 "nbformat": 4,
 "nbformat_minor": 2
}
