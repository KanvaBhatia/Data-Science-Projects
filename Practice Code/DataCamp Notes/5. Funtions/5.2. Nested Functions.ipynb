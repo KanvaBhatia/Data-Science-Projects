{
 "cells": [
  {
   "cell_type": "markdown",
   "metadata": {},
   "source": [
    "# Nested Functions"
   ]
  },
  {
   "cell_type": "markdown",
   "metadata": {},
   "source": [
    "___"
   ]
  },
  {
   "cell_type": "markdown",
   "metadata": {},
   "source": [
    "## 1. Definition"
   ]
  },
  {
   "cell_type": "code",
   "execution_count": 72,
   "metadata": {},
   "outputs": [],
   "source": [
    "def anyroot(n, k):\n",
    "    \"\"\" Finds the k root of n \"\"\"\n",
    "    def root(n):\n",
    "        return n ** (1/k)\n",
    "    return root(n)"
   ]
  },
  {
   "cell_type": "code",
   "execution_count": 73,
   "metadata": {},
   "outputs": [
    {
     "name": "stdout",
     "output_type": "stream",
     "text": [
      "2.0\n"
     ]
    }
   ],
   "source": [
    "print(anyroot(4,2))\n"
   ]
  },
  {
   "cell_type": "markdown",
   "metadata": {},
   "source": [
    "___\n"
   ]
  },
  {
   "cell_type": "markdown",
   "metadata": {},
   "source": [
    "## 2. Returning with Nested 1\n",
    "\n",
    "- Return inner_echo with no values passed"
   ]
  },
  {
   "cell_type": "code",
   "execution_count": 25,
   "metadata": {},
   "outputs": [],
   "source": [
    "# Define echo\n",
    "def echo(n):\n",
    "    \"\"\"Returns inner function\"\"\"\n",
    "    \n",
    "    def inner_echo(word):\n",
    "        \"\"\"Concatenate copies or word\"\"\"\n",
    "        return word * n\n",
    "    \n",
    "    return inner_echo"
   ]
  },
  {
   "cell_type": "code",
   "execution_count": 26,
   "metadata": {},
   "outputs": [
    {
     "name": "stdout",
     "output_type": "stream",
     "text": [
      "hey you!hey you! || hey there!hey there!hey there!\n"
     ]
    }
   ],
   "source": [
    "twice = echo(2) # repeats the word twice\n",
    "thrice = echo(3) # repeats the word thrice\n",
    "\n",
    "print(twice('hey you!'),  \"||\", thrice('hey there!'))"
   ]
  },
  {
   "cell_type": "markdown",
   "metadata": {},
   "source": [
    "___"
   ]
  },
  {
   "cell_type": "markdown",
   "metadata": {},
   "source": [
    "## 3. Returning with Nested 2\n",
    "- Return inner_echo with values passed\n",
    "- However the outer loop is completely redundant in teh first exAMPLE"
   ]
  },
  {
   "cell_type": "code",
   "execution_count": 11,
   "metadata": {},
   "outputs": [],
   "source": [
    "# Define echo\n",
    "def echo(n,word):\n",
    "    \"\"\"Returns inner function\"\"\"\n",
    "    \n",
    "    def inner_echo(n, word):\n",
    "        \"\"\"Concatenate copies or word\"\"\"\n",
    "        return word * n\n",
    "    \n",
    "    return inner_echo(n, word)"
   ]
  },
  {
   "cell_type": "code",
   "execution_count": 21,
   "metadata": {},
   "outputs": [
    {
     "name": "stdout",
     "output_type": "stream",
     "text": [
      "PythonPython\n"
     ]
    }
   ],
   "source": [
    "print(echo(2, 'Python'))"
   ]
  },
  {
   "cell_type": "code",
   "execution_count": 22,
   "metadata": {},
   "outputs": [
    {
     "name": "stdout",
     "output_type": "stream",
     "text": [
      "PythonPythonPython\n"
     ]
    }
   ],
   "source": [
    "print(echo(3, 'Python'))"
   ]
  },
  {
   "cell_type": "markdown",
   "metadata": {},
   "source": [
    "#### Example 2"
   ]
  },
  {
   "cell_type": "code",
   "execution_count": 17,
   "metadata": {},
   "outputs": [
    {
     "data": {
      "text/plain": [
       "8"
      ]
     },
     "execution_count": 17,
     "metadata": {},
     "output_type": "execute_result"
    }
   ],
   "source": [
    "def raise_to(x, n):\n",
    "    \"\"\"Return x ^ n\"\"\"\n",
    "    \n",
    "    def inner(x):\n",
    "        \"\"\" Raise x to the power of n\"\"\"\n",
    "        raised = x ** n\n",
    "        return raised\n",
    "    \n",
    "    return inner(x)"
   ]
  },
  {
   "cell_type": "code",
   "execution_count": 23,
   "metadata": {},
   "outputs": [
    {
     "data": {
      "text/plain": [
       "8"
      ]
     },
     "execution_count": 23,
     "metadata": {},
     "output_type": "execute_result"
    }
   ],
   "source": [
    "raise_to(2,3)"
   ]
  }
 ],
 "metadata": {
  "kernelspec": {
   "display_name": "Python 3",
   "language": "python",
   "name": "python3"
  },
  "language_info": {
   "codemirror_mode": {
    "name": "ipython",
    "version": 3
   },
   "file_extension": ".py",
   "mimetype": "text/x-python",
   "name": "python",
   "nbconvert_exporter": "python",
   "pygments_lexer": "ipython3",
   "version": "3.7.4"
  }
 },
 "nbformat": 4,
 "nbformat_minor": 2
}
