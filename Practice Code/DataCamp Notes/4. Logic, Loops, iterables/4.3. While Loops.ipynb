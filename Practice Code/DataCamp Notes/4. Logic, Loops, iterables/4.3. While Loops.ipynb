{
 "cells": [
  {
   "cell_type": "markdown",
   "metadata": {},
   "source": [
    "# While Loop Cheat Sheet"
   ]
  },
  {
   "cell_type": "markdown",
   "metadata": {},
   "source": [
    "___"
   ]
  },
  {
   "cell_type": "code",
   "execution_count": 1,
   "metadata": {},
   "outputs": [],
   "source": [
    "offset = -6"
   ]
  },
  {
   "cell_type": "code",
   "execution_count": 2,
   "metadata": {},
   "outputs": [
    {
     "name": "stdout",
     "output_type": "stream",
     "text": [
      "correcting....\n",
      "-5\n",
      "correcting....\n",
      "-4\n",
      "correcting....\n",
      "-3\n",
      "correcting....\n",
      "-2\n",
      "correcting....\n",
      "-1\n",
      "correcting....\n",
      "0\n"
     ]
    }
   ],
   "source": [
    "while offset != 0:\n",
    "    print('correcting....')\n",
    "    \n",
    "    if offset > 0:\n",
    "        offset -= 1\n",
    "    else:\n",
    "        offset +=1\n",
    "        \n",
    "    print(offset)"
   ]
  }
 ],
 "metadata": {
  "kernelspec": {
   "display_name": "Python 3",
   "language": "python",
   "name": "python3"
  },
  "language_info": {
   "codemirror_mode": {
    "name": "ipython",
    "version": 3
   },
   "file_extension": ".py",
   "mimetype": "text/x-python",
   "name": "python",
   "nbconvert_exporter": "python",
   "pygments_lexer": "ipython3",
   "version": "3.7.4"
  }
 },
 "nbformat": 4,
 "nbformat_minor": 2
}
