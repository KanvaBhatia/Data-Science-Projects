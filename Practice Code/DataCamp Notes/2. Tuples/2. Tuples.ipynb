{
 "cells": [
  {
   "cell_type": "markdown",
   "metadata": {},
   "source": [
    "# Tuples"
   ]
  },
  {
   "cell_type": "markdown",
   "metadata": {},
   "source": [
    "### Definition"
   ]
  },
  {
   "cell_type": "code",
   "execution_count": 1,
   "metadata": {},
   "outputs": [
    {
     "name": "stdout",
     "output_type": "stream",
     "text": [
      "<class 'tuple'> <class 'tuple'>\n"
     ]
    }
   ],
   "source": [
    "x = 8, 12, 14, 15, 20\n",
    "y = (8, 12, 14, 15, 20)\n",
    "print(type(x), type(y))\n"
   ]
  },
  {
   "cell_type": "markdown",
   "metadata": {},
   "source": [
    "### Tuples with a function result\n",
    "\n",
    "- Variables are assigned to the tuple result."
   ]
  },
  {
   "cell_type": "code",
   "execution_count": 2,
   "metadata": {},
   "outputs": [
    {
     "name": "stdout",
     "output_type": "stream",
     "text": [
      "45 36\n"
     ]
    }
   ],
   "source": [
    "def rectangle (length, width):\n",
    "    \"\"\"Return the area and perimete of a rectangle\"\"\"\n",
    "    a = length * width\n",
    "    p = 2 * (length + width)\n",
    "    \n",
    "    return a, p\n",
    "\n",
    "# Using tuples\n",
    "area, perimeter = rectangle(15,3)\n",
    "\n",
    "print(area,  perimeter)"
   ]
  },
  {
   "cell_type": "code",
   "execution_count": null,
   "metadata": {},
   "outputs": [],
   "source": []
  }
 ],
 "metadata": {
  "kernelspec": {
   "display_name": "Python 3",
   "language": "python",
   "name": "python3"
  },
  "language_info": {
   "codemirror_mode": {
    "name": "ipython",
    "version": 3
   },
   "file_extension": ".py",
   "mimetype": "text/x-python",
   "name": "python",
   "nbconvert_exporter": "python",
   "pygments_lexer": "ipython3",
   "version": "3.7.4"
  }
 },
 "nbformat": 4,
 "nbformat_minor": 2
}
