{
 "cells": [
  {
   "cell_type": "markdown",
   "metadata": {},
   "source": [
    "# SQL Cheat Sheet : AS Aliasing\n"
   ]
  },
  {
   "cell_type": "markdown",
   "metadata": {},
   "source": [
    "___"
   ]
  },
  {
   "cell_type": "markdown",
   "metadata": {},
   "source": [
    "## 0. Loading Database"
   ]
  },
  {
   "cell_type": "code",
   "execution_count": 1,
   "metadata": {},
   "outputs": [],
   "source": [
    "%reload_ext sql"
   ]
  },
  {
   "cell_type": "code",
   "execution_count": 2,
   "metadata": {},
   "outputs": [
    {
     "data": {
      "text/plain": [
       "'Connected: @films'"
      ]
     },
     "execution_count": 2,
     "metadata": {},
     "output_type": "execute_result"
    }
   ],
   "source": [
    "%%sql\n",
    "postgresql://localhost/films"
   ]
  },
  {
   "cell_type": "code",
   "execution_count": 12,
   "metadata": {},
   "outputs": [
    {
     "name": "stdout",
     "output_type": "stream",
     "text": [
      " * postgresql://localhost/films\n",
      "2 rows affected.\n"
     ]
    },
    {
     "data": {
      "text/html": [
       "<table>\n",
       "    <tr>\n",
       "        <th>id</th>\n",
       "        <th>title</th>\n",
       "        <th>release_year</th>\n",
       "        <th>country</th>\n",
       "        <th>duration</th>\n",
       "        <th>language</th>\n",
       "        <th>certification</th>\n",
       "        <th>gross</th>\n",
       "        <th>budget</th>\n",
       "    </tr>\n",
       "    <tr>\n",
       "        <td>1</td>\n",
       "        <td>Intolerance: Love&#x27;s Struggle Throughout the Ages</td>\n",
       "        <td>1916</td>\n",
       "        <td>USA</td>\n",
       "        <td>123</td>\n",
       "        <td>None</td>\n",
       "        <td>Not Rated</td>\n",
       "        <td>None</td>\n",
       "        <td>385907</td>\n",
       "    </tr>\n",
       "    <tr>\n",
       "        <td>2</td>\n",
       "        <td>Over the Hill to the Poorhouse</td>\n",
       "        <td>1920</td>\n",
       "        <td>USA</td>\n",
       "        <td>110</td>\n",
       "        <td>None</td>\n",
       "        <td>None</td>\n",
       "        <td>3000000</td>\n",
       "        <td>100000</td>\n",
       "    </tr>\n",
       "</table>"
      ],
      "text/plain": [
       "[(1, \"Intolerance: Love's Struggle Throughout the Ages\", 1916, 'USA', 123, None, 'Not Rated', None, 385907),\n",
       " (2, 'Over the Hill to the Poorhouse', 1920, 'USA', 110, None, None, 3000000, 100000)]"
      ]
     },
     "execution_count": 12,
     "metadata": {},
     "output_type": "execute_result"
    }
   ],
   "source": [
    "%%sql\n",
    "SELECT * FROM films LIMIT 2;"
   ]
  },
  {
   "cell_type": "markdown",
   "metadata": {},
   "source": [
    "___"
   ]
  },
  {
   "cell_type": "markdown",
   "metadata": {},
   "source": [
    "## 1. AS Aliasing"
   ]
  },
  {
   "cell_type": "code",
   "execution_count": 4,
   "metadata": {},
   "outputs": [
    {
     "name": "stdout",
     "output_type": "stream",
     "text": [
      " * postgresql://localhost/films\n",
      "1 rows affected.\n"
     ]
    },
    {
     "data": {
      "text/html": [
       "<table>\n",
       "    <tr>\n",
       "        <th>max</th>\n",
       "        <th>max_1</th>\n",
       "    </tr>\n",
       "    <tr>\n",
       "        <td>12215500000</td>\n",
       "        <td>334</td>\n",
       "    </tr>\n",
       "</table>"
      ],
      "text/plain": [
       "[(12215500000, 334)]"
      ]
     },
     "execution_count": 4,
     "metadata": {},
     "output_type": "execute_result"
    }
   ],
   "source": [
    "%%sql\n",
    "SELECT MAX(budget), MAX(duration)\n",
    "FROM films;"
   ]
  },
  {
   "cell_type": "markdown",
   "metadata": {},
   "source": [
    "- #### The above query gives 2 columns with names that dont tell us much about the content\n",
    "- #### To avoid situations like this, SQL allows you to do something called aliasing"
   ]
  },
  {
   "cell_type": "code",
   "execution_count": 5,
   "metadata": {},
   "outputs": [
    {
     "name": "stdout",
     "output_type": "stream",
     "text": [
      " * postgresql://localhost/films\n",
      "1 rows affected.\n"
     ]
    },
    {
     "data": {
      "text/html": [
       "<table>\n",
       "    <tr>\n",
       "        <th>max_budget</th>\n",
       "        <th>max_duration</th>\n",
       "    </tr>\n",
       "    <tr>\n",
       "        <td>12215500000</td>\n",
       "        <td>334</td>\n",
       "    </tr>\n",
       "</table>"
      ],
      "text/plain": [
       "[(12215500000, 334)]"
      ]
     },
     "execution_count": 5,
     "metadata": {},
     "output_type": "execute_result"
    }
   ],
   "source": [
    "%%sql\n",
    "SELECT MAX(budget) AS max_budget,\n",
    "       MAX(duration) AS max_duration\n",
    "FROM films;"
   ]
  },
  {
   "cell_type": "code",
   "execution_count": 13,
   "metadata": {},
   "outputs": [
    {
     "name": "stdout",
     "output_type": "stream",
     "text": [
      " * postgresql://localhost/films\n",
      "5 rows affected.\n"
     ]
    },
    {
     "data": {
      "text/html": [
       "<table>\n",
       "    <tr>\n",
       "        <th>title</th>\n",
       "        <th>net_profit</th>\n",
       "    </tr>\n",
       "    <tr>\n",
       "        <td>Intolerance: Love&#x27;s Struggle Throughout the Ages</td>\n",
       "        <td>None</td>\n",
       "    </tr>\n",
       "    <tr>\n",
       "        <td>Over the Hill to the Poorhouse</td>\n",
       "        <td>2900000</td>\n",
       "    </tr>\n",
       "    <tr>\n",
       "        <td>The Big Parade</td>\n",
       "        <td>None</td>\n",
       "    </tr>\n",
       "    <tr>\n",
       "        <td>Metropolis</td>\n",
       "        <td>-5973565</td>\n",
       "    </tr>\n",
       "    <tr>\n",
       "        <td>Pandora&#x27;s Box</td>\n",
       "        <td>None</td>\n",
       "    </tr>\n",
       "</table>"
      ],
      "text/plain": [
       "[(\"Intolerance: Love's Struggle Throughout the Ages\", None),\n",
       " ('Over the Hill to the Poorhouse', 2900000),\n",
       " ('The Big Parade', None),\n",
       " ('Metropolis', -5973565),\n",
       " (\"Pandora's Box\", None)]"
      ]
     },
     "execution_count": 13,
     "metadata": {},
     "output_type": "execute_result"
    }
   ],
   "source": [
    "%%sql\n",
    "--  title and net profit (the amount a film grossed, minus its budget) for all films. \n",
    "SELECT title, \n",
    "       gross - budget AS net_profit\n",
    "FROM films \n",
    "LIMIT 5;"
   ]
  },
  {
   "cell_type": "code",
   "execution_count": 7,
   "metadata": {},
   "outputs": [
    {
     "name": "stdout",
     "output_type": "stream",
     "text": [
      " * postgresql://localhost/films\n",
      "5 rows affected.\n"
     ]
    },
    {
     "data": {
      "text/html": [
       "<table>\n",
       "    <tr>\n",
       "        <th>title</th>\n",
       "        <th>duration_hours</th>\n",
       "    </tr>\n",
       "    <tr>\n",
       "        <td>Intolerance: Love&#x27;s Struggle Throughout the Ages</td>\n",
       "        <td>2.0500000000000000</td>\n",
       "    </tr>\n",
       "    <tr>\n",
       "        <td>Over the Hill to the Poorhouse</td>\n",
       "        <td>1.8333333333333333</td>\n",
       "    </tr>\n",
       "    <tr>\n",
       "        <td>The Big Parade</td>\n",
       "        <td>2.5166666666666667</td>\n",
       "    </tr>\n",
       "    <tr>\n",
       "        <td>Metropolis</td>\n",
       "        <td>2.4166666666666667</td>\n",
       "    </tr>\n",
       "    <tr>\n",
       "        <td>Pandora&#x27;s Box</td>\n",
       "        <td>1.8333333333333333</td>\n",
       "    </tr>\n",
       "</table>"
      ],
      "text/plain": [
       "[(\"Intolerance: Love's Struggle Throughout the Ages\", Decimal('2.0500000000000000')),\n",
       " ('Over the Hill to the Poorhouse', Decimal('1.8333333333333333')),\n",
       " ('The Big Parade', Decimal('2.5166666666666667')),\n",
       " ('Metropolis', Decimal('2.4166666666666667')),\n",
       " (\"Pandora's Box\", Decimal('1.8333333333333333'))]"
      ]
     },
     "execution_count": 7,
     "metadata": {},
     "output_type": "execute_result"
    }
   ],
   "source": [
    "%%sql\n",
    "--  title and duration in hours for all films\n",
    "SELECT title, \n",
    "       duration / 60.0 AS duration_hours\n",
    "FROM films \n",
    "LIMIT 5;"
   ]
  },
  {
   "cell_type": "code",
   "execution_count": 8,
   "metadata": {},
   "outputs": [
    {
     "name": "stdout",
     "output_type": "stream",
     "text": [
      " * postgresql://localhost/films\n",
      "1 rows affected.\n"
     ]
    },
    {
     "data": {
      "text/html": [
       "<table>\n",
       "    <tr>\n",
       "        <th>avg_duration_hours</th>\n",
       "    </tr>\n",
       "    <tr>\n",
       "        <td>1.7991321897073663</td>\n",
       "    </tr>\n",
       "</table>"
      ],
      "text/plain": [
       "[(Decimal('1.7991321897073663'),)]"
      ]
     },
     "execution_count": 8,
     "metadata": {},
     "output_type": "execute_result"
    }
   ],
   "source": [
    "%%sql\n",
    "--the average duration in hours for all films\n",
    "SELECT AVG(duration)/60.0 AS avg_duration_hours\n",
    "FROM films;"
   ]
  },
  {
   "cell_type": "markdown",
   "metadata": {},
   "source": [
    "___"
   ]
  },
  {
   "cell_type": "markdown",
   "metadata": {},
   "source": [
    "## 2. More Aliasing "
   ]
  },
  {
   "cell_type": "code",
   "execution_count": 9,
   "metadata": {},
   "outputs": [
    {
     "name": "stdout",
     "output_type": "stream",
     "text": [
      " * postgresql://localhost/films\n",
      "1 rows affected.\n"
     ]
    },
    {
     "data": {
      "text/html": [
       "<table>\n",
       "    <tr>\n",
       "        <th>percentage_dead</th>\n",
       "    </tr>\n",
       "    <tr>\n",
       "        <td>9.3723949029415267</td>\n",
       "    </tr>\n",
       "</table>"
      ],
      "text/plain": [
       "[(Decimal('9.3723949029415267'),)]"
      ]
     },
     "execution_count": 9,
     "metadata": {},
     "output_type": "execute_result"
    }
   ],
   "source": [
    "%%sql\n",
    "-- percentage of people who are no longer alive. \n",
    "SELECT COUNT(deathdate) * 100.0 / count(*) AS percentage_dead\n",
    "FROM people;"
   ]
  },
  {
   "cell_type": "code",
   "execution_count": 10,
   "metadata": {},
   "outputs": [
    {
     "name": "stdout",
     "output_type": "stream",
     "text": [
      " * postgresql://localhost/films\n",
      "1 rows affected.\n"
     ]
    },
    {
     "data": {
      "text/html": [
       "<table>\n",
       "    <tr>\n",
       "        <th>difference</th>\n",
       "    </tr>\n",
       "    <tr>\n",
       "        <td>100</td>\n",
       "    </tr>\n",
       "</table>"
      ],
      "text/plain": [
       "[(100,)]"
      ]
     },
     "execution_count": 10,
     "metadata": {},
     "output_type": "execute_result"
    }
   ],
   "source": [
    "%%sql\n",
    "--- number of years between the newest film and oldest film. \n",
    "SELECT MAX(release_year) - MIN(release_year) AS difference\n",
    "FROM films;"
   ]
  },
  {
   "cell_type": "code",
   "execution_count": 11,
   "metadata": {},
   "outputs": [
    {
     "name": "stdout",
     "output_type": "stream",
     "text": [
      " * postgresql://localhost/films\n",
      "1 rows affected.\n"
     ]
    },
    {
     "data": {
      "text/html": [
       "<table>\n",
       "    <tr>\n",
       "        <th>no_of_decades</th>\n",
       "    </tr>\n",
       "    <tr>\n",
       "        <td>10.0000000000000000</td>\n",
       "    </tr>\n",
       "</table>"
      ],
      "text/plain": [
       "[(Decimal('10.0000000000000000'),)]"
      ]
     },
     "execution_count": 11,
     "metadata": {},
     "output_type": "execute_result"
    }
   ],
   "source": [
    "%%sql\n",
    "-- number of decades the films table covers\n",
    "SELECT (MAX(release_year) - MIN(release_year)) / 10.0 AS no_of_decades\n",
    "FROM films;"
   ]
  },
  {
   "cell_type": "code",
   "execution_count": null,
   "metadata": {},
   "outputs": [],
   "source": []
  }
 ],
 "metadata": {
  "kernelspec": {
   "display_name": "Python 3",
   "language": "python",
   "name": "python3"
  },
  "language_info": {
   "codemirror_mode": {
    "name": "ipython",
    "version": 3
   },
   "file_extension": ".py",
   "mimetype": "text/x-python",
   "name": "python",
   "nbconvert_exporter": "python",
   "pygments_lexer": "ipython3",
   "version": "3.7.4"
  }
 },
 "nbformat": 4,
 "nbformat_minor": 2
}
