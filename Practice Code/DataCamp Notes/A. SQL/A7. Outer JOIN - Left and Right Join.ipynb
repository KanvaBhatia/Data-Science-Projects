{
 "cells": [
  {
   "cell_type": "markdown",
   "metadata": {},
   "source": [
    "# SQL Cheat Sheet\n",
    "LEFT JOIN | RIGHT JOIN | JOINING 3 TABLES"
   ]
  },
  {
   "cell_type": "markdown",
   "metadata": {},
   "source": [
    "- OUTER JOINS reach out to another table while keeping all records of the origianl table\n",
    "- Where INNER JOINS joins only keep records in both tables (matching ids)\n",
    " -  A LEFT JOIN keeps all orginal values in the LEFT table even if they not exist on the right table"
   ]
  },
  {
   "cell_type": "code",
   "execution_count": 65,
   "metadata": {},
   "outputs": [],
   "source": [
    "%reload_ext sql"
   ]
  },
  {
   "cell_type": "code",
   "execution_count": 66,
   "metadata": {},
   "outputs": [
    {
     "data": {
      "text/plain": [
       "'Connected: @leaders'"
      ]
     },
     "execution_count": 66,
     "metadata": {},
     "output_type": "execute_result"
    }
   ],
   "source": [
    "%sql postgresql://localhost/leaders"
   ]
  },
  {
   "cell_type": "code",
   "execution_count": 67,
   "metadata": {
    "scrolled": true
   },
   "outputs": [
    {
     "name": "stdout",
     "output_type": "stream",
     "text": [
      "   postgresql://localhost/countries\n",
      " * postgresql://localhost/leaders\n",
      "10 rows affected.\n"
     ]
    },
    {
     "data": {
      "text/html": [
       "<table>\n",
       "    <tr>\n",
       "        <th>country</th>\n",
       "        <th>continent</th>\n",
       "        <th>prime_minister</th>\n",
       "    </tr>\n",
       "    <tr>\n",
       "        <td>Egypt</td>\n",
       "        <td>Africa</td>\n",
       "        <td>Sherif Ismail</td>\n",
       "    </tr>\n",
       "    <tr>\n",
       "        <td>Portugal</td>\n",
       "        <td>Europe</td>\n",
       "        <td>Antonio Costa</td>\n",
       "    </tr>\n",
       "    <tr>\n",
       "        <td>Vietnam</td>\n",
       "        <td>Asia</td>\n",
       "        <td>Nguyen Xuan Phuc</td>\n",
       "    </tr>\n",
       "    <tr>\n",
       "        <td>Haiti</td>\n",
       "        <td>North America</td>\n",
       "        <td>Jack Guy Lafontant</td>\n",
       "    </tr>\n",
       "    <tr>\n",
       "        <td>India</td>\n",
       "        <td>Asia</td>\n",
       "        <td>Narendra Modi</td>\n",
       "    </tr>\n",
       "    <tr>\n",
       "        <td>Australia</td>\n",
       "        <td>Oceania</td>\n",
       "        <td>Malcolm Turnbull</td>\n",
       "    </tr>\n",
       "    <tr>\n",
       "        <td>Norway</td>\n",
       "        <td>Europe</td>\n",
       "        <td>Erna Solberg</td>\n",
       "    </tr>\n",
       "    <tr>\n",
       "        <td>Brunei</td>\n",
       "        <td>Asia</td>\n",
       "        <td>Hassanal Bolkiah</td>\n",
       "    </tr>\n",
       "    <tr>\n",
       "        <td>Oman</td>\n",
       "        <td>Asia</td>\n",
       "        <td>Qaboos bin Said al Said</td>\n",
       "    </tr>\n",
       "    <tr>\n",
       "        <td>Spain</td>\n",
       "        <td>Europe</td>\n",
       "        <td>Mariano Rajoy</td>\n",
       "    </tr>\n",
       "</table>"
      ],
      "text/plain": [
       "[('Egypt', 'Africa', 'Sherif Ismail'),\n",
       " ('Portugal', 'Europe', 'Antonio Costa'),\n",
       " ('Vietnam', 'Asia', 'Nguyen Xuan Phuc'),\n",
       " ('Haiti', 'North America', 'Jack Guy Lafontant'),\n",
       " ('India', 'Asia', 'Narendra Modi'),\n",
       " ('Australia', 'Oceania', 'Malcolm Turnbull'),\n",
       " ('Norway', 'Europe', 'Erna Solberg'),\n",
       " ('Brunei', 'Asia', 'Hassanal Bolkiah'),\n",
       " ('Oman', 'Asia', 'Qaboos bin Said al Said'),\n",
       " ('Spain', 'Europe', 'Mariano Rajoy')]"
      ]
     },
     "execution_count": 67,
     "metadata": {},
     "output_type": "execute_result"
    }
   ],
   "source": [
    "%%sql\n",
    "SELECT * FROM prime_ministers"
   ]
  },
  {
   "cell_type": "code",
   "execution_count": 68,
   "metadata": {},
   "outputs": [
    {
     "name": "stdout",
     "output_type": "stream",
     "text": [
      "   postgresql://localhost/countries\n",
      " * postgresql://localhost/leaders\n",
      "7 rows affected.\n"
     ]
    },
    {
     "data": {
      "text/html": [
       "<table>\n",
       "    <tr>\n",
       "        <th>country</th>\n",
       "        <th>continent</th>\n",
       "        <th>president</th>\n",
       "    </tr>\n",
       "    <tr>\n",
       "        <td>Egypt</td>\n",
       "        <td>Africa</td>\n",
       "        <td>Abdel Fattah el-Sisi</td>\n",
       "    </tr>\n",
       "    <tr>\n",
       "        <td>Portugal</td>\n",
       "        <td>Europe</td>\n",
       "        <td>Marcelo Rebelo de Sousa</td>\n",
       "    </tr>\n",
       "    <tr>\n",
       "        <td>Haiti</td>\n",
       "        <td>North America</td>\n",
       "        <td>Jovenel Moise</td>\n",
       "    </tr>\n",
       "    <tr>\n",
       "        <td>Uruguay</td>\n",
       "        <td>South America</td>\n",
       "        <td>Jose Mujica</td>\n",
       "    </tr>\n",
       "    <tr>\n",
       "        <td>Liberia</td>\n",
       "        <td>Africa</td>\n",
       "        <td>Ellen Johnson Sirleaf</td>\n",
       "    </tr>\n",
       "    <tr>\n",
       "        <td>Chile</td>\n",
       "        <td>South America</td>\n",
       "        <td>Michelle Bachelet</td>\n",
       "    </tr>\n",
       "    <tr>\n",
       "        <td>Vietnam</td>\n",
       "        <td>Asia</td>\n",
       "        <td>Tran Dai Quang</td>\n",
       "    </tr>\n",
       "</table>"
      ],
      "text/plain": [
       "[('Egypt', 'Africa', 'Abdel Fattah el-Sisi'),\n",
       " ('Portugal', 'Europe', 'Marcelo Rebelo de Sousa'),\n",
       " ('Haiti', 'North America', 'Jovenel Moise'),\n",
       " ('Uruguay', 'South America', 'Jose Mujica'),\n",
       " ('Liberia', 'Africa', 'Ellen Johnson Sirleaf'),\n",
       " ('Chile', 'South America', 'Michelle Bachelet'),\n",
       " ('Vietnam', 'Asia', 'Tran Dai Quang')]"
      ]
     },
     "execution_count": 68,
     "metadata": {},
     "output_type": "execute_result"
    }
   ],
   "source": [
    "%%sql\n",
    "SELECT * FROM presidents"
   ]
  },
  {
   "cell_type": "markdown",
   "metadata": {},
   "source": [
    "___"
   ]
  },
  {
   "cell_type": "markdown",
   "metadata": {},
   "source": [
    "# 0. INNER JOIN\n",
    "- For comparison with left and right join"
   ]
  },
  {
   "cell_type": "code",
   "execution_count": 69,
   "metadata": {},
   "outputs": [
    {
     "name": "stdout",
     "output_type": "stream",
     "text": [
      "   postgresql://localhost/countries\n",
      " * postgresql://localhost/leaders\n",
      "4 rows affected.\n"
     ]
    },
    {
     "data": {
      "text/html": [
       "<table>\n",
       "    <tr>\n",
       "        <th>country</th>\n",
       "        <th>prime_minister</th>\n",
       "        <th>president</th>\n",
       "    </tr>\n",
       "    <tr>\n",
       "        <td>Egypt</td>\n",
       "        <td>Sherif Ismail</td>\n",
       "        <td>Abdel Fattah el-Sisi</td>\n",
       "    </tr>\n",
       "    <tr>\n",
       "        <td>Portugal</td>\n",
       "        <td>Antonio Costa</td>\n",
       "        <td>Marcelo Rebelo de Sousa</td>\n",
       "    </tr>\n",
       "    <tr>\n",
       "        <td>Vietnam</td>\n",
       "        <td>Nguyen Xuan Phuc</td>\n",
       "        <td>Tran Dai Quang</td>\n",
       "    </tr>\n",
       "    <tr>\n",
       "        <td>Haiti</td>\n",
       "        <td>Jack Guy Lafontant</td>\n",
       "        <td>Jovenel Moise</td>\n",
       "    </tr>\n",
       "</table>"
      ],
      "text/plain": [
       "[('Egypt', 'Sherif Ismail', 'Abdel Fattah el-Sisi'),\n",
       " ('Portugal', 'Antonio Costa', 'Marcelo Rebelo de Sousa'),\n",
       " ('Vietnam', 'Nguyen Xuan Phuc', 'Tran Dai Quang'),\n",
       " ('Haiti', 'Jack Guy Lafontant', 'Jovenel Moise')]"
      ]
     },
     "execution_count": 69,
     "metadata": {},
     "output_type": "execute_result"
    }
   ],
   "source": [
    "%%sql\n",
    "SELECT p1.country, prime_minister, president\n",
    "FROM prime_ministers AS p1\n",
    "    INNER JOIN presidents AS p2\n",
    "        ON p1.country = p2.country"
   ]
  },
  {
   "cell_type": "markdown",
   "metadata": {},
   "source": [
    "## 1. LEFT JOIN\n",
    "- The left join keeps everything on the left table and only joins matches on the right table"
   ]
  },
  {
   "cell_type": "code",
   "execution_count": 70,
   "metadata": {},
   "outputs": [
    {
     "name": "stdout",
     "output_type": "stream",
     "text": [
      "   postgresql://localhost/countries\n",
      " * postgresql://localhost/leaders\n",
      "10 rows affected.\n"
     ]
    },
    {
     "data": {
      "text/html": [
       "<table>\n",
       "    <tr>\n",
       "        <th>country</th>\n",
       "        <th>prime_minister</th>\n",
       "        <th>president</th>\n",
       "    </tr>\n",
       "    <tr>\n",
       "        <td>Egypt</td>\n",
       "        <td>Sherif Ismail</td>\n",
       "        <td>Abdel Fattah el-Sisi</td>\n",
       "    </tr>\n",
       "    <tr>\n",
       "        <td>Portugal</td>\n",
       "        <td>Antonio Costa</td>\n",
       "        <td>Marcelo Rebelo de Sousa</td>\n",
       "    </tr>\n",
       "    <tr>\n",
       "        <td>Vietnam</td>\n",
       "        <td>Nguyen Xuan Phuc</td>\n",
       "        <td>Tran Dai Quang</td>\n",
       "    </tr>\n",
       "    <tr>\n",
       "        <td>Haiti</td>\n",
       "        <td>Jack Guy Lafontant</td>\n",
       "        <td>Jovenel Moise</td>\n",
       "    </tr>\n",
       "    <tr>\n",
       "        <td>India</td>\n",
       "        <td>Narendra Modi</td>\n",
       "        <td>None</td>\n",
       "    </tr>\n",
       "    <tr>\n",
       "        <td>Australia</td>\n",
       "        <td>Malcolm Turnbull</td>\n",
       "        <td>None</td>\n",
       "    </tr>\n",
       "    <tr>\n",
       "        <td>Norway</td>\n",
       "        <td>Erna Solberg</td>\n",
       "        <td>None</td>\n",
       "    </tr>\n",
       "    <tr>\n",
       "        <td>Brunei</td>\n",
       "        <td>Hassanal Bolkiah</td>\n",
       "        <td>None</td>\n",
       "    </tr>\n",
       "    <tr>\n",
       "        <td>Oman</td>\n",
       "        <td>Qaboos bin Said al Said</td>\n",
       "        <td>None</td>\n",
       "    </tr>\n",
       "    <tr>\n",
       "        <td>Spain</td>\n",
       "        <td>Mariano Rajoy</td>\n",
       "        <td>None</td>\n",
       "    </tr>\n",
       "</table>"
      ],
      "text/plain": [
       "[('Egypt', 'Sherif Ismail', 'Abdel Fattah el-Sisi'),\n",
       " ('Portugal', 'Antonio Costa', 'Marcelo Rebelo de Sousa'),\n",
       " ('Vietnam', 'Nguyen Xuan Phuc', 'Tran Dai Quang'),\n",
       " ('Haiti', 'Jack Guy Lafontant', 'Jovenel Moise'),\n",
       " ('India', 'Narendra Modi', None),\n",
       " ('Australia', 'Malcolm Turnbull', None),\n",
       " ('Norway', 'Erna Solberg', None),\n",
       " ('Brunei', 'Hassanal Bolkiah', None),\n",
       " ('Oman', 'Qaboos bin Said al Said', None),\n",
       " ('Spain', 'Mariano Rajoy', None)]"
      ]
     },
     "execution_count": 70,
     "metadata": {},
     "output_type": "execute_result"
    }
   ],
   "source": [
    "%%sql\n",
    "SELECT p1.country, prime_minister, president\n",
    "FROM prime_ministers AS p1\n",
    "    LEFT JOIN presidents AS p2\n",
    "        ON p1.country = p2.country"
   ]
  },
  {
   "cell_type": "markdown",
   "metadata": {},
   "source": [
    "___"
   ]
  },
  {
   "cell_type": "markdown",
   "metadata": {},
   "source": [
    "### 1.1. Example 2\n",
    "- Use AVG() with LEFT JOIN to deteremine the GDP per capita by region in 2010"
   ]
  },
  {
   "cell_type": "code",
   "execution_count": 71,
   "metadata": {},
   "outputs": [
    {
     "data": {
      "text/plain": [
       "'Connected: @countries'"
      ]
     },
     "execution_count": 71,
     "metadata": {},
     "output_type": "execute_result"
    }
   ],
   "source": [
    "%%sql \n",
    "postgresql://localhost/countries"
   ]
  },
  {
   "cell_type": "code",
   "execution_count": 72,
   "metadata": {},
   "outputs": [
    {
     "name": "stdout",
     "output_type": "stream",
     "text": [
      " * postgresql://localhost/countries\n",
      "   postgresql://localhost/leaders\n",
      "1 rows affected.\n"
     ]
    },
    {
     "data": {
      "text/html": [
       "<table>\n",
       "    <tr>\n",
       "        <th>code</th>\n",
       "        <th>name</th>\n",
       "        <th>continent</th>\n",
       "        <th>region</th>\n",
       "        <th>surface_area</th>\n",
       "        <th>indep_year</th>\n",
       "        <th>local_name</th>\n",
       "        <th>gov_form</th>\n",
       "        <th>capital</th>\n",
       "        <th>cap_long</th>\n",
       "        <th>cap_lat</th>\n",
       "    </tr>\n",
       "    <tr>\n",
       "        <td>AFG</td>\n",
       "        <td>Afghanistan</td>\n",
       "        <td>Asia</td>\n",
       "        <td>Southern and Central Asia</td>\n",
       "        <td>652090.0</td>\n",
       "        <td>1919</td>\n",
       "        <td>Afganistan/Afqanestan</td>\n",
       "        <td>Islamic Emirate</td>\n",
       "        <td>Kabul</td>\n",
       "        <td>69.1761</td>\n",
       "        <td>34.5228</td>\n",
       "    </tr>\n",
       "</table>"
      ],
      "text/plain": [
       "[('AFG', 'Afghanistan', 'Asia', 'Southern and Central Asia', 652090.0, 1919, 'Afganistan/Afqanestan', 'Islamic Emirate', 'Kabul', 69.1761, 34.5228)]"
      ]
     },
     "execution_count": 72,
     "metadata": {},
     "output_type": "execute_result"
    }
   ],
   "source": [
    "%%sql\n",
    "SELECT * FROM countries\n",
    "LIMIT 1;"
   ]
  },
  {
   "cell_type": "code",
   "execution_count": 73,
   "metadata": {},
   "outputs": [
    {
     "name": "stdout",
     "output_type": "stream",
     "text": [
      " * postgresql://localhost/countries\n",
      "   postgresql://localhost/leaders\n",
      "2 rows affected.\n"
     ]
    },
    {
     "data": {
      "text/html": [
       "<table>\n",
       "    <tr>\n",
       "        <th>econ_id</th>\n",
       "        <th>code</th>\n",
       "        <th>year</th>\n",
       "        <th>income_group</th>\n",
       "        <th>gdp_percapita</th>\n",
       "        <th>gross_savings</th>\n",
       "        <th>inflation_rate</th>\n",
       "        <th>total_investment</th>\n",
       "        <th>unemployment_rate</th>\n",
       "        <th>exports</th>\n",
       "        <th>imports</th>\n",
       "    </tr>\n",
       "    <tr>\n",
       "        <td>1</td>\n",
       "        <td>AFG</td>\n",
       "        <td>2010</td>\n",
       "        <td>Low income</td>\n",
       "        <td>539.667</td>\n",
       "        <td>37.133</td>\n",
       "        <td>2.179</td>\n",
       "        <td>30.402</td>\n",
       "        <td>None</td>\n",
       "        <td>46.394</td>\n",
       "        <td>24.381</td>\n",
       "    </tr>\n",
       "    <tr>\n",
       "        <td>2</td>\n",
       "        <td>AFG</td>\n",
       "        <td>2015</td>\n",
       "        <td>Low income</td>\n",
       "        <td>615.091</td>\n",
       "        <td>21.466</td>\n",
       "        <td>-1.549</td>\n",
       "        <td>18.602</td>\n",
       "        <td>None</td>\n",
       "        <td>-49.11</td>\n",
       "        <td>-7.294</td>\n",
       "    </tr>\n",
       "</table>"
      ],
      "text/plain": [
       "[(1, 'AFG', 2010, 'Low income', 539.667, 37.133, 2.179, 30.402, None, 46.394, 24.381),\n",
       " (2, 'AFG', 2015, 'Low income', 615.091, 21.466, -1.549, 18.602, None, -49.11, -7.294)]"
      ]
     },
     "execution_count": 73,
     "metadata": {},
     "output_type": "execute_result"
    }
   ],
   "source": [
    "%%sql\n",
    "SELECT * FROM economies\n",
    "LIMIT 2;"
   ]
  },
  {
   "cell_type": "markdown",
   "metadata": {},
   "source": [
    "- Use AVG() with LEFT JOIN to deteremine the GDP per capita by region in 2010"
   ]
  },
  {
   "cell_type": "code",
   "execution_count": 74,
   "metadata": {},
   "outputs": [
    {
     "name": "stdout",
     "output_type": "stream",
     "text": [
      " * postgresql://localhost/countries\n",
      "   postgresql://localhost/leaders\n",
      "5 rows affected.\n"
     ]
    },
    {
     "data": {
      "text/html": [
       "<table>\n",
       "    <tr>\n",
       "        <th>region</th>\n",
       "        <th>avg_gdp</th>\n",
       "    </tr>\n",
       "    <tr>\n",
       "        <td>Western Europe</td>\n",
       "        <td>58130.96149553572</td>\n",
       "    </tr>\n",
       "    <tr>\n",
       "        <td>Nordic Countries</td>\n",
       "        <td>57073.99765625</td>\n",
       "    </tr>\n",
       "    <tr>\n",
       "        <td>North America</td>\n",
       "        <td>47911.509765625</td>\n",
       "    </tr>\n",
       "    <tr>\n",
       "        <td>Australia and New Zealand</td>\n",
       "        <td>44792.384765625</td>\n",
       "    </tr>\n",
       "    <tr>\n",
       "        <td>British Islands</td>\n",
       "        <td>43588.330078125</td>\n",
       "    </tr>\n",
       "</table>"
      ],
      "text/plain": [
       "[('Western Europe', 58130.96149553572),\n",
       " ('Nordic Countries', 57073.99765625),\n",
       " ('North America', 47911.509765625),\n",
       " ('Australia and New Zealand', 44792.384765625),\n",
       " ('British Islands', 43588.330078125)]"
      ]
     },
     "execution_count": 74,
     "metadata": {},
     "output_type": "execute_result"
    }
   ],
   "source": [
    "%%sql\n",
    "SELECT region, AVG(gdp_percapita) AS avg_gdp\n",
    "FROM countries AS c\n",
    "    LEFT JOIN economies as E\n",
    "        USING(code)\n",
    "WHERE year = 2010\n",
    "GROUP BY region\n",
    "ORDER BY avg_gdp DESC\n",
    "LIMIT 5;"
   ]
  },
  {
   "cell_type": "markdown",
   "metadata": {},
   "source": [
    "___"
   ]
  },
  {
   "cell_type": "markdown",
   "metadata": {},
   "source": [
    "## 2. RIGHT JOIN\n",
    "- Same a LEFT JOIN but with right table"
   ]
  },
  {
   "cell_type": "code",
   "execution_count": 75,
   "metadata": {},
   "outputs": [
    {
     "data": {
      "text/plain": [
       "'Connected: @leaders'"
      ]
     },
     "execution_count": 75,
     "metadata": {},
     "output_type": "execute_result"
    }
   ],
   "source": [
    "%sql postgresql://localhost/leaders"
   ]
  },
  {
   "cell_type": "code",
   "execution_count": 76,
   "metadata": {},
   "outputs": [
    {
     "name": "stdout",
     "output_type": "stream",
     "text": [
      "   postgresql://localhost/countries\n",
      " * postgresql://localhost/leaders\n",
      "7 rows affected.\n"
     ]
    },
    {
     "data": {
      "text/html": [
       "<table>\n",
       "    <tr>\n",
       "        <th>country</th>\n",
       "        <th>prime_minister</th>\n",
       "        <th>president</th>\n",
       "    </tr>\n",
       "    <tr>\n",
       "        <td>Egypt</td>\n",
       "        <td>Sherif Ismail</td>\n",
       "        <td>Abdel Fattah el-Sisi</td>\n",
       "    </tr>\n",
       "    <tr>\n",
       "        <td>Portugal</td>\n",
       "        <td>Antonio Costa</td>\n",
       "        <td>Marcelo Rebelo de Sousa</td>\n",
       "    </tr>\n",
       "    <tr>\n",
       "        <td>Haiti</td>\n",
       "        <td>Jack Guy Lafontant</td>\n",
       "        <td>Jovenel Moise</td>\n",
       "    </tr>\n",
       "    <tr>\n",
       "        <td>Uruguay</td>\n",
       "        <td>None</td>\n",
       "        <td>Jose Mujica</td>\n",
       "    </tr>\n",
       "    <tr>\n",
       "        <td>Liberia</td>\n",
       "        <td>None</td>\n",
       "        <td>Ellen Johnson Sirleaf</td>\n",
       "    </tr>\n",
       "    <tr>\n",
       "        <td>Chile</td>\n",
       "        <td>None</td>\n",
       "        <td>Michelle Bachelet</td>\n",
       "    </tr>\n",
       "    <tr>\n",
       "        <td>Vietnam</td>\n",
       "        <td>Nguyen Xuan Phuc</td>\n",
       "        <td>Tran Dai Quang</td>\n",
       "    </tr>\n",
       "</table>"
      ],
      "text/plain": [
       "[('Egypt', 'Sherif Ismail', 'Abdel Fattah el-Sisi'),\n",
       " ('Portugal', 'Antonio Costa', 'Marcelo Rebelo de Sousa'),\n",
       " ('Haiti', 'Jack Guy Lafontant', 'Jovenel Moise'),\n",
       " ('Uruguay', None, 'Jose Mujica'),\n",
       " ('Liberia', None, 'Ellen Johnson Sirleaf'),\n",
       " ('Chile', None, 'Michelle Bachelet'),\n",
       " ('Vietnam', 'Nguyen Xuan Phuc', 'Tran Dai Quang')]"
      ]
     },
     "execution_count": 76,
     "metadata": {},
     "output_type": "execute_result"
    }
   ],
   "source": [
    "%%sql\n",
    "SELECT p2.country, prime_minister, president\n",
    "FROM prime_ministers AS p1\n",
    "    RIGHT JOIN presidents AS p2\n",
    "        ON p1.country = p2.country"
   ]
  },
  {
   "cell_type": "markdown",
   "metadata": {},
   "source": [
    "___"
   ]
  },
  {
   "cell_type": "markdown",
   "metadata": {},
   "source": [
    "### 2.1. Example 2\n",
    "- Use AVG() with RIGHT JOIN to deteremine the GDP per capita by region in 2010"
   ]
  },
  {
   "cell_type": "code",
   "execution_count": 77,
   "metadata": {},
   "outputs": [
    {
     "data": {
      "text/plain": [
       "'Connected: @countries'"
      ]
     },
     "execution_count": 77,
     "metadata": {},
     "output_type": "execute_result"
    }
   ],
   "source": [
    "%%sql \n",
    "postgresql://localhost/countries"
   ]
  },
  {
   "cell_type": "code",
   "execution_count": 78,
   "metadata": {},
   "outputs": [
    {
     "name": "stdout",
     "output_type": "stream",
     "text": [
      " * postgresql://localhost/countries\n",
      "   postgresql://localhost/leaders\n",
      "5 rows affected.\n"
     ]
    },
    {
     "data": {
      "text/html": [
       "<table>\n",
       "    <tr>\n",
       "        <th>region</th>\n",
       "        <th>avg_gdp</th>\n",
       "    </tr>\n",
       "    <tr>\n",
       "        <td>Western Europe</td>\n",
       "        <td>58130.96149553572</td>\n",
       "    </tr>\n",
       "    <tr>\n",
       "        <td>Nordic Countries</td>\n",
       "        <td>57073.99765625</td>\n",
       "    </tr>\n",
       "    <tr>\n",
       "        <td>North America</td>\n",
       "        <td>47911.509765625</td>\n",
       "    </tr>\n",
       "    <tr>\n",
       "        <td>Australia and New Zealand</td>\n",
       "        <td>44792.384765625</td>\n",
       "    </tr>\n",
       "    <tr>\n",
       "        <td>British Islands</td>\n",
       "        <td>43588.330078125</td>\n",
       "    </tr>\n",
       "</table>"
      ],
      "text/plain": [
       "[('Western Europe', 58130.96149553572),\n",
       " ('Nordic Countries', 57073.99765625),\n",
       " ('North America', 47911.509765625),\n",
       " ('Australia and New Zealand', 44792.384765625),\n",
       " ('British Islands', 43588.330078125)]"
      ]
     },
     "execution_count": 78,
     "metadata": {},
     "output_type": "execute_result"
    }
   ],
   "source": [
    "%%sql\n",
    "SELECT region, AVG(gdp_percapita) AS avg_gdp\n",
    "FROM economies as E\n",
    "    RIGHT JOIN countries AS c\n",
    "        USING(code)\n",
    "WHERE year = 2010\n",
    "GROUP BY region\n",
    "ORDER BY avg_gdp DESC\n",
    "LIMIT 5;"
   ]
  },
  {
   "cell_type": "markdown",
   "metadata": {},
   "source": [
    "___"
   ]
  },
  {
   "cell_type": "markdown",
   "metadata": {},
   "source": [
    "## 3. JOINING 3 TABLES\n",
    "To further illustrate the nuances between LEFT and RIGHT JOIN syntax. "
   ]
  },
  {
   "cell_type": "markdown",
   "metadata": {},
   "source": [
    "### 3.1 LEFT JOIN"
   ]
  },
  {
   "cell_type": "code",
   "execution_count": 79,
   "metadata": {},
   "outputs": [
    {
     "name": "stdout",
     "output_type": "stream",
     "text": [
      " * postgresql://localhost/countries\n",
      "   postgresql://localhost/leaders\n",
      "5 rows affected.\n"
     ]
    },
    {
     "data": {
      "text/html": [
       "<table>\n",
       "    <tr>\n",
       "        <th>city</th>\n",
       "        <th>urbanarea_pop</th>\n",
       "        <th>country</th>\n",
       "        <th>indep_year</th>\n",
       "        <th>language</th>\n",
       "        <th>percent</th>\n",
       "    </tr>\n",
       "    <tr>\n",
       "        <td>Abidjan</td>\n",
       "        <td>4765000.0</td>\n",
       "        <td>Cote d&#x27;Ivoire</td>\n",
       "        <td>1960</td>\n",
       "        <td>French</td>\n",
       "        <td>None</td>\n",
       "    </tr>\n",
       "    <tr>\n",
       "        <td>Abidjan</td>\n",
       "        <td>4765000.0</td>\n",
       "        <td>Cote d&#x27;Ivoire</td>\n",
       "        <td>1960</td>\n",
       "        <td>Other</td>\n",
       "        <td>None</td>\n",
       "    </tr>\n",
       "    <tr>\n",
       "        <td>Abu Dhabi</td>\n",
       "        <td>1145000.0</td>\n",
       "        <td>United Arab Emirates</td>\n",
       "        <td>1971</td>\n",
       "        <td>Arabic</td>\n",
       "        <td>None</td>\n",
       "    </tr>\n",
       "    <tr>\n",
       "        <td>Abu Dhabi</td>\n",
       "        <td>1145000.0</td>\n",
       "        <td>United Arab Emirates</td>\n",
       "        <td>1971</td>\n",
       "        <td>English</td>\n",
       "        <td>None</td>\n",
       "    </tr>\n",
       "    <tr>\n",
       "        <td>Abu Dhabi</td>\n",
       "        <td>1145000.0</td>\n",
       "        <td>United Arab Emirates</td>\n",
       "        <td>1971</td>\n",
       "        <td>Hindi</td>\n",
       "        <td>None</td>\n",
       "    </tr>\n",
       "</table>"
      ],
      "text/plain": [
       "[('Abidjan', 4765000.0, \"Cote d'Ivoire\", 1960, 'French', None),\n",
       " ('Abidjan', 4765000.0, \"Cote d'Ivoire\", 1960, 'Other', None),\n",
       " ('Abu Dhabi', 1145000.0, 'United Arab Emirates', 1971, 'Arabic', None),\n",
       " ('Abu Dhabi', 1145000.0, 'United Arab Emirates', 1971, 'English', None),\n",
       " ('Abu Dhabi', 1145000.0, 'United Arab Emirates', 1971, 'Hindi', None)]"
      ]
     },
     "execution_count": 79,
     "metadata": {},
     "output_type": "execute_result"
    }
   ],
   "source": [
    "%%sql\n",
    "SELECT cities.name AS city, urbanarea_pop, countries.name AS country,\n",
    "       indep_year, languages.name AS language, percent\n",
    "FROM cities\n",
    "  LEFT JOIN countries\n",
    "    ON cities.country_code = countries.code\n",
    "  LEFT JOIN languages\n",
    "    ON countries.code = languages.code\n",
    "ORDER BY city, language\n",
    "LIMIT 5;"
   ]
  },
  {
   "cell_type": "markdown",
   "metadata": {},
   "source": [
    "___"
   ]
  },
  {
   "cell_type": "markdown",
   "metadata": {},
   "source": [
    "### 3.2 RIGHT JOIN\n",
    "- Note the order of the joins are reversed"
   ]
  },
  {
   "cell_type": "code",
   "execution_count": 80,
   "metadata": {},
   "outputs": [
    {
     "name": "stdout",
     "output_type": "stream",
     "text": [
      " * postgresql://localhost/countries\n",
      "   postgresql://localhost/leaders\n",
      "5 rows affected.\n"
     ]
    },
    {
     "data": {
      "text/html": [
       "<table>\n",
       "    <tr>\n",
       "        <th>city</th>\n",
       "        <th>urbanarea_pop</th>\n",
       "        <th>country</th>\n",
       "        <th>indep_year</th>\n",
       "        <th>language</th>\n",
       "        <th>percent</th>\n",
       "    </tr>\n",
       "    <tr>\n",
       "        <td>Abidjan</td>\n",
       "        <td>4765000.0</td>\n",
       "        <td>Cote d&#x27;Ivoire</td>\n",
       "        <td>1960</td>\n",
       "        <td>French</td>\n",
       "        <td>None</td>\n",
       "    </tr>\n",
       "    <tr>\n",
       "        <td>Abidjan</td>\n",
       "        <td>4765000.0</td>\n",
       "        <td>Cote d&#x27;Ivoire</td>\n",
       "        <td>1960</td>\n",
       "        <td>Other</td>\n",
       "        <td>None</td>\n",
       "    </tr>\n",
       "    <tr>\n",
       "        <td>Abu Dhabi</td>\n",
       "        <td>1145000.0</td>\n",
       "        <td>United Arab Emirates</td>\n",
       "        <td>1971</td>\n",
       "        <td>Arabic</td>\n",
       "        <td>None</td>\n",
       "    </tr>\n",
       "    <tr>\n",
       "        <td>Abu Dhabi</td>\n",
       "        <td>1145000.0</td>\n",
       "        <td>United Arab Emirates</td>\n",
       "        <td>1971</td>\n",
       "        <td>English</td>\n",
       "        <td>None</td>\n",
       "    </tr>\n",
       "    <tr>\n",
       "        <td>Abu Dhabi</td>\n",
       "        <td>1145000.0</td>\n",
       "        <td>United Arab Emirates</td>\n",
       "        <td>1971</td>\n",
       "        <td>Hindi</td>\n",
       "        <td>None</td>\n",
       "    </tr>\n",
       "</table>"
      ],
      "text/plain": [
       "[('Abidjan', 4765000.0, \"Cote d'Ivoire\", 1960, 'French', None),\n",
       " ('Abidjan', 4765000.0, \"Cote d'Ivoire\", 1960, 'Other', None),\n",
       " ('Abu Dhabi', 1145000.0, 'United Arab Emirates', 1971, 'Arabic', None),\n",
       " ('Abu Dhabi', 1145000.0, 'United Arab Emirates', 1971, 'English', None),\n",
       " ('Abu Dhabi', 1145000.0, 'United Arab Emirates', 1971, 'Hindi', None)]"
      ]
     },
     "execution_count": 80,
     "metadata": {},
     "output_type": "execute_result"
    }
   ],
   "source": [
    "%%sql\n",
    "SELECT cities.name AS city, urbanarea_pop, countries.name AS country,\n",
    "       indep_year, languages.name AS language, percent\n",
    "FROM languages\n",
    "  RIGHT JOIN countries\n",
    "    ON languages.code = countries.code\n",
    "  RIGHT JOIN cities\n",
    "    ON cities.country_code = countries.code\n",
    "ORDER BY city, language\n",
    "LIMIT 5;"
   ]
  },
  {
   "cell_type": "code",
   "execution_count": null,
   "metadata": {},
   "outputs": [],
   "source": []
  }
 ],
 "metadata": {
  "kernelspec": {
   "display_name": "Python 3",
   "language": "python",
   "name": "python3"
  },
  "language_info": {
   "codemirror_mode": {
    "name": "ipython",
    "version": 3
   },
   "file_extension": ".py",
   "mimetype": "text/x-python",
   "name": "python",
   "nbconvert_exporter": "python",
   "pygments_lexer": "ipython3",
   "version": "3.7.4"
  }
 },
 "nbformat": 4,
 "nbformat_minor": 2
}
