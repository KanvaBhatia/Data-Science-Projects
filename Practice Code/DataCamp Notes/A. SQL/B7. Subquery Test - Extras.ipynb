{
 "cells": [
  {
   "cell_type": "markdown",
   "metadata": {},
   "source": [
    "# SQL Cheat Sheet\n",
    "SUBQUERIES TEST"
   ]
  },
  {
   "cell_type": "markdown",
   "metadata": {},
   "source": [
    "- Connecting to Database"
   ]
  },
  {
   "cell_type": "code",
   "execution_count": 1,
   "metadata": {},
   "outputs": [],
   "source": [
    "reload_ext sql"
   ]
  },
  {
   "cell_type": "code",
   "execution_count": 2,
   "metadata": {},
   "outputs": [
    {
     "data": {
      "text/plain": [
       "'Connected: @countries'"
      ]
     },
     "execution_count": 2,
     "metadata": {},
     "output_type": "execute_result"
    }
   ],
   "source": [
    "%%sql\n",
    "postgresql://localhost/countries"
   ]
  },
  {
   "cell_type": "markdown",
   "metadata": {},
   "source": [
    "___"
   ]
  },
  {
   "cell_type": "code",
   "execution_count": 3,
   "metadata": {
    "scrolled": true
   },
   "outputs": [
    {
     "name": "stdout",
     "output_type": "stream",
     "text": [
      " * postgresql://localhost/countries\n",
      "4 rows affected.\n"
     ]
    },
    {
     "data": {
      "text/html": [
       "<table>\n",
       "    <tr>\n",
       "        <th>econ_id</th>\n",
       "        <th>code</th>\n",
       "        <th>year</th>\n",
       "        <th>income_group</th>\n",
       "        <th>gdp_percapita</th>\n",
       "        <th>gross_savings</th>\n",
       "        <th>inflation_rate</th>\n",
       "        <th>total_investment</th>\n",
       "        <th>unemployment_rate</th>\n",
       "        <th>exports</th>\n",
       "        <th>imports</th>\n",
       "    </tr>\n",
       "    <tr>\n",
       "        <td>1</td>\n",
       "        <td>AFG</td>\n",
       "        <td>2010</td>\n",
       "        <td>Low income</td>\n",
       "        <td>539.667</td>\n",
       "        <td>37.133</td>\n",
       "        <td>2.179</td>\n",
       "        <td>30.402</td>\n",
       "        <td>None</td>\n",
       "        <td>46.394</td>\n",
       "        <td>24.381</td>\n",
       "    </tr>\n",
       "    <tr>\n",
       "        <td>2</td>\n",
       "        <td>AFG</td>\n",
       "        <td>2015</td>\n",
       "        <td>Low income</td>\n",
       "        <td>615.091</td>\n",
       "        <td>21.466</td>\n",
       "        <td>-1.549</td>\n",
       "        <td>18.602</td>\n",
       "        <td>None</td>\n",
       "        <td>-49.11</td>\n",
       "        <td>-7.294</td>\n",
       "    </tr>\n",
       "    <tr>\n",
       "        <td>3</td>\n",
       "        <td>AGO</td>\n",
       "        <td>2010</td>\n",
       "        <td>Upper middle income</td>\n",
       "        <td>3599.27</td>\n",
       "        <td>23.534</td>\n",
       "        <td>14.48</td>\n",
       "        <td>14.433</td>\n",
       "        <td>None</td>\n",
       "        <td>-3.266</td>\n",
       "        <td>-21.076</td>\n",
       "    </tr>\n",
       "    <tr>\n",
       "        <td>4</td>\n",
       "        <td>AGO</td>\n",
       "        <td>2015</td>\n",
       "        <td>Upper middle income</td>\n",
       "        <td>3876.2</td>\n",
       "        <td>-0.425</td>\n",
       "        <td>10.287</td>\n",
       "        <td>9.552</td>\n",
       "        <td>None</td>\n",
       "        <td>6.721</td>\n",
       "        <td>-21.778</td>\n",
       "    </tr>\n",
       "</table>"
      ],
      "text/plain": [
       "[(1, 'AFG', 2010, 'Low income', 539.667, 37.133, 2.179, 30.402, None, 46.394, 24.381),\n",
       " (2, 'AFG', 2015, 'Low income', 615.091, 21.466, -1.549, 18.602, None, -49.11, -7.294),\n",
       " (3, 'AGO', 2010, 'Upper middle income', 3599.27, 23.534, 14.48, 14.433, None, -3.266, -21.076),\n",
       " (4, 'AGO', 2015, 'Upper middle income', 3876.2, -0.425, 10.287, 9.552, None, 6.721, -21.778)]"
      ]
     },
     "execution_count": 3,
     "metadata": {},
     "output_type": "execute_result"
    }
   ],
   "source": [
    "%%sql\n",
    "SELECT * FROM economies\n",
    "LIMIT 4"
   ]
  },
  {
   "cell_type": "code",
   "execution_count": 106,
   "metadata": {},
   "outputs": [
    {
     "name": "stdout",
     "output_type": "stream",
     "text": [
      " * postgresql://localhost/countries\n",
      "23 rows affected.\n"
     ]
    },
    {
     "data": {
      "text/html": [
       "<table>\n",
       "    <tr>\n",
       "        <th>region</th>\n",
       "        <th>count</th>\n",
       "    </tr>\n",
       "    <tr>\n",
       "        <td>Southeast Asia</td>\n",
       "        <td>10</td>\n",
       "    </tr>\n",
       "    <tr>\n",
       "        <td>North America</td>\n",
       "        <td>4</td>\n",
       "    </tr>\n",
       "    <tr>\n",
       "        <td>Western Europe</td>\n",
       "        <td>9</td>\n",
       "    </tr>\n",
       "    <tr>\n",
       "        <td>Western Africa</td>\n",
       "        <td>16</td>\n",
       "    </tr>\n",
       "    <tr>\n",
       "        <td>Polynesia</td>\n",
       "        <td>5</td>\n",
       "    </tr>\n",
       "    <tr>\n",
       "        <td>Southern and Central Asia</td>\n",
       "        <td>14</td>\n",
       "    </tr>\n",
       "    <tr>\n",
       "        <td>Middle East</td>\n",
       "        <td>18</td>\n",
       "    </tr>\n",
       "    <tr>\n",
       "        <td>Eastern Asia</td>\n",
       "        <td>7</td>\n",
       "    </tr>\n",
       "    <tr>\n",
       "        <td>Southern Africa</td>\n",
       "        <td>5</td>\n",
       "    </tr>\n",
       "    <tr>\n",
       "        <td>Melanesia</td>\n",
       "        <td>5</td>\n",
       "    </tr>\n",
       "    <tr>\n",
       "        <td>South America</td>\n",
       "        <td>12</td>\n",
       "    </tr>\n",
       "    <tr>\n",
       "        <td>Southern Europe</td>\n",
       "        <td>13</td>\n",
       "    </tr>\n",
       "    <tr>\n",
       "        <td>Central Africa</td>\n",
       "        <td>9</td>\n",
       "    </tr>\n",
       "    <tr>\n",
       "        <td>Australia and New Zealand</td>\n",
       "        <td>2</td>\n",
       "    </tr>\n",
       "    <tr>\n",
       "        <td>Eastern Africa</td>\n",
       "        <td>17</td>\n",
       "    </tr>\n",
       "    <tr>\n",
       "        <td>Central America</td>\n",
       "        <td>8</td>\n",
       "    </tr>\n",
       "    <tr>\n",
       "        <td>Micronesia</td>\n",
       "        <td>7</td>\n",
       "    </tr>\n",
       "    <tr>\n",
       "        <td>British Islands</td>\n",
       "        <td>2</td>\n",
       "    </tr>\n",
       "    <tr>\n",
       "        <td>Baltic Countries</td>\n",
       "        <td>3</td>\n",
       "    </tr>\n",
       "    <tr>\n",
       "        <td>Caribbean</td>\n",
       "        <td>19</td>\n",
       "    </tr>\n",
       "    <tr>\n",
       "        <td>Nordic Countries</td>\n",
       "        <td>6</td>\n",
       "    </tr>\n",
       "    <tr>\n",
       "        <td>Northern Africa</td>\n",
       "        <td>6</td>\n",
       "    </tr>\n",
       "    <tr>\n",
       "        <td>Eastern Europe</td>\n",
       "        <td>9</td>\n",
       "    </tr>\n",
       "</table>"
      ],
      "text/plain": [
       "[('Southeast Asia', 10),\n",
       " ('North America', 4),\n",
       " ('Western Europe', 9),\n",
       " ('Western Africa', 16),\n",
       " ('Polynesia', 5),\n",
       " ('Southern and Central Asia', 14),\n",
       " ('Middle East', 18),\n",
       " ('Eastern Asia', 7),\n",
       " ('Southern Africa', 5),\n",
       " ('Melanesia', 5),\n",
       " ('South America', 12),\n",
       " ('Southern Europe', 13),\n",
       " ('Central Africa', 9),\n",
       " ('Australia and New Zealand', 2),\n",
       " ('Eastern Africa', 17),\n",
       " ('Central America', 8),\n",
       " ('Micronesia', 7),\n",
       " ('British Islands', 2),\n",
       " ('Baltic Countries', 3),\n",
       " ('Caribbean', 19),\n",
       " ('Nordic Countries', 6),\n",
       " ('Northern Africa', 6),\n",
       " ('Eastern Europe', 9)]"
      ]
     },
     "execution_count": 106,
     "metadata": {},
     "output_type": "execute_result"
    }
   ],
   "source": [
    "%%sql\n",
    "SELECT DISTINCT region, count(*)  FROM countries\n",
    "group by region"
   ]
  },
  {
   "cell_type": "code",
   "execution_count": 109,
   "metadata": {
    "scrolled": false
   },
   "outputs": [
    {
     "name": "stdout",
     "output_type": "stream",
     "text": [
      " * postgresql://localhost/countries\n",
      "4 rows affected.\n"
     ]
    },
    {
     "data": {
      "text/html": [
       "<table>\n",
       "    <tr>\n",
       "        <th>lang_id</th>\n",
       "        <th>code</th>\n",
       "        <th>name</th>\n",
       "        <th>percent</th>\n",
       "        <th>official</th>\n",
       "    </tr>\n",
       "    <tr>\n",
       "        <td>1</td>\n",
       "        <td>AFG</td>\n",
       "        <td>Dari</td>\n",
       "        <td>50.0</td>\n",
       "        <td>True</td>\n",
       "    </tr>\n",
       "    <tr>\n",
       "        <td>2</td>\n",
       "        <td>AFG</td>\n",
       "        <td>Pashto</td>\n",
       "        <td>35.0</td>\n",
       "        <td>True</td>\n",
       "    </tr>\n",
       "    <tr>\n",
       "        <td>3</td>\n",
       "        <td>AFG</td>\n",
       "        <td>Turkic</td>\n",
       "        <td>11.0</td>\n",
       "        <td>False</td>\n",
       "    </tr>\n",
       "    <tr>\n",
       "        <td>4</td>\n",
       "        <td>AFG</td>\n",
       "        <td>Other</td>\n",
       "        <td>4.0</td>\n",
       "        <td>False</td>\n",
       "    </tr>\n",
       "</table>"
      ],
      "text/plain": [
       "[(1, 'AFG', 'Dari', 50.0, True),\n",
       " (2, 'AFG', 'Pashto', 35.0, True),\n",
       " (3, 'AFG', 'Turkic', 11.0, False),\n",
       " (4, 'AFG', 'Other', 4.0, False)]"
      ]
     },
     "execution_count": 109,
     "metadata": {},
     "output_type": "execute_result"
    }
   ],
   "source": [
    "%%sql\n",
    "SELECT * FROM languages\n",
    "LIMIT 4"
   ]
  },
  {
   "cell_type": "code",
   "execution_count": 110,
   "metadata": {},
   "outputs": [
    {
     "name": "stdout",
     "output_type": "stream",
     "text": [
      " * postgresql://localhost/countries\n",
      "4 rows affected.\n"
     ]
    },
    {
     "data": {
      "text/html": [
       "<table>\n",
       "    <tr>\n",
       "        <th>pop_id</th>\n",
       "        <th>country_code</th>\n",
       "        <th>year</th>\n",
       "        <th>fertility_rate</th>\n",
       "        <th>life_expectancy</th>\n",
       "        <th>size</th>\n",
       "    </tr>\n",
       "    <tr>\n",
       "        <td>20</td>\n",
       "        <td>ABW</td>\n",
       "        <td>2010</td>\n",
       "        <td>1.704</td>\n",
       "        <td>74.95354</td>\n",
       "        <td>101597.0</td>\n",
       "    </tr>\n",
       "    <tr>\n",
       "        <td>19</td>\n",
       "        <td>ABW</td>\n",
       "        <td>2015</td>\n",
       "        <td>1.647</td>\n",
       "        <td>75.573586</td>\n",
       "        <td>103889.0</td>\n",
       "    </tr>\n",
       "    <tr>\n",
       "        <td>2</td>\n",
       "        <td>AFG</td>\n",
       "        <td>2010</td>\n",
       "        <td>5.746</td>\n",
       "        <td>58.97083</td>\n",
       "        <td>27962208.0</td>\n",
       "    </tr>\n",
       "    <tr>\n",
       "        <td>1</td>\n",
       "        <td>AFG</td>\n",
       "        <td>2015</td>\n",
       "        <td>4.653</td>\n",
       "        <td>60.71717</td>\n",
       "        <td>32526562.0</td>\n",
       "    </tr>\n",
       "</table>"
      ],
      "text/plain": [
       "[(20, 'ABW', 2010, 1.704, 74.95354, 101597.0),\n",
       " (19, 'ABW', 2015, 1.647, 75.573586, 103889.0),\n",
       " (2, 'AFG', 2010, 5.746, 58.97083, 27962208.0),\n",
       " (1, 'AFG', 2015, 4.653, 60.71717, 32526562.0)]"
      ]
     },
     "execution_count": 110,
     "metadata": {},
     "output_type": "execute_result"
    }
   ],
   "source": [
    "%%sql\n",
    "SELECT * FROM populations\n",
    "LIMIT 4"
   ]
  },
  {
   "cell_type": "markdown",
   "metadata": {},
   "source": [
    "___"
   ]
  },
  {
   "cell_type": "markdown",
   "metadata": {},
   "source": [
    "## 1. Subquery Challenge 1: Mulitple Subqueries"
   ]
  },
  {
   "cell_type": "markdown",
   "metadata": {},
   "source": [
    "- Determine for each of the continents in the countriest table, which county has the max inflation rate. in 2015"
   ]
  },
  {
   "cell_type": "code",
   "execution_count": 5,
   "metadata": {},
   "outputs": [
    {
     "name": "stdout",
     "output_type": "stream",
     "text": [
      " * postgresql://localhost/countries\n",
      "2 rows affected.\n"
     ]
    },
    {
     "data": {
      "text/html": [
       "<table>\n",
       "    <tr>\n",
       "        <th>code</th>\n",
       "        <th>inf</th>\n",
       "    </tr>\n",
       "    <tr>\n",
       "        <td>AFG</td>\n",
       "        <td>-1.549</td>\n",
       "    </tr>\n",
       "    <tr>\n",
       "        <td>AGO</td>\n",
       "        <td>10.287</td>\n",
       "    </tr>\n",
       "</table>"
      ],
      "text/plain": [
       "[('AFG', -1.549), ('AGO', 10.287)]"
      ]
     },
     "execution_count": 5,
     "metadata": {},
     "output_type": "execute_result"
    }
   ],
   "source": [
    "%%sql\n",
    "SELECT code, inflation_rate AS inf \n",
    "FROM economies\n",
    "WHERE year = 2015\n",
    "LIMIT 2;"
   ]
  },
  {
   "cell_type": "code",
   "execution_count": 7,
   "metadata": {},
   "outputs": [
    {
     "name": "stdout",
     "output_type": "stream",
     "text": [
      " * postgresql://localhost/countries\n",
      "6 rows affected.\n"
     ]
    },
    {
     "data": {
      "text/html": [
       "<table>\n",
       "    <tr>\n",
       "        <th>continent</th>\n",
       "        <th>max_inf</th>\n",
       "    </tr>\n",
       "    <tr>\n",
       "        <td>Africa</td>\n",
       "        <td>21.858</td>\n",
       "    </tr>\n",
       "    <tr>\n",
       "        <td>Asia</td>\n",
       "        <td>39.403</td>\n",
       "    </tr>\n",
       "    <tr>\n",
       "        <td>South America</td>\n",
       "        <td>121.738</td>\n",
       "    </tr>\n",
       "    <tr>\n",
       "        <td>North America</td>\n",
       "        <td>7.524</td>\n",
       "    </tr>\n",
       "    <tr>\n",
       "        <td>Europe</td>\n",
       "        <td>48.684</td>\n",
       "    </tr>\n",
       "    <tr>\n",
       "        <td>Oceania</td>\n",
       "        <td>9.784</td>\n",
       "    </tr>\n",
       "</table>"
      ],
      "text/plain": [
       "[('Africa', 21.858),\n",
       " ('Asia', 39.403),\n",
       " ('South America', 121.738),\n",
       " ('North America', 7.524),\n",
       " ('Europe', 48.684),\n",
       " ('Oceania', 9.784)]"
      ]
     },
     "execution_count": 7,
     "metadata": {},
     "output_type": "execute_result"
    }
   ],
   "source": [
    "%%sql\n",
    "SELECT continent, MAX(subquery.inf) AS max_inf\n",
    "FROM countries, \n",
    "    (SELECT code, inflation_rate AS inf \n",
    "     FROM economies\n",
    "     WHERE year = 2015) AS subquery\n",
    "WHERE countries.code = subquery.code\n",
    "GROUP BY continent"
   ]
  },
  {
   "cell_type": "markdown",
   "metadata": {},
   "source": [
    "- FINAL CODE"
   ]
  },
  {
   "cell_type": "code",
   "execution_count": 18,
   "metadata": {},
   "outputs": [
    {
     "name": "stdout",
     "output_type": "stream",
     "text": [
      " * postgresql://localhost/countries\n",
      "6 rows affected.\n"
     ]
    },
    {
     "data": {
      "text/html": [
       "<table>\n",
       "    <tr>\n",
       "        <th>name</th>\n",
       "        <th>continent</th>\n",
       "        <th>max_inf</th>\n",
       "    </tr>\n",
       "    <tr>\n",
       "        <td>Haiti</td>\n",
       "        <td>North America</td>\n",
       "        <td>7.524</td>\n",
       "    </tr>\n",
       "    <tr>\n",
       "        <td>Malawi</td>\n",
       "        <td>Africa</td>\n",
       "        <td>21.858</td>\n",
       "    </tr>\n",
       "    <tr>\n",
       "        <td>Nauru</td>\n",
       "        <td>Oceania</td>\n",
       "        <td>9.784</td>\n",
       "    </tr>\n",
       "    <tr>\n",
       "        <td>Ukraine</td>\n",
       "        <td>Europe</td>\n",
       "        <td>48.684</td>\n",
       "    </tr>\n",
       "    <tr>\n",
       "        <td>Venezuela</td>\n",
       "        <td>South America</td>\n",
       "        <td>121.738</td>\n",
       "    </tr>\n",
       "    <tr>\n",
       "        <td>Yemen</td>\n",
       "        <td>Asia</td>\n",
       "        <td>39.403</td>\n",
       "    </tr>\n",
       "</table>"
      ],
      "text/plain": [
       "[('Haiti', 'North America', 7.524),\n",
       " ('Malawi', 'Africa', 21.858),\n",
       " ('Nauru', 'Oceania', 9.784),\n",
       " ('Ukraine', 'Europe', 48.684),\n",
       " ('Venezuela', 'South America', 121.738),\n",
       " ('Yemen', 'Asia', 39.403)]"
      ]
     },
     "execution_count": 18,
     "metadata": {},
     "output_type": "execute_result"
    }
   ],
   "source": [
    "%%sql\n",
    "SELECT name, second_query.continent, second_query.max_inf\n",
    "FROM countries, economies,  \n",
    "     (SELECT continent, MAX(subquery.inf) AS max_inf\n",
    "      FROM countries, \n",
    "        (SELECT code, inflation_rate AS inf \n",
    "         FROM economies\n",
    "         WHERE year = 2015) AS subquery\n",
    "      WHERE countries.code = subquery.code\n",
    "      GROUP BY continent) AS second_query\n",
    "WHERE economies.inflation_rate = second_query.max_inf\n",
    "AND countries.code = economies.code"
   ]
  },
  {
   "cell_type": "markdown",
   "metadata": {},
   "source": [
    "#### USING JOINS"
   ]
  },
  {
   "cell_type": "code",
   "execution_count": 20,
   "metadata": {},
   "outputs": [
    {
     "name": "stdout",
     "output_type": "stream",
     "text": [
      " * postgresql://localhost/countries\n",
      "6 rows affected.\n"
     ]
    },
    {
     "data": {
      "text/html": [
       "<table>\n",
       "    <tr>\n",
       "        <th>name</th>\n",
       "        <th>continent</th>\n",
       "        <th>inflation_rate</th>\n",
       "    </tr>\n",
       "    <tr>\n",
       "        <td>Haiti</td>\n",
       "        <td>North America</td>\n",
       "        <td>7.524</td>\n",
       "    </tr>\n",
       "    <tr>\n",
       "        <td>Malawi</td>\n",
       "        <td>Africa</td>\n",
       "        <td>21.858</td>\n",
       "    </tr>\n",
       "    <tr>\n",
       "        <td>Nauru</td>\n",
       "        <td>Oceania</td>\n",
       "        <td>9.784</td>\n",
       "    </tr>\n",
       "    <tr>\n",
       "        <td>Ukraine</td>\n",
       "        <td>Europe</td>\n",
       "        <td>48.684</td>\n",
       "    </tr>\n",
       "    <tr>\n",
       "        <td>Venezuela</td>\n",
       "        <td>South America</td>\n",
       "        <td>121.738</td>\n",
       "    </tr>\n",
       "    <tr>\n",
       "        <td>Yemen</td>\n",
       "        <td>Asia</td>\n",
       "        <td>39.403</td>\n",
       "    </tr>\n",
       "</table>"
      ],
      "text/plain": [
       "[('Haiti', 'North America', 7.524),\n",
       " ('Malawi', 'Africa', 21.858),\n",
       " ('Nauru', 'Oceania', 9.784),\n",
       " ('Ukraine', 'Europe', 48.684),\n",
       " ('Venezuela', 'South America', 121.738),\n",
       " ('Yemen', 'Asia', 39.403)]"
      ]
     },
     "execution_count": 20,
     "metadata": {},
     "output_type": "execute_result"
    }
   ],
   "source": [
    "%%sql\n",
    "SELECT name, continent, inflation_rate\n",
    "FROM countries\n",
    "  INNER JOIN economies\n",
    "    USING (code)\n",
    "WHERE year = 2015\n",
    "AND inflation_rate IN \n",
    "    (SELECT MAX(inflation_rate) AS max_inf\n",
    "        FROM \n",
    "            (SELECT name, continent, inflation_rate\n",
    "             FROM countries\n",
    "             INNER JOIN economies\n",
    "             USING (code)\n",
    "             WHERE year = 2015) AS subquery\n",
    "             GROUP BY continent)"
   ]
  },
  {
   "cell_type": "markdown",
   "metadata": {},
   "source": [
    "___"
   ]
  },
  {
   "cell_type": "markdown",
   "metadata": {},
   "source": [
    "## 2.Subquery Challenge 2"
   ]
  },
  {
   "cell_type": "code",
   "execution_count": 91,
   "metadata": {},
   "outputs": [
    {
     "name": "stdout",
     "output_type": "stream",
     "text": [
      " * postgresql://localhost/countries\n",
      "1 rows affected.\n"
     ]
    },
    {
     "data": {
      "text/html": [
       "<table>\n",
       "    <tr>\n",
       "        <th>code</th>\n",
       "        <th>name</th>\n",
       "        <th>continent</th>\n",
       "        <th>region</th>\n",
       "        <th>surface_area</th>\n",
       "        <th>indep_year</th>\n",
       "        <th>local_name</th>\n",
       "        <th>gov_form</th>\n",
       "        <th>capital</th>\n",
       "        <th>cap_long</th>\n",
       "        <th>cap_lat</th>\n",
       "    </tr>\n",
       "    <tr>\n",
       "        <td>AFG</td>\n",
       "        <td>Afghanistan</td>\n",
       "        <td>Asia</td>\n",
       "        <td>Southern and Central Asia</td>\n",
       "        <td>652090.0</td>\n",
       "        <td>1919</td>\n",
       "        <td>Afganistan/Afqanestan</td>\n",
       "        <td>Islamic Emirate</td>\n",
       "        <td>Kabul</td>\n",
       "        <td>69.1761</td>\n",
       "        <td>34.5228</td>\n",
       "    </tr>\n",
       "</table>"
      ],
      "text/plain": [
       "[('AFG', 'Afghanistan', 'Asia', 'Southern and Central Asia', 652090.0, 1919, 'Afganistan/Afqanestan', 'Islamic Emirate', 'Kabul', 69.1761, 34.5228)]"
      ]
     },
     "execution_count": 91,
     "metadata": {},
     "output_type": "execute_result"
    }
   ],
   "source": [
    "%%sql\n",
    "SELECT * FROM countries\n",
    "LIMIT 1"
   ]
  },
  {
   "cell_type": "code",
   "execution_count": 94,
   "metadata": {},
   "outputs": [
    {
     "name": "stdout",
     "output_type": "stream",
     "text": [
      " * postgresql://localhost/countries\n",
      "1 rows affected.\n"
     ]
    },
    {
     "data": {
      "text/html": [
       "<table>\n",
       "    <tr>\n",
       "        <th>econ_id</th>\n",
       "        <th>code</th>\n",
       "        <th>year</th>\n",
       "        <th>income_group</th>\n",
       "        <th>gdp_percapita</th>\n",
       "        <th>gross_savings</th>\n",
       "        <th>inflation_rate</th>\n",
       "        <th>total_investment</th>\n",
       "        <th>unemployment_rate</th>\n",
       "        <th>exports</th>\n",
       "        <th>imports</th>\n",
       "    </tr>\n",
       "    <tr>\n",
       "        <td>2</td>\n",
       "        <td>AFG</td>\n",
       "        <td>2015</td>\n",
       "        <td>Low income</td>\n",
       "        <td>615.091</td>\n",
       "        <td>21.466</td>\n",
       "        <td>-1.549</td>\n",
       "        <td>18.602</td>\n",
       "        <td>None</td>\n",
       "        <td>-49.11</td>\n",
       "        <td>-7.294</td>\n",
       "    </tr>\n",
       "</table>"
      ],
      "text/plain": [
       "[(2, 'AFG', 2015, 'Low income', 615.091, 21.466, -1.549, 18.602, None, -49.11, -7.294)]"
      ]
     },
     "execution_count": 94,
     "metadata": {},
     "output_type": "execute_result"
    }
   ],
   "source": [
    "%%sql\n",
    "SELECT * FROM economies\n",
    "WHERE year = 2015\n",
    "LIMIT 1"
   ]
  },
  {
   "cell_type": "markdown",
   "metadata": {},
   "source": [
    "____"
   ]
  },
  {
   "cell_type": "markdown",
   "metadata": {},
   "source": [
    "- Use a subquery to get 2015 economic data (inflation & unemployment) for countries that do not have\n",
    "    - gov_form of 'Constitutional Monarchy' or \n",
    "    - 'Republic' in their 'gov_form'"
   ]
  },
  {
   "cell_type": "code",
   "execution_count": 70,
   "metadata": {},
   "outputs": [
    {
     "name": "stdout",
     "output_type": "stream",
     "text": [
      " * postgresql://localhost/countries\n",
      "21 rows affected.\n"
     ]
    },
    {
     "data": {
      "text/html": [
       "<table>\n",
       "    <tr>\n",
       "        <th>name</th>\n",
       "        <th>gov_form</th>\n",
       "        <th>inflation_rate</th>\n",
       "        <th>unemployment_rate</th>\n",
       "    </tr>\n",
       "    <tr>\n",
       "        <td>Afghanistan</td>\n",
       "        <td>Islamic Emirate</td>\n",
       "        <td>-1.549</td>\n",
       "        <td>None</td>\n",
       "    </tr>\n",
       "    <tr>\n",
       "        <td>Switzerland</td>\n",
       "        <td>Federation</td>\n",
       "        <td>-1.14</td>\n",
       "        <td>3.178</td>\n",
       "    </tr>\n",
       "    <tr>\n",
       "        <td>Puerto Rico</td>\n",
       "        <td>Commonwealth of the US</td>\n",
       "        <td>-0.751</td>\n",
       "        <td>12.0</td>\n",
       "    </tr>\n",
       "    <tr>\n",
       "        <td>Brunei</td>\n",
       "        <td>Monarchy (Sultanate)</td>\n",
       "        <td>-0.423</td>\n",
       "        <td>6.9</td>\n",
       "    </tr>\n",
       "    <tr>\n",
       "        <td>Tonga</td>\n",
       "        <td>Monarchy</td>\n",
       "        <td>-0.283</td>\n",
       "        <td>None</td>\n",
       "    </tr>\n",
       "    <tr>\n",
       "        <td>Oman</td>\n",
       "        <td>Monarchy (Sultanate)</td>\n",
       "        <td>0.065</td>\n",
       "        <td>None</td>\n",
       "    </tr>\n",
       "    <tr>\n",
       "        <td>Belgium</td>\n",
       "        <td>Constitutional Monarchy, Federation</td>\n",
       "        <td>0.62</td>\n",
       "        <td>8.492</td>\n",
       "    </tr>\n",
       "    <tr>\n",
       "        <td>Canada</td>\n",
       "        <td>Constitutional Monarchy, Federation</td>\n",
       "        <td>1.132</td>\n",
       "        <td>6.9</td>\n",
       "    </tr>\n",
       "    <tr>\n",
       "        <td>Australia</td>\n",
       "        <td>Constitutional Monarchy, Federation</td>\n",
       "        <td>1.461</td>\n",
       "        <td>6.058</td>\n",
       "    </tr>\n",
       "    <tr>\n",
       "        <td>Qatar</td>\n",
       "        <td>Monarchy</td>\n",
       "        <td>1.814</td>\n",
       "        <td>None</td>\n",
       "    </tr>\n",
       "    <tr>\n",
       "        <td>Bahrain</td>\n",
       "        <td>Monarchy (Emirate)</td>\n",
       "        <td>1.836</td>\n",
       "        <td>None</td>\n",
       "    </tr>\n",
       "    <tr>\n",
       "        <td>Samoa</td>\n",
       "        <td>Parlementary Monarchy</td>\n",
       "        <td>1.923</td>\n",
       "        <td>None</td>\n",
       "    </tr>\n",
       "    <tr>\n",
       "        <td>Malaysia</td>\n",
       "        <td>Constitutional Monarchy, Federation</td>\n",
       "        <td>2.104</td>\n",
       "        <td>3.1</td>\n",
       "    </tr>\n",
       "    <tr>\n",
       "        <td>Saudi Arabia</td>\n",
       "        <td>Monarchy</td>\n",
       "        <td>2.189</td>\n",
       "        <td>5.591</td>\n",
       "    </tr>\n",
       "    <tr>\n",
       "        <td>Hong Kong</td>\n",
       "        <td>Special Administrative Region of China</td>\n",
       "        <td>3.037</td>\n",
       "        <td>3.296</td>\n",
       "    </tr>\n",
       "    <tr>\n",
       "        <td>Kuwait</td>\n",
       "        <td>Constitutional Monarchy (Emirate)</td>\n",
       "        <td>3.233</td>\n",
       "        <td>2.072</td>\n",
       "    </tr>\n",
       "    <tr>\n",
       "        <td>United Arab Emirates</td>\n",
       "        <td>Emirate Federation</td>\n",
       "        <td>4.07</td>\n",
       "        <td>None</td>\n",
       "    </tr>\n",
       "    <tr>\n",
       "        <td>Macao</td>\n",
       "        <td>Special Administrative Region of China</td>\n",
       "        <td>4.564</td>\n",
       "        <td>1.825</td>\n",
       "    </tr>\n",
       "    <tr>\n",
       "        <td>Swaziland</td>\n",
       "        <td>Monarchy</td>\n",
       "        <td>4.96</td>\n",
       "        <td>None</td>\n",
       "    </tr>\n",
       "    <tr>\n",
       "        <td>Bhutan</td>\n",
       "        <td>Monarchy</td>\n",
       "        <td>6.336</td>\n",
       "        <td>3.2</td>\n",
       "    </tr>\n",
       "    <tr>\n",
       "        <td>Libya</td>\n",
       "        <td>Socialistic State</td>\n",
       "        <td>9.839</td>\n",
       "        <td>None</td>\n",
       "    </tr>\n",
       "</table>"
      ],
      "text/plain": [
       "[('Afghanistan', 'Islamic Emirate', -1.549, None),\n",
       " ('Switzerland', 'Federation', -1.14, 3.178),\n",
       " ('Puerto Rico', 'Commonwealth of the US', -0.751, 12.0),\n",
       " ('Brunei', 'Monarchy (Sultanate)', -0.423, 6.9),\n",
       " ('Tonga', 'Monarchy', -0.283, None),\n",
       " ('Oman', 'Monarchy (Sultanate)', 0.065, None),\n",
       " ('Belgium', 'Constitutional Monarchy, Federation', 0.62, 8.492),\n",
       " ('Canada', 'Constitutional Monarchy, Federation', 1.132, 6.9),\n",
       " ('Australia', 'Constitutional Monarchy, Federation', 1.461, 6.058),\n",
       " ('Qatar', 'Monarchy', 1.814, None),\n",
       " ('Bahrain', 'Monarchy (Emirate)', 1.836, None),\n",
       " ('Samoa', 'Parlementary Monarchy', 1.923, None),\n",
       " ('Malaysia', 'Constitutional Monarchy, Federation', 2.104, 3.1),\n",
       " ('Saudi Arabia', 'Monarchy', 2.189, 5.591),\n",
       " ('Hong Kong', 'Special Administrative Region of China', 3.037, 3.296),\n",
       " ('Kuwait', 'Constitutional Monarchy (Emirate)', 3.233, 2.072),\n",
       " ('United Arab Emirates', 'Emirate Federation', 4.07, None),\n",
       " ('Macao', 'Special Administrative Region of China', 4.564, 1.825),\n",
       " ('Swaziland', 'Monarchy', 4.96, None),\n",
       " ('Bhutan', 'Monarchy', 6.336, 3.2),\n",
       " ('Libya', 'Socialistic State', 9.839, None)]"
      ]
     },
     "execution_count": 70,
     "metadata": {},
     "output_type": "execute_result"
    }
   ],
   "source": [
    "%%sql\n",
    "SELECT name, gov_form, subquery.inflation_rate, subquery.unemployment_rate\n",
    "FROM countries,\n",
    "    (SELECT code, inflation_rate, unemployment_rate \n",
    "    FROM economies\n",
    "    WHERE year = 2015) AS subquery\n",
    "WHERE gov_form <> 'Constitutional Monarchy'\n",
    "AND gov_form NOT LIKE '%Republic%'\n",
    "AND countries.code = subquery.code\n",
    "ORDER BY subquery.inflation_rate"
   ]
  },
  {
   "cell_type": "markdown",
   "metadata": {},
   "source": [
    "- DataCamp's Answer. This is wrong because it selects countries tha are not in the countries table. \n",
    "- My answer says give economic data ONLY on the list of countries from the countries table that have gov_form <> Constitutional Monarchy' and not like '%Republic%'\n",
    "- Theirs says give economic data on countries that are not in the list of countries (from the countries table) that have gov_form = 'Constitutional Monarchy' or like '%Republic%'\n",
    "- If both countries and economies tables had the exact amoutn of countries it would be fine, but the 'economies table' has countries that are not in the 'countries table' and their solution includes said countries"
   ]
  },
  {
   "cell_type": "code",
   "execution_count": 98,
   "metadata": {},
   "outputs": [
    {
     "name": "stdout",
     "output_type": "stream",
     "text": [
      " * postgresql://localhost/countries\n",
      "26 rows affected.\n"
     ]
    },
    {
     "data": {
      "text/html": [
       "<table>\n",
       "    <tr>\n",
       "        <th>code</th>\n",
       "        <th>inflation_rate</th>\n",
       "        <th>unemployment_rate</th>\n",
       "    </tr>\n",
       "    <tr>\n",
       "        <td>AFG</td>\n",
       "        <td>-1.549</td>\n",
       "        <td>None</td>\n",
       "    </tr>\n",
       "    <tr>\n",
       "        <td>CHE</td>\n",
       "        <td>-1.14</td>\n",
       "        <td>3.178</td>\n",
       "    </tr>\n",
       "    <tr>\n",
       "        <td>PRI</td>\n",
       "        <td>-0.751</td>\n",
       "        <td>12.0</td>\n",
       "    </tr>\n",
       "    <tr>\n",
       "        <td>ROU</td>\n",
       "        <td>-0.596</td>\n",
       "        <td>6.812</td>\n",
       "    </tr>\n",
       "    <tr>\n",
       "        <td>BRN</td>\n",
       "        <td>-0.423</td>\n",
       "        <td>6.9</td>\n",
       "    </tr>\n",
       "    <tr>\n",
       "        <td>TON</td>\n",
       "        <td>-0.283</td>\n",
       "        <td>None</td>\n",
       "    </tr>\n",
       "    <tr>\n",
       "        <td>OMN</td>\n",
       "        <td>0.065</td>\n",
       "        <td>None</td>\n",
       "    </tr>\n",
       "    <tr>\n",
       "        <td>TLS</td>\n",
       "        <td>0.553</td>\n",
       "        <td>None</td>\n",
       "    </tr>\n",
       "    <tr>\n",
       "        <td>BEL</td>\n",
       "        <td>0.62</td>\n",
       "        <td>8.492</td>\n",
       "    </tr>\n",
       "    <tr>\n",
       "        <td>CAN</td>\n",
       "        <td>1.132</td>\n",
       "        <td>6.9</td>\n",
       "    </tr>\n",
       "    <tr>\n",
       "        <td>MNE</td>\n",
       "        <td>1.204</td>\n",
       "        <td>None</td>\n",
       "    </tr>\n",
       "    <tr>\n",
       "        <td>SRB</td>\n",
       "        <td>1.392</td>\n",
       "        <td>18.2</td>\n",
       "    </tr>\n",
       "    <tr>\n",
       "        <td>AUS</td>\n",
       "        <td>1.461</td>\n",
       "        <td>6.058</td>\n",
       "    </tr>\n",
       "    <tr>\n",
       "        <td>QAT</td>\n",
       "        <td>1.814</td>\n",
       "        <td>None</td>\n",
       "    </tr>\n",
       "    <tr>\n",
       "        <td>BHR</td>\n",
       "        <td>1.836</td>\n",
       "        <td>None</td>\n",
       "    </tr>\n",
       "    <tr>\n",
       "        <td>WSM</td>\n",
       "        <td>1.923</td>\n",
       "        <td>None</td>\n",
       "    </tr>\n",
       "    <tr>\n",
       "        <td>MYS</td>\n",
       "        <td>2.104</td>\n",
       "        <td>3.1</td>\n",
       "    </tr>\n",
       "    <tr>\n",
       "        <td>SAU</td>\n",
       "        <td>2.189</td>\n",
       "        <td>5.591</td>\n",
       "    </tr>\n",
       "    <tr>\n",
       "        <td>HKG</td>\n",
       "        <td>3.037</td>\n",
       "        <td>3.296</td>\n",
       "    </tr>\n",
       "    <tr>\n",
       "        <td>KWT</td>\n",
       "        <td>3.233</td>\n",
       "        <td>2.072</td>\n",
       "    </tr>\n",
       "    <tr>\n",
       "        <td>ARE</td>\n",
       "        <td>4.07</td>\n",
       "        <td>None</td>\n",
       "    </tr>\n",
       "    <tr>\n",
       "        <td>MAC</td>\n",
       "        <td>4.564</td>\n",
       "        <td>1.825</td>\n",
       "    </tr>\n",
       "    <tr>\n",
       "        <td>SWZ</td>\n",
       "        <td>4.96</td>\n",
       "        <td>None</td>\n",
       "    </tr>\n",
       "    <tr>\n",
       "        <td>BTN</td>\n",
       "        <td>6.336</td>\n",
       "        <td>3.2</td>\n",
       "    </tr>\n",
       "    <tr>\n",
       "        <td>LBY</td>\n",
       "        <td>9.839</td>\n",
       "        <td>None</td>\n",
       "    </tr>\n",
       "    <tr>\n",
       "        <td>SSD</td>\n",
       "        <td>52.813</td>\n",
       "        <td>None</td>\n",
       "    </tr>\n",
       "</table>"
      ],
      "text/plain": [
       "[('AFG', -1.549, None),\n",
       " ('CHE', -1.14, 3.178),\n",
       " ('PRI', -0.751, 12.0),\n",
       " ('ROU', -0.596, 6.812),\n",
       " ('BRN', -0.423, 6.9),\n",
       " ('TON', -0.283, None),\n",
       " ('OMN', 0.065, None),\n",
       " ('TLS', 0.553, None),\n",
       " ('BEL', 0.62, 8.492),\n",
       " ('CAN', 1.132, 6.9),\n",
       " ('MNE', 1.204, None),\n",
       " ('SRB', 1.392, 18.2),\n",
       " ('AUS', 1.461, 6.058),\n",
       " ('QAT', 1.814, None),\n",
       " ('BHR', 1.836, None),\n",
       " ('WSM', 1.923, None),\n",
       " ('MYS', 2.104, 3.1),\n",
       " ('SAU', 2.189, 5.591),\n",
       " ('HKG', 3.037, 3.296),\n",
       " ('KWT', 3.233, 2.072),\n",
       " ('ARE', 4.07, None),\n",
       " ('MAC', 4.564, 1.825),\n",
       " ('SWZ', 4.96, None),\n",
       " ('BTN', 6.336, 3.2),\n",
       " ('LBY', 9.839, None),\n",
       " ('SSD', 52.813, None)]"
      ]
     },
     "execution_count": 98,
     "metadata": {},
     "output_type": "execute_result"
    }
   ],
   "source": [
    "%%sql\n",
    "SELECT economies.code, inflation_rate, unemployment_rate\n",
    "FROM economies\n",
    "WHERE year = 2015\n",
    "AND economies.code NOT IN\n",
    "   (SELECT code\n",
    "   FROM countries\n",
    "   WHERE (gov_form  = 'Constitutional Monarchy' OR gov_form LIKE '%Republic%'))\n",
    "ORDER BY inflation_rate;"
   ]
  },
  {
   "cell_type": "markdown",
   "metadata": {},
   "source": [
    "___"
   ]
  },
  {
   "cell_type": "markdown",
   "metadata": {},
   "source": [
    "## 3. Subquery Challenge 3"
   ]
  },
  {
   "cell_type": "markdown",
   "metadata": {},
   "source": [
    "- 2015 economic data (investment & imports) on countries in Central America with and official language"
   ]
  },
  {
   "cell_type": "code",
   "execution_count": 108,
   "metadata": {},
   "outputs": [
    {
     "name": "stdout",
     "output_type": "stream",
     "text": [
      " * postgresql://localhost/countries\n",
      "7 rows affected.\n"
     ]
    },
    {
     "data": {
      "text/html": [
       "<table>\n",
       "    <tr>\n",
       "        <th>name</th>\n",
       "        <th>total_investment</th>\n",
       "        <th>imports</th>\n",
       "    </tr>\n",
       "    <tr>\n",
       "        <td>Belize</td>\n",
       "        <td>22.014</td>\n",
       "        <td>6.743</td>\n",
       "    </tr>\n",
       "    <tr>\n",
       "        <td>Costa Rica</td>\n",
       "        <td>20.218</td>\n",
       "        <td>4.629</td>\n",
       "    </tr>\n",
       "    <tr>\n",
       "        <td>El Salvador</td>\n",
       "        <td>13.983</td>\n",
       "        <td>8.193</td>\n",
       "    </tr>\n",
       "    <tr>\n",
       "        <td>Guatemala</td>\n",
       "        <td>13.433</td>\n",
       "        <td>15.124</td>\n",
       "    </tr>\n",
       "    <tr>\n",
       "        <td>Honduras</td>\n",
       "        <td>24.633</td>\n",
       "        <td>9.353</td>\n",
       "    </tr>\n",
       "    <tr>\n",
       "        <td>Nicaragua</td>\n",
       "        <td>31.862</td>\n",
       "        <td>11.665</td>\n",
       "    </tr>\n",
       "    <tr>\n",
       "        <td>Panama</td>\n",
       "        <td>46.557</td>\n",
       "        <td>5.898</td>\n",
       "    </tr>\n",
       "</table>"
      ],
      "text/plain": [
       "[('Belize', 22.014, 6.743),\n",
       " ('Costa Rica', 20.218, 4.629),\n",
       " ('El Salvador', 13.983, 8.193),\n",
       " ('Guatemala', 13.433, 15.124),\n",
       " ('Honduras', 24.633, 9.353),\n",
       " ('Nicaragua', 31.862, 11.665),\n",
       " ('Panama', 46.557, 5.898)]"
      ]
     },
     "execution_count": 108,
     "metadata": {},
     "output_type": "execute_result"
    }
   ],
   "source": [
    "%%sql\n",
    "SELECT DISTINCT c.name, e.total_investment,e.imports\n",
    "FROM countries AS c\n",
    "    LEFT JOIN economies AS e\n",
    "        ON (c.code = e.code)\n",
    "        AND c.code IN \n",
    "        ( SELECT l.code\n",
    "          FROM languages AS l\n",
    "          WHERE l.official = True) \n",
    "WHERE c.region = 'Central America' AND year = 2015\n",
    "ORDER BY c.name;"
   ]
  },
  {
   "cell_type": "markdown",
   "metadata": {},
   "source": [
    "___"
   ]
  },
  {
   "cell_type": "markdown",
   "metadata": {},
   "source": [
    "## 4. Subquery Challenge 4"
   ]
  },
  {
   "cell_type": "markdown",
   "metadata": {},
   "source": [
    "- Average fertility rate in 2015"
   ]
  },
  {
   "cell_type": "code",
   "execution_count": 115,
   "metadata": {},
   "outputs": [
    {
     "name": "stdout",
     "output_type": "stream",
     "text": [
      " * postgresql://localhost/countries\n",
      "23 rows affected.\n"
     ]
    },
    {
     "data": {
      "text/html": [
       "<table>\n",
       "    <tr>\n",
       "        <th>region</th>\n",
       "        <th>continent</th>\n",
       "        <th>avg_fert_rate</th>\n",
       "    </tr>\n",
       "    <tr>\n",
       "        <td>Southern Europe</td>\n",
       "        <td>Europe</td>\n",
       "        <td>1.4261000037193299</td>\n",
       "    </tr>\n",
       "    <tr>\n",
       "        <td>Eastern Europe</td>\n",
       "        <td>Europe</td>\n",
       "        <td>1.490888900227017</td>\n",
       "    </tr>\n",
       "    <tr>\n",
       "        <td>Baltic Countries</td>\n",
       "        <td>Europe</td>\n",
       "        <td>1.603333314259847</td>\n",
       "    </tr>\n",
       "    <tr>\n",
       "        <td>Eastern Asia</td>\n",
       "        <td>Asia</td>\n",
       "        <td>1.6207143068313599</td>\n",
       "    </tr>\n",
       "    <tr>\n",
       "        <td>Western Europe</td>\n",
       "        <td>Europe</td>\n",
       "        <td>1.6325000077486038</td>\n",
       "    </tr>\n",
       "    <tr>\n",
       "        <td>North America</td>\n",
       "        <td>North America</td>\n",
       "        <td>1.7657500207424164</td>\n",
       "    </tr>\n",
       "    <tr>\n",
       "        <td>British Islands</td>\n",
       "        <td>Europe</td>\n",
       "        <td>1.875</td>\n",
       "    </tr>\n",
       "    <tr>\n",
       "        <td>Nordic Countries</td>\n",
       "        <td>Europe</td>\n",
       "        <td>1.8933333555857341</td>\n",
       "    </tr>\n",
       "    <tr>\n",
       "        <td>Australia and New Zealand</td>\n",
       "        <td>Oceania</td>\n",
       "        <td>1.9114999771118164</td>\n",
       "    </tr>\n",
       "    <tr>\n",
       "        <td>Caribbean</td>\n",
       "        <td>North America</td>\n",
       "        <td>1.9505714348384313</td>\n",
       "    </tr>\n",
       "    <tr>\n",
       "        <td>Southeast Asia</td>\n",
       "        <td>Asia</td>\n",
       "        <td>2.156000018119812</td>\n",
       "    </tr>\n",
       "    <tr>\n",
       "        <td>South America</td>\n",
       "        <td>South America</td>\n",
       "        <td>2.274750014146169</td>\n",
       "    </tr>\n",
       "    <tr>\n",
       "        <td>Central America</td>\n",
       "        <td>North America</td>\n",
       "        <td>2.3263749927282333</td>\n",
       "    </tr>\n",
       "    <tr>\n",
       "        <td>Middle East</td>\n",
       "        <td>Asia</td>\n",
       "        <td>2.547055568959978</td>\n",
       "    </tr>\n",
       "    <tr>\n",
       "        <td>Southern and Central Asia</td>\n",
       "        <td>Asia</td>\n",
       "        <td>2.6341428586414883</td>\n",
       "    </tr>\n",
       "    <tr>\n",
       "        <td>Micronesia</td>\n",
       "        <td>Oceania</td>\n",
       "        <td>2.864750027656555</td>\n",
       "    </tr>\n",
       "    <tr>\n",
       "        <td>Northern Africa</td>\n",
       "        <td>Africa</td>\n",
       "        <td>2.9081666469573975</td>\n",
       "    </tr>\n",
       "    <tr>\n",
       "        <td>Southern Africa</td>\n",
       "        <td>Africa</td>\n",
       "        <td>2.9907999992370606</td>\n",
       "    </tr>\n",
       "    <tr>\n",
       "        <td>Melanesia</td>\n",
       "        <td>Oceania</td>\n",
       "        <td>3.1357999801635743</td>\n",
       "    </tr>\n",
       "    <tr>\n",
       "        <td>Polynesia</td>\n",
       "        <td>Oceania</td>\n",
       "        <td>3.244333267211914</td>\n",
       "    </tr>\n",
       "    <tr>\n",
       "        <td>Eastern Africa</td>\n",
       "        <td>Africa</td>\n",
       "        <td>4.386705868384418</td>\n",
       "    </tr>\n",
       "    <tr>\n",
       "        <td>Western Africa</td>\n",
       "        <td>Africa</td>\n",
       "        <td>4.960124984383583</td>\n",
       "    </tr>\n",
       "    <tr>\n",
       "        <td>Central Africa</td>\n",
       "        <td>Africa</td>\n",
       "        <td>4.967888832092285</td>\n",
       "    </tr>\n",
       "</table>"
      ],
      "text/plain": [
       "[('Southern Europe', 'Europe', 1.4261000037193299),\n",
       " ('Eastern Europe', 'Europe', 1.490888900227017),\n",
       " ('Baltic Countries', 'Europe', 1.603333314259847),\n",
       " ('Eastern Asia', 'Asia', 1.6207143068313599),\n",
       " ('Western Europe', 'Europe', 1.6325000077486038),\n",
       " ('North America', 'North America', 1.7657500207424164),\n",
       " ('British Islands', 'Europe', 1.875),\n",
       " ('Nordic Countries', 'Europe', 1.8933333555857341),\n",
       " ('Australia and New Zealand', 'Oceania', 1.9114999771118164),\n",
       " ('Caribbean', 'North America', 1.9505714348384313),\n",
       " ('Southeast Asia', 'Asia', 2.156000018119812),\n",
       " ('South America', 'South America', 2.274750014146169),\n",
       " ('Central America', 'North America', 2.3263749927282333),\n",
       " ('Middle East', 'Asia', 2.547055568959978),\n",
       " ('Southern and Central Asia', 'Asia', 2.6341428586414883),\n",
       " ('Micronesia', 'Oceania', 2.864750027656555),\n",
       " ('Northern Africa', 'Africa', 2.9081666469573975),\n",
       " ('Southern Africa', 'Africa', 2.9907999992370606),\n",
       " ('Melanesia', 'Oceania', 3.1357999801635743),\n",
       " ('Polynesia', 'Oceania', 3.244333267211914),\n",
       " ('Eastern Africa', 'Africa', 4.386705868384418),\n",
       " ('Western Africa', 'Africa', 4.960124984383583),\n",
       " ('Central Africa', 'Africa', 4.967888832092285)]"
      ]
     },
     "execution_count": 115,
     "metadata": {},
     "output_type": "execute_result"
    }
   ],
   "source": [
    "%%sql\n",
    "SELECT c.region, c.continent, AVG(fertility_rate) AS avg_fert_rate\n",
    "FROM countries AS c\n",
    "    INNER JOIN populations AS p\n",
    "        ON c.code = p.country_code\n",
    "        WHERE year = 2015\n",
    "GROUP BY c.region, c.continent\n",
    "ORDER BY avg_fert_rate;"
   ]
  },
  {
   "cell_type": "markdown",
   "metadata": {},
   "source": [
    "___"
   ]
  },
  {
   "cell_type": "markdown",
   "metadata": {},
   "source": [
    "## 5. Subquery Challenge 5"
   ]
  },
  {
   "cell_type": "markdown",
   "metadata": {},
   "source": [
    "- Top 10 capital cities in Europe and the Americas in terms of a calculated percentage using city_proper_pop and metroarea_pop in cities.\n",
    "- percentage of metro area population composed of city proper population for each city "
   ]
  },
  {
   "cell_type": "code",
   "execution_count": 132,
   "metadata": {},
   "outputs": [
    {
     "name": "stdout",
     "output_type": "stream",
     "text": [
      " * postgresql://localhost/countries\n",
      "10 rows affected.\n"
     ]
    },
    {
     "data": {
      "text/html": [
       "<table>\n",
       "    <tr>\n",
       "        <th>name</th>\n",
       "        <th>country_code</th>\n",
       "        <th>city_proper_pop</th>\n",
       "        <th>metroarea_pop</th>\n",
       "        <th>city_perc</th>\n",
       "    </tr>\n",
       "    <tr>\n",
       "        <td>Lima</td>\n",
       "        <td>PER</td>\n",
       "        <td>8852000.0</td>\n",
       "        <td>10750000.0</td>\n",
       "        <td>82.34418630599976</td>\n",
       "    </tr>\n",
       "    <tr>\n",
       "        <td>Bogota</td>\n",
       "        <td>COL</td>\n",
       "        <td>7878783.0</td>\n",
       "        <td>9800000.0</td>\n",
       "        <td>80.3957462310791</td>\n",
       "    </tr>\n",
       "    <tr>\n",
       "        <td>Moscow</td>\n",
       "        <td>RUS</td>\n",
       "        <td>12197596.0</td>\n",
       "        <td>16170000.0</td>\n",
       "        <td>75.43349266052246</td>\n",
       "    </tr>\n",
       "    <tr>\n",
       "        <td>Vienna</td>\n",
       "        <td>AUT</td>\n",
       "        <td>1863881.0</td>\n",
       "        <td>2600000.0</td>\n",
       "        <td>71.6877281665802</td>\n",
       "    </tr>\n",
       "    <tr>\n",
       "        <td>Montevideo</td>\n",
       "        <td>URY</td>\n",
       "        <td>1305082.0</td>\n",
       "        <td>1947604.0</td>\n",
       "        <td>67.00961589813232</td>\n",
       "    </tr>\n",
       "    <tr>\n",
       "        <td>Caracas</td>\n",
       "        <td>VEN</td>\n",
       "        <td>1943901.0</td>\n",
       "        <td>2923959.0</td>\n",
       "        <td>66.48181676864624</td>\n",
       "    </tr>\n",
       "    <tr>\n",
       "        <td>Rome</td>\n",
       "        <td>ITA</td>\n",
       "        <td>2877215.0</td>\n",
       "        <td>4353775.0</td>\n",
       "        <td>66.0855233669281</td>\n",
       "    </tr>\n",
       "    <tr>\n",
       "        <td>Brasilia</td>\n",
       "        <td>BRA</td>\n",
       "        <td>2556149.0</td>\n",
       "        <td>3919864.0</td>\n",
       "        <td>65.2101457118988</td>\n",
       "    </tr>\n",
       "    <tr>\n",
       "        <td>London</td>\n",
       "        <td>GBR</td>\n",
       "        <td>8673713.0</td>\n",
       "        <td>13879757.0</td>\n",
       "        <td>62.491822242736816</td>\n",
       "    </tr>\n",
       "    <tr>\n",
       "        <td>Budapest</td>\n",
       "        <td>HUN</td>\n",
       "        <td>1759407.0</td>\n",
       "        <td>2927944.0</td>\n",
       "        <td>60.09018421173096</td>\n",
       "    </tr>\n",
       "</table>"
      ],
      "text/plain": [
       "[('Lima', 'PER', 8852000.0, 10750000.0, 82.34418630599976),\n",
       " ('Bogota', 'COL', 7878783.0, 9800000.0, 80.3957462310791),\n",
       " ('Moscow', 'RUS', 12197596.0, 16170000.0, 75.43349266052246),\n",
       " ('Vienna', 'AUT', 1863881.0, 2600000.0, 71.6877281665802),\n",
       " ('Montevideo', 'URY', 1305082.0, 1947604.0, 67.00961589813232),\n",
       " ('Caracas', 'VEN', 1943901.0, 2923959.0, 66.48181676864624),\n",
       " ('Rome', 'ITA', 2877215.0, 4353775.0, 66.0855233669281),\n",
       " ('Brasilia', 'BRA', 2556149.0, 3919864.0, 65.2101457118988),\n",
       " ('London', 'GBR', 8673713.0, 13879757.0, 62.491822242736816),\n",
       " ('Budapest', 'HUN', 1759407.0, 2927944.0, 60.09018421173096)]"
      ]
     },
     "execution_count": 132,
     "metadata": {},
     "output_type": "execute_result"
    }
   ],
   "source": [
    "%%sql\n",
    "SELECT name, country_code, city_proper_pop, metroarea_pop, city_proper_pop / metroarea_pop * 100 AS city_perc\n",
    "FROM cities\n",
    "WHERE name IN\n",
    "    (SELECT capital\n",
    "     FROM countries\n",
    "     WHERE continent = 'Europe' OR countries.continent LIKE '%America')\n",
    "AND metroarea_pop IS NOT NULL\n",
    "ORDER BY city_perc DESC\n",
    "LIMIT 10;\n"
   ]
  },
  {
   "cell_type": "code",
   "execution_count": null,
   "metadata": {},
   "outputs": [],
   "source": []
  }
 ],
 "metadata": {
  "kernelspec": {
   "display_name": "Python 3",
   "language": "python",
   "name": "python3"
  },
  "language_info": {
   "codemirror_mode": {
    "name": "ipython",
    "version": 3
   },
   "file_extension": ".py",
   "mimetype": "text/x-python",
   "name": "python",
   "nbconvert_exporter": "python",
   "pygments_lexer": "ipython3",
   "version": "3.7.4"
  }
 },
 "nbformat": 4,
 "nbformat_minor": 2
}
