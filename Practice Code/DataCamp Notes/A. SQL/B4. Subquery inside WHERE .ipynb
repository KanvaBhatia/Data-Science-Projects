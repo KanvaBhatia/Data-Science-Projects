{
 "cells": [
  {
   "cell_type": "markdown",
   "metadata": {},
   "source": [
    "# SQL Cheat Sheet\n",
    "SUBQUERIES | "
   ]
  },
  {
   "cell_type": "markdown",
   "metadata": {},
   "source": [
    "- Connecting to Database"
   ]
  },
  {
   "cell_type": "code",
   "execution_count": 1,
   "metadata": {},
   "outputs": [],
   "source": [
    "reload_ext sql"
   ]
  },
  {
   "cell_type": "code",
   "execution_count": 2,
   "metadata": {},
   "outputs": [
    {
     "data": {
      "text/plain": [
       "'Connected: @leaders'"
      ]
     },
     "execution_count": 2,
     "metadata": {},
     "output_type": "execute_result"
    }
   ],
   "source": [
    "%%sql\n",
    "postgresql://localhost/leaders"
   ]
  },
  {
   "cell_type": "code",
   "execution_count": 3,
   "metadata": {},
   "outputs": [
    {
     "name": "stdout",
     "output_type": "stream",
     "text": [
      " * postgresql://localhost/leaders\n",
      "13 rows affected.\n"
     ]
    },
    {
     "data": {
      "text/html": [
       "<table>\n",
       "    <tr>\n",
       "        <th>name</th>\n",
       "        <th>continent</th>\n",
       "        <th>indep_year</th>\n",
       "        <th>fert_rate</th>\n",
       "        <th>women_parli_perc</th>\n",
       "    </tr>\n",
       "    <tr>\n",
       "        <td>Australia</td>\n",
       "        <td>Oceania</td>\n",
       "        <td>1901</td>\n",
       "        <td>1.88</td>\n",
       "        <td>32.74</td>\n",
       "    </tr>\n",
       "    <tr>\n",
       "        <td>Brunei</td>\n",
       "        <td>Asia</td>\n",
       "        <td>1984</td>\n",
       "        <td>1.96</td>\n",
       "        <td>6.06</td>\n",
       "    </tr>\n",
       "    <tr>\n",
       "        <td>Chile</td>\n",
       "        <td>South America</td>\n",
       "        <td>1810</td>\n",
       "        <td>1.8</td>\n",
       "        <td>15.82</td>\n",
       "    </tr>\n",
       "    <tr>\n",
       "        <td>Egypt</td>\n",
       "        <td>Africa</td>\n",
       "        <td>1922</td>\n",
       "        <td>2.7</td>\n",
       "        <td>14.9</td>\n",
       "    </tr>\n",
       "    <tr>\n",
       "        <td>Haiti</td>\n",
       "        <td>North America</td>\n",
       "        <td>1804</td>\n",
       "        <td>3.03</td>\n",
       "        <td>2.74</td>\n",
       "    </tr>\n",
       "    <tr>\n",
       "        <td>India</td>\n",
       "        <td>Asia</td>\n",
       "        <td>1947</td>\n",
       "        <td>2.43</td>\n",
       "        <td>11.58</td>\n",
       "    </tr>\n",
       "    <tr>\n",
       "        <td>Liberia</td>\n",
       "        <td>Africa</td>\n",
       "        <td>1847</td>\n",
       "        <td>4.64</td>\n",
       "        <td>11.65</td>\n",
       "    </tr>\n",
       "    <tr>\n",
       "        <td>Norway</td>\n",
       "        <td>Europe</td>\n",
       "        <td>1905</td>\n",
       "        <td>1.93</td>\n",
       "        <td>39.6</td>\n",
       "    </tr>\n",
       "    <tr>\n",
       "        <td>Oman</td>\n",
       "        <td>Asia</td>\n",
       "        <td>1951</td>\n",
       "        <td>2.75</td>\n",
       "        <td>8.82</td>\n",
       "    </tr>\n",
       "    <tr>\n",
       "        <td>Portugal</td>\n",
       "        <td>Europe</td>\n",
       "        <td>1143</td>\n",
       "        <td>1.31</td>\n",
       "        <td>34.8</td>\n",
       "    </tr>\n",
       "    <tr>\n",
       "        <td>Spain</td>\n",
       "        <td>Europe</td>\n",
       "        <td>1492</td>\n",
       "        <td>1.53</td>\n",
       "        <td>38.64</td>\n",
       "    </tr>\n",
       "    <tr>\n",
       "        <td>Uruguay</td>\n",
       "        <td>South America</td>\n",
       "        <td>1828</td>\n",
       "        <td>2.03</td>\n",
       "        <td>22.31</td>\n",
       "    </tr>\n",
       "    <tr>\n",
       "        <td>Vietnam</td>\n",
       "        <td>Asia</td>\n",
       "        <td>1945</td>\n",
       "        <td>1.7</td>\n",
       "        <td>24.0</td>\n",
       "    </tr>\n",
       "</table>"
      ],
      "text/plain": [
       "[('Australia', 'Oceania', 1901, 1.88, 32.74),\n",
       " ('Brunei', 'Asia', 1984, 1.96, 6.06),\n",
       " ('Chile', 'South America', 1810, 1.8, 15.82),\n",
       " ('Egypt', 'Africa', 1922, 2.7, 14.9),\n",
       " ('Haiti', 'North America', 1804, 3.03, 2.74),\n",
       " ('India', 'Asia', 1947, 2.43, 11.58),\n",
       " ('Liberia', 'Africa', 1847, 4.64, 11.65),\n",
       " ('Norway', 'Europe', 1905, 1.93, 39.6),\n",
       " ('Oman', 'Asia', 1951, 2.75, 8.82),\n",
       " ('Portugal', 'Europe', 1143, 1.31, 34.8),\n",
       " ('Spain', 'Europe', 1492, 1.53, 38.64),\n",
       " ('Uruguay', 'South America', 1828, 2.03, 22.31),\n",
       " ('Vietnam', 'Asia', 1945, 1.7, 24.0)]"
      ]
     },
     "execution_count": 3,
     "metadata": {},
     "output_type": "execute_result"
    }
   ],
   "source": [
    "%%sql\n",
    "SELECT * FROM states"
   ]
  },
  {
   "cell_type": "markdown",
   "metadata": {},
   "source": [
    "___"
   ]
  },
  {
   "cell_type": "markdown",
   "metadata": {},
   "source": [
    "## 1. Subquery Inside WHERE"
   ]
  },
  {
   "cell_type": "markdown",
   "metadata": {},
   "source": [
    "- Select the number of countries who's fertility_rate is less than the average"
   ]
  },
  {
   "cell_type": "code",
   "execution_count": 4,
   "metadata": {},
   "outputs": [
    {
     "name": "stdout",
     "output_type": "stream",
     "text": [
      " * postgresql://localhost/leaders\n",
      "8 rows affected.\n"
     ]
    },
    {
     "data": {
      "text/html": [
       "<table>\n",
       "    <tr>\n",
       "        <th>name</th>\n",
       "        <th>fert_rate</th>\n",
       "    </tr>\n",
       "    <tr>\n",
       "        <td>Australia</td>\n",
       "        <td>1.88</td>\n",
       "    </tr>\n",
       "    <tr>\n",
       "        <td>Brunei</td>\n",
       "        <td>1.96</td>\n",
       "    </tr>\n",
       "    <tr>\n",
       "        <td>Chile</td>\n",
       "        <td>1.8</td>\n",
       "    </tr>\n",
       "    <tr>\n",
       "        <td>Norway</td>\n",
       "        <td>1.93</td>\n",
       "    </tr>\n",
       "    <tr>\n",
       "        <td>Portugal</td>\n",
       "        <td>1.31</td>\n",
       "    </tr>\n",
       "    <tr>\n",
       "        <td>Spain</td>\n",
       "        <td>1.53</td>\n",
       "    </tr>\n",
       "    <tr>\n",
       "        <td>Uruguay</td>\n",
       "        <td>2.03</td>\n",
       "    </tr>\n",
       "    <tr>\n",
       "        <td>Vietnam</td>\n",
       "        <td>1.7</td>\n",
       "    </tr>\n",
       "</table>"
      ],
      "text/plain": [
       "[('Australia', 1.88),\n",
       " ('Brunei', 1.96),\n",
       " ('Chile', 1.8),\n",
       " ('Norway', 1.93),\n",
       " ('Portugal', 1.31),\n",
       " ('Spain', 1.53),\n",
       " ('Uruguay', 2.03),\n",
       " ('Vietnam', 1.7)]"
      ]
     },
     "execution_count": 4,
     "metadata": {},
     "output_type": "execute_result"
    }
   ],
   "source": [
    "%%sql\n",
    "SELECT name, fert_rate\n",
    "FROM states\n",
    "WHERE fert_rate <\n",
    "        (SELECT AVG(fert_rate)\n",
    "         FROM states)"
   ]
  },
  {
   "cell_type": "markdown",
   "metadata": {},
   "source": [
    "___"
   ]
  },
  {
   "cell_type": "markdown",
   "metadata": {},
   "source": [
    "- Select the number of Asian countries who's fertility_rate is less than the average"
   ]
  },
  {
   "cell_type": "code",
   "execution_count": 5,
   "metadata": {},
   "outputs": [
    {
     "name": "stdout",
     "output_type": "stream",
     "text": [
      " * postgresql://localhost/leaders\n",
      "2 rows affected.\n"
     ]
    },
    {
     "data": {
      "text/html": [
       "<table>\n",
       "    <tr>\n",
       "        <th>name</th>\n",
       "        <th>fert_rate</th>\n",
       "    </tr>\n",
       "    <tr>\n",
       "        <td>Brunei</td>\n",
       "        <td>1.96</td>\n",
       "    </tr>\n",
       "    <tr>\n",
       "        <td>Vietnam</td>\n",
       "        <td>1.7</td>\n",
       "    </tr>\n",
       "</table>"
      ],
      "text/plain": [
       "[('Brunei', 1.96), ('Vietnam', 1.7)]"
      ]
     },
     "execution_count": 5,
     "metadata": {},
     "output_type": "execute_result"
    }
   ],
   "source": [
    "%%sql\n",
    "SELECT name, fert_rate\n",
    "FROM states\n",
    "WHERE continent = 'Asia'\n",
    "AND fert_rate <\n",
    "    (SELECT AVG(fert_rate)\n",
    "     FROM states)"
   ]
  },
  {
   "cell_type": "markdown",
   "metadata": {},
   "source": [
    "____"
   ]
  },
  {
   "cell_type": "markdown",
   "metadata": {},
   "source": [
    "- Connect to countries database"
   ]
  },
  {
   "cell_type": "code",
   "execution_count": 6,
   "metadata": {},
   "outputs": [
    {
     "name": "stdout",
     "output_type": "stream",
     "text": [
      "2 rows affected.\n"
     ]
    },
    {
     "data": {
      "text/html": [
       "<table>\n",
       "    <tr>\n",
       "        <th>pop_id</th>\n",
       "        <th>country_code</th>\n",
       "        <th>year</th>\n",
       "        <th>fertility_rate</th>\n",
       "        <th>life_expectancy</th>\n",
       "        <th>size</th>\n",
       "    </tr>\n",
       "    <tr>\n",
       "        <td>20</td>\n",
       "        <td>ABW</td>\n",
       "        <td>2010</td>\n",
       "        <td>1.704</td>\n",
       "        <td>74.95354</td>\n",
       "        <td>101597.0</td>\n",
       "    </tr>\n",
       "    <tr>\n",
       "        <td>19</td>\n",
       "        <td>ABW</td>\n",
       "        <td>2015</td>\n",
       "        <td>1.647</td>\n",
       "        <td>75.573586</td>\n",
       "        <td>103889.0</td>\n",
       "    </tr>\n",
       "</table>"
      ],
      "text/plain": [
       "[(20, 'ABW', 2010, 1.704, 74.95354, 101597.0),\n",
       " (19, 'ABW', 2015, 1.647, 75.573586, 103889.0)]"
      ]
     },
     "execution_count": 6,
     "metadata": {},
     "output_type": "execute_result"
    }
   ],
   "source": [
    "%%sql\n",
    "postgresql://localhost/countries\n",
    "SELECT * FROM populations\n",
    "LIMIT 2;"
   ]
  },
  {
   "cell_type": "markdown",
   "metadata": {},
   "source": [
    "___"
   ]
  },
  {
   "cell_type": "markdown",
   "metadata": {},
   "source": [
    "- Which countries had high average life expectancies (at the country level) in 2015."
   ]
  },
  {
   "cell_type": "code",
   "execution_count": 7,
   "metadata": {},
   "outputs": [
    {
     "name": "stdout",
     "output_type": "stream",
     "text": [
      " * postgresql://localhost/countries\n",
      "   postgresql://localhost/leaders\n",
      "10 rows affected.\n"
     ]
    },
    {
     "data": {
      "text/html": [
       "<table>\n",
       "    <tr>\n",
       "        <th>pop_id</th>\n",
       "        <th>country_code</th>\n",
       "        <th>year</th>\n",
       "        <th>fertility_rate</th>\n",
       "        <th>life_expectancy</th>\n",
       "        <th>size</th>\n",
       "    </tr>\n",
       "    <tr>\n",
       "        <td>21</td>\n",
       "        <td>AUS</td>\n",
       "        <td>2015</td>\n",
       "        <td>1.833</td>\n",
       "        <td>82.45122</td>\n",
       "        <td>23789752.0</td>\n",
       "    </tr>\n",
       "    <tr>\n",
       "        <td>376</td>\n",
       "        <td>CHE</td>\n",
       "        <td>2015</td>\n",
       "        <td>1.54</td>\n",
       "        <td>83.19756</td>\n",
       "        <td>8281430.0</td>\n",
       "    </tr>\n",
       "    <tr>\n",
       "        <td>356</td>\n",
       "        <td>ESP</td>\n",
       "        <td>2015</td>\n",
       "        <td>1.32</td>\n",
       "        <td>83.380486</td>\n",
       "        <td>46443992.0</td>\n",
       "    </tr>\n",
       "    <tr>\n",
       "        <td>134</td>\n",
       "        <td>FRA</td>\n",
       "        <td>2015</td>\n",
       "        <td>2.01</td>\n",
       "        <td>82.67073</td>\n",
       "        <td>66538392.0</td>\n",
       "    </tr>\n",
       "    <tr>\n",
       "        <td>170</td>\n",
       "        <td>HKG</td>\n",
       "        <td>2015</td>\n",
       "        <td>1.195</td>\n",
       "        <td>84.278046</td>\n",
       "        <td>7305700.0</td>\n",
       "    </tr>\n",
       "    <tr>\n",
       "        <td>174</td>\n",
       "        <td>ISL</td>\n",
       "        <td>2015</td>\n",
       "        <td>1.93</td>\n",
       "        <td>82.86098</td>\n",
       "        <td>330815.0</td>\n",
       "    </tr>\n",
       "    <tr>\n",
       "        <td>190</td>\n",
       "        <td>ITA</td>\n",
       "        <td>2015</td>\n",
       "        <td>1.37</td>\n",
       "        <td>83.49024</td>\n",
       "        <td>60730584.0</td>\n",
       "    </tr>\n",
       "    <tr>\n",
       "        <td>194</td>\n",
       "        <td>JPN</td>\n",
       "        <td>2015</td>\n",
       "        <td>1.46</td>\n",
       "        <td>83.84366</td>\n",
       "        <td>126958470.0</td>\n",
       "    </tr>\n",
       "    <tr>\n",
       "        <td>340</td>\n",
       "        <td>SGP</td>\n",
       "        <td>2015</td>\n",
       "        <td>1.24</td>\n",
       "        <td>82.59512</td>\n",
       "        <td>5535002.0</td>\n",
       "    </tr>\n",
       "    <tr>\n",
       "        <td>374</td>\n",
       "        <td>SWE</td>\n",
       "        <td>2015</td>\n",
       "        <td>1.88</td>\n",
       "        <td>82.551216</td>\n",
       "        <td>9799186.0</td>\n",
       "    </tr>\n",
       "</table>"
      ],
      "text/plain": [
       "[(21, 'AUS', 2015, 1.833, 82.45122, 23789752.0),\n",
       " (376, 'CHE', 2015, 1.54, 83.19756, 8281430.0),\n",
       " (356, 'ESP', 2015, 1.32, 83.380486, 46443992.0),\n",
       " (134, 'FRA', 2015, 2.01, 82.67073, 66538392.0),\n",
       " (170, 'HKG', 2015, 1.195, 84.278046, 7305700.0),\n",
       " (174, 'ISL', 2015, 1.93, 82.86098, 330815.0),\n",
       " (190, 'ITA', 2015, 1.37, 83.49024, 60730584.0),\n",
       " (194, 'JPN', 2015, 1.46, 83.84366, 126958470.0),\n",
       " (340, 'SGP', 2015, 1.24, 82.59512, 5535002.0),\n",
       " (374, 'SWE', 2015, 1.88, 82.551216, 9799186.0)]"
      ]
     },
     "execution_count": 7,
     "metadata": {},
     "output_type": "execute_result"
    }
   ],
   "source": [
    "%%sql\n",
    "SELECT * FROM populations\n",
    "WHERE life_expectancy > \n",
    "    1.15 * (SELECT AVG(life_expectancy) FROM populations\n",
    "           WHERE year = 2015)\n",
    "AND year = 2015"
   ]
  },
  {
   "cell_type": "markdown",
   "metadata": {},
   "source": [
    "___"
   ]
  },
  {
   "cell_type": "markdown",
   "metadata": {},
   "source": [
    "- Cities table"
   ]
  },
  {
   "cell_type": "code",
   "execution_count": 17,
   "metadata": {},
   "outputs": [
    {
     "name": "stdout",
     "output_type": "stream",
     "text": [
      " * postgresql://localhost/countries\n",
      "   postgresql://localhost/leaders\n",
      "1 rows affected.\n"
     ]
    },
    {
     "data": {
      "text/html": [
       "<table>\n",
       "    <tr>\n",
       "        <th>name</th>\n",
       "        <th>country_code</th>\n",
       "        <th>city_proper_pop</th>\n",
       "        <th>metroarea_pop</th>\n",
       "        <th>urbanarea_pop</th>\n",
       "    </tr>\n",
       "    <tr>\n",
       "        <td>Abidjan</td>\n",
       "        <td>CIV</td>\n",
       "        <td>4765000.0</td>\n",
       "        <td>None</td>\n",
       "        <td>4765000.0</td>\n",
       "    </tr>\n",
       "</table>"
      ],
      "text/plain": [
       "[('Abidjan', 'CIV', 4765000.0, None, 4765000.0)]"
      ]
     },
     "execution_count": 17,
     "metadata": {},
     "output_type": "execute_result"
    }
   ],
   "source": [
    "%%sql\n",
    "SELECT * FROM cities LIMIT 1"
   ]
  },
  {
   "cell_type": "markdown",
   "metadata": {},
   "source": [
    "- Countries table"
   ]
  },
  {
   "cell_type": "code",
   "execution_count": 25,
   "metadata": {},
   "outputs": [
    {
     "name": "stdout",
     "output_type": "stream",
     "text": [
      " * postgresql://localhost/countries\n",
      "   postgresql://localhost/leaders\n",
      "1 rows affected.\n"
     ]
    },
    {
     "data": {
      "text/html": [
       "<table>\n",
       "    <tr>\n",
       "        <th>code</th>\n",
       "        <th>name</th>\n",
       "        <th>continent</th>\n",
       "        <th>region</th>\n",
       "        <th>surface_area</th>\n",
       "        <th>indep_year</th>\n",
       "        <th>local_name</th>\n",
       "        <th>gov_form</th>\n",
       "        <th>capital</th>\n",
       "        <th>cap_long</th>\n",
       "        <th>cap_lat</th>\n",
       "    </tr>\n",
       "    <tr>\n",
       "        <td>AFG</td>\n",
       "        <td>Afghanistan</td>\n",
       "        <td>Asia</td>\n",
       "        <td>Southern and Central Asia</td>\n",
       "        <td>652090.0</td>\n",
       "        <td>1919</td>\n",
       "        <td>Afganistan/Afqanestan</td>\n",
       "        <td>Islamic Emirate</td>\n",
       "        <td>Kabul</td>\n",
       "        <td>69.1761</td>\n",
       "        <td>34.5228</td>\n",
       "    </tr>\n",
       "</table>"
      ],
      "text/plain": [
       "[('AFG', 'Afghanistan', 'Asia', 'Southern and Central Asia', 652090.0, 1919, 'Afganistan/Afqanestan', 'Islamic Emirate', 'Kabul', 69.1761, 34.5228)]"
      ]
     },
     "execution_count": 25,
     "metadata": {},
     "output_type": "execute_result"
    }
   ],
   "source": [
    "%%sql\n",
    "SELECT * FROM countries LIMIT 1"
   ]
  },
  {
   "cell_type": "markdown",
   "metadata": {},
   "source": [
    "___"
   ]
  },
  {
   "cell_type": "markdown",
   "metadata": {},
   "source": [
    "- Use your knowledge of subqueries in WHERE to get the urban area population for only capital cities."
   ]
  },
  {
   "cell_type": "code",
   "execution_count": 27,
   "metadata": {},
   "outputs": [
    {
     "name": "stdout",
     "output_type": "stream",
     "text": [
      " * postgresql://localhost/countries\n",
      "   postgresql://localhost/leaders\n",
      "2 rows affected.\n"
     ]
    },
    {
     "data": {
      "text/html": [
       "<table>\n",
       "    <tr>\n",
       "        <th>name</th>\n",
       "        <th>country_code</th>\n",
       "        <th>urbanarea_pop</th>\n",
       "    </tr>\n",
       "    <tr>\n",
       "        <td>Beijing</td>\n",
       "        <td>CHN</td>\n",
       "        <td>21516000.0</td>\n",
       "    </tr>\n",
       "    <tr>\n",
       "        <td>Dhaka</td>\n",
       "        <td>BGD</td>\n",
       "        <td>14543124.0</td>\n",
       "    </tr>\n",
       "</table>"
      ],
      "text/plain": [
       "[('Beijing', 'CHN', 21516000.0), ('Dhaka', 'BGD', 14543124.0)]"
      ]
     },
     "execution_count": 27,
     "metadata": {},
     "output_type": "execute_result"
    }
   ],
   "source": [
    "%%sql\n",
    "SELECT name, country_code, urbanarea_pop \n",
    "FROM cities\n",
    "WHERE name IN\n",
    "    (SELECT capital FROM countries)  \n",
    "ORDER BY urbanarea_pop DESC\n",
    "LIMIT 2;"
   ]
  },
  {
   "cell_type": "markdown",
   "metadata": {},
   "source": [
    "___"
   ]
  }
 ],
 "metadata": {
  "kernelspec": {
   "display_name": "Python 3",
   "language": "python",
   "name": "python3"
  },
  "language_info": {
   "codemirror_mode": {
    "name": "ipython",
    "version": 3
   },
   "file_extension": ".py",
   "mimetype": "text/x-python",
   "name": "python",
   "nbconvert_exporter": "python",
   "pygments_lexer": "ipython3",
   "version": "3.7.4"
  }
 },
 "nbformat": 4,
 "nbformat_minor": 2
}
