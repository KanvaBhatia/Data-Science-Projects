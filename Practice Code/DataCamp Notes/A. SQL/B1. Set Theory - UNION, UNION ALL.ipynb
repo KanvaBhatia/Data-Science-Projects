{
 "cells": [
  {
   "cell_type": "markdown",
   "metadata": {},
   "source": [
    "# SQL CHEAT SHEET: SET THEORY CLAUSES\n",
    "UNION | UNION ALL | "
   ]
  },
  {
   "cell_type": "code",
   "execution_count": 4,
   "metadata": {},
   "outputs": [],
   "source": [
    "reload_ext sql"
   ]
  },
  {
   "cell_type": "code",
   "execution_count": 12,
   "metadata": {},
   "outputs": [
    {
     "data": {
      "text/plain": [
       "'Connected: @leaders'"
      ]
     },
     "execution_count": 12,
     "metadata": {},
     "output_type": "execute_result"
    }
   ],
   "source": [
    "%%sql\n",
    "postgresql://localhost/leaders"
   ]
  },
  {
   "cell_type": "code",
   "execution_count": 15,
   "metadata": {},
   "outputs": [
    {
     "name": "stdout",
     "output_type": "stream",
     "text": [
      "   postgresql://localhost/films\n",
      " * postgresql://localhost/leaders\n",
      "1 rows affected.\n"
     ]
    },
    {
     "data": {
      "text/html": [
       "<table>\n",
       "    <tr>\n",
       "        <th>country</th>\n",
       "        <th>continent</th>\n",
       "        <th>prime_minister</th>\n",
       "    </tr>\n",
       "    <tr>\n",
       "        <td>Egypt</td>\n",
       "        <td>Africa</td>\n",
       "        <td>Sherif Ismail</td>\n",
       "    </tr>\n",
       "</table>"
      ],
      "text/plain": [
       "[('Egypt', 'Africa', 'Sherif Ismail')]"
      ]
     },
     "execution_count": 15,
     "metadata": {},
     "output_type": "execute_result"
    }
   ],
   "source": [
    "%%sql\n",
    "SELECT * FROM prime_ministers\n",
    "LIMIT 1;"
   ]
  },
  {
   "cell_type": "code",
   "execution_count": 16,
   "metadata": {},
   "outputs": [
    {
     "name": "stdout",
     "output_type": "stream",
     "text": [
      "   postgresql://localhost/films\n",
      " * postgresql://localhost/leaders\n",
      "1 rows affected.\n"
     ]
    },
    {
     "data": {
      "text/html": [
       "<table>\n",
       "    <tr>\n",
       "        <th>country</th>\n",
       "        <th>continent</th>\n",
       "        <th>monarch</th>\n",
       "    </tr>\n",
       "    <tr>\n",
       "        <td>Brunei</td>\n",
       "        <td>Asia</td>\n",
       "        <td>Hassanal Bolkiah</td>\n",
       "    </tr>\n",
       "</table>"
      ],
      "text/plain": [
       "[('Brunei', 'Asia', 'Hassanal Bolkiah')]"
      ]
     },
     "execution_count": 16,
     "metadata": {},
     "output_type": "execute_result"
    }
   ],
   "source": [
    "%%sql\n",
    "SELECT * FROM monarchs\n",
    "LIMIT 1;"
   ]
  },
  {
   "cell_type": "markdown",
   "metadata": {},
   "source": [
    "___"
   ]
  },
  {
   "attachments": {},
   "cell_type": "markdown",
   "metadata": {},
   "source": [
    "## 1. UNION\n",
    "UNION includes items in both tables without double counting items in both tables!"
   ]
  },
  {
   "cell_type": "code",
   "execution_count": 23,
   "metadata": {},
   "outputs": [
    {
     "name": "stdout",
     "output_type": "stream",
     "text": [
      "   postgresql://localhost/films\n",
      " * postgresql://localhost/leaders\n",
      "3 rows affected.\n"
     ]
    },
    {
     "data": {
      "text/html": [
       "<table>\n",
       "    <tr>\n",
       "        <th>leader</th>\n",
       "        <th>country</th>\n",
       "    </tr>\n",
       "    <tr>\n",
       "        <td>Malcolm Turnbull</td>\n",
       "        <td>Australia</td>\n",
       "    </tr>\n",
       "    <tr>\n",
       "        <td>Hassanal Bolkiah</td>\n",
       "        <td>Brunei</td>\n",
       "    </tr>\n",
       "    <tr>\n",
       "        <td>Sherif Ismail</td>\n",
       "        <td>Egypt</td>\n",
       "    </tr>\n",
       "</table>"
      ],
      "text/plain": [
       "[('Malcolm Turnbull', 'Australia'),\n",
       " ('Hassanal Bolkiah', 'Brunei'),\n",
       " ('Sherif Ismail', 'Egypt')]"
      ]
     },
     "execution_count": 23,
     "metadata": {},
     "output_type": "execute_result"
    }
   ],
   "source": [
    "%%sql\n",
    "SELECT prime_minister AS leader, country FROM prime_ministers\n",
    "UNION\n",
    "SELECT monarch, country FROM monarchs\n",
    "ORDER BY country\n",
    "LIMIT 3;"
   ]
  },
  {
   "cell_type": "markdown",
   "metadata": {},
   "source": [
    "___"
   ]
  },
  {
   "cell_type": "code",
   "execution_count": 31,
   "metadata": {},
   "outputs": [
    {
     "data": {
      "text/plain": [
       "'Connected: @countries'"
      ]
     },
     "execution_count": 31,
     "metadata": {},
     "output_type": "execute_result"
    }
   ],
   "source": [
    "%%sql\n",
    "postgresql://localhost/countries"
   ]
  },
  {
   "cell_type": "markdown",
   "metadata": {},
   "source": [
    "- Combine tables economies2010 and economies2015 into one table"
   ]
  },
  {
   "cell_type": "code",
   "execution_count": 36,
   "metadata": {},
   "outputs": [
    {
     "name": "stdout",
     "output_type": "stream",
     "text": [
      " * postgresql://localhost/countries\n",
      "   postgresql://localhost/films\n",
      "   postgresql://localhost/leaders\n",
      "6 rows affected.\n"
     ]
    },
    {
     "data": {
      "text/html": [
       "<table>\n",
       "    <tr>\n",
       "        <th>code</th>\n",
       "        <th>year</th>\n",
       "        <th>income_group</th>\n",
       "        <th>gross_savings</th>\n",
       "    </tr>\n",
       "    <tr>\n",
       "        <td>AFG</td>\n",
       "        <td>2010</td>\n",
       "        <td>Low income</td>\n",
       "        <td>37.133</td>\n",
       "    </tr>\n",
       "    <tr>\n",
       "        <td>AFG</td>\n",
       "        <td>2015</td>\n",
       "        <td>Low income</td>\n",
       "        <td>21.466</td>\n",
       "    </tr>\n",
       "    <tr>\n",
       "        <td>AGO</td>\n",
       "        <td>2010</td>\n",
       "        <td>Upper middle income</td>\n",
       "        <td>23.534</td>\n",
       "    </tr>\n",
       "    <tr>\n",
       "        <td>AGO</td>\n",
       "        <td>2015</td>\n",
       "        <td>Upper middle income</td>\n",
       "        <td>-0.425</td>\n",
       "    </tr>\n",
       "    <tr>\n",
       "        <td>ALB</td>\n",
       "        <td>2010</td>\n",
       "        <td>Upper middle income</td>\n",
       "        <td>20.011</td>\n",
       "    </tr>\n",
       "    <tr>\n",
       "        <td>ALB</td>\n",
       "        <td>2015</td>\n",
       "        <td>Upper middle income</td>\n",
       "        <td>13.84</td>\n",
       "    </tr>\n",
       "</table>"
      ],
      "text/plain": [
       "[('AFG', 2010, 'Low income', 37.133),\n",
       " ('AFG', 2015, 'Low income', 21.466),\n",
       " ('AGO', 2010, 'Upper middle income', 23.534),\n",
       " ('AGO', 2015, 'Upper middle income', -0.425),\n",
       " ('ALB', 2010, 'Upper middle income', 20.011),\n",
       " ('ALB', 2015, 'Upper middle income', 13.84)]"
      ]
     },
     "execution_count": 36,
     "metadata": {},
     "output_type": "execute_result"
    }
   ],
   "source": [
    "%%sql\n",
    "SELECT * FROM economies2010\n",
    "UNION\n",
    "SELECT * FROM economies2015\n",
    "ORDER BY code, year\n",
    "LIMIT 6;"
   ]
  },
  {
   "cell_type": "markdown",
   "metadata": {},
   "source": [
    "- Determine all (non-duplicated) country codes in either the cities or the currencies table. \n",
    "- The result should be a table with only one field called country_code."
   ]
  },
  {
   "cell_type": "code",
   "execution_count": 44,
   "metadata": {},
   "outputs": [
    {
     "name": "stdout",
     "output_type": "stream",
     "text": [
      " * postgresql://localhost/countries\n",
      "   postgresql://localhost/films\n",
      "   postgresql://localhost/leaders\n",
      "1 rows affected.\n"
     ]
    },
    {
     "data": {
      "text/html": [
       "<table>\n",
       "    <tr>\n",
       "        <th>country_code</th>\n",
       "    </tr>\n",
       "    <tr>\n",
       "        <td>ABW</td>\n",
       "    </tr>\n",
       "</table>"
      ],
      "text/plain": [
       "[('ABW',)]"
      ]
     },
     "execution_count": 44,
     "metadata": {},
     "output_type": "execute_result"
    }
   ],
   "source": [
    "%%sql\n",
    "SELECT country_code FROM cities\n",
    "UNION\n",
    "SELECT code FROM currencies\n",
    "ORDER BY country_code\n",
    "LIMIT 1;"
   ]
  },
  {
   "cell_type": "markdown",
   "metadata": {},
   "source": [
    "___"
   ]
  },
  {
   "attachments": {},
   "cell_type": "markdown",
   "metadata": {},
   "source": [
    "## 2. UNION ALL\n",
    "UNION ALL includes items in both tables and replicates items in both tables e.g the leaders of Brunei"
   ]
  },
  {
   "cell_type": "code",
   "execution_count": 47,
   "metadata": {},
   "outputs": [
    {
     "data": {
      "text/plain": [
       "'Connected: @leaders'"
      ]
     },
     "execution_count": 47,
     "metadata": {},
     "output_type": "execute_result"
    }
   ],
   "source": [
    "%%sql\n",
    "postgresql://localhost/leaders"
   ]
  },
  {
   "cell_type": "code",
   "execution_count": 48,
   "metadata": {},
   "outputs": [
    {
     "name": "stdout",
     "output_type": "stream",
     "text": [
      "   postgresql://localhost/countries\n",
      "   postgresql://localhost/films\n",
      " * postgresql://localhost/leaders\n",
      "3 rows affected.\n"
     ]
    },
    {
     "data": {
      "text/html": [
       "<table>\n",
       "    <tr>\n",
       "        <th>leader</th>\n",
       "        <th>country</th>\n",
       "    </tr>\n",
       "    <tr>\n",
       "        <td>Malcolm Turnbull</td>\n",
       "        <td>Australia</td>\n",
       "    </tr>\n",
       "    <tr>\n",
       "        <td>Hassanal Bolkiah</td>\n",
       "        <td>Brunei</td>\n",
       "    </tr>\n",
       "    <tr>\n",
       "        <td>Hassanal Bolkiah</td>\n",
       "        <td>Brunei</td>\n",
       "    </tr>\n",
       "</table>"
      ],
      "text/plain": [
       "[('Malcolm Turnbull', 'Australia'),\n",
       " ('Hassanal Bolkiah', 'Brunei'),\n",
       " ('Hassanal Bolkiah', 'Brunei')]"
      ]
     },
     "execution_count": 48,
     "metadata": {},
     "output_type": "execute_result"
    }
   ],
   "source": [
    "%%sql\n",
    "SELECT prime_minister AS leader, country FROM prime_ministers\n",
    "UNION ALL\n",
    "SELECT monarch, country FROM monarchs\n",
    "ORDER BY country\n",
    "LIMIT 3;"
   ]
  },
  {
   "cell_type": "markdown",
   "metadata": {},
   "source": [
    "- Determine all combinations (include duplicates) of country code and year that exist in either the economies or the populations tables. Order by code then year.\n",
    "- The result of the query should only have two columns/fields. Think about how many records this query should result in.\n",
    "- You'll use code very similar to this in your next exercise after the video. Make note of this code after completing it."
   ]
  },
  {
   "cell_type": "code",
   "execution_count": 54,
   "metadata": {},
   "outputs": [
    {
     "data": {
      "text/plain": [
       "'Connected: @countries'"
      ]
     },
     "execution_count": 54,
     "metadata": {},
     "output_type": "execute_result"
    }
   ],
   "source": [
    "%%sql\n",
    "postgresql://localhost/countries"
   ]
  },
  {
   "cell_type": "code",
   "execution_count": 71,
   "metadata": {},
   "outputs": [
    {
     "name": "stdout",
     "output_type": "stream",
     "text": [
      " * postgresql://localhost/countries\n",
      "   postgresql://localhost/films\n",
      "   postgresql://localhost/leaders\n",
      "5 rows affected.\n"
     ]
    },
    {
     "data": {
      "text/html": [
       "<table>\n",
       "    <tr>\n",
       "        <th>code</th>\n",
       "        <th>year</th>\n",
       "    </tr>\n",
       "    <tr>\n",
       "        <td>ABW</td>\n",
       "        <td>2010</td>\n",
       "    </tr>\n",
       "    <tr>\n",
       "        <td>ABW</td>\n",
       "        <td>2015</td>\n",
       "    </tr>\n",
       "    <tr>\n",
       "        <td>AFG</td>\n",
       "        <td>2010</td>\n",
       "    </tr>\n",
       "    <tr>\n",
       "        <td>AFG</td>\n",
       "        <td>2010</td>\n",
       "    </tr>\n",
       "    <tr>\n",
       "        <td>AFG</td>\n",
       "        <td>2015</td>\n",
       "    </tr>\n",
       "</table>"
      ],
      "text/plain": [
       "[('ABW', 2010), ('ABW', 2015), ('AFG', 2010), ('AFG', 2010), ('AFG', 2015)]"
      ]
     },
     "execution_count": 71,
     "metadata": {},
     "output_type": "execute_result"
    }
   ],
   "source": [
    "%%sql\n",
    "SELECT code, year FROM economies\n",
    "UNION ALL\n",
    "SELECT country_code, year FROM populations\n",
    "ORDER BY code, year\n",
    "LIMIT 5;"
   ]
  }
 ],
 "metadata": {
  "kernelspec": {
   "display_name": "Python 3",
   "language": "python",
   "name": "python3"
  },
  "language_info": {
   "codemirror_mode": {
    "name": "ipython",
    "version": 3
   },
   "file_extension": ".py",
   "mimetype": "text/x-python",
   "name": "python",
   "nbconvert_exporter": "python",
   "pygments_lexer": "ipython3",
   "version": "3.7.4"
  }
 },
 "nbformat": 4,
 "nbformat_minor": 2
}
