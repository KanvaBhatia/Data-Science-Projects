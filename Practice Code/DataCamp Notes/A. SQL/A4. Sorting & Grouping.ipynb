{
 "cells": [
  {
   "cell_type": "markdown",
   "metadata": {},
   "source": [
    "# SQL Cheat Sheet:  Sorting & Grouping\n",
    "ORDER BY | GROUP BY | HAVING | "
   ]
  },
  {
   "cell_type": "markdown",
   "metadata": {},
   "source": [
    "___"
   ]
  },
  {
   "cell_type": "markdown",
   "metadata": {},
   "source": [
    "## 0. Load Database"
   ]
  },
  {
   "cell_type": "code",
   "execution_count": 1,
   "metadata": {},
   "outputs": [],
   "source": [
    "%reload_ext sql"
   ]
  },
  {
   "cell_type": "code",
   "execution_count": 2,
   "metadata": {},
   "outputs": [
    {
     "data": {
      "text/plain": [
       "'Connected: @films'"
      ]
     },
     "execution_count": 2,
     "metadata": {},
     "output_type": "execute_result"
    }
   ],
   "source": [
    "%%sql\n",
    "\n",
    "postgresql://localhost/films"
   ]
  },
  {
   "cell_type": "code",
   "execution_count": 3,
   "metadata": {
    "scrolled": false
   },
   "outputs": [
    {
     "name": "stdout",
     "output_type": "stream",
     "text": [
      " * postgresql://localhost/films\n",
      "3 rows affected.\n"
     ]
    },
    {
     "data": {
      "text/html": [
       "<table>\n",
       "    <tr>\n",
       "        <th>id</th>\n",
       "        <th>title</th>\n",
       "        <th>release_year</th>\n",
       "        <th>country</th>\n",
       "        <th>duration</th>\n",
       "        <th>language</th>\n",
       "        <th>certification</th>\n",
       "        <th>gross</th>\n",
       "        <th>budget</th>\n",
       "    </tr>\n",
       "    <tr>\n",
       "        <td>1</td>\n",
       "        <td>Intolerance: Love&#x27;s Struggle Throughout the Ages</td>\n",
       "        <td>1916</td>\n",
       "        <td>USA</td>\n",
       "        <td>123</td>\n",
       "        <td>None</td>\n",
       "        <td>Not Rated</td>\n",
       "        <td>None</td>\n",
       "        <td>385907</td>\n",
       "    </tr>\n",
       "    <tr>\n",
       "        <td>2</td>\n",
       "        <td>Over the Hill to the Poorhouse</td>\n",
       "        <td>1920</td>\n",
       "        <td>USA</td>\n",
       "        <td>110</td>\n",
       "        <td>None</td>\n",
       "        <td>None</td>\n",
       "        <td>3000000</td>\n",
       "        <td>100000</td>\n",
       "    </tr>\n",
       "    <tr>\n",
       "        <td>3</td>\n",
       "        <td>The Big Parade</td>\n",
       "        <td>1925</td>\n",
       "        <td>USA</td>\n",
       "        <td>151</td>\n",
       "        <td>None</td>\n",
       "        <td>Not Rated</td>\n",
       "        <td>None</td>\n",
       "        <td>245000</td>\n",
       "    </tr>\n",
       "</table>"
      ],
      "text/plain": [
       "[(1, \"Intolerance: Love's Struggle Throughout the Ages\", 1916, 'USA', 123, None, 'Not Rated', None, 385907),\n",
       " (2, 'Over the Hill to the Poorhouse', 1920, 'USA', 110, None, None, 3000000, 100000),\n",
       " (3, 'The Big Parade', 1925, 'USA', 151, None, 'Not Rated', None, 245000)]"
      ]
     },
     "execution_count": 3,
     "metadata": {},
     "output_type": "execute_result"
    }
   ],
   "source": [
    "%%sql\n",
    "SELECT * FROM films LIMIT 3;"
   ]
  },
  {
   "cell_type": "markdown",
   "metadata": {},
   "source": [
    "___"
   ]
  },
  {
   "cell_type": "markdown",
   "metadata": {},
   "source": [
    "## 1. ORDER BY\n",
    "- In SQL, the ORDER BY keyword is used to sort results in ascending or descending order according to the values of one or more columns.\n",
    "- By default ORDER BY will sort in ascending order. If you want to sort the results in descending order, you can use the DESC keyword. For example,"
   ]
  },
  {
   "cell_type": "code",
   "execution_count": 4,
   "metadata": {},
   "outputs": [
    {
     "name": "stdout",
     "output_type": "stream",
     "text": [
      " * postgresql://localhost/films\n",
      "3 rows affected.\n"
     ]
    },
    {
     "data": {
      "text/html": [
       "<table>\n",
       "    <tr>\n",
       "        <th>title</th>\n",
       "        <th>release_year</th>\n",
       "    </tr>\n",
       "    <tr>\n",
       "        <td>10 Cloverfield Lane</td>\n",
       "        <td>2016</td>\n",
       "    </tr>\n",
       "    <tr>\n",
       "        <td>13 Hours</td>\n",
       "        <td>2016</td>\n",
       "    </tr>\n",
       "    <tr>\n",
       "        <td>A Beginner&#x27;s Guide to Snuff</td>\n",
       "        <td>2016</td>\n",
       "    </tr>\n",
       "</table>"
      ],
      "text/plain": [
       "[('10 Cloverfield Lane', 2016),\n",
       " ('13 Hours', 2016),\n",
       " (\"A Beginner's Guide to Snuff\", 2016)]"
      ]
     },
     "execution_count": 4,
     "metadata": {},
     "output_type": "execute_result"
    }
   ],
   "source": [
    "%%sql\n",
    "SELECT title, release_year FROM films\n",
    "WHERE release_year IS NOT NULL\n",
    "ORDER BY release_year DESC\n",
    "LIMIT 3;"
   ]
  },
  {
   "cell_type": "code",
   "execution_count": 23,
   "metadata": {
    "scrolled": true
   },
   "outputs": [
    {
     "name": "stdout",
     "output_type": "stream",
     "text": [
      " * postgresql://localhost/films\n",
      "3 rows affected.\n"
     ]
    },
    {
     "data": {
      "text/html": [
       "<table>\n",
       "    <tr>\n",
       "        <th>title</th>\n",
       "        <th>release_year</th>\n",
       "    </tr>\n",
       "    <tr>\n",
       "        <td>28 Days</td>\n",
       "        <td>2000</td>\n",
       "    </tr>\n",
       "    <tr>\n",
       "        <td>3 Strikes</td>\n",
       "        <td>2000</td>\n",
       "    </tr>\n",
       "    <tr>\n",
       "        <td>102 Dalmatians</td>\n",
       "        <td>2000</td>\n",
       "    </tr>\n",
       "</table>"
      ],
      "text/plain": [
       "[('28 Days', 2000), ('3 Strikes', 2000), ('102 Dalmatians', 2000)]"
      ]
     },
     "execution_count": 23,
     "metadata": {},
     "output_type": "execute_result"
    }
   ],
   "source": [
    "%%sql\n",
    "SELECT title, release_year FROM films\n",
    "WHERE release_year IN(2000, 2012)\n",
    "ORDER BY release_year LIMIT 3;"
   ]
  },
  {
   "cell_type": "code",
   "execution_count": 24,
   "metadata": {
    "scrolled": true
   },
   "outputs": [
    {
     "name": "stdout",
     "output_type": "stream",
     "text": [
      " * postgresql://localhost/films\n",
      "3 rows affected.\n"
     ]
    },
    {
     "data": {
      "text/html": [
       "<table>\n",
       "    <tr>\n",
       "        <th>id</th>\n",
       "        <th>title</th>\n",
       "        <th>release_year</th>\n",
       "        <th>country</th>\n",
       "        <th>duration</th>\n",
       "        <th>language</th>\n",
       "        <th>certification</th>\n",
       "        <th>gross</th>\n",
       "        <th>budget</th>\n",
       "    </tr>\n",
       "    <tr>\n",
       "        <td>2926</td>\n",
       "        <td>The Touch</td>\n",
       "        <td>2007</td>\n",
       "        <td>USA</td>\n",
       "        <td>7</td>\n",
       "        <td>English</td>\n",
       "        <td>None</td>\n",
       "        <td>None</td>\n",
       "        <td>13000</td>\n",
       "    </tr>\n",
       "    <tr>\n",
       "        <td>4098</td>\n",
       "        <td>Vessel</td>\n",
       "        <td>2012</td>\n",
       "        <td>USA</td>\n",
       "        <td>14</td>\n",
       "        <td>English</td>\n",
       "        <td>None</td>\n",
       "        <td>None</td>\n",
       "        <td>None</td>\n",
       "    </tr>\n",
       "    <tr>\n",
       "        <td>2501</td>\n",
       "        <td>Wal-Mart: The High Cost of Low Price</td>\n",
       "        <td>2005</td>\n",
       "        <td>USA</td>\n",
       "        <td>20</td>\n",
       "        <td>English</td>\n",
       "        <td>Not Rated</td>\n",
       "        <td>None</td>\n",
       "        <td>1500000</td>\n",
       "    </tr>\n",
       "</table>"
      ],
      "text/plain": [
       "[(2926, 'The Touch', 2007, 'USA', 7, 'English', None, None, 13000),\n",
       " (4098, 'Vessel', 2012, 'USA', 14, 'English', None, None, None),\n",
       " (2501, 'Wal-Mart: The High Cost of Low Price', 2005, 'USA', 20, 'English', 'Not Rated', None, 1500000)]"
      ]
     },
     "execution_count": 24,
     "metadata": {},
     "output_type": "execute_result"
    }
   ],
   "source": [
    "%%sql\n",
    "SELECT * FROM films\n",
    "WHERE release_year <> 2015\n",
    "ORDER BY duration LIMIT 3;"
   ]
  },
  {
   "cell_type": "code",
   "execution_count": 7,
   "metadata": {
    "scrolled": true
   },
   "outputs": [
    {
     "name": "stdout",
     "output_type": "stream",
     "text": [
      " * postgresql://localhost/films\n",
      "3 rows affected.\n"
     ]
    },
    {
     "data": {
      "text/html": [
       "<table>\n",
       "    <tr>\n",
       "        <th>title</th>\n",
       "        <th>gross</th>\n",
       "    </tr>\n",
       "    <tr>\n",
       "        <td>MacGruber</td>\n",
       "        <td>8460995</td>\n",
       "    </tr>\n",
       "    <tr>\n",
       "        <td>Machete</td>\n",
       "        <td>26589953</td>\n",
       "    </tr>\n",
       "    <tr>\n",
       "        <td>Machete Kills</td>\n",
       "        <td>7268659</td>\n",
       "    </tr>\n",
       "</table>"
      ],
      "text/plain": [
       "[('MacGruber', 8460995), ('Machete', 26589953), ('Machete Kills', 7268659)]"
      ]
     },
     "execution_count": 7,
     "metadata": {},
     "output_type": "execute_result"
    }
   ],
   "source": [
    "%%sql\n",
    "SELECT title, gross FROM films\n",
    "WHERE title LIKE 'M%'\n",
    "ORDER BY title LIMIT 3;"
   ]
  },
  {
   "cell_type": "code",
   "execution_count": 8,
   "metadata": {},
   "outputs": [
    {
     "name": "stdout",
     "output_type": "stream",
     "text": [
      " * postgresql://localhost/films\n",
      "3 rows affected.\n"
     ]
    },
    {
     "data": {
      "text/html": [
       "<table>\n",
       "    <tr>\n",
       "        <th>film_id</th>\n",
       "        <th>imdb_score</th>\n",
       "    </tr>\n",
       "    <tr>\n",
       "        <td>4960</td>\n",
       "        <td>9.5</td>\n",
       "    </tr>\n",
       "    <tr>\n",
       "        <td>742</td>\n",
       "        <td>9.3</td>\n",
       "    </tr>\n",
       "    <tr>\n",
       "        <td>178</td>\n",
       "        <td>9.2</td>\n",
       "    </tr>\n",
       "</table>"
      ],
      "text/plain": [
       "[(4960, 9.5), (742, 9.3), (178, 9.2)]"
      ]
     },
     "execution_count": 8,
     "metadata": {},
     "output_type": "execute_result"
    }
   ],
   "source": [
    "%%sql\n",
    "SELECT film_id, imdb_score FROM reviews\n",
    "ORDER BY imdb_score DESC LIMIT 3;"
   ]
  },
  {
   "cell_type": "markdown",
   "metadata": {},
   "source": [
    "- #### Sorting Multiple Columns\n",
    "- ORDER BY can also be used to sort on multiple columns. It will sort by the first column specified, then sort by the next, then the next, and so on. For example\n",
    "- In the example below if two people have the same birthday it will sort them by their names. "
   ]
  },
  {
   "cell_type": "code",
   "execution_count": 9,
   "metadata": {},
   "outputs": [
    {
     "name": "stdout",
     "output_type": "stream",
     "text": [
      " * postgresql://localhost/films\n",
      "3 rows affected.\n"
     ]
    },
    {
     "data": {
      "text/html": [
       "<table>\n",
       "    <tr>\n",
       "        <th>birthdate</th>\n",
       "        <th>name</th>\n",
       "    </tr>\n",
       "    <tr>\n",
       "        <td>1837-10-10</td>\n",
       "        <td>Robert Shaw</td>\n",
       "    </tr>\n",
       "    <tr>\n",
       "        <td>1872-11-07</td>\n",
       "        <td>Lucille La Verne</td>\n",
       "    </tr>\n",
       "    <tr>\n",
       "        <td>1874-03-14</td>\n",
       "        <td>Mary Carr</td>\n",
       "    </tr>\n",
       "</table>"
      ],
      "text/plain": [
       "[(datetime.date(1837, 10, 10), 'Robert Shaw'),\n",
       " (datetime.date(1872, 11, 7), 'Lucille La Verne'),\n",
       " (datetime.date(1874, 3, 14), 'Mary Carr')]"
      ]
     },
     "execution_count": 9,
     "metadata": {},
     "output_type": "execute_result"
    }
   ],
   "source": [
    "%%sql\n",
    "SELECT birthdate, name FROM people\n",
    "ORDER BY birthdate, name\n",
    "LIMIT 3;"
   ]
  },
  {
   "cell_type": "markdown",
   "metadata": {},
   "source": [
    "___"
   ]
  },
  {
   "cell_type": "markdown",
   "metadata": {},
   "source": [
    "---"
   ]
  },
  {
   "cell_type": "markdown",
   "metadata": {},
   "source": [
    "## 2. GROUP BY\n",
    "- Often you'll need to aggregate results. For example, you might want to count the number of male and female employees in your company\n",
    "In SQL, GROUP BY allows you to group a result by one or more columns, like so:\n",
    ">SELECT sex, count(*)\n",
    ">FROM employees\n",
    ">GROUP BY sex;\n",
    "\n",
    "- SQL will return an error **if you try to SELECT a field that is not in your GROUP BY clause without using it to calculate some kind of value about the entire group.**\n",
    "- you can combine GROUP BY with ORDER BY to group your results, calculate something about them, and then order your results\n",
    "\n",
    ">SELECT sex, count(*)\n",
    "FROM employees\n",
    "GROUP BY sex\n",
    "ORDER BY count DESC;"
   ]
  },
  {
   "cell_type": "code",
   "execution_count": 10,
   "metadata": {},
   "outputs": [
    {
     "name": "stdout",
     "output_type": "stream",
     "text": [
      " * postgresql://localhost/films\n",
      "3 rows affected.\n"
     ]
    },
    {
     "data": {
      "text/html": [
       "<table>\n",
       "    <tr>\n",
       "        <th>release_year</th>\n",
       "        <th>count</th>\n",
       "    </tr>\n",
       "    <tr>\n",
       "        <td>1954</td>\n",
       "        <td>5</td>\n",
       "    </tr>\n",
       "    <tr>\n",
       "        <td>1988</td>\n",
       "        <td>31</td>\n",
       "    </tr>\n",
       "    <tr>\n",
       "        <td>1959</td>\n",
       "        <td>3</td>\n",
       "    </tr>\n",
       "</table>"
      ],
      "text/plain": [
       "[(1954, 5), (1988, 31), (1959, 3)]"
      ]
     },
     "execution_count": 10,
     "metadata": {},
     "output_type": "execute_result"
    }
   ],
   "source": [
    "%%sql\n",
    "-- the release year and count of films released in each year.\n",
    "SELECT release_year, count(*) FROM films\n",
    "GROUP BY release_year \n",
    "LIMIT 3;"
   ]
  },
  {
   "cell_type": "code",
   "execution_count": 26,
   "metadata": {},
   "outputs": [
    {
     "name": "stdout",
     "output_type": "stream",
     "text": [
      " * postgresql://localhost/films\n",
      "3 rows affected.\n"
     ]
    },
    {
     "data": {
      "text/html": [
       "<table>\n",
       "    <tr>\n",
       "        <th>release_year</th>\n",
       "        <th>avg</th>\n",
       "    </tr>\n",
       "    <tr>\n",
       "        <td>1954</td>\n",
       "        <td>140.6000000000000000</td>\n",
       "    </tr>\n",
       "    <tr>\n",
       "        <td>1988</td>\n",
       "        <td>107.0000000000000000</td>\n",
       "    </tr>\n",
       "    <tr>\n",
       "        <td>1959</td>\n",
       "        <td>136.6666666666666667</td>\n",
       "    </tr>\n",
       "</table>"
      ],
      "text/plain": [
       "[(1954, Decimal('140.6000000000000000')),\n",
       " (1988, Decimal('107.0000000000000000')),\n",
       " (1959, Decimal('136.6666666666666667'))]"
      ]
     },
     "execution_count": 26,
     "metadata": {},
     "output_type": "execute_result"
    }
   ],
   "source": [
    "%%sql\n",
    "-- the release year and average duration of films per year\n",
    "SELECT release_year, AVG(duration) FROM films\n",
    "GROUP BY release_year\n",
    "LIMIT 3;"
   ]
  },
  {
   "cell_type": "code",
   "execution_count": 28,
   "metadata": {},
   "outputs": [
    {
     "name": "stdout",
     "output_type": "stream",
     "text": [
      " * postgresql://localhost/films\n",
      "3 rows affected.\n"
     ]
    },
    {
     "data": {
      "text/html": [
       "<table>\n",
       "    <tr>\n",
       "        <th>release_year</th>\n",
       "        <th>max</th>\n",
       "    </tr>\n",
       "    <tr>\n",
       "        <td>1954</td>\n",
       "        <td>5000000</td>\n",
       "    </tr>\n",
       "    <tr>\n",
       "        <td>1988</td>\n",
       "        <td>1100000000</td>\n",
       "    </tr>\n",
       "    <tr>\n",
       "        <td>1959</td>\n",
       "        <td>5000000</td>\n",
       "    </tr>\n",
       "</table>"
      ],
      "text/plain": [
       "[(1954, 5000000), (1988, 1100000000), (1959, 5000000)]"
      ]
     },
     "execution_count": 28,
     "metadata": {},
     "output_type": "execute_result"
    }
   ],
   "source": [
    "%%sql\n",
    "-- the release year and max budget of films per year\n",
    "SELECT release_year, MAX(budget) FROM films\n",
    "GROUP BY release_year \n",
    "LIMIT 3;"
   ]
  },
  {
   "cell_type": "markdown",
   "metadata": {},
   "source": [
    "___"
   ]
  },
  {
   "cell_type": "markdown",
   "metadata": {},
   "source": [
    "## 3. GROUP BY & ORDER BY\n",
    "- WHERE comes before GROUP BY\n",
    "- GROUP BY goes after FROM, WHERE\n",
    "- HAVING comes after GROUP BY\n",
    "- ORDER BY comes last\n",
    "- FROM - WHERE - GROUP BY - HAVING - ORDER BY\n"
   ]
  },
  {
   "cell_type": "code",
   "execution_count": 30,
   "metadata": {},
   "outputs": [
    {
     "name": "stdout",
     "output_type": "stream",
     "text": [
      " * postgresql://localhost/films\n",
      "4 rows affected.\n"
     ]
    },
    {
     "data": {
      "text/html": [
       "<table>\n",
       "    <tr>\n",
       "        <th>release_year</th>\n",
       "        <th>country</th>\n",
       "        <th>max_budget</th>\n",
       "    </tr>\n",
       "    <tr>\n",
       "        <td>1916</td>\n",
       "        <td>USA</td>\n",
       "        <td>385907</td>\n",
       "    </tr>\n",
       "    <tr>\n",
       "        <td>1920</td>\n",
       "        <td>USA</td>\n",
       "        <td>100000</td>\n",
       "    </tr>\n",
       "    <tr>\n",
       "        <td>1925</td>\n",
       "        <td>USA</td>\n",
       "        <td>245000</td>\n",
       "    </tr>\n",
       "    <tr>\n",
       "        <td>1927</td>\n",
       "        <td>Germany</td>\n",
       "        <td>6000000</td>\n",
       "    </tr>\n",
       "</table>"
      ],
      "text/plain": [
       "[(1916, 'USA', 385907),\n",
       " (1920, 'USA', 100000),\n",
       " (1925, 'USA', 245000),\n",
       " (1927, 'Germany', 6000000)]"
      ]
     },
     "execution_count": 30,
     "metadata": {},
     "output_type": "execute_result"
    }
   ],
   "source": [
    "%%sql\n",
    "SELECT release_year, country, max(budget) AS max_budget from films\n",
    "GROUP BY release_year, country\n",
    "ORDER BY release_year, country\n",
    "LIMIT 4;"
   ]
  },
  {
   "cell_type": "code",
   "execution_count": 15,
   "metadata": {},
   "outputs": [
    {
     "name": "stdout",
     "output_type": "stream",
     "text": [
      " * postgresql://localhost/films\n",
      "3 rows affected.\n"
     ]
    },
    {
     "data": {
      "text/html": [
       "<table>\n",
       "    <tr>\n",
       "        <th>country</th>\n",
       "        <th>release_year</th>\n",
       "        <th>min</th>\n",
       "    </tr>\n",
       "    <tr>\n",
       "        <td>Afghanistan</td>\n",
       "        <td>2003</td>\n",
       "        <td>1127331</td>\n",
       "    </tr>\n",
       "    <tr>\n",
       "        <td>Argentina</td>\n",
       "        <td>2000</td>\n",
       "        <td>1221261</td>\n",
       "    </tr>\n",
       "    <tr>\n",
       "        <td>Argentina</td>\n",
       "        <td>2004</td>\n",
       "        <td>304124</td>\n",
       "    </tr>\n",
       "</table>"
      ],
      "text/plain": [
       "[('Afghanistan', 2003, 1127331),\n",
       " ('Argentina', 2000, 1221261),\n",
       " ('Argentina', 2004, 304124)]"
      ]
     },
     "execution_count": 15,
     "metadata": {},
     "output_type": "execute_result"
    }
   ],
   "source": [
    "%%sql\n",
    "SELECT country, release_year, min(gross) from films\n",
    "GROUP BY country, release_year\n",
    "ORDER BY country, release_year\n",
    "LIMIT 3;"
   ]
  },
  {
   "cell_type": "markdown",
   "metadata": {},
   "source": [
    "___"
   ]
  },
  {
   "cell_type": "markdown",
   "metadata": {},
   "source": [
    "## 4. GROUP BY & HAVING\n",
    "- #### Filter Using Aggregate Function\n",
    "- In SQL, aggregate functions can't be used in WHERE clauses. For example, the following query is invalid:\n",
    "> SELECT release_year\n",
    "FROM films\n",
    "GROUP BY release_year\n",
    "**WHERE COUNT(title) > 10;**\n",
    "\n",
    "- This means that if you want to filter based on the result of an aggregate function, you need another way! That's where the HAVING clause comes in. For example,\n",
    ">SELECT release_year\n",
    "FROM films\n",
    "GROUP BY release_year\n",
    "**HAVING COUNT(title) > 10;**\n",
    "\n",
    "- Shows only those years in which more than 10 films were released."
   ]
  },
  {
   "cell_type": "code",
   "execution_count": 16,
   "metadata": {},
   "outputs": [
    {
     "name": "stdout",
     "output_type": "stream",
     "text": [
      " * postgresql://localhost/films\n",
      "3 rows affected.\n"
     ]
    },
    {
     "data": {
      "text/html": [
       "<table>\n",
       "    <tr>\n",
       "        <th>release_year</th>\n",
       "        <th>count</th>\n",
       "    </tr>\n",
       "    <tr>\n",
       "        <td>1988</td>\n",
       "        <td>31</td>\n",
       "    </tr>\n",
       "    <tr>\n",
       "        <td>None</td>\n",
       "        <td>42</td>\n",
       "    </tr>\n",
       "    <tr>\n",
       "        <td>2008</td>\n",
       "        <td>225</td>\n",
       "    </tr>\n",
       "</table>"
      ],
      "text/plain": [
       "[(1988, 31), (None, 42), (2008, 225)]"
      ]
     },
     "execution_count": 16,
     "metadata": {},
     "output_type": "execute_result"
    }
   ],
   "source": [
    "%%sql\n",
    "SELECT release_year, count(title) FROM films \n",
    "GROUP BY release_year\n",
    "HAVING COUNT(*) > 10\n",
    "LIMIT 3;"
   ]
  },
  {
   "cell_type": "markdown",
   "metadata": {},
   "source": [
    "___"
   ]
  },
  {
   "cell_type": "markdown",
   "metadata": {},
   "source": [
    "## 5. WHERE, GROUP BY, HAVING\n"
   ]
  },
  {
   "cell_type": "code",
   "execution_count": 17,
   "metadata": {},
   "outputs": [
    {
     "name": "stdout",
     "output_type": "stream",
     "text": [
      " * postgresql://localhost/films\n",
      "2 rows affected.\n"
     ]
    },
    {
     "data": {
      "text/html": [
       "<table>\n",
       "    <tr>\n",
       "        <th>release_year</th>\n",
       "        <th>avg_budget</th>\n",
       "        <th>avg_gross</th>\n",
       "    </tr>\n",
       "    <tr>\n",
       "        <td>2006</td>\n",
       "        <td>93968929.577464788732</td>\n",
       "        <td>39237855.953703703704</td>\n",
       "    </tr>\n",
       "    <tr>\n",
       "        <td>2005</td>\n",
       "        <td>70323938.231527093596</td>\n",
       "        <td>41159143.290640394089</td>\n",
       "    </tr>\n",
       "</table>"
      ],
      "text/plain": [
       "[(2006, Decimal('93968929.577464788732'), Decimal('39237855.953703703704')),\n",
       " (2005, Decimal('70323938.231527093596'), Decimal('41159143.290640394089'))]"
      ]
     },
     "execution_count": 17,
     "metadata": {},
     "output_type": "execute_result"
    }
   ],
   "source": [
    "%%sql\n",
    "SELECT release_year, \n",
    "       AVG(budget) AS avg_budget,\n",
    "       AVG(gross) AS avg_gross from films\n",
    "WHERE release_year > 1990\n",
    "GROUP BY release_year\n",
    "HAVING AVG(budget) > 60000000\n",
    "ORDER BY avg_gross;"
   ]
  },
  {
   "cell_type": "markdown",
   "metadata": {},
   "source": [
    "___"
   ]
  },
  {
   "cell_type": "markdown",
   "metadata": {},
   "source": [
    "- Get the country, average budget, and average gross take of countries that have made more than 10 films. Order the result by country name, and limit the number of results displayed to 5. You should alias the averages as avg_budget and avg_gross respectively."
   ]
  },
  {
   "cell_type": "code",
   "execution_count": 18,
   "metadata": {},
   "outputs": [
    {
     "name": "stdout",
     "output_type": "stream",
     "text": [
      " * postgresql://localhost/films\n",
      "5 rows affected.\n"
     ]
    },
    {
     "data": {
      "text/html": [
       "<table>\n",
       "    <tr>\n",
       "        <th>country</th>\n",
       "        <th>avg_budget</th>\n",
       "        <th>avg_gross</th>\n",
       "    </tr>\n",
       "    <tr>\n",
       "        <td>Australia</td>\n",
       "        <td>31172110.460000000000</td>\n",
       "        <td>40205909.571428571429</td>\n",
       "    </tr>\n",
       "    <tr>\n",
       "        <td>Canada</td>\n",
       "        <td>14798458.715596330275</td>\n",
       "        <td>22432066.680555555556</td>\n",
       "    </tr>\n",
       "    <tr>\n",
       "        <td>China</td>\n",
       "        <td>62219000.000000000000</td>\n",
       "        <td>14143040.736842105263</td>\n",
       "    </tr>\n",
       "    <tr>\n",
       "        <td>Denmark</td>\n",
       "        <td>13922222.222222222222</td>\n",
       "        <td>1418469.111111111111</td>\n",
       "    </tr>\n",
       "    <tr>\n",
       "        <td>France</td>\n",
       "        <td>30672034.615384615385</td>\n",
       "        <td>16350593.578512396694</td>\n",
       "    </tr>\n",
       "</table>"
      ],
      "text/plain": [
       "[('Australia', Decimal('31172110.460000000000'), Decimal('40205909.571428571429')),\n",
       " ('Canada', Decimal('14798458.715596330275'), Decimal('22432066.680555555556')),\n",
       " ('China', Decimal('62219000.000000000000'), Decimal('14143040.736842105263')),\n",
       " ('Denmark', Decimal('13922222.222222222222'), Decimal('1418469.111111111111')),\n",
       " ('France', Decimal('30672034.615384615385'), Decimal('16350593.578512396694'))]"
      ]
     },
     "execution_count": 18,
     "metadata": {},
     "output_type": "execute_result"
    }
   ],
   "source": [
    "%%sql\n",
    "SELECT country, AVG(budget) as avg_budget, AVG(gross) as avg_gross\n",
    "FROM films\n",
    "GROUP BY country\n",
    "HAVING count(*) > 10\n",
    "ORDER BY country\n",
    "LIMIT 5;\n"
   ]
  },
  {
   "cell_type": "code",
   "execution_count": null,
   "metadata": {},
   "outputs": [],
   "source": []
  }
 ],
 "metadata": {
  "kernelspec": {
   "display_name": "Python 3",
   "language": "python",
   "name": "python3"
  },
  "language_info": {
   "codemirror_mode": {
    "name": "ipython",
    "version": 3
   },
   "file_extension": ".py",
   "mimetype": "text/x-python",
   "name": "python",
   "nbconvert_exporter": "python",
   "pygments_lexer": "ipython3",
   "version": "3.7.4"
  }
 },
 "nbformat": 4,
 "nbformat_minor": 2
}
