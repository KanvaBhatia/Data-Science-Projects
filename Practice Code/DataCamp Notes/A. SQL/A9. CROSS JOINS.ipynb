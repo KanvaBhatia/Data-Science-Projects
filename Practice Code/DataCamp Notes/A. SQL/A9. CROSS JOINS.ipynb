{
 "cells": [
  {
   "cell_type": "markdown",
   "metadata": {},
   "source": [
    "# SQL Cheat Sheet\n",
    "CROSS JOINS\n",
    "- Cross Joins create all possible combinations of two tables\n",
    "- Cross Joins do not use ON or USING"
   ]
  },
  {
   "cell_type": "markdown",
   "metadata": {},
   "source": [
    "## 0. Loading Databases"
   ]
  },
  {
   "cell_type": "code",
   "execution_count": 6,
   "metadata": {},
   "outputs": [],
   "source": [
    "reload_ext sql"
   ]
  },
  {
   "cell_type": "code",
   "execution_count": 9,
   "metadata": {},
   "outputs": [
    {
     "data": {
      "text/plain": [
       "'Connected: @leaders'"
      ]
     },
     "execution_count": 9,
     "metadata": {},
     "output_type": "execute_result"
    }
   ],
   "source": [
    "%%sql\n",
    "postgresql://localhost/leaders"
   ]
  },
  {
   "cell_type": "code",
   "execution_count": 12,
   "metadata": {},
   "outputs": [
    {
     "name": "stdout",
     "output_type": "stream",
     "text": [
      " * postgresql://localhost/leaders\n",
      "7 rows affected.\n"
     ]
    },
    {
     "data": {
      "text/html": [
       "<table>\n",
       "    <tr>\n",
       "        <th>country</th>\n",
       "        <th>continent</th>\n",
       "        <th>president</th>\n",
       "    </tr>\n",
       "    <tr>\n",
       "        <td>Egypt</td>\n",
       "        <td>Africa</td>\n",
       "        <td>Abdel Fattah el-Sisi</td>\n",
       "    </tr>\n",
       "    <tr>\n",
       "        <td>Portugal</td>\n",
       "        <td>Europe</td>\n",
       "        <td>Marcelo Rebelo de Sousa</td>\n",
       "    </tr>\n",
       "    <tr>\n",
       "        <td>Haiti</td>\n",
       "        <td>North America</td>\n",
       "        <td>Jovenel Moise</td>\n",
       "    </tr>\n",
       "    <tr>\n",
       "        <td>Uruguay</td>\n",
       "        <td>South America</td>\n",
       "        <td>Jose Mujica</td>\n",
       "    </tr>\n",
       "    <tr>\n",
       "        <td>Liberia</td>\n",
       "        <td>Africa</td>\n",
       "        <td>Ellen Johnson Sirleaf</td>\n",
       "    </tr>\n",
       "    <tr>\n",
       "        <td>Chile</td>\n",
       "        <td>South America</td>\n",
       "        <td>Michelle Bachelet</td>\n",
       "    </tr>\n",
       "    <tr>\n",
       "        <td>Vietnam</td>\n",
       "        <td>Asia</td>\n",
       "        <td>Tran Dai Quang</td>\n",
       "    </tr>\n",
       "</table>"
      ],
      "text/plain": [
       "[('Egypt', 'Africa', 'Abdel Fattah el-Sisi'),\n",
       " ('Portugal', 'Europe', 'Marcelo Rebelo de Sousa'),\n",
       " ('Haiti', 'North America', 'Jovenel Moise'),\n",
       " ('Uruguay', 'South America', 'Jose Mujica'),\n",
       " ('Liberia', 'Africa', 'Ellen Johnson Sirleaf'),\n",
       " ('Chile', 'South America', 'Michelle Bachelet'),\n",
       " ('Vietnam', 'Asia', 'Tran Dai Quang')]"
      ]
     },
     "execution_count": 12,
     "metadata": {},
     "output_type": "execute_result"
    }
   ],
   "source": []
  },
  {
   "cell_type": "code",
   "execution_count": 13,
   "metadata": {},
   "outputs": [
    {
     "name": "stdout",
     "output_type": "stream",
     "text": [
      " * postgresql://localhost/leaders\n",
      "10 rows affected.\n"
     ]
    },
    {
     "data": {
      "text/html": [
       "<table>\n",
       "    <tr>\n",
       "        <th>country</th>\n",
       "        <th>continent</th>\n",
       "        <th>prime_minister</th>\n",
       "    </tr>\n",
       "    <tr>\n",
       "        <td>Egypt</td>\n",
       "        <td>Africa</td>\n",
       "        <td>Sherif Ismail</td>\n",
       "    </tr>\n",
       "    <tr>\n",
       "        <td>Portugal</td>\n",
       "        <td>Europe</td>\n",
       "        <td>Antonio Costa</td>\n",
       "    </tr>\n",
       "    <tr>\n",
       "        <td>Vietnam</td>\n",
       "        <td>Asia</td>\n",
       "        <td>Nguyen Xuan Phuc</td>\n",
       "    </tr>\n",
       "    <tr>\n",
       "        <td>Haiti</td>\n",
       "        <td>North America</td>\n",
       "        <td>Jack Guy Lafontant</td>\n",
       "    </tr>\n",
       "    <tr>\n",
       "        <td>India</td>\n",
       "        <td>Asia</td>\n",
       "        <td>Narendra Modi</td>\n",
       "    </tr>\n",
       "    <tr>\n",
       "        <td>Australia</td>\n",
       "        <td>Oceania</td>\n",
       "        <td>Malcolm Turnbull</td>\n",
       "    </tr>\n",
       "    <tr>\n",
       "        <td>Norway</td>\n",
       "        <td>Europe</td>\n",
       "        <td>Erna Solberg</td>\n",
       "    </tr>\n",
       "    <tr>\n",
       "        <td>Brunei</td>\n",
       "        <td>Asia</td>\n",
       "        <td>Hassanal Bolkiah</td>\n",
       "    </tr>\n",
       "    <tr>\n",
       "        <td>Oman</td>\n",
       "        <td>Asia</td>\n",
       "        <td>Qaboos bin Said al Said</td>\n",
       "    </tr>\n",
       "    <tr>\n",
       "        <td>Spain</td>\n",
       "        <td>Europe</td>\n",
       "        <td>Mariano Rajoy</td>\n",
       "    </tr>\n",
       "</table>"
      ],
      "text/plain": [
       "[('Egypt', 'Africa', 'Sherif Ismail'),\n",
       " ('Portugal', 'Europe', 'Antonio Costa'),\n",
       " ('Vietnam', 'Asia', 'Nguyen Xuan Phuc'),\n",
       " ('Haiti', 'North America', 'Jack Guy Lafontant'),\n",
       " ('India', 'Asia', 'Narendra Modi'),\n",
       " ('Australia', 'Oceania', 'Malcolm Turnbull'),\n",
       " ('Norway', 'Europe', 'Erna Solberg'),\n",
       " ('Brunei', 'Asia', 'Hassanal Bolkiah'),\n",
       " ('Oman', 'Asia', 'Qaboos bin Said al Said'),\n",
       " ('Spain', 'Europe', 'Mariano Rajoy')]"
      ]
     },
     "execution_count": 13,
     "metadata": {},
     "output_type": "execute_result"
    }
   ],
   "source": [
    "%%sql\n",
    "SELECT * FROM prime_ministers;"
   ]
  },
  {
   "cell_type": "markdown",
   "metadata": {},
   "source": [
    "_____"
   ]
  },
  {
   "cell_type": "markdown",
   "metadata": {},
   "source": [
    "## 1. Introduction\n",
    "- Assuming all prime ministers in North America and Oceania are scheduled for individial meeting with all presidents in the presidents table\n",
    "- Use a cross join to show the combination"
   ]
  },
  {
   "cell_type": "code",
   "execution_count": 17,
   "metadata": {},
   "outputs": [
    {
     "name": "stdout",
     "output_type": "stream",
     "text": [
      " * postgresql://localhost/leaders\n",
      "14 rows affected.\n"
     ]
    },
    {
     "data": {
      "text/html": [
       "<table>\n",
       "    <tr>\n",
       "        <th>prime_minister</th>\n",
       "        <th>president</th>\n",
       "    </tr>\n",
       "    <tr>\n",
       "        <td>Jack Guy Lafontant</td>\n",
       "        <td>Abdel Fattah el-Sisi</td>\n",
       "    </tr>\n",
       "    <tr>\n",
       "        <td>Malcolm Turnbull</td>\n",
       "        <td>Abdel Fattah el-Sisi</td>\n",
       "    </tr>\n",
       "    <tr>\n",
       "        <td>Jack Guy Lafontant</td>\n",
       "        <td>Marcelo Rebelo de Sousa</td>\n",
       "    </tr>\n",
       "    <tr>\n",
       "        <td>Malcolm Turnbull</td>\n",
       "        <td>Marcelo Rebelo de Sousa</td>\n",
       "    </tr>\n",
       "    <tr>\n",
       "        <td>Jack Guy Lafontant</td>\n",
       "        <td>Jovenel Moise</td>\n",
       "    </tr>\n",
       "    <tr>\n",
       "        <td>Malcolm Turnbull</td>\n",
       "        <td>Jovenel Moise</td>\n",
       "    </tr>\n",
       "    <tr>\n",
       "        <td>Jack Guy Lafontant</td>\n",
       "        <td>Jose Mujica</td>\n",
       "    </tr>\n",
       "    <tr>\n",
       "        <td>Malcolm Turnbull</td>\n",
       "        <td>Jose Mujica</td>\n",
       "    </tr>\n",
       "    <tr>\n",
       "        <td>Jack Guy Lafontant</td>\n",
       "        <td>Ellen Johnson Sirleaf</td>\n",
       "    </tr>\n",
       "    <tr>\n",
       "        <td>Malcolm Turnbull</td>\n",
       "        <td>Ellen Johnson Sirleaf</td>\n",
       "    </tr>\n",
       "    <tr>\n",
       "        <td>Jack Guy Lafontant</td>\n",
       "        <td>Michelle Bachelet</td>\n",
       "    </tr>\n",
       "    <tr>\n",
       "        <td>Malcolm Turnbull</td>\n",
       "        <td>Michelle Bachelet</td>\n",
       "    </tr>\n",
       "    <tr>\n",
       "        <td>Jack Guy Lafontant</td>\n",
       "        <td>Tran Dai Quang</td>\n",
       "    </tr>\n",
       "    <tr>\n",
       "        <td>Malcolm Turnbull</td>\n",
       "        <td>Tran Dai Quang</td>\n",
       "    </tr>\n",
       "</table>"
      ],
      "text/plain": [
       "[('Jack Guy Lafontant', 'Abdel Fattah el-Sisi'),\n",
       " ('Malcolm Turnbull', 'Abdel Fattah el-Sisi'),\n",
       " ('Jack Guy Lafontant', 'Marcelo Rebelo de Sousa'),\n",
       " ('Malcolm Turnbull', 'Marcelo Rebelo de Sousa'),\n",
       " ('Jack Guy Lafontant', 'Jovenel Moise'),\n",
       " ('Malcolm Turnbull', 'Jovenel Moise'),\n",
       " ('Jack Guy Lafontant', 'Jose Mujica'),\n",
       " ('Malcolm Turnbull', 'Jose Mujica'),\n",
       " ('Jack Guy Lafontant', 'Ellen Johnson Sirleaf'),\n",
       " ('Malcolm Turnbull', 'Ellen Johnson Sirleaf'),\n",
       " ('Jack Guy Lafontant', 'Michelle Bachelet'),\n",
       " ('Malcolm Turnbull', 'Michelle Bachelet'),\n",
       " ('Jack Guy Lafontant', 'Tran Dai Quang'),\n",
       " ('Malcolm Turnbull', 'Tran Dai Quang')]"
      ]
     },
     "execution_count": 17,
     "metadata": {},
     "output_type": "execute_result"
    }
   ],
   "source": [
    "%%sql\n",
    "SELECT prime_minister, president\n",
    "FROM prime_ministers as pm\n",
    "    CROSS JOIN presidents\n",
    "WHERE pm.continent IN ('North America', 'Oceania')\n",
    "    "
   ]
  },
  {
   "cell_type": "markdown",
   "metadata": {},
   "source": [
    "___"
   ]
  },
  {
   "cell_type": "markdown",
   "metadata": {},
   "source": [
    "## 2. Example 1\n",
    "- Connecting to Databases"
   ]
  },
  {
   "cell_type": "code",
   "execution_count": 19,
   "metadata": {},
   "outputs": [
    {
     "data": {
      "text/plain": [
       "'Connected: @countries'"
      ]
     },
     "execution_count": 19,
     "metadata": {},
     "output_type": "execute_result"
    }
   ],
   "source": [
    "%%sql\n",
    "postgresql://localhost/countries"
   ]
  },
  {
   "cell_type": "code",
   "execution_count": 21,
   "metadata": {},
   "outputs": [
    {
     "name": "stdout",
     "output_type": "stream",
     "text": [
      " * postgresql://localhost/countries\n",
      "   postgresql://localhost/leaders\n",
      "2 rows affected.\n"
     ]
    },
    {
     "data": {
      "text/html": [
       "<table>\n",
       "    <tr>\n",
       "        <th>name</th>\n",
       "        <th>country_code</th>\n",
       "        <th>city_proper_pop</th>\n",
       "        <th>metroarea_pop</th>\n",
       "        <th>urbanarea_pop</th>\n",
       "    </tr>\n",
       "    <tr>\n",
       "        <td>Abidjan</td>\n",
       "        <td>CIV</td>\n",
       "        <td>4765000.0</td>\n",
       "        <td>None</td>\n",
       "        <td>4765000.0</td>\n",
       "    </tr>\n",
       "    <tr>\n",
       "        <td>Abu Dhabi</td>\n",
       "        <td>ARE</td>\n",
       "        <td>1145000.0</td>\n",
       "        <td>None</td>\n",
       "        <td>1145000.0</td>\n",
       "    </tr>\n",
       "</table>"
      ],
      "text/plain": [
       "[('Abidjan', 'CIV', 4765000.0, None, 4765000.0),\n",
       " ('Abu Dhabi', 'ARE', 1145000.0, None, 1145000.0)]"
      ]
     },
     "execution_count": 21,
     "metadata": {},
     "output_type": "execute_result"
    }
   ],
   "source": [
    "%%sql\n",
    "SELECT * FROM cities\n",
    "LIMIT 2;"
   ]
  },
  {
   "cell_type": "code",
   "execution_count": 23,
   "metadata": {},
   "outputs": [
    {
     "name": "stdout",
     "output_type": "stream",
     "text": [
      " * postgresql://localhost/countries\n",
      "   postgresql://localhost/leaders\n",
      "5 rows affected.\n"
     ]
    },
    {
     "data": {
      "text/html": [
       "<table>\n",
       "    <tr>\n",
       "        <th>lang_id</th>\n",
       "        <th>code</th>\n",
       "        <th>name</th>\n",
       "        <th>percent</th>\n",
       "        <th>official</th>\n",
       "    </tr>\n",
       "    <tr>\n",
       "        <td>1</td>\n",
       "        <td>AFG</td>\n",
       "        <td>Dari</td>\n",
       "        <td>50.0</td>\n",
       "        <td>True</td>\n",
       "    </tr>\n",
       "    <tr>\n",
       "        <td>2</td>\n",
       "        <td>AFG</td>\n",
       "        <td>Pashto</td>\n",
       "        <td>35.0</td>\n",
       "        <td>True</td>\n",
       "    </tr>\n",
       "    <tr>\n",
       "        <td>3</td>\n",
       "        <td>AFG</td>\n",
       "        <td>Turkic</td>\n",
       "        <td>11.0</td>\n",
       "        <td>False</td>\n",
       "    </tr>\n",
       "    <tr>\n",
       "        <td>4</td>\n",
       "        <td>AFG</td>\n",
       "        <td>Other</td>\n",
       "        <td>4.0</td>\n",
       "        <td>False</td>\n",
       "    </tr>\n",
       "    <tr>\n",
       "        <td>5</td>\n",
       "        <td>ALB</td>\n",
       "        <td>Albanian</td>\n",
       "        <td>98.8</td>\n",
       "        <td>True</td>\n",
       "    </tr>\n",
       "</table>"
      ],
      "text/plain": [
       "[(1, 'AFG', 'Dari', 50.0, True),\n",
       " (2, 'AFG', 'Pashto', 35.0, True),\n",
       " (3, 'AFG', 'Turkic', 11.0, False),\n",
       " (4, 'AFG', 'Other', 4.0, False),\n",
       " (5, 'ALB', 'Albanian', 98.8, True)]"
      ]
     },
     "execution_count": 23,
     "metadata": {},
     "output_type": "execute_result"
    }
   ],
   "source": [
    "%%sql\n",
    "SELECT * FROM languages\n",
    "LIMIT 5;"
   ]
  },
  {
   "cell_type": "markdown",
   "metadata": {},
   "source": [
    "- Explore languages potentially and most frequently spoken in the cities of Hyderabad, India and Hyderabad, Pakistan."
   ]
  },
  {
   "cell_type": "code",
   "execution_count": 33,
   "metadata": {},
   "outputs": [
    {
     "name": "stdout",
     "output_type": "stream",
     "text": [
      " * postgresql://localhost/countries\n",
      "   postgresql://localhost/leaders\n",
      "5 rows affected.\n"
     ]
    },
    {
     "data": {
      "text/html": [
       "<table>\n",
       "    <tr>\n",
       "        <th>cities</th>\n",
       "        <th>language</th>\n",
       "    </tr>\n",
       "    <tr>\n",
       "        <td>Hyderabad (India)</td>\n",
       "        <td>Dari</td>\n",
       "    </tr>\n",
       "    <tr>\n",
       "        <td>Hyderabad</td>\n",
       "        <td>Dari</td>\n",
       "    </tr>\n",
       "    <tr>\n",
       "        <td>Hyderabad (India)</td>\n",
       "        <td>Pashto</td>\n",
       "    </tr>\n",
       "    <tr>\n",
       "        <td>Hyderabad</td>\n",
       "        <td>Pashto</td>\n",
       "    </tr>\n",
       "    <tr>\n",
       "        <td>Hyderabad (India)</td>\n",
       "        <td>Turkic</td>\n",
       "    </tr>\n",
       "</table>"
      ],
      "text/plain": [
       "[('Hyderabad (India)', 'Dari'),\n",
       " ('Hyderabad', 'Dari'),\n",
       " ('Hyderabad (India)', 'Pashto'),\n",
       " ('Hyderabad', 'Pashto'),\n",
       " ('Hyderabad (India)', 'Turkic')]"
      ]
     },
     "execution_count": 33,
     "metadata": {},
     "output_type": "execute_result"
    }
   ],
   "source": [
    "%%sql\n",
    "SELECT c.name AS cities, l.name AS language\n",
    "FROM cities AS c\n",
    "    CROSS JOIN languages AS l\n",
    "WHERE c.name LIKE 'Hyder%'\n",
    "LIMIT 5;"
   ]
  },
  {
   "cell_type": "markdown",
   "metadata": {},
   "source": [
    "- The above code matches the two cities to every possible language in the languages table\n",
    "- To find out the langueages spoken only in those cities we need to use an INNER JOIN\n",
    "- and match on the country code\n",
    "- since we applied the filter it will (math all equal codes but) display only countries in why Hyderabad exist\n"
   ]
  },
  {
   "cell_type": "code",
   "execution_count": 39,
   "metadata": {},
   "outputs": [
    {
     "name": "stdout",
     "output_type": "stream",
     "text": [
      " * postgresql://localhost/countries\n",
      "   postgresql://localhost/leaders\n",
      "25 rows affected.\n"
     ]
    },
    {
     "data": {
      "text/html": [
       "<table>\n",
       "    <tr>\n",
       "        <th>cities</th>\n",
       "        <th>language</th>\n",
       "    </tr>\n",
       "    <tr>\n",
       "        <td>Hyderabad (India)</td>\n",
       "        <td>Hindi</td>\n",
       "    </tr>\n",
       "    <tr>\n",
       "        <td>Hyderabad (India)</td>\n",
       "        <td>Bengali</td>\n",
       "    </tr>\n",
       "    <tr>\n",
       "        <td>Hyderabad (India)</td>\n",
       "        <td>Telugu</td>\n",
       "    </tr>\n",
       "    <tr>\n",
       "        <td>Hyderabad (India)</td>\n",
       "        <td>Marathi</td>\n",
       "    </tr>\n",
       "    <tr>\n",
       "        <td>Hyderabad (India)</td>\n",
       "        <td>Tamil</td>\n",
       "    </tr>\n",
       "    <tr>\n",
       "        <td>Hyderabad (India)</td>\n",
       "        <td>Urdu</td>\n",
       "    </tr>\n",
       "    <tr>\n",
       "        <td>Hyderabad (India)</td>\n",
       "        <td>Gujarati</td>\n",
       "    </tr>\n",
       "    <tr>\n",
       "        <td>Hyderabad (India)</td>\n",
       "        <td>Kannada</td>\n",
       "    </tr>\n",
       "    <tr>\n",
       "        <td>Hyderabad (India)</td>\n",
       "        <td>Malayalam</td>\n",
       "    </tr>\n",
       "    <tr>\n",
       "        <td>Hyderabad (India)</td>\n",
       "        <td>Oriya</td>\n",
       "    </tr>\n",
       "    <tr>\n",
       "        <td>Hyderabad (India)</td>\n",
       "        <td>Punjabi</td>\n",
       "    </tr>\n",
       "    <tr>\n",
       "        <td>Hyderabad (India)</td>\n",
       "        <td>Assamese</td>\n",
       "    </tr>\n",
       "    <tr>\n",
       "        <td>Hyderabad (India)</td>\n",
       "        <td>Maithili</td>\n",
       "    </tr>\n",
       "    <tr>\n",
       "        <td>Hyderabad (India)</td>\n",
       "        <td>Other</td>\n",
       "    </tr>\n",
       "    <tr>\n",
       "        <td>Hyderabad</td>\n",
       "        <td>Punjabi</td>\n",
       "    </tr>\n",
       "    <tr>\n",
       "        <td>Hyderabad</td>\n",
       "        <td>Sindhi</td>\n",
       "    </tr>\n",
       "    <tr>\n",
       "        <td>Hyderabad</td>\n",
       "        <td>Saraiki</td>\n",
       "    </tr>\n",
       "    <tr>\n",
       "        <td>Hyderabad</td>\n",
       "        <td>Pashto</td>\n",
       "    </tr>\n",
       "    <tr>\n",
       "        <td>Hyderabad</td>\n",
       "        <td>Urdu</td>\n",
       "    </tr>\n",
       "    <tr>\n",
       "        <td>Hyderabad</td>\n",
       "        <td>Balochi</td>\n",
       "    </tr>\n",
       "    <tr>\n",
       "        <td>Hyderabad</td>\n",
       "        <td>Hindko</td>\n",
       "    </tr>\n",
       "    <tr>\n",
       "        <td>Hyderabad</td>\n",
       "        <td>Brahui</td>\n",
       "    </tr>\n",
       "    <tr>\n",
       "        <td>Hyderabad</td>\n",
       "        <td>English</td>\n",
       "    </tr>\n",
       "    <tr>\n",
       "        <td>Hyderabad</td>\n",
       "        <td>Burushaski</td>\n",
       "    </tr>\n",
       "    <tr>\n",
       "        <td>Hyderabad</td>\n",
       "        <td>Other</td>\n",
       "    </tr>\n",
       "</table>"
      ],
      "text/plain": [
       "[('Hyderabad (India)', 'Hindi'),\n",
       " ('Hyderabad (India)', 'Bengali'),\n",
       " ('Hyderabad (India)', 'Telugu'),\n",
       " ('Hyderabad (India)', 'Marathi'),\n",
       " ('Hyderabad (India)', 'Tamil'),\n",
       " ('Hyderabad (India)', 'Urdu'),\n",
       " ('Hyderabad (India)', 'Gujarati'),\n",
       " ('Hyderabad (India)', 'Kannada'),\n",
       " ('Hyderabad (India)', 'Malayalam'),\n",
       " ('Hyderabad (India)', 'Oriya'),\n",
       " ('Hyderabad (India)', 'Punjabi'),\n",
       " ('Hyderabad (India)', 'Assamese'),\n",
       " ('Hyderabad (India)', 'Maithili'),\n",
       " ('Hyderabad (India)', 'Other'),\n",
       " ('Hyderabad', 'Punjabi'),\n",
       " ('Hyderabad', 'Sindhi'),\n",
       " ('Hyderabad', 'Saraiki'),\n",
       " ('Hyderabad', 'Pashto'),\n",
       " ('Hyderabad', 'Urdu'),\n",
       " ('Hyderabad', 'Balochi'),\n",
       " ('Hyderabad', 'Hindko'),\n",
       " ('Hyderabad', 'Brahui'),\n",
       " ('Hyderabad', 'English'),\n",
       " ('Hyderabad', 'Burushaski'),\n",
       " ('Hyderabad', 'Other')]"
      ]
     },
     "execution_count": 39,
     "metadata": {},
     "output_type": "execute_result"
    }
   ],
   "source": [
    "%%sql\n",
    "SELECT c.name AS cities, l.name AS language\n",
    "FROM cities AS c\n",
    "    INNER JOIN languages AS l\n",
    "        ON c.country_code = l.code\n",
    "WHERE c.name LIKE 'Hyder%'"
   ]
  }
 ],
 "metadata": {
  "kernelspec": {
   "display_name": "Python 3",
   "language": "python",
   "name": "python3"
  },
  "language_info": {
   "codemirror_mode": {
    "name": "ipython",
    "version": 3
   },
   "file_extension": ".py",
   "mimetype": "text/x-python",
   "name": "python",
   "nbconvert_exporter": "python",
   "pygments_lexer": "ipython3",
   "version": "3.7.4"
  }
 },
 "nbformat": 4,
 "nbformat_minor": 2
}
