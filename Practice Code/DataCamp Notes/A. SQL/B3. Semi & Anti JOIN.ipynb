{
 "cells": [
  {
   "cell_type": "markdown",
   "metadata": {},
   "source": [
    "# SQL Cheat SHeet\n",
    "SEMI JOIN | ANTI JOIN"
   ]
  },
  {
   "cell_type": "code",
   "execution_count": 1,
   "metadata": {},
   "outputs": [],
   "source": [
    "reload_ext sql"
   ]
  },
  {
   "cell_type": "code",
   "execution_count": 2,
   "metadata": {},
   "outputs": [
    {
     "data": {
      "text/plain": [
       "'Connected: @leaders'"
      ]
     },
     "execution_count": 2,
     "metadata": {},
     "output_type": "execute_result"
    }
   ],
   "source": [
    "%%sql\n",
    "postgresql://localhost/leaders"
   ]
  },
  {
   "cell_type": "code",
   "execution_count": 3,
   "metadata": {},
   "outputs": [
    {
     "name": "stdout",
     "output_type": "stream",
     "text": [
      " * postgresql://localhost/leaders\n",
      "7 rows affected.\n"
     ]
    },
    {
     "data": {
      "text/html": [
       "<table>\n",
       "    <tr>\n",
       "        <th>country</th>\n",
       "        <th>continent</th>\n",
       "        <th>president</th>\n",
       "    </tr>\n",
       "    <tr>\n",
       "        <td>Chile</td>\n",
       "        <td>South America</td>\n",
       "        <td>Michelle Bachelet</td>\n",
       "    </tr>\n",
       "    <tr>\n",
       "        <td>Egypt</td>\n",
       "        <td>Africa</td>\n",
       "        <td>Abdel Fattah el-Sisi</td>\n",
       "    </tr>\n",
       "    <tr>\n",
       "        <td>Haiti</td>\n",
       "        <td>North America</td>\n",
       "        <td>Jovenel Moise</td>\n",
       "    </tr>\n",
       "    <tr>\n",
       "        <td>Liberia</td>\n",
       "        <td>Africa</td>\n",
       "        <td>Ellen Johnson Sirleaf</td>\n",
       "    </tr>\n",
       "    <tr>\n",
       "        <td>Portugal</td>\n",
       "        <td>Europe</td>\n",
       "        <td>Marcelo Rebelo de Sousa</td>\n",
       "    </tr>\n",
       "    <tr>\n",
       "        <td>Uruguay</td>\n",
       "        <td>South America</td>\n",
       "        <td>Jose Mujica</td>\n",
       "    </tr>\n",
       "    <tr>\n",
       "        <td>Vietnam</td>\n",
       "        <td>Asia</td>\n",
       "        <td>Tran Dai Quang</td>\n",
       "    </tr>\n",
       "</table>"
      ],
      "text/plain": [
       "[('Chile', 'South America', 'Michelle Bachelet'),\n",
       " ('Egypt', 'Africa', 'Abdel Fattah el-Sisi'),\n",
       " ('Haiti', 'North America', 'Jovenel Moise'),\n",
       " ('Liberia', 'Africa', 'Ellen Johnson Sirleaf'),\n",
       " ('Portugal', 'Europe', 'Marcelo Rebelo de Sousa'),\n",
       " ('Uruguay', 'South America', 'Jose Mujica'),\n",
       " ('Vietnam', 'Asia', 'Tran Dai Quang')]"
      ]
     },
     "execution_count": 3,
     "metadata": {},
     "output_type": "execute_result"
    }
   ],
   "source": [
    "%%sql\n",
    "SELECT * FROM presidents\n",
    "ORDER BY country"
   ]
  },
  {
   "cell_type": "code",
   "execution_count": 4,
   "metadata": {},
   "outputs": [
    {
     "name": "stdout",
     "output_type": "stream",
     "text": [
      " * postgresql://localhost/leaders\n",
      "2 rows affected.\n"
     ]
    },
    {
     "data": {
      "text/html": [
       "<table>\n",
       "    <tr>\n",
       "        <th>name</th>\n",
       "    </tr>\n",
       "    <tr>\n",
       "        <td>Portugal</td>\n",
       "    </tr>\n",
       "    <tr>\n",
       "        <td>Spain</td>\n",
       "    </tr>\n",
       "</table>"
      ],
      "text/plain": [
       "[('Portugal',), ('Spain',)]"
      ]
     },
     "execution_count": 4,
     "metadata": {},
     "output_type": "execute_result"
    }
   ],
   "source": [
    "%%sql\n",
    "SELECT name FROM states\n",
    "WHERE indep_year < 1800\n",
    "ORDER BY name"
   ]
  },
  {
   "cell_type": "markdown",
   "metadata": {},
   "source": [
    "___"
   ]
  },
  {
   "cell_type": "markdown",
   "metadata": {},
   "source": [
    "## 1. SEMI JOIN\n",
    "Diplays records in the first table WHERE a condition IS MET in the second table"
   ]
  },
  {
   "cell_type": "markdown",
   "metadata": {},
   "source": [
    "- Display the presidents who's countried got indepence before 1800"
   ]
  },
  {
   "cell_type": "code",
   "execution_count": 5,
   "metadata": {},
   "outputs": [
    {
     "name": "stdout",
     "output_type": "stream",
     "text": [
      " * postgresql://localhost/leaders\n",
      "1 rows affected.\n"
     ]
    },
    {
     "data": {
      "text/html": [
       "<table>\n",
       "    <tr>\n",
       "        <th>president</th>\n",
       "        <th>country</th>\n",
       "        <th>continent</th>\n",
       "    </tr>\n",
       "    <tr>\n",
       "        <td>Marcelo Rebelo de Sousa</td>\n",
       "        <td>Portugal</td>\n",
       "        <td>Europe</td>\n",
       "    </tr>\n",
       "</table>"
      ],
      "text/plain": [
       "[('Marcelo Rebelo de Sousa', 'Portugal', 'Europe')]"
      ]
     },
     "execution_count": 5,
     "metadata": {},
     "output_type": "execute_result"
    }
   ],
   "source": [
    "%%sql\n",
    "SELECT president, country, continent \n",
    "FROM presidents\n",
    "WHERE country IN\n",
    "    (SELECT name FROM states\n",
    "     WHERE indep_year < 1800)\n",
    "ORDER BY country;"
   ]
  },
  {
   "cell_type": "markdown",
   "metadata": {},
   "source": [
    "___"
   ]
  },
  {
   "cell_type": "markdown",
   "metadata": {},
   "source": [
    "- Connecting to countries database"
   ]
  },
  {
   "cell_type": "code",
   "execution_count": 10,
   "metadata": {},
   "outputs": [
    {
     "data": {
      "text/plain": [
       "'Connected: @countries'"
      ]
     },
     "execution_count": 10,
     "metadata": {},
     "output_type": "execute_result"
    }
   ],
   "source": [
    "%%sql\n",
    "postgresql://localhost/countries"
   ]
  },
  {
   "cell_type": "code",
   "execution_count": 25,
   "metadata": {},
   "outputs": [
    {
     "name": "stdout",
     "output_type": "stream",
     "text": [
      " * postgresql://localhost/countries\n",
      "   postgresql://localhost/leaders\n",
      "5 rows affected.\n"
     ]
    },
    {
     "data": {
      "text/html": [
       "<table>\n",
       "    <tr>\n",
       "        <th>code</th>\n",
       "        <th>name</th>\n",
       "        <th>continent</th>\n",
       "        <th>region</th>\n",
       "        <th>surface_area</th>\n",
       "        <th>indep_year</th>\n",
       "        <th>local_name</th>\n",
       "        <th>gov_form</th>\n",
       "        <th>capital</th>\n",
       "        <th>cap_long</th>\n",
       "        <th>cap_lat</th>\n",
       "    </tr>\n",
       "    <tr>\n",
       "        <td>AFG</td>\n",
       "        <td>Afghanistan</td>\n",
       "        <td>Asia</td>\n",
       "        <td>Southern and Central Asia</td>\n",
       "        <td>652090.0</td>\n",
       "        <td>1919</td>\n",
       "        <td>Afganistan/Afqanestan</td>\n",
       "        <td>Islamic Emirate</td>\n",
       "        <td>Kabul</td>\n",
       "        <td>69.1761</td>\n",
       "        <td>34.5228</td>\n",
       "    </tr>\n",
       "    <tr>\n",
       "        <td>NLD</td>\n",
       "        <td>Netherlands</td>\n",
       "        <td>Europe</td>\n",
       "        <td>Western Europe</td>\n",
       "        <td>41526.0</td>\n",
       "        <td>1581</td>\n",
       "        <td>Nederland</td>\n",
       "        <td>Constitutional Monarchy</td>\n",
       "        <td>Amsterdam</td>\n",
       "        <td>4.89095</td>\n",
       "        <td>52.3738</td>\n",
       "    </tr>\n",
       "    <tr>\n",
       "        <td>ALB</td>\n",
       "        <td>Albania</td>\n",
       "        <td>Europe</td>\n",
       "        <td>Southern Europe</td>\n",
       "        <td>28748.0</td>\n",
       "        <td>1912</td>\n",
       "        <td>Shqiperia</td>\n",
       "        <td>Republic</td>\n",
       "        <td>Tirane</td>\n",
       "        <td>19.8172</td>\n",
       "        <td>41.3317</td>\n",
       "    </tr>\n",
       "    <tr>\n",
       "        <td>DZA</td>\n",
       "        <td>Algeria</td>\n",
       "        <td>Africa</td>\n",
       "        <td>Northern Africa</td>\n",
       "        <td>2381740.0</td>\n",
       "        <td>1962</td>\n",
       "        <td>Al-Jazair/Algerie</td>\n",
       "        <td>Republic</td>\n",
       "        <td>Algiers</td>\n",
       "        <td>3.05097</td>\n",
       "        <td>36.7397</td>\n",
       "    </tr>\n",
       "    <tr>\n",
       "        <td>ASM</td>\n",
       "        <td>American Samoa</td>\n",
       "        <td>Oceania</td>\n",
       "        <td>Polynesia</td>\n",
       "        <td>199.0</td>\n",
       "        <td>None</td>\n",
       "        <td>Amerika Samoa</td>\n",
       "        <td>US Territory</td>\n",
       "        <td>Pago Pago</td>\n",
       "        <td>-170.691</td>\n",
       "        <td>-14.2846</td>\n",
       "    </tr>\n",
       "</table>"
      ],
      "text/plain": [
       "[('AFG', 'Afghanistan', 'Asia', 'Southern and Central Asia', 652090.0, 1919, 'Afganistan/Afqanestan', 'Islamic Emirate', 'Kabul', 69.1761, 34.5228),\n",
       " ('NLD', 'Netherlands', 'Europe', 'Western Europe', 41526.0, 1581, 'Nederland', 'Constitutional Monarchy', 'Amsterdam', 4.89095, 52.3738),\n",
       " ('ALB', 'Albania', 'Europe', 'Southern Europe', 28748.0, 1912, 'Shqiperia', 'Republic', 'Tirane', 19.8172, 41.3317),\n",
       " ('DZA', 'Algeria', 'Africa', 'Northern Africa', 2381740.0, 1962, 'Al-Jaza\\x92ir/Algerie', 'Republic', 'Algiers', 3.05097, 36.7397),\n",
       " ('ASM', 'American Samoa', 'Oceania', 'Polynesia', 199.0, None, 'Amerika Samoa', 'US Territory', 'Pago Pago', -170.691, -14.2846)]"
      ]
     },
     "execution_count": 25,
     "metadata": {},
     "output_type": "execute_result"
    }
   ],
   "source": [
    "%%sql\n",
    "SELECT * FROM countries\n",
    "LIMIT 5;"
   ]
  },
  {
   "cell_type": "code",
   "execution_count": 13,
   "metadata": {},
   "outputs": [
    {
     "name": "stdout",
     "output_type": "stream",
     "text": [
      " * postgresql://localhost/countries\n",
      "   postgresql://localhost/leaders\n",
      "1 rows affected.\n"
     ]
    },
    {
     "data": {
      "text/html": [
       "<table>\n",
       "    <tr>\n",
       "        <th>lang_id</th>\n",
       "        <th>code</th>\n",
       "        <th>name</th>\n",
       "        <th>percent</th>\n",
       "        <th>official</th>\n",
       "    </tr>\n",
       "    <tr>\n",
       "        <td>1</td>\n",
       "        <td>AFG</td>\n",
       "        <td>Dari</td>\n",
       "        <td>50.0</td>\n",
       "        <td>True</td>\n",
       "    </tr>\n",
       "</table>"
      ],
      "text/plain": [
       "[(1, 'AFG', 'Dari', 50.0, True)]"
      ]
     },
     "execution_count": 13,
     "metadata": {},
     "output_type": "execute_result"
    }
   ],
   "source": [
    "%%sql\n",
    "SELECT * FROM languages\n",
    "LIMIT 1;"
   ]
  },
  {
   "cell_type": "markdown",
   "metadata": {},
   "source": [
    "___"
   ]
  },
  {
   "cell_type": "markdown",
   "metadata": {},
   "source": [
    "- Use the concept of a semi-join to identify languages spoken in the Middle East."
   ]
  },
  {
   "cell_type": "markdown",
   "metadata": {},
   "source": []
  },
  {
   "cell_type": "code",
   "execution_count": 39,
   "metadata": {},
   "outputs": [
    {
     "name": "stdout",
     "output_type": "stream",
     "text": [
      " * postgresql://localhost/countries\n",
      "   postgresql://localhost/leaders\n",
      "3 rows affected.\n"
     ]
    },
    {
     "data": {
      "text/html": [
       "<table>\n",
       "    <tr>\n",
       "        <th>language</th>\n",
       "    </tr>\n",
       "    <tr>\n",
       "        <td>Arabic</td>\n",
       "    </tr>\n",
       "    <tr>\n",
       "        <td>Aramaic</td>\n",
       "    </tr>\n",
       "    <tr>\n",
       "        <td>Armenian</td>\n",
       "    </tr>\n",
       "</table>"
      ],
      "text/plain": [
       "[('Arabic',), ('Aramaic',), ('Armenian',)]"
      ]
     },
     "execution_count": 39,
     "metadata": {},
     "output_type": "execute_result"
    }
   ],
   "source": [
    "%%sql\n",
    "SELECT DISTINCT(name) AS language FROM languages\n",
    "WHERE code IN \n",
    "    (SELECT code FROM countries\n",
    "     WHERE region = 'Middle East')\n",
    "ORDER BY name\n",
    "LIMIT 3;"
   ]
  },
  {
   "cell_type": "markdown",
   "metadata": {},
   "source": [
    "___"
   ]
  },
  {
   "cell_type": "markdown",
   "metadata": {},
   "source": [
    "## 2. ANTI JOIN\n",
    "Displays records in the first table where a condition IS NOT MET in the second table"
   ]
  },
  {
   "cell_type": "code",
   "execution_count": 52,
   "metadata": {},
   "outputs": [
    {
     "data": {
      "text/plain": [
       "'Connected: @leaders'"
      ]
     },
     "execution_count": 52,
     "metadata": {},
     "output_type": "execute_result"
    }
   ],
   "source": [
    "%%sql\n",
    "postgresql://localhost/leaders"
   ]
  },
  {
   "cell_type": "markdown",
   "metadata": {},
   "source": [
    "- DIsplay countries in the americas who got independence after 1800"
   ]
  },
  {
   "cell_type": "code",
   "execution_count": 6,
   "metadata": {},
   "outputs": [
    {
     "name": "stdout",
     "output_type": "stream",
     "text": [
      " * postgresql://localhost/leaders\n",
      "3 rows affected.\n"
     ]
    },
    {
     "data": {
      "text/html": [
       "<table>\n",
       "    <tr>\n",
       "        <th>president</th>\n",
       "        <th>country</th>\n",
       "        <th>continent</th>\n",
       "    </tr>\n",
       "    <tr>\n",
       "        <td>Michelle Bachelet</td>\n",
       "        <td>Chile</td>\n",
       "        <td>South America</td>\n",
       "    </tr>\n",
       "    <tr>\n",
       "        <td>Jovenel Moise</td>\n",
       "        <td>Haiti</td>\n",
       "        <td>North America</td>\n",
       "    </tr>\n",
       "    <tr>\n",
       "        <td>Jose Mujica</td>\n",
       "        <td>Uruguay</td>\n",
       "        <td>South America</td>\n",
       "    </tr>\n",
       "</table>"
      ],
      "text/plain": [
       "[('Michelle Bachelet', 'Chile', 'South America'),\n",
       " ('Jovenel Moise', 'Haiti', 'North America'),\n",
       " ('Jose Mujica', 'Uruguay', 'South America')]"
      ]
     },
     "execution_count": 6,
     "metadata": {},
     "output_type": "execute_result"
    }
   ],
   "source": [
    "%%sql\n",
    "SELECT president, country, continent \n",
    "FROM presidents\n",
    "WHERE continent LIKE '%America'\n",
    "AND country NOT IN\n",
    "    (SELECT name FROM states\n",
    "     WHERE indep_year < 1800)\n",
    "ORDER BY country;"
   ]
  },
  {
   "cell_type": "markdown",
   "metadata": {},
   "source": [
    "___"
   ]
  },
  {
   "cell_type": "markdown",
   "metadata": {},
   "source": [
    "- Connecting to countries database"
   ]
  },
  {
   "cell_type": "code",
   "execution_count": 44,
   "metadata": {},
   "outputs": [
    {
     "data": {
      "text/plain": [
       "'Connected: @countries'"
      ]
     },
     "execution_count": 44,
     "metadata": {},
     "output_type": "execute_result"
    }
   ],
   "source": [
    "%%sql\n",
    "postgresql://localhost/countries"
   ]
  },
  {
   "cell_type": "code",
   "execution_count": 47,
   "metadata": {},
   "outputs": [
    {
     "name": "stdout",
     "output_type": "stream",
     "text": [
      " * postgresql://localhost/countries\n",
      "   postgresql://localhost/leaders\n",
      "1 rows affected.\n"
     ]
    },
    {
     "data": {
      "text/html": [
       "<table>\n",
       "    <tr>\n",
       "        <th>curr_id</th>\n",
       "        <th>code</th>\n",
       "        <th>basic_unit</th>\n",
       "        <th>curr_code</th>\n",
       "        <th>frac_unit</th>\n",
       "        <th>frac_perbasic</th>\n",
       "    </tr>\n",
       "    <tr>\n",
       "        <td>1</td>\n",
       "        <td>AFG</td>\n",
       "        <td>Afghan afghani</td>\n",
       "        <td>AFN</td>\n",
       "        <td>Pul</td>\n",
       "        <td>100.0</td>\n",
       "    </tr>\n",
       "</table>"
      ],
      "text/plain": [
       "[(1, 'AFG', 'Afghan afghani', 'AFN', 'Pul', 100.0)]"
      ]
     },
     "execution_count": 47,
     "metadata": {},
     "output_type": "execute_result"
    }
   ],
   "source": [
    "%%sql\n",
    "SELECT * FROM currencies\n",
    "LIMIT 1;"
   ]
  },
  {
   "cell_type": "markdown",
   "metadata": {},
   "source": [
    "___"
   ]
  },
  {
   "cell_type": "markdown",
   "metadata": {},
   "source": [
    "- LOOK INTO: when using inner joing some valuessome results may not be included, using an anti join can tell you waht values were left out??? wtf does this meean? why do inner join leave out values. SEE Set theory anti join exercises"
   ]
  },
  {
   "cell_type": "markdown",
   "metadata": {},
   "source": [
    "___"
   ]
  },
  {
   "cell_type": "markdown",
   "metadata": {},
   "source": [
    "## 3. FULL EXAMPLE\n",
    "Identify the country codes that are included in either economies or currencies but not in populations.\n",
    "Use that result to determine the names of cities in the countries that match the specification in the previous instruction."
   ]
  },
  {
   "cell_type": "code",
   "execution_count": 54,
   "metadata": {},
   "outputs": [
    {
     "name": "stdout",
     "output_type": "stream",
     "text": [
      " * postgresql://localhost/countries\n",
      "   postgresql://localhost/leaders\n",
      "6 rows affected.\n"
     ]
    },
    {
     "data": {
      "text/html": [
       "<table>\n",
       "    <tr>\n",
       "        <th>name</th>\n",
       "    </tr>\n",
       "    <tr>\n",
       "        <td>Bucharest</td>\n",
       "    </tr>\n",
       "    <tr>\n",
       "        <td>Kaohsiung</td>\n",
       "    </tr>\n",
       "    <tr>\n",
       "        <td>New Taipei City</td>\n",
       "    </tr>\n",
       "    <tr>\n",
       "        <td>Taichung</td>\n",
       "    </tr>\n",
       "    <tr>\n",
       "        <td>Tainan</td>\n",
       "    </tr>\n",
       "    <tr>\n",
       "        <td>Taipei</td>\n",
       "    </tr>\n",
       "</table>"
      ],
      "text/plain": [
       "[('Bucharest',),\n",
       " ('Kaohsiung',),\n",
       " ('New Taipei City',),\n",
       " ('Taichung',),\n",
       " ('Tainan',),\n",
       " ('Taipei',)]"
      ]
     },
     "execution_count": 54,
     "metadata": {},
     "output_type": "execute_result"
    }
   ],
   "source": [
    "%%sql\n",
    "SELECT name FROM cities AS c1\n",
    "WHERE country_code IN (\n",
    "        SELECT e.code\n",
    "        FROM economies AS e\n",
    "        UNION\n",
    "        SELECT c2.code\n",
    "        FROM currencies AS c2\n",
    "    \n",
    "        EXCEPT\n",
    "        SELECT p.country_code\n",
    "        FROM populations AS p );"
   ]
  },
  {
   "cell_type": "code",
   "execution_count": null,
   "metadata": {},
   "outputs": [],
   "source": []
  },
  {
   "cell_type": "code",
   "execution_count": null,
   "metadata": {},
   "outputs": [],
   "source": []
  },
  {
   "cell_type": "code",
   "execution_count": null,
   "metadata": {},
   "outputs": [],
   "source": []
  }
 ],
 "metadata": {
  "kernelspec": {
   "display_name": "Python 3",
   "language": "python",
   "name": "python3"
  },
  "language_info": {
   "codemirror_mode": {
    "name": "ipython",
    "version": 3
   },
   "file_extension": ".py",
   "mimetype": "text/x-python",
   "name": "python",
   "nbconvert_exporter": "python",
   "pygments_lexer": "ipython3",
   "version": "3.7.4"
  }
 },
 "nbformat": 4,
 "nbformat_minor": 2
}
