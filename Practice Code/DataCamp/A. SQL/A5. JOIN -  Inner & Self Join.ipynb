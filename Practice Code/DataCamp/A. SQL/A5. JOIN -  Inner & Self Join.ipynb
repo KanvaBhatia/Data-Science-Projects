{
 "cells": [
  {
   "cell_type": "markdown",
   "metadata": {},
   "source": [
    "# SQL Cheat Sheet: Inner Join"
   ]
  },
  {
   "cell_type": "markdown",
   "metadata": {},
   "source": [
    "- An Inner join only includes records for which the key(values) is in both tables. SEE ONENOTE"
   ]
  },
  {
   "cell_type": "markdown",
   "metadata": {},
   "source": [
    "## 0. DATABASE TABLES USED"
   ]
  },
  {
   "cell_type": "code",
   "execution_count": 23,
   "metadata": {
    "scrolled": true
   },
   "outputs": [
    {
     "data": {
      "text/plain": [
       "'Connected: @leaders'"
      ]
     },
     "execution_count": 23,
     "metadata": {},
     "output_type": "execute_result"
    }
   ],
   "source": [
    "%reload_ext sql\n",
    "\n",
    "\n",
    "%sql postgresql://localhost/leaders"
   ]
  },
  {
   "cell_type": "code",
   "execution_count": 29,
   "metadata": {},
   "outputs": [
    {
     "name": "stdout",
     "output_type": "stream",
     "text": [
      "   postgresql://localhost/countries\n",
      " * postgresql://localhost/leaders\n",
      "10 rows affected.\n"
     ]
    },
    {
     "data": {
      "text/html": [
       "<table>\n",
       "    <tr>\n",
       "        <th>country</th>\n",
       "        <th>continent</th>\n",
       "        <th>prime_minister</th>\n",
       "    </tr>\n",
       "    <tr>\n",
       "        <td>Egypt</td>\n",
       "        <td>Africa</td>\n",
       "        <td>Sherif Ismail</td>\n",
       "    </tr>\n",
       "    <tr>\n",
       "        <td>Portugal</td>\n",
       "        <td>Europe</td>\n",
       "        <td>Antonio Costa</td>\n",
       "    </tr>\n",
       "    <tr>\n",
       "        <td>Vietnam</td>\n",
       "        <td>Asia</td>\n",
       "        <td>Nguyen Xuan Phuc</td>\n",
       "    </tr>\n",
       "    <tr>\n",
       "        <td>Haiti</td>\n",
       "        <td>North America</td>\n",
       "        <td>Jack Guy Lafontant</td>\n",
       "    </tr>\n",
       "    <tr>\n",
       "        <td>India</td>\n",
       "        <td>Asia</td>\n",
       "        <td>Narendra Modi</td>\n",
       "    </tr>\n",
       "    <tr>\n",
       "        <td>Australia</td>\n",
       "        <td>Oceania</td>\n",
       "        <td>Malcolm Turnbull</td>\n",
       "    </tr>\n",
       "    <tr>\n",
       "        <td>Norway</td>\n",
       "        <td>Europe</td>\n",
       "        <td>Erna Solberg</td>\n",
       "    </tr>\n",
       "    <tr>\n",
       "        <td>Brunei</td>\n",
       "        <td>Asia</td>\n",
       "        <td>Hassanal Bolkiah</td>\n",
       "    </tr>\n",
       "    <tr>\n",
       "        <td>Oman</td>\n",
       "        <td>Asia</td>\n",
       "        <td>Qaboos bin Said al Said</td>\n",
       "    </tr>\n",
       "    <tr>\n",
       "        <td>Spain</td>\n",
       "        <td>Europe</td>\n",
       "        <td>Mariano Rajoy</td>\n",
       "    </tr>\n",
       "</table>"
      ],
      "text/plain": [
       "[('Egypt', 'Africa', 'Sherif Ismail'),\n",
       " ('Portugal', 'Europe', 'Antonio Costa'),\n",
       " ('Vietnam', 'Asia', 'Nguyen Xuan Phuc'),\n",
       " ('Haiti', 'North America', 'Jack Guy Lafontant'),\n",
       " ('India', 'Asia', 'Narendra Modi'),\n",
       " ('Australia', 'Oceania', 'Malcolm Turnbull'),\n",
       " ('Norway', 'Europe', 'Erna Solberg'),\n",
       " ('Brunei', 'Asia', 'Hassanal Bolkiah'),\n",
       " ('Oman', 'Asia', 'Qaboos bin Said al Said'),\n",
       " ('Spain', 'Europe', 'Mariano Rajoy')]"
      ]
     },
     "execution_count": 29,
     "metadata": {},
     "output_type": "execute_result"
    }
   ],
   "source": [
    "%%sql\n",
    "\n",
    "SELECT * FROM prime_ministers;"
   ]
  },
  {
   "cell_type": "code",
   "execution_count": 28,
   "metadata": {},
   "outputs": [
    {
     "name": "stdout",
     "output_type": "stream",
     "text": [
      "   postgresql://localhost/countries\n",
      " * postgresql://localhost/leaders\n",
      "7 rows affected.\n"
     ]
    },
    {
     "data": {
      "text/html": [
       "<table>\n",
       "    <tr>\n",
       "        <th>country</th>\n",
       "        <th>continent</th>\n",
       "        <th>president</th>\n",
       "    </tr>\n",
       "    <tr>\n",
       "        <td>Egypt</td>\n",
       "        <td>Africa</td>\n",
       "        <td>Abdel Fattah el-Sisi</td>\n",
       "    </tr>\n",
       "    <tr>\n",
       "        <td>Portugal</td>\n",
       "        <td>Europe</td>\n",
       "        <td>Marcelo Rebelo de Sousa</td>\n",
       "    </tr>\n",
       "    <tr>\n",
       "        <td>Haiti</td>\n",
       "        <td>North America</td>\n",
       "        <td>Jovenel Moise</td>\n",
       "    </tr>\n",
       "    <tr>\n",
       "        <td>Uruguay</td>\n",
       "        <td>South America</td>\n",
       "        <td>Jose Mujica</td>\n",
       "    </tr>\n",
       "    <tr>\n",
       "        <td>Liberia</td>\n",
       "        <td>Africa</td>\n",
       "        <td>Ellen Johnson Sirleaf</td>\n",
       "    </tr>\n",
       "    <tr>\n",
       "        <td>Chile</td>\n",
       "        <td>South America</td>\n",
       "        <td>Michelle Bachelet</td>\n",
       "    </tr>\n",
       "    <tr>\n",
       "        <td>Vietnam</td>\n",
       "        <td>Asia</td>\n",
       "        <td>Tran Dai Quang</td>\n",
       "    </tr>\n",
       "</table>"
      ],
      "text/plain": [
       "[('Egypt', 'Africa', 'Abdel Fattah el-Sisi'),\n",
       " ('Portugal', 'Europe', 'Marcelo Rebelo de Sousa'),\n",
       " ('Haiti', 'North America', 'Jovenel Moise'),\n",
       " ('Uruguay', 'South America', 'Jose Mujica'),\n",
       " ('Liberia', 'Africa', 'Ellen Johnson Sirleaf'),\n",
       " ('Chile', 'South America', 'Michelle Bachelet'),\n",
       " ('Vietnam', 'Asia', 'Tran Dai Quang')]"
      ]
     },
     "execution_count": 28,
     "metadata": {},
     "output_type": "execute_result"
    }
   ],
   "source": [
    "%%sql\n",
    "\n",
    "SELECT * FROM presidents;"
   ]
  },
  {
   "cell_type": "markdown",
   "metadata": {},
   "source": [
    "___"
   ]
  },
  {
   "cell_type": "markdown",
   "metadata": {},
   "source": [
    "## 2. INNER JOIN"
   ]
  },
  {
   "cell_type": "markdown",
   "metadata": {},
   "source": [
    "- ### 2.1. EXAMPLE 1\n",
    " - ON p1.country = p2.country will match them up based on the country column\n",
    " - i.e. wehere both tables have the same value for country"
   ]
  },
  {
   "cell_type": "code",
   "execution_count": 34,
   "metadata": {},
   "outputs": [
    {
     "name": "stdout",
     "output_type": "stream",
     "text": [
      "   postgresql://localhost/countries\n",
      " * postgresql://localhost/leaders\n",
      "4 rows affected.\n"
     ]
    },
    {
     "data": {
      "text/html": [
       "<table>\n",
       "    <tr>\n",
       "        <th>country</th>\n",
       "        <th>continent</th>\n",
       "        <th>president</th>\n",
       "        <th>prime_minister</th>\n",
       "    </tr>\n",
       "    <tr>\n",
       "        <td>Egypt</td>\n",
       "        <td>Africa</td>\n",
       "        <td>Abdel Fattah el-Sisi</td>\n",
       "        <td>Sherif Ismail</td>\n",
       "    </tr>\n",
       "    <tr>\n",
       "        <td>Portugal</td>\n",
       "        <td>Europe</td>\n",
       "        <td>Marcelo Rebelo de Sousa</td>\n",
       "        <td>Antonio Costa</td>\n",
       "    </tr>\n",
       "    <tr>\n",
       "        <td>Haiti</td>\n",
       "        <td>North America</td>\n",
       "        <td>Jovenel Moise</td>\n",
       "        <td>Jack Guy Lafontant</td>\n",
       "    </tr>\n",
       "    <tr>\n",
       "        <td>Vietnam</td>\n",
       "        <td>Asia</td>\n",
       "        <td>Tran Dai Quang</td>\n",
       "        <td>Nguyen Xuan Phuc</td>\n",
       "    </tr>\n",
       "</table>"
      ],
      "text/plain": [
       "[('Egypt', 'Africa', 'Abdel Fattah el-Sisi', 'Sherif Ismail'),\n",
       " ('Portugal', 'Europe', 'Marcelo Rebelo de Sousa', 'Antonio Costa'),\n",
       " ('Haiti', 'North America', 'Jovenel Moise', 'Jack Guy Lafontant'),\n",
       " ('Vietnam', 'Asia', 'Tran Dai Quang', 'Nguyen Xuan Phuc')]"
      ]
     },
     "execution_count": 34,
     "metadata": {},
     "output_type": "execute_result"
    }
   ],
   "source": [
    "%%sql\n",
    "SELECT p1.country, p1.continent, president, prime_minister\n",
    "FROM presidents AS p1\n",
    "    INNER JOIN prime_ministers AS p2\n",
    "        ON p1.country = p2.country;"
   ]
  },
  {
   "cell_type": "markdown",
   "metadata": {},
   "source": [
    "___"
   ]
  },
  {
   "cell_type": "markdown",
   "metadata": {},
   "source": [
    "- ### 2.2. EXAMPLE 2\n",
    "- Connect to the countries DB"
   ]
  },
  {
   "cell_type": "code",
   "execution_count": 35,
   "metadata": {},
   "outputs": [
    {
     "data": {
      "text/plain": [
       "'Connected: @countries'"
      ]
     },
     "execution_count": 35,
     "metadata": {},
     "output_type": "execute_result"
    }
   ],
   "source": [
    "%sql postgresql://localhost/countries"
   ]
  },
  {
   "cell_type": "markdown",
   "metadata": {},
   "source": [
    "### Cities Table"
   ]
  },
  {
   "cell_type": "code",
   "execution_count": 36,
   "metadata": {},
   "outputs": [
    {
     "name": "stdout",
     "output_type": "stream",
     "text": [
      " * postgresql://localhost/countries\n",
      "   postgresql://localhost/leaders\n",
      "1 rows affected.\n"
     ]
    },
    {
     "data": {
      "text/html": [
       "<table>\n",
       "    <tr>\n",
       "        <th>name</th>\n",
       "        <th>country_code</th>\n",
       "        <th>city_proper_pop</th>\n",
       "        <th>metroarea_pop</th>\n",
       "        <th>urbanarea_pop</th>\n",
       "    </tr>\n",
       "    <tr>\n",
       "        <td>Abidjan</td>\n",
       "        <td>CIV</td>\n",
       "        <td>4765000.0</td>\n",
       "        <td>None</td>\n",
       "        <td>4765000.0</td>\n",
       "    </tr>\n",
       "</table>"
      ],
      "text/plain": [
       "[('Abidjan', 'CIV', 4765000.0, None, 4765000.0)]"
      ]
     },
     "execution_count": 36,
     "metadata": {},
     "output_type": "execute_result"
    }
   ],
   "source": [
    "%%sql\n",
    "SELECT * FROM cities LIMIT 1;"
   ]
  },
  {
   "cell_type": "markdown",
   "metadata": {},
   "source": [
    "### Countries Table"
   ]
  },
  {
   "cell_type": "code",
   "execution_count": 7,
   "metadata": {},
   "outputs": [
    {
     "name": "stdout",
     "output_type": "stream",
     "text": [
      " * postgresql://localhost/countries\n",
      "   postgresql://localhost/leaders\n",
      "1 rows affected.\n"
     ]
    },
    {
     "data": {
      "text/html": [
       "<table>\n",
       "    <tr>\n",
       "        <th>code</th>\n",
       "        <th>name</th>\n",
       "        <th>continent</th>\n",
       "        <th>region</th>\n",
       "        <th>surface_area</th>\n",
       "        <th>indep_year</th>\n",
       "        <th>local_name</th>\n",
       "        <th>gov_form</th>\n",
       "        <th>capital</th>\n",
       "        <th>cap_long</th>\n",
       "        <th>cap_lat</th>\n",
       "    </tr>\n",
       "    <tr>\n",
       "        <td>AFG</td>\n",
       "        <td>Afghanistan</td>\n",
       "        <td>Asia</td>\n",
       "        <td>Southern and Central Asia</td>\n",
       "        <td>652090.0</td>\n",
       "        <td>1919</td>\n",
       "        <td>Afganistan/Afqanestan</td>\n",
       "        <td>Islamic Emirate</td>\n",
       "        <td>Kabul</td>\n",
       "        <td>69.1761</td>\n",
       "        <td>34.5228</td>\n",
       "    </tr>\n",
       "</table>"
      ],
      "text/plain": [
       "[('AFG', 'Afghanistan', 'Asia', 'Southern and Central Asia', 652090.0, 1919, 'Afganistan/Afqanestan', 'Islamic Emirate', 'Kabul', 69.1761, 34.5228)]"
      ]
     },
     "execution_count": 7,
     "metadata": {},
     "output_type": "execute_result"
    }
   ],
   "source": [
    "%%sql\n",
    "SELECT * FROM countries LIMIT 1;"
   ]
  },
  {
   "cell_type": "markdown",
   "metadata": {},
   "source": [
    "___"
   ]
  },
  {
   "cell_type": "markdown",
   "metadata": {},
   "source": [
    "- Join the cities table to the countries table, keep only the name of the city, the name of the country, and the name of the region the country resides in."
   ]
  },
  {
   "cell_type": "code",
   "execution_count": 8,
   "metadata": {},
   "outputs": [
    {
     "name": "stdout",
     "output_type": "stream",
     "text": [
      " * postgresql://localhost/countries\n",
      "   postgresql://localhost/leaders\n",
      "2 rows affected.\n"
     ]
    },
    {
     "data": {
      "text/html": [
       "<table>\n",
       "    <tr>\n",
       "        <th>city</th>\n",
       "        <th>country</th>\n",
       "        <th>region</th>\n",
       "    </tr>\n",
       "    <tr>\n",
       "        <td>Abidjan</td>\n",
       "        <td>Cote d&#x27;Ivoire</td>\n",
       "        <td>Western Africa</td>\n",
       "    </tr>\n",
       "    <tr>\n",
       "        <td>Abu Dhabi</td>\n",
       "        <td>United Arab Emirates</td>\n",
       "        <td>Middle East</td>\n",
       "    </tr>\n",
       "</table>"
      ],
      "text/plain": [
       "[('Abidjan', \"Cote d'Ivoire\", 'Western Africa'),\n",
       " ('Abu Dhabi', 'United Arab Emirates', 'Middle East')]"
      ]
     },
     "execution_count": 8,
     "metadata": {},
     "output_type": "execute_result"
    }
   ],
   "source": [
    "%%sql\n",
    "SELECT cities.name AS city, countries.name AS country, countries.region\n",
    "FROM cities\n",
    "  INNER JOIN countries\n",
    "    ON cities.country_code = countries.code LIMIT 2;"
   ]
  },
  {
   "cell_type": "markdown",
   "metadata": {},
   "source": [
    "___"
   ]
  },
  {
   "cell_type": "markdown",
   "metadata": {},
   "source": [
    "### 2.3.  EXAMPLE 3\n",
    "- Join the tables countries (left) and economies (right) aliasing countries AS c and economies AS e."
   ]
  },
  {
   "cell_type": "markdown",
   "metadata": {},
   "source": [
    "### Economies Table"
   ]
  },
  {
   "cell_type": "code",
   "execution_count": 37,
   "metadata": {
    "scrolled": false
   },
   "outputs": [
    {
     "name": "stdout",
     "output_type": "stream",
     "text": [
      " * postgresql://localhost/countries\n",
      "   postgresql://localhost/leaders\n",
      "2 rows affected.\n"
     ]
    },
    {
     "data": {
      "text/html": [
       "<table>\n",
       "    <tr>\n",
       "        <th>econ_id</th>\n",
       "        <th>code</th>\n",
       "        <th>year</th>\n",
       "        <th>income_group</th>\n",
       "        <th>gdp_percapita</th>\n",
       "        <th>gross_savings</th>\n",
       "        <th>inflation_rate</th>\n",
       "        <th>total_investment</th>\n",
       "        <th>unemployment_rate</th>\n",
       "        <th>exports</th>\n",
       "        <th>imports</th>\n",
       "    </tr>\n",
       "    <tr>\n",
       "        <td>1</td>\n",
       "        <td>AFG</td>\n",
       "        <td>2010</td>\n",
       "        <td>Low income</td>\n",
       "        <td>539.667</td>\n",
       "        <td>37.133</td>\n",
       "        <td>2.179</td>\n",
       "        <td>30.402</td>\n",
       "        <td>None</td>\n",
       "        <td>46.394</td>\n",
       "        <td>24.381</td>\n",
       "    </tr>\n",
       "    <tr>\n",
       "        <td>2</td>\n",
       "        <td>AFG</td>\n",
       "        <td>2015</td>\n",
       "        <td>Low income</td>\n",
       "        <td>615.091</td>\n",
       "        <td>21.466</td>\n",
       "        <td>-1.549</td>\n",
       "        <td>18.602</td>\n",
       "        <td>None</td>\n",
       "        <td>-49.11</td>\n",
       "        <td>-7.294</td>\n",
       "    </tr>\n",
       "</table>"
      ],
      "text/plain": [
       "[(1, 'AFG', 2010, 'Low income', 539.667, 37.133, 2.179, 30.402, None, 46.394, 24.381),\n",
       " (2, 'AFG', 2015, 'Low income', 615.091, 21.466, -1.549, 18.602, None, -49.11, -7.294)]"
      ]
     },
     "execution_count": 37,
     "metadata": {},
     "output_type": "execute_result"
    }
   ],
   "source": [
    "%%sql\n",
    "SELECT * FROM economies LIMIT 2;"
   ]
  },
  {
   "cell_type": "markdown",
   "metadata": {},
   "source": [
    "- Join countries to economies"
   ]
  },
  {
   "cell_type": "code",
   "execution_count": 10,
   "metadata": {},
   "outputs": [
    {
     "name": "stdout",
     "output_type": "stream",
     "text": [
      " * postgresql://localhost/countries\n",
      "   postgresql://localhost/leaders\n",
      "3 rows affected.\n"
     ]
    },
    {
     "data": {
      "text/html": [
       "<table>\n",
       "    <tr>\n",
       "        <th>country_code</th>\n",
       "        <th>name</th>\n",
       "        <th>year</th>\n",
       "        <th>inflation_rate</th>\n",
       "    </tr>\n",
       "    <tr>\n",
       "        <td>AFG</td>\n",
       "        <td>Afghanistan</td>\n",
       "        <td>2010</td>\n",
       "        <td>2.179</td>\n",
       "    </tr>\n",
       "    <tr>\n",
       "        <td>AFG</td>\n",
       "        <td>Afghanistan</td>\n",
       "        <td>2015</td>\n",
       "        <td>-1.549</td>\n",
       "    </tr>\n",
       "    <tr>\n",
       "        <td>AGO</td>\n",
       "        <td>Angola</td>\n",
       "        <td>2010</td>\n",
       "        <td>14.48</td>\n",
       "    </tr>\n",
       "</table>"
      ],
      "text/plain": [
       "[('AFG', 'Afghanistan', 2010, 2.179),\n",
       " ('AFG', 'Afghanistan', 2015, -1.549),\n",
       " ('AGO', 'Angola', 2010, 14.48)]"
      ]
     },
     "execution_count": 10,
     "metadata": {},
     "output_type": "execute_result"
    }
   ],
   "source": [
    "%%sql\n",
    "SELECT c.code AS country_code, name, year, inflation_rate\n",
    "FROM countries AS c\n",
    "    INNER JOIN economies as e\n",
    "        ON c.code = e.code LIMIT 3;"
   ]
  },
  {
   "cell_type": "markdown",
   "metadata": {},
   "source": [
    "___"
   ]
  },
  {
   "cell_type": "markdown",
   "metadata": {},
   "source": [
    "### 2.4 EXAMPLE 4: Join 3 Tables"
   ]
  },
  {
   "cell_type": "markdown",
   "metadata": {},
   "source": [
    "## Populations Table"
   ]
  },
  {
   "cell_type": "code",
   "execution_count": 38,
   "metadata": {},
   "outputs": [
    {
     "name": "stdout",
     "output_type": "stream",
     "text": [
      " * postgresql://localhost/countries\n",
      "   postgresql://localhost/leaders\n",
      "5 rows affected.\n"
     ]
    },
    {
     "data": {
      "text/html": [
       "<table>\n",
       "    <tr>\n",
       "        <th>pop_id</th>\n",
       "        <th>country_code</th>\n",
       "        <th>year</th>\n",
       "        <th>fertility_rate</th>\n",
       "        <th>life_expectancy</th>\n",
       "        <th>size</th>\n",
       "    </tr>\n",
       "    <tr>\n",
       "        <td>20</td>\n",
       "        <td>ABW</td>\n",
       "        <td>2010</td>\n",
       "        <td>1.704</td>\n",
       "        <td>74.95354</td>\n",
       "        <td>101597.0</td>\n",
       "    </tr>\n",
       "    <tr>\n",
       "        <td>19</td>\n",
       "        <td>ABW</td>\n",
       "        <td>2015</td>\n",
       "        <td>1.647</td>\n",
       "        <td>75.573586</td>\n",
       "        <td>103889.0</td>\n",
       "    </tr>\n",
       "    <tr>\n",
       "        <td>2</td>\n",
       "        <td>AFG</td>\n",
       "        <td>2010</td>\n",
       "        <td>5.746</td>\n",
       "        <td>58.97083</td>\n",
       "        <td>27962208.0</td>\n",
       "    </tr>\n",
       "    <tr>\n",
       "        <td>1</td>\n",
       "        <td>AFG</td>\n",
       "        <td>2015</td>\n",
       "        <td>4.653</td>\n",
       "        <td>60.71717</td>\n",
       "        <td>32526562.0</td>\n",
       "    </tr>\n",
       "    <tr>\n",
       "        <td>12</td>\n",
       "        <td>AGO</td>\n",
       "        <td>2010</td>\n",
       "        <td>6.416</td>\n",
       "        <td>50.65417</td>\n",
       "        <td>21219954.0</td>\n",
       "    </tr>\n",
       "</table>"
      ],
      "text/plain": [
       "[(20, 'ABW', 2010, 1.704, 74.95354, 101597.0),\n",
       " (19, 'ABW', 2015, 1.647, 75.573586, 103889.0),\n",
       " (2, 'AFG', 2010, 5.746, 58.97083, 27962208.0),\n",
       " (1, 'AFG', 2015, 4.653, 60.71717, 32526562.0),\n",
       " (12, 'AGO', 2010, 6.416, 50.65417, 21219954.0)]"
      ]
     },
     "execution_count": 38,
     "metadata": {},
     "output_type": "execute_result"
    }
   ],
   "source": [
    "%%sql\n",
    "SELECT * FROM populations LIMIT 5;"
   ]
  },
  {
   "cell_type": "markdown",
   "metadata": {},
   "source": [
    "- JOin the countries table to the populaitons and economies table"
   ]
  },
  {
   "cell_type": "code",
   "execution_count": 41,
   "metadata": {},
   "outputs": [
    {
     "name": "stdout",
     "output_type": "stream",
     "text": [
      " * postgresql://localhost/countries\n",
      "   postgresql://localhost/leaders\n",
      "5 rows affected.\n"
     ]
    },
    {
     "data": {
      "text/html": [
       "<table>\n",
       "    <tr>\n",
       "        <th>code</th>\n",
       "        <th>name</th>\n",
       "        <th>region</th>\n",
       "        <th>year</th>\n",
       "        <th>fertility_rate</th>\n",
       "        <th>unemployment_rate</th>\n",
       "    </tr>\n",
       "    <tr>\n",
       "        <td>AFG</td>\n",
       "        <td>Afghanistan</td>\n",
       "        <td>Southern and Central Asia</td>\n",
       "        <td>2010</td>\n",
       "        <td>5.746</td>\n",
       "        <td>None</td>\n",
       "    </tr>\n",
       "    <tr>\n",
       "        <td>AFG</td>\n",
       "        <td>Afghanistan</td>\n",
       "        <td>Southern and Central Asia</td>\n",
       "        <td>2015</td>\n",
       "        <td>4.653</td>\n",
       "        <td>None</td>\n",
       "    </tr>\n",
       "    <tr>\n",
       "        <td>AGO</td>\n",
       "        <td>Angola</td>\n",
       "        <td>Central Africa</td>\n",
       "        <td>2010</td>\n",
       "        <td>6.416</td>\n",
       "        <td>None</td>\n",
       "    </tr>\n",
       "    <tr>\n",
       "        <td>AGO</td>\n",
       "        <td>Angola</td>\n",
       "        <td>Central Africa</td>\n",
       "        <td>2015</td>\n",
       "        <td>5.996</td>\n",
       "        <td>None</td>\n",
       "    </tr>\n",
       "    <tr>\n",
       "        <td>ALB</td>\n",
       "        <td>Albania</td>\n",
       "        <td>Southern Europe</td>\n",
       "        <td>2010</td>\n",
       "        <td>1.663</td>\n",
       "        <td>14.0</td>\n",
       "    </tr>\n",
       "</table>"
      ],
      "text/plain": [
       "[('AFG', 'Afghanistan', 'Southern and Central Asia', 2010, 5.746, None),\n",
       " ('AFG', 'Afghanistan', 'Southern and Central Asia', 2015, 4.653, None),\n",
       " ('AGO', 'Angola', 'Central Africa', 2010, 6.416, None),\n",
       " ('AGO', 'Angola', 'Central Africa', 2015, 5.996, None),\n",
       " ('ALB', 'Albania', 'Southern Europe', 2010, 1.663, 14.0)]"
      ]
     },
     "execution_count": 41,
     "metadata": {},
     "output_type": "execute_result"
    }
   ],
   "source": [
    "%%sql\n",
    "SELECT c.code, name, region, p.year, fertility_rate, unemployment_rate\n",
    "FROM countries AS c\n",
    "    INNER JOIN populations AS p\n",
    "        ON c.code = p.country_code\n",
    "    INNER JOIN economies AS e\n",
    "        ON c.code = e.code\n",
    "        AND p.year = e.year\n",
    "        LIMIT 5;"
   ]
  },
  {
   "cell_type": "markdown",
   "metadata": {},
   "source": [
    "___"
   ]
  },
  {
   "cell_type": "markdown",
   "metadata": {},
   "source": [
    "___"
   ]
  },
  {
   "cell_type": "markdown",
   "metadata": {},
   "source": [
    "## 3. INNER JOIN via USING\n",
    "- If both tables have a column with the same name you can use USING(col_name) instead of ON col_name = ..."
   ]
  },
  {
   "cell_type": "markdown",
   "metadata": {},
   "source": [
    "### Language Table"
   ]
  },
  {
   "cell_type": "code",
   "execution_count": 13,
   "metadata": {
    "scrolled": true
   },
   "outputs": [
    {
     "name": "stdout",
     "output_type": "stream",
     "text": [
      " * postgresql://localhost/countries\n",
      "   postgresql://localhost/leaders\n",
      "3 rows affected.\n"
     ]
    },
    {
     "data": {
      "text/html": [
       "<table>\n",
       "    <tr>\n",
       "        <th>lang_id</th>\n",
       "        <th>code</th>\n",
       "        <th>name</th>\n",
       "        <th>percent</th>\n",
       "        <th>official</th>\n",
       "    </tr>\n",
       "    <tr>\n",
       "        <td>1</td>\n",
       "        <td>AFG</td>\n",
       "        <td>Dari</td>\n",
       "        <td>50.0</td>\n",
       "        <td>True</td>\n",
       "    </tr>\n",
       "    <tr>\n",
       "        <td>2</td>\n",
       "        <td>AFG</td>\n",
       "        <td>Pashto</td>\n",
       "        <td>35.0</td>\n",
       "        <td>True</td>\n",
       "    </tr>\n",
       "    <tr>\n",
       "        <td>3</td>\n",
       "        <td>AFG</td>\n",
       "        <td>Turkic</td>\n",
       "        <td>11.0</td>\n",
       "        <td>False</td>\n",
       "    </tr>\n",
       "</table>"
      ],
      "text/plain": [
       "[(1, 'AFG', 'Dari', 50.0, True),\n",
       " (2, 'AFG', 'Pashto', 35.0, True),\n",
       " (3, 'AFG', 'Turkic', 11.0, False)]"
      ]
     },
     "execution_count": 13,
     "metadata": {},
     "output_type": "execute_result"
    }
   ],
   "source": [
    "%%sql\n",
    "SELECT * FROM languages\n",
    "LIMIT 3;"
   ]
  },
  {
   "cell_type": "markdown",
   "metadata": {},
   "source": [
    "- Join countries to languages\n",
    " - USING(name) would select countries whose name are akso the language"
   ]
  },
  {
   "cell_type": "code",
   "execution_count": 14,
   "metadata": {},
   "outputs": [
    {
     "name": "stdout",
     "output_type": "stream",
     "text": [
      " * postgresql://localhost/countries\n",
      "   postgresql://localhost/leaders\n",
      "5 rows affected.\n"
     ]
    },
    {
     "data": {
      "text/html": [
       "<table>\n",
       "    <tr>\n",
       "        <th>country</th>\n",
       "        <th>continent</th>\n",
       "        <th>language</th>\n",
       "        <th>official</th>\n",
       "    </tr>\n",
       "    <tr>\n",
       "        <td>Afghanistan</td>\n",
       "        <td>Asia</td>\n",
       "        <td>Dari</td>\n",
       "        <td>True</td>\n",
       "    </tr>\n",
       "    <tr>\n",
       "        <td>Afghanistan</td>\n",
       "        <td>Asia</td>\n",
       "        <td>Pashto</td>\n",
       "        <td>True</td>\n",
       "    </tr>\n",
       "    <tr>\n",
       "        <td>Afghanistan</td>\n",
       "        <td>Asia</td>\n",
       "        <td>Turkic</td>\n",
       "        <td>False</td>\n",
       "    </tr>\n",
       "    <tr>\n",
       "        <td>Afghanistan</td>\n",
       "        <td>Asia</td>\n",
       "        <td>Other</td>\n",
       "        <td>False</td>\n",
       "    </tr>\n",
       "    <tr>\n",
       "        <td>Albania</td>\n",
       "        <td>Europe</td>\n",
       "        <td>Albanian</td>\n",
       "        <td>True</td>\n",
       "    </tr>\n",
       "</table>"
      ],
      "text/plain": [
       "[('Afghanistan', 'Asia', 'Dari', True),\n",
       " ('Afghanistan', 'Asia', 'Pashto', True),\n",
       " ('Afghanistan', 'Asia', 'Turkic', False),\n",
       " ('Afghanistan', 'Asia', 'Other', False),\n",
       " ('Albania', 'Europe', 'Albanian', True)]"
      ]
     },
     "execution_count": 14,
     "metadata": {},
     "output_type": "execute_result"
    }
   ],
   "source": [
    "%%sql\n",
    "SELECT c.name AS country, continent, l.name AS language, Official\n",
    "FROM countries AS c\n",
    "    INNER JOIN languages as l\n",
    "        USING(code)\n",
    "        LIMIT 5;"
   ]
  },
  {
   "cell_type": "markdown",
   "metadata": {},
   "source": [
    "___"
   ]
  },
  {
   "cell_type": "markdown",
   "metadata": {},
   "source": [
    "---"
   ]
  },
  {
   "cell_type": "markdown",
   "metadata": {},
   "source": [
    "## 4. SELF JOINS\n",
    " - COmpare values in a field to other values of the same field in the same table\n",
    " - Wats he point? makes no sense to me why you would do this. "
   ]
  },
  {
   "cell_type": "code",
   "execution_count": 44,
   "metadata": {},
   "outputs": [
    {
     "data": {
      "text/plain": [
       "'Connected: @leaders'"
      ]
     },
     "execution_count": 44,
     "metadata": {},
     "output_type": "execute_result"
    }
   ],
   "source": [
    "%sql postgresql://localhost/leaders"
   ]
  },
  {
   "cell_type": "code",
   "execution_count": 48,
   "metadata": {
    "scrolled": true
   },
   "outputs": [
    {
     "name": "stdout",
     "output_type": "stream",
     "text": [
      "   postgresql://localhost/countries\n",
      " * postgresql://localhost/leaders\n",
      "6 rows affected.\n"
     ]
    },
    {
     "data": {
      "text/html": [
       "<table>\n",
       "    <tr>\n",
       "        <th>country1</th>\n",
       "        <th>country2</th>\n",
       "        <th>continent</th>\n",
       "    </tr>\n",
       "    <tr>\n",
       "        <td>Portugal</td>\n",
       "        <td>Norway</td>\n",
       "        <td>Europe</td>\n",
       "    </tr>\n",
       "    <tr>\n",
       "        <td>Portugal</td>\n",
       "        <td>Spain</td>\n",
       "        <td>Europe</td>\n",
       "    </tr>\n",
       "    <tr>\n",
       "        <td>Vietnam</td>\n",
       "        <td>India</td>\n",
       "        <td>Asia</td>\n",
       "    </tr>\n",
       "    <tr>\n",
       "        <td>Vietnam</td>\n",
       "        <td>Brunei</td>\n",
       "        <td>Asia</td>\n",
       "    </tr>\n",
       "    <tr>\n",
       "        <td>Vietnam</td>\n",
       "        <td>Oman</td>\n",
       "        <td>Asia</td>\n",
       "    </tr>\n",
       "    <tr>\n",
       "        <td>India</td>\n",
       "        <td>Vietnam</td>\n",
       "        <td>Asia</td>\n",
       "    </tr>\n",
       "</table>"
      ],
      "text/plain": [
       "[('Portugal', 'Norway', 'Europe'),\n",
       " ('Portugal', 'Spain', 'Europe'),\n",
       " ('Vietnam', 'India', 'Asia'),\n",
       " ('Vietnam', 'Brunei', 'Asia'),\n",
       " ('Vietnam', 'Oman', 'Asia'),\n",
       " ('India', 'Vietnam', 'Asia')]"
      ]
     },
     "execution_count": 48,
     "metadata": {},
     "output_type": "execute_result"
    }
   ],
   "source": [
    "%%sql\n",
    "SELECT p1.country As country1, p2.country AS country2, p1.continent\n",
    "FROM prime_ministers AS p1\n",
    "    INNER JOIN prime_ministers AS p2\n",
    "        ON p1.continent = p2.continent \n",
    "        AND p1.country <> p2.country\n",
    "LIMIT 6;"
   ]
  },
  {
   "cell_type": "markdown",
   "metadata": {},
   "source": [
    "___"
   ]
  },
  {
   "cell_type": "markdown",
   "metadata": {},
   "source": [
    "In this exercise, you'll use the populations table to perform a self-join to calculate the percentage increase in population from 2010 to 2015 for each country code!"
   ]
  },
  {
   "cell_type": "code",
   "execution_count": 49,
   "metadata": {},
   "outputs": [
    {
     "data": {
      "text/plain": [
       "'Connected: @countries'"
      ]
     },
     "execution_count": 49,
     "metadata": {},
     "output_type": "execute_result"
    }
   ],
   "source": [
    "%sql postgresql://localhost/countries"
   ]
  },
  {
   "cell_type": "code",
   "execution_count": 50,
   "metadata": {},
   "outputs": [
    {
     "name": "stdout",
     "output_type": "stream",
     "text": [
      " * postgresql://localhost/countries\n",
      "   postgresql://localhost/leaders\n",
      "2 rows affected.\n"
     ]
    },
    {
     "data": {
      "text/html": [
       "<table>\n",
       "    <tr>\n",
       "        <th>pop_id</th>\n",
       "        <th>country_code</th>\n",
       "        <th>year</th>\n",
       "        <th>fertility_rate</th>\n",
       "        <th>life_expectancy</th>\n",
       "        <th>size</th>\n",
       "    </tr>\n",
       "    <tr>\n",
       "        <td>20</td>\n",
       "        <td>ABW</td>\n",
       "        <td>2010</td>\n",
       "        <td>1.704</td>\n",
       "        <td>74.95354</td>\n",
       "        <td>101597.0</td>\n",
       "    </tr>\n",
       "    <tr>\n",
       "        <td>19</td>\n",
       "        <td>ABW</td>\n",
       "        <td>2015</td>\n",
       "        <td>1.647</td>\n",
       "        <td>75.573586</td>\n",
       "        <td>103889.0</td>\n",
       "    </tr>\n",
       "</table>"
      ],
      "text/plain": [
       "[(20, 'ABW', 2010, 1.704, 74.95354, 101597.0),\n",
       " (19, 'ABW', 2015, 1.647, 75.573586, 103889.0)]"
      ]
     },
     "execution_count": 50,
     "metadata": {},
     "output_type": "execute_result"
    }
   ],
   "source": [
    "%sql SELECT * FROM populations LIMIT 2"
   ]
  },
  {
   "cell_type": "markdown",
   "metadata": {},
   "source": [
    " - If p1.year = p2.year - 5 then SQl will only match when the value of p1.year is -5 the value of p2.year (2010 & 2015)"
   ]
  },
  {
   "cell_type": "code",
   "execution_count": 57,
   "metadata": {},
   "outputs": [
    {
     "name": "stdout",
     "output_type": "stream",
     "text": [
      " * postgresql://localhost/countries\n",
      "   postgresql://localhost/leaders\n",
      "5 rows affected.\n"
     ]
    },
    {
     "data": {
      "text/html": [
       "<table>\n",
       "    <tr>\n",
       "        <th>country_code</th>\n",
       "        <th>size2010</th>\n",
       "        <th>size2015</th>\n",
       "        <th>growth_perc</th>\n",
       "    </tr>\n",
       "    <tr>\n",
       "        <td>ABW</td>\n",
       "        <td>101597.0</td>\n",
       "        <td>103889.0</td>\n",
       "        <td>2.2559721022844315</td>\n",
       "    </tr>\n",
       "    <tr>\n",
       "        <td>AFG</td>\n",
       "        <td>27962208.0</td>\n",
       "        <td>32526562.0</td>\n",
       "        <td>16.32329672574997</td>\n",
       "    </tr>\n",
       "    <tr>\n",
       "        <td>AGO</td>\n",
       "        <td>21219954.0</td>\n",
       "        <td>25021974.0</td>\n",
       "        <td>17.917191982269287</td>\n",
       "    </tr>\n",
       "    <tr>\n",
       "        <td>ALB</td>\n",
       "        <td>2913021.0</td>\n",
       "        <td>2889167.0</td>\n",
       "        <td>-0.818874966353178</td>\n",
       "    </tr>\n",
       "    <tr>\n",
       "        <td>AND</td>\n",
       "        <td>84419.0</td>\n",
       "        <td>70473.0</td>\n",
       "        <td>-16.519977152347565</td>\n",
       "    </tr>\n",
       "</table>"
      ],
      "text/plain": [
       "[('ABW', 101597.0, 103889.0, 2.2559721022844315),\n",
       " ('AFG', 27962208.0, 32526562.0, 16.32329672574997),\n",
       " ('AGO', 21219954.0, 25021974.0, 17.917191982269287),\n",
       " ('ALB', 2913021.0, 2889167.0, -0.818874966353178),\n",
       " ('AND', 84419.0, 70473.0, -16.519977152347565)]"
      ]
     },
     "execution_count": 57,
     "metadata": {},
     "output_type": "execute_result"
    }
   ],
   "source": [
    "%%sql\n",
    "SELECT p1.country_code, \n",
    "       p1.size AS size2010, \n",
    "       p2.size AS size2015, \n",
    "       ((p2.size - p1.size)/p1.size  * 100.0) AS growth_perc\n",
    "FROM populations as p1\n",
    "    INNER JOIN populations AS p2\n",
    "        ON p1.country_code = p2.country_code\n",
    "        AND p2.year = p1.year + 5\n",
    "        LIMIT 5;"
   ]
  },
  {
   "cell_type": "code",
   "execution_count": null,
   "metadata": {},
   "outputs": [],
   "source": []
  }
 ],
 "metadata": {
  "kernelspec": {
   "display_name": "Python 3",
   "language": "python",
   "name": "python3"
  },
  "language_info": {
   "codemirror_mode": {
    "name": "ipython",
    "version": 3
   },
   "file_extension": ".py",
   "mimetype": "text/x-python",
   "name": "python",
   "nbconvert_exporter": "python",
   "pygments_lexer": "ipython3",
   "version": "3.7.4"
  }
 },
 "nbformat": 4,
 "nbformat_minor": 2
}
