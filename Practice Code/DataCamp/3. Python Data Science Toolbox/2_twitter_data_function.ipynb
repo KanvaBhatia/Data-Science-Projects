{
 "cells": [
  {
   "cell_type": "markdown",
   "metadata": {},
   "source": [
    "# Objective\n",
    "\n",
    "In this exercise, you will define a function with the functionality you developed in the previous exercise,\n",
    "return the resulting dictionary from within the function, and call the function with the appropriate arguments."
   ]
  },
  {
   "cell_type": "code",
   "execution_count": 4,
   "metadata": {},
   "outputs": [
    {
     "name": "stdout",
     "output_type": "stream",
     "text": [
      "<class 'pandas.core.frame.DataFrame'>\n",
      "RangeIndex: 100 entries, 0 to 99\n",
      "Data columns (total 31 columns):\n",
      "contributors                 0 non-null float64\n",
      "coordinates                  0 non-null float64\n",
      "created_at                   100 non-null object\n",
      "entities                     100 non-null object\n",
      "extended_entities            20 non-null object\n",
      "favorite_count               100 non-null int64\n",
      "favorited                    100 non-null bool\n",
      "filter_level                 100 non-null object\n",
      "geo                          0 non-null float64\n",
      "id                           100 non-null int64\n",
      "id_str                       100 non-null int64\n",
      "in_reply_to_screen_name      11 non-null object\n",
      "in_reply_to_status_id        8 non-null float64\n",
      "in_reply_to_status_id_str    8 non-null float64\n",
      "in_reply_to_user_id          11 non-null float64\n",
      "in_reply_to_user_id_str      11 non-null float64\n",
      "is_quote_status              100 non-null bool\n",
      "lang                         100 non-null object\n",
      "place                        3 non-null object\n",
      "possibly_sensitive           72 non-null object\n",
      "quoted_status                14 non-null object\n",
      "quoted_status_id             14 non-null float64\n",
      "quoted_status_id_str         14 non-null float64\n",
      "retweet_count                100 non-null int64\n",
      "retweeted                    100 non-null bool\n",
      "retweeted_status             62 non-null object\n",
      "source                       100 non-null object\n",
      "text                         100 non-null object\n",
      "timestamp_ms                 100 non-null int64\n",
      "truncated                    100 non-null bool\n",
      "user                         100 non-null object\n",
      "dtypes: bool(4), float64(9), int64(5), object(13)\n",
      "memory usage: 21.6+ KB\n"
     ]
    },
    {
     "data": {
      "text/plain": [
       "None"
      ]
     },
     "metadata": {},
     "output_type": "display_data"
    }
   ],
   "source": [
    "# Import pandas\n",
    "import pandas as pd\n",
    "\n",
    "# Import Twitter data as DataFrame: df\n",
    "tweets_df = pd.read_csv('Datasets/tweets.csv')\n",
    "display(tweets_df.info())\n",
    "\n",
    "# lang column contains tweets of languages for which there are 100 non null items"
   ]
  },
  {
   "cell_type": "markdown",
   "metadata": {},
   "source": [
    "Define function to create a dictionary holding the type and count of data strored in a dataframe column"
   ]
  },
  {
   "cell_type": "code",
   "execution_count": 5,
   "metadata": {},
   "outputs": [],
   "source": [
    "# Parameters: d_frame = dataframe, col_name = string name of column in dataframe\n",
    "def count_entries(d_frame, col_name):\n",
    "    \n",
    "    # Initialize an empty dictionary: item_count\n",
    "    item_count = {}\n",
    "\n",
    "    # Extract column from DataFrame: col\n",
    "    col = d_frame[col_name]\n",
    "\n",
    "    # Iterate over lang column in DataFrame\n",
    "    for entry in col:\n",
    "\n",
    "        # If the language is in item_count, add 1/\n",
    "        # this is the check in dictionary syntax\n",
    "        if entry in item_count.keys():\n",
    "            item_count[entry] += 1\n",
    "        # Else add the language to item_count, set the value to 1\n",
    "        else:\n",
    "            item_count[entry] = 1\n",
    "\n",
    "    # Return the item_count dictionary\n",
    "    return item_count"
   ]
  },
  {
   "cell_type": "code",
   "execution_count": 6,
   "metadata": {},
   "outputs": [
    {
     "name": "stdout",
     "output_type": "stream",
     "text": [
      "{'en': 97, 'et': 1, 'und': 2}\n"
     ]
    }
   ],
   "source": [
    "# Call the function count_entries\n",
    "result = count_entries(tweets_df, 'lang')\n",
    "\n",
    "print(result)"
   ]
  },
  {
   "cell_type": "markdown",
   "metadata": {},
   "source": [
    "# Results\n",
    "\n",
    "This function can be applied to store (in a dictionary) the count of repeating items in any column of a dataframe"
   ]
  },
  {
   "cell_type": "code",
   "execution_count": null,
   "metadata": {},
   "outputs": [],
   "source": []
  }
 ],
 "metadata": {
  "kernelspec": {
   "display_name": "Python 3",
   "language": "python",
   "name": "python3"
  },
  "language_info": {
   "codemirror_mode": {
    "name": "ipython",
    "version": 3
   },
   "file_extension": ".py",
   "mimetype": "text/x-python",
   "name": "python",
   "nbconvert_exporter": "python",
   "pygments_lexer": "ipython3",
   "version": "3.7.4"
  }
 },
 "nbformat": 4,
 "nbformat_minor": 2
}
