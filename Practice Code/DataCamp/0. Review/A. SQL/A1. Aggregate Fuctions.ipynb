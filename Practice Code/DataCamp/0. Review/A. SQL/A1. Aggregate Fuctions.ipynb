{
 "cells": [
  {
   "cell_type": "markdown",
   "metadata": {},
   "source": [
    "# SQL Cheat Sheet: Aggregate Fuctions "
   ]
  },
  {
   "cell_type": "markdown",
   "metadata": {},
   "source": [
    "___"
   ]
  },
  {
   "cell_type": "markdown",
   "metadata": {},
   "source": [
    "## 0. Loading Database"
   ]
  },
  {
   "cell_type": "code",
   "execution_count": 2,
   "metadata": {},
   "outputs": [],
   "source": [
    "%reload_ext sql"
   ]
  },
  {
   "cell_type": "code",
   "execution_count": 3,
   "metadata": {},
   "outputs": [
    {
     "data": {
      "text/plain": [
       "'Connected: @films'"
      ]
     },
     "execution_count": 3,
     "metadata": {},
     "output_type": "execute_result"
    }
   ],
   "source": [
    "%%sql\n",
    "postgresql://localhost/films"
   ]
  },
  {
   "cell_type": "markdown",
   "metadata": {},
   "source": [
    "___"
   ]
  },
  {
   "cell_type": "markdown",
   "metadata": {},
   "source": [
    "## 1. Database Tables"
   ]
  },
  {
   "cell_type": "code",
   "execution_count": 16,
   "metadata": {},
   "outputs": [
    {
     "name": "stdout",
     "output_type": "stream",
     "text": [
      " * postgresql://localhost/films\n",
      "5 rows affected.\n"
     ]
    },
    {
     "data": {
      "text/html": [
       "<table>\n",
       "    <tr>\n",
       "        <th>id</th>\n",
       "        <th>title</th>\n",
       "        <th>release_year</th>\n",
       "        <th>country</th>\n",
       "        <th>duration</th>\n",
       "        <th>language</th>\n",
       "        <th>certification</th>\n",
       "        <th>gross</th>\n",
       "        <th>budget</th>\n",
       "    </tr>\n",
       "    <tr>\n",
       "        <td>1</td>\n",
       "        <td>Intolerance: Love&#x27;s Struggle Throughout the Ages</td>\n",
       "        <td>1916</td>\n",
       "        <td>USA</td>\n",
       "        <td>123</td>\n",
       "        <td>None</td>\n",
       "        <td>Not Rated</td>\n",
       "        <td>None</td>\n",
       "        <td>385907</td>\n",
       "    </tr>\n",
       "    <tr>\n",
       "        <td>2</td>\n",
       "        <td>Over the Hill to the Poorhouse</td>\n",
       "        <td>1920</td>\n",
       "        <td>USA</td>\n",
       "        <td>110</td>\n",
       "        <td>None</td>\n",
       "        <td>None</td>\n",
       "        <td>3000000</td>\n",
       "        <td>100000</td>\n",
       "    </tr>\n",
       "    <tr>\n",
       "        <td>3</td>\n",
       "        <td>The Big Parade</td>\n",
       "        <td>1925</td>\n",
       "        <td>USA</td>\n",
       "        <td>151</td>\n",
       "        <td>None</td>\n",
       "        <td>Not Rated</td>\n",
       "        <td>None</td>\n",
       "        <td>245000</td>\n",
       "    </tr>\n",
       "    <tr>\n",
       "        <td>4</td>\n",
       "        <td>Metropolis</td>\n",
       "        <td>1927</td>\n",
       "        <td>Germany</td>\n",
       "        <td>145</td>\n",
       "        <td>German</td>\n",
       "        <td>Not Rated</td>\n",
       "        <td>26435</td>\n",
       "        <td>6000000</td>\n",
       "    </tr>\n",
       "    <tr>\n",
       "        <td>5</td>\n",
       "        <td>Pandora&#x27;s Box</td>\n",
       "        <td>1929</td>\n",
       "        <td>Germany</td>\n",
       "        <td>110</td>\n",
       "        <td>German</td>\n",
       "        <td>Not Rated</td>\n",
       "        <td>9950</td>\n",
       "        <td>None</td>\n",
       "    </tr>\n",
       "</table>"
      ],
      "text/plain": [
       "[(1, \"Intolerance: Love's Struggle Throughout the Ages\", 1916, 'USA', 123, None, 'Not Rated', None, 385907),\n",
       " (2, 'Over the Hill to the Poorhouse', 1920, 'USA', 110, None, None, 3000000, 100000),\n",
       " (3, 'The Big Parade', 1925, 'USA', 151, None, 'Not Rated', None, 245000),\n",
       " (4, 'Metropolis', 1927, 'Germany', 145, 'German', 'Not Rated', 26435, 6000000),\n",
       " (5, \"Pandora's Box\", 1929, 'Germany', 110, 'German', 'Not Rated', 9950, None)]"
      ]
     },
     "execution_count": 16,
     "metadata": {},
     "output_type": "execute_result"
    }
   ],
   "source": [
    "%%sql \n",
    "-- Replace films whichever table (people/reviews/roles) you would like to see\n",
    "\n",
    "SELECT * FROM films LIMIT 5;"
   ]
  },
  {
   "cell_type": "markdown",
   "metadata": {},
   "source": [
    "___"
   ]
  },
  {
   "cell_type": "markdown",
   "metadata": {},
   "source": [
    "## 2. Functions"
   ]
  },
  {
   "cell_type": "markdown",
   "metadata": {},
   "source": [
    "- #### SUM"
   ]
  },
  {
   "cell_type": "code",
   "execution_count": 5,
   "metadata": {},
   "outputs": [
    {
     "name": "stdout",
     "output_type": "stream",
     "text": [
      " * postgresql://localhost/films\n",
      "1 rows affected.\n"
     ]
    },
    {
     "data": {
      "text/html": [
       "<table>\n",
       "    <tr>\n",
       "        <th>sum</th>\n",
       "    </tr>\n",
       "    <tr>\n",
       "        <td>534882</td>\n",
       "    </tr>\n",
       "</table>"
      ],
      "text/plain": [
       "[(534882,)]"
      ]
     },
     "execution_count": 5,
     "metadata": {},
     "output_type": "execute_result"
    }
   ],
   "source": [
    "%%sql\n",
    "-- Total Duration of all films\n",
    "SELECT SUM(duration) FROM films;"
   ]
  },
  {
   "cell_type": "markdown",
   "metadata": {},
   "source": [
    "- #### AVG"
   ]
  },
  {
   "cell_type": "code",
   "execution_count": 6,
   "metadata": {},
   "outputs": [
    {
     "name": "stdout",
     "output_type": "stream",
     "text": [
      " * postgresql://localhost/films\n",
      "1 rows affected.\n"
     ]
    },
    {
     "data": {
      "text/html": [
       "<table>\n",
       "    <tr>\n",
       "        <th>avg</th>\n",
       "    </tr>\n",
       "    <tr>\n",
       "        <td>107.9479313824419778</td>\n",
       "    </tr>\n",
       "</table>"
      ],
      "text/plain": [
       "[(Decimal('107.9479313824419778'),)]"
      ]
     },
     "execution_count": 6,
     "metadata": {},
     "output_type": "execute_result"
    }
   ],
   "source": [
    "%%sql\n",
    "-- Average Duration of films\n",
    "SELECT AVG(duration) FROM films;"
   ]
  },
  {
   "cell_type": "markdown",
   "metadata": {},
   "source": [
    "- #### MIN"
   ]
  },
  {
   "cell_type": "code",
   "execution_count": 7,
   "metadata": {},
   "outputs": [
    {
     "name": "stdout",
     "output_type": "stream",
     "text": [
      " * postgresql://localhost/films\n",
      "1 rows affected.\n"
     ]
    },
    {
     "data": {
      "text/html": [
       "<table>\n",
       "    <tr>\n",
       "        <th>min</th>\n",
       "    </tr>\n",
       "    <tr>\n",
       "        <td>7</td>\n",
       "    </tr>\n",
       "</table>"
      ],
      "text/plain": [
       "[(7,)]"
      ]
     },
     "execution_count": 7,
     "metadata": {},
     "output_type": "execute_result"
    }
   ],
   "source": [
    "%%sql\n",
    "-- Duration of the shortest film\n",
    "SELECT MIN(duration) FROM films;"
   ]
  },
  {
   "cell_type": "markdown",
   "metadata": {},
   "source": [
    "- #### MAX"
   ]
  },
  {
   "cell_type": "code",
   "execution_count": 8,
   "metadata": {},
   "outputs": [
    {
     "name": "stdout",
     "output_type": "stream",
     "text": [
      " * postgresql://localhost/films\n",
      "1 rows affected.\n"
     ]
    },
    {
     "data": {
      "text/html": [
       "<table>\n",
       "    <tr>\n",
       "        <th>max</th>\n",
       "    </tr>\n",
       "    <tr>\n",
       "        <td>334</td>\n",
       "    </tr>\n",
       "</table>"
      ],
      "text/plain": [
       "[(334,)]"
      ]
     },
     "execution_count": 8,
     "metadata": {},
     "output_type": "execute_result"
    }
   ],
   "source": [
    "%%sql\n",
    "-- Duration of the longest film\n",
    "SELECT MAX(duration) FROM films;"
   ]
  },
  {
   "cell_type": "markdown",
   "metadata": {},
   "source": [
    "___"
   ]
  },
  {
   "cell_type": "markdown",
   "metadata": {},
   "source": [
    "## 3. Used in Combination"
   ]
  },
  {
   "cell_type": "code",
   "execution_count": 9,
   "metadata": {},
   "outputs": [
    {
     "name": "stdout",
     "output_type": "stream",
     "text": [
      " * postgresql://localhost/films\n",
      "1 rows affected.\n"
     ]
    },
    {
     "data": {
      "text/html": [
       "<table>\n",
       "    <tr>\n",
       "        <th>sum</th>\n",
       "    </tr>\n",
       "    <tr>\n",
       "        <td>150900926358</td>\n",
       "    </tr>\n",
       "</table>"
      ],
      "text/plain": [
       "[(Decimal('150900926358'),)]"
      ]
     },
     "execution_count": 9,
     "metadata": {},
     "output_type": "execute_result"
    }
   ],
   "source": [
    "%%sql     \n",
    "-- total amount grossed by all films made in the year 2000 or later.\n",
    "SELECT SUM(gross) FROM films\n",
    "WHERE release_year >= 2000;"
   ]
  },
  {
   "cell_type": "code",
   "execution_count": 10,
   "metadata": {},
   "outputs": [
    {
     "name": "stdout",
     "output_type": "stream",
     "text": [
      " * postgresql://localhost/films\n",
      "1 rows affected.\n"
     ]
    },
    {
     "data": {
      "text/html": [
       "<table>\n",
       "    <tr>\n",
       "        <th>avg</th>\n",
       "    </tr>\n",
       "    <tr>\n",
       "        <td>47893236.422480620155</td>\n",
       "    </tr>\n",
       "</table>"
      ],
      "text/plain": [
       "[(Decimal('47893236.422480620155'),)]"
      ]
     },
     "execution_count": 10,
     "metadata": {},
     "output_type": "execute_result"
    }
   ],
   "source": [
    "%%sql\n",
    "-- Average amount grossed by all films whose titles start with the letter 'A'.\n",
    "SELECT AVG(gross) FROM films\n",
    "WHERE title LIKE 'A%';"
   ]
  },
  {
   "cell_type": "code",
   "execution_count": 11,
   "metadata": {},
   "outputs": [
    {
     "name": "stdout",
     "output_type": "stream",
     "text": [
      " * postgresql://localhost/films\n",
      "1 rows affected.\n"
     ]
    },
    {
     "data": {
      "text/html": [
       "<table>\n",
       "    <tr>\n",
       "        <th>min</th>\n",
       "    </tr>\n",
       "    <tr>\n",
       "        <td>125169</td>\n",
       "    </tr>\n",
       "</table>"
      ],
      "text/plain": [
       "[(125169,)]"
      ]
     },
     "execution_count": 11,
     "metadata": {},
     "output_type": "execute_result"
    }
   ],
   "source": [
    "%%sql\n",
    "-- Amount grossed by the worst performing film in 1994.\n",
    "SELECT MIN(gross) FROM films\n",
    "WHERE release_year = 1994"
   ]
  },
  {
   "cell_type": "code",
   "execution_count": 12,
   "metadata": {},
   "outputs": [
    {
     "name": "stdout",
     "output_type": "stream",
     "text": [
      " * postgresql://localhost/films\n",
      "1 rows affected.\n"
     ]
    },
    {
     "data": {
      "text/html": [
       "<table>\n",
       "    <tr>\n",
       "        <th>max</th>\n",
       "    </tr>\n",
       "    <tr>\n",
       "        <td>760505847</td>\n",
       "    </tr>\n",
       "</table>"
      ],
      "text/plain": [
       "[(760505847,)]"
      ]
     },
     "execution_count": 12,
     "metadata": {},
     "output_type": "execute_result"
    }
   ],
   "source": [
    "%%sql\n",
    "-- Amount grossed by the best performing film between 2000 and 2012, inclusive.\n",
    "SELECT MAX(gross) FROM films\n",
    "WHERE release_year BETWEEN 2000 AND 2012;"
   ]
  },
  {
   "cell_type": "markdown",
   "metadata": {},
   "source": [
    "___"
   ]
  },
  {
   "cell_type": "markdown",
   "metadata": {},
   "source": [
    "## 4. HAVING AGG( )\n",
    "#### Filter Using Aggregate Function\n",
    "- In SQL, aggregate functions can't be used in WHERE clauses. For example, the following query is invalid:\n",
    "> SELECT release_year\n",
    "FROM films\n",
    "GROUP BY release_year\n",
    "**WHERE COUNT(title) > 10;**\n",
    "\n",
    "- This means that if you want to filter based on the result of an aggregate function, you need another way! That's where the HAVING clause comes in. For example,\n",
    ">SELECT release_year\n",
    "FROM films\n",
    "GROUP BY release_year\n",
    "**HAVING COUNT(title) > 10;**\n",
    "\n",
    "- Shows only those years in which more than 10 films were released."
   ]
  },
  {
   "cell_type": "code",
   "execution_count": 26,
   "metadata": {
    "scrolled": true
   },
   "outputs": [
    {
     "name": "stdout",
     "output_type": "stream",
     "text": [
      " * postgresql://localhost/films\n",
      "5 rows affected.\n"
     ]
    },
    {
     "data": {
      "text/html": [
       "<table>\n",
       "    <tr>\n",
       "        <th>release_year</th>\n",
       "        <th>count</th>\n",
       "    </tr>\n",
       "    <tr>\n",
       "        <td>1988</td>\n",
       "        <td>31</td>\n",
       "    </tr>\n",
       "    <tr>\n",
       "        <td>None</td>\n",
       "        <td>42</td>\n",
       "    </tr>\n",
       "    <tr>\n",
       "        <td>2008</td>\n",
       "        <td>225</td>\n",
       "    </tr>\n",
       "    <tr>\n",
       "        <td>1991</td>\n",
       "        <td>31</td>\n",
       "    </tr>\n",
       "    <tr>\n",
       "        <td>1989</td>\n",
       "        <td>33</td>\n",
       "    </tr>\n",
       "</table>"
      ],
      "text/plain": [
       "[(1988, 31), (None, 42), (2008, 225), (1991, 31), (1989, 33)]"
      ]
     },
     "execution_count": 26,
     "metadata": {},
     "output_type": "execute_result"
    }
   ],
   "source": [
    "%%sql\n",
    "SELECT release_year, count(title) FROM films \n",
    "GROUP BY release_year\n",
    "HAVING COUNT(*) > 10\n",
    "LIMIT 5;"
   ]
  },
  {
   "cell_type": "markdown",
   "metadata": {},
   "source": [
    "- write a query that returns the average budget and average gross earnings for films in each year after 1990, if the average budget is greater than $60 million."
   ]
  },
  {
   "cell_type": "code",
   "execution_count": 22,
   "metadata": {},
   "outputs": [
    {
     "name": "stdout",
     "output_type": "stream",
     "text": [
      " * postgresql://localhost/films\n",
      "91 rows affected.\n"
     ]
    },
    {
     "data": {
      "text/html": [
       "<table>\n",
       "    <tr>\n",
       "        <th>release_year</th>\n",
       "        <th>avg_budget</th>\n",
       "        <th>avg_gross</th>\n",
       "    </tr>\n",
       "    <tr>\n",
       "        <td>1916</td>\n",
       "        <td>385907.000000000000</td>\n",
       "        <td>None</td>\n",
       "    </tr>\n",
       "    <tr>\n",
       "        <td>1920</td>\n",
       "        <td>100000.000000000000</td>\n",
       "        <td>3000000.000000000000</td>\n",
       "    </tr>\n",
       "    <tr>\n",
       "        <td>1925</td>\n",
       "        <td>245000.000000000000</td>\n",
       "        <td>None</td>\n",
       "    </tr>\n",
       "    <tr>\n",
       "        <td>1927</td>\n",
       "        <td>6000000.000000000000</td>\n",
       "        <td>26435.000000000000</td>\n",
       "    </tr>\n",
       "    <tr>\n",
       "        <td>1929</td>\n",
       "        <td>379000.000000000000</td>\n",
       "        <td>1408975.000000000000</td>\n",
       "    </tr>\n",
       "    <tr>\n",
       "        <td>1930</td>\n",
       "        <td>3950000.000000000000</td>\n",
       "        <td>None</td>\n",
       "    </tr>\n",
       "    <tr>\n",
       "        <td>1932</td>\n",
       "        <td>800000.000000000000</td>\n",
       "        <td>None</td>\n",
       "    </tr>\n",
       "    <tr>\n",
       "        <td>1933</td>\n",
       "        <td>319500.000000000000</td>\n",
       "        <td>2300000.000000000000</td>\n",
       "    </tr>\n",
       "    <tr>\n",
       "        <td>1934</td>\n",
       "        <td>325000.000000000000</td>\n",
       "        <td>None</td>\n",
       "    </tr>\n",
       "    <tr>\n",
       "        <td>1935</td>\n",
       "        <td>609000.000000000000</td>\n",
       "        <td>3000000.000000000000</td>\n",
       "    </tr>\n",
       "    <tr>\n",
       "        <td>1936</td>\n",
       "        <td>1350000.000000000000</td>\n",
       "        <td>163245.000000000000</td>\n",
       "    </tr>\n",
       "    <tr>\n",
       "        <td>1937</td>\n",
       "        <td>2000000.000000000000</td>\n",
       "        <td>184925485.000000000000</td>\n",
       "    </tr>\n",
       "    <tr>\n",
       "        <td>1938</td>\n",
       "        <td>1822368.000000000000</td>\n",
       "        <td>None</td>\n",
       "    </tr>\n",
       "    <tr>\n",
       "        <td>1939</td>\n",
       "        <td>2759000.000000000000</td>\n",
       "        <td>110428945.000000000000</td>\n",
       "    </tr>\n",
       "    <tr>\n",
       "        <td>1940</td>\n",
       "        <td>1945500.000000000000</td>\n",
       "        <td>80350000.000000000000</td>\n",
       "    </tr>\n",
       "    <tr>\n",
       "        <td>1941</td>\n",
       "        <td>1250000.000000000000</td>\n",
       "        <td>None</td>\n",
       "    </tr>\n",
       "    <tr>\n",
       "        <td>1942</td>\n",
       "        <td>950000.000000000000</td>\n",
       "        <td>102797150.000000000000</td>\n",
       "    </tr>\n",
       "    <tr>\n",
       "        <td>1943</td>\n",
       "        <td>2627000.000000000000</td>\n",
       "        <td>None</td>\n",
       "    </tr>\n",
       "    <tr>\n",
       "        <td>1944</td>\n",
       "        <td>2361000.000000000000</td>\n",
       "        <td>None</td>\n",
       "    </tr>\n",
       "    <tr>\n",
       "        <td>1945</td>\n",
       "        <td>1702125.666666666667</td>\n",
       "        <td>None</td>\n",
       "    </tr>\n",
       "    <tr>\n",
       "        <td>1946</td>\n",
       "        <td>4426666.666666666667</td>\n",
       "        <td>22025000.000000000000</td>\n",
       "    </tr>\n",
       "    <tr>\n",
       "        <td>1947</td>\n",
       "        <td>2503000.000000000000</td>\n",
       "        <td>7927.0000000000000000</td>\n",
       "    </tr>\n",
       "    <tr>\n",
       "        <td>1948</td>\n",
       "        <td>3350000.000000000000</td>\n",
       "        <td>2956000.000000000000</td>\n",
       "    </tr>\n",
       "    <tr>\n",
       "        <td>1949</td>\n",
       "        <td>1300000.000000000000</td>\n",
       "        <td>None</td>\n",
       "    </tr>\n",
       "    <tr>\n",
       "        <td>1950</td>\n",
       "        <td>3768785.000000000000</td>\n",
       "        <td>8000000.000000000000</td>\n",
       "    </tr>\n",
       "    <tr>\n",
       "        <td>1951</td>\n",
       "        <td>3906143.000000000000</td>\n",
       "        <td>None</td>\n",
       "    </tr>\n",
       "    <tr>\n",
       "        <td>1952</td>\n",
       "        <td>2430266.666666666667</td>\n",
       "        <td>36000000.000000000000</td>\n",
       "    </tr>\n",
       "    <tr>\n",
       "        <td>1953</td>\n",
       "        <td>2027500.000000000000</td>\n",
       "        <td>20500000.000000000000</td>\n",
       "    </tr>\n",
       "    <tr>\n",
       "        <td>1954</td>\n",
       "        <td>3582000.000000000000</td>\n",
       "        <td>4934530.500000000000</td>\n",
       "    </tr>\n",
       "    <tr>\n",
       "        <td>1955</td>\n",
       "        <td>1200000.000000000000</td>\n",
       "        <td>None</td>\n",
       "    </tr>\n",
       "    <tr>\n",
       "        <td>1956</td>\n",
       "        <td>3166666.666666666667</td>\n",
       "        <td>None</td>\n",
       "    </tr>\n",
       "    <tr>\n",
       "        <td>1957</td>\n",
       "        <td>1675000.000000000000</td>\n",
       "        <td>27200000.000000000000</td>\n",
       "    </tr>\n",
       "    <tr>\n",
       "        <td>1958</td>\n",
       "        <td>3000000.000000000000</td>\n",
       "        <td>None</td>\n",
       "    </tr>\n",
       "    <tr>\n",
       "        <td>1959</td>\n",
       "        <td>3794616.000000000000</td>\n",
       "        <td>25000000.000000000000</td>\n",
       "    </tr>\n",
       "    <tr>\n",
       "        <td>1960</td>\n",
       "        <td>2268982.333333333333</td>\n",
       "        <td>32000000.000000000000</td>\n",
       "    </tr>\n",
       "    <tr>\n",
       "        <td>1961</td>\n",
       "        <td>3580000.000000000000</td>\n",
       "        <td>43650000.000000000000</td>\n",
       "    </tr>\n",
       "    <tr>\n",
       "        <td>1962</td>\n",
       "        <td>4420250.000000000000</td>\n",
       "        <td>11033517.500000000000</td>\n",
       "    </tr>\n",
       "    <tr>\n",
       "        <td>1963</td>\n",
       "        <td>7712698.125000000000</td>\n",
       "        <td>42950000.000000000000</td>\n",
       "    </tr>\n",
       "    <tr>\n",
       "        <td>1964</td>\n",
       "        <td>5454000.000000000000</td>\n",
       "        <td>38237907.166666666667</td>\n",
       "    </tr>\n",
       "    <tr>\n",
       "        <td>1965</td>\n",
       "        <td>8716666.666666666667</td>\n",
       "        <td>69310231.800000000000</td>\n",
       "    </tr>\n",
       "    <tr>\n",
       "        <td>1966</td>\n",
       "        <td>2679633.333333333333</td>\n",
       "        <td>6100000.000000000000</td>\n",
       "    </tr>\n",
       "    <tr>\n",
       "        <td>1967</td>\n",
       "        <td>5333333.333333333333</td>\n",
       "        <td>43100000.000000000000</td>\n",
       "    </tr>\n",
       "    <tr>\n",
       "        <td>1968</td>\n",
       "        <td>4428300.000000000000</td>\n",
       "        <td>36757685.500000000000</td>\n",
       "    </tr>\n",
       "    <tr>\n",
       "        <td>1969</td>\n",
       "        <td>7616009.666666666667</td>\n",
       "        <td>41711931.000000000000</td>\n",
       "    </tr>\n",
       "    <tr>\n",
       "        <td>1970</td>\n",
       "        <td>10513912.166666666667</td>\n",
       "        <td>10450000.000000000000</td>\n",
       "    </tr>\n",
       "    <tr>\n",
       "        <td>1971</td>\n",
       "        <td>3432700.000000000000</td>\n",
       "        <td>27247057.750000000000</td>\n",
       "    </tr>\n",
       "    <tr>\n",
       "        <td>1972</td>\n",
       "        <td>2012222.222222222222</td>\n",
       "        <td>67501217.500000000000</td>\n",
       "    </tr>\n",
       "    <tr>\n",
       "        <td>1973</td>\n",
       "        <td>3968420.333333333333</td>\n",
       "        <td>102919529.000000000000</td>\n",
       "    </tr>\n",
       "    <tr>\n",
       "        <td>1974</td>\n",
       "        <td>4185229.333333333333</td>\n",
       "        <td>55052942.857142857143</td>\n",
       "    </tr>\n",
       "    <tr>\n",
       "        <td>1975</td>\n",
       "        <td>4821595.833333333333</td>\n",
       "        <td>124409732.333333333333</td>\n",
       "    </tr>\n",
       "    <tr>\n",
       "        <td>1976</td>\n",
       "        <td>3838930.555555555556</td>\n",
       "        <td>71117623.500000000000</td>\n",
       "    </tr>\n",
       "    <tr>\n",
       "        <td>1977</td>\n",
       "        <td>9863179.375000000000</td>\n",
       "        <td>106290809.285714285714</td>\n",
       "    </tr>\n",
       "    <tr>\n",
       "        <td>1978</td>\n",
       "        <td>11283333.333333333333</td>\n",
       "        <td>71542234.600000000000</td>\n",
       "    </tr>\n",
       "    <tr>\n",
       "        <td>1979</td>\n",
       "        <td>15714285.714285714286</td>\n",
       "        <td>63579571.428571428571</td>\n",
       "    </tr>\n",
       "    <tr>\n",
       "        <td>1980</td>\n",
       "        <td>15990909.090909090909</td>\n",
       "        <td>57697266.733333333333</td>\n",
       "    </tr>\n",
       "    <tr>\n",
       "        <td>1981</td>\n",
       "        <td>11861718.750000000000</td>\n",
       "        <td>41460781.529411764706</td>\n",
       "    </tr>\n",
       "    <tr>\n",
       "        <td>1982</td>\n",
       "        <td>13101724.137931034483</td>\n",
       "        <td>75037552.187500000000</td>\n",
       "    </tr>\n",
       "    <tr>\n",
       "        <td>1983</td>\n",
       "        <td>15875100.000000000000</td>\n",
       "        <td>70192386.357142857143</td>\n",
       "    </tr>\n",
       "    <tr>\n",
       "        <td>1984</td>\n",
       "        <td>14368548.387096774194</td>\n",
       "        <td>62939598.739130434783</td>\n",
       "    </tr>\n",
       "    <tr>\n",
       "        <td>1985</td>\n",
       "        <td>13513983.551724137931</td>\n",
       "        <td>59223134.133333333333</td>\n",
       "    </tr>\n",
       "    <tr>\n",
       "        <td>1986</td>\n",
       "        <td>14002884.615384615385</td>\n",
       "        <td>44436464.040000000000</td>\n",
       "    </tr>\n",
       "    <tr>\n",
       "        <td>1987</td>\n",
       "        <td>13533870.967741935484</td>\n",
       "        <td>40233264.774193548387</td>\n",
       "    </tr>\n",
       "    <tr>\n",
       "        <td>1988</td>\n",
       "        <td>49061290.322580645161</td>\n",
       "        <td>41190351.833333333333</td>\n",
       "    </tr>\n",
       "    <tr>\n",
       "        <td>1989</td>\n",
       "        <td>18359393.939393939394</td>\n",
       "        <td>49678453.151515151515</td>\n",
       "    </tr>\n",
       "    <tr>\n",
       "        <td>1990</td>\n",
       "        <td>32388241.379310344828</td>\n",
       "        <td>78203971.250000000000</td>\n",
       "    </tr>\n",
       "    <tr>\n",
       "        <td>1991</td>\n",
       "        <td>25176548.387096774194</td>\n",
       "        <td>53844501.666666666667</td>\n",
       "    </tr>\n",
       "    <tr>\n",
       "        <td>1992</td>\n",
       "        <td>25982030.303030303030</td>\n",
       "        <td>63665195.147058823529</td>\n",
       "    </tr>\n",
       "    <tr>\n",
       "        <td>1993</td>\n",
       "        <td>20729787.234042553191</td>\n",
       "        <td>45302091.413043478261</td>\n",
       "    </tr>\n",
       "    <tr>\n",
       "        <td>1994</td>\n",
       "        <td>29013773.584905660377</td>\n",
       "        <td>59395666.169811320755</td>\n",
       "    </tr>\n",
       "    <tr>\n",
       "        <td>1995</td>\n",
       "        <td>32775000.000000000000</td>\n",
       "        <td>44909519.985507246377</td>\n",
       "    </tr>\n",
       "    <tr>\n",
       "        <td>1996</td>\n",
       "        <td>31620612.244897959184</td>\n",
       "        <td>42044174.252631578947</td>\n",
       "    </tr>\n",
       "    <tr>\n",
       "        <td>1997</td>\n",
       "        <td>59424490.740740740741</td>\n",
       "        <td>44793772.431034482759</td>\n",
       "    </tr>\n",
       "    <tr>\n",
       "        <td>1998</td>\n",
       "        <td>40460000.000000000000</td>\n",
       "        <td>38377007.961240310078</td>\n",
       "    </tr>\n",
       "    <tr>\n",
       "        <td>1999</td>\n",
       "        <td>38981780.487804878049</td>\n",
       "        <td>38072176.277108433735</td>\n",
       "    </tr>\n",
       "    <tr>\n",
       "        <td>2000</td>\n",
       "        <td>34931375.757575757576</td>\n",
       "        <td>42172627.580838323353</td>\n",
       "    </tr>\n",
       "    <tr>\n",
       "        <td>2001</td>\n",
       "        <td>37687307.692307692308</td>\n",
       "        <td>43255716.925531914894</td>\n",
       "    </tr>\n",
       "    <tr>\n",
       "        <td>2002</td>\n",
       "        <td>32598510.688118811881</td>\n",
       "        <td>43511151.485000000000</td>\n",
       "    </tr>\n",
       "    <tr>\n",
       "        <td>2003</td>\n",
       "        <td>37208648.833333333333</td>\n",
       "        <td>48727746.723270440252</td>\n",
       "    </tr>\n",
       "    <tr>\n",
       "        <td>2004</td>\n",
       "        <td>46865344.624365482234</td>\n",
       "        <td>40726529.110000000000</td>\n",
       "    </tr>\n",
       "    <tr>\n",
       "        <td>2005</td>\n",
       "        <td>70323938.231527093596</td>\n",
       "        <td>41159143.290640394089</td>\n",
       "    </tr>\n",
       "    <tr>\n",
       "        <td>2006</td>\n",
       "        <td>93968929.577464788732</td>\n",
       "        <td>39237855.953703703704</td>\n",
       "    </tr>\n",
       "    <tr>\n",
       "        <td>2007</td>\n",
       "        <td>35271131.147540983607</td>\n",
       "        <td>46267501.022346368715</td>\n",
       "    </tr>\n",
       "    <tr>\n",
       "        <td>2008</td>\n",
       "        <td>41804885.572139303483</td>\n",
       "        <td>44573509.378109452736</td>\n",
       "    </tr>\n",
       "    <tr>\n",
       "        <td>2009</td>\n",
       "        <td>37073287.037037037037</td>\n",
       "        <td>46207440.200000000000</td>\n",
       "    </tr>\n",
       "    <tr>\n",
       "        <td>2010</td>\n",
       "        <td>46094664.948453608247</td>\n",
       "        <td>49908326.010050251256</td>\n",
       "    </tr>\n",
       "    <tr>\n",
       "        <td>2011</td>\n",
       "        <td>37775251.715686274510</td>\n",
       "        <td>45785836.643979057592</td>\n",
       "    </tr>\n",
       "    <tr>\n",
       "        <td>2012</td>\n",
       "        <td>41331819.162436548223</td>\n",
       "        <td>62873527.679558011050</td>\n",
       "    </tr>\n",
       "    <tr>\n",
       "        <td>2013</td>\n",
       "        <td>40519044.915492957746</td>\n",
       "        <td>56158357.775401069519</td>\n",
       "    </tr>\n",
       "    <tr>\n",
       "        <td>2014</td>\n",
       "        <td>35325799.126637554585</td>\n",
       "        <td>62412136.946107784431</td>\n",
       "    </tr>\n",
       "    <tr>\n",
       "        <td>2015</td>\n",
       "        <td>39298329.217391304348</td>\n",
       "        <td>72573302.930555555556</td>\n",
       "    </tr>\n",
       "    <tr>\n",
       "        <td>2016</td>\n",
       "        <td>56642741.935483870968</td>\n",
       "        <td>76924035.891891891892</td>\n",
       "    </tr>\n",
       "</table>"
      ],
      "text/plain": [
       "[(1916, Decimal('385907.000000000000'), None),\n",
       " (1920, Decimal('100000.000000000000'), Decimal('3000000.000000000000')),\n",
       " (1925, Decimal('245000.000000000000'), None),\n",
       " (1927, Decimal('6000000.000000000000'), Decimal('26435.000000000000')),\n",
       " (1929, Decimal('379000.000000000000'), Decimal('1408975.000000000000')),\n",
       " (1930, Decimal('3950000.000000000000'), None),\n",
       " (1932, Decimal('800000.000000000000'), None),\n",
       " (1933, Decimal('319500.000000000000'), Decimal('2300000.000000000000')),\n",
       " (1934, Decimal('325000.000000000000'), None),\n",
       " (1935, Decimal('609000.000000000000'), Decimal('3000000.000000000000')),\n",
       " (1936, Decimal('1350000.000000000000'), Decimal('163245.000000000000')),\n",
       " (1937, Decimal('2000000.000000000000'), Decimal('184925485.000000000000')),\n",
       " (1938, Decimal('1822368.000000000000'), None),\n",
       " (1939, Decimal('2759000.000000000000'), Decimal('110428945.000000000000')),\n",
       " (1940, Decimal('1945500.000000000000'), Decimal('80350000.000000000000')),\n",
       " (1941, Decimal('1250000.000000000000'), None),\n",
       " (1942, Decimal('950000.000000000000'), Decimal('102797150.000000000000')),\n",
       " (1943, Decimal('2627000.000000000000'), None),\n",
       " (1944, Decimal('2361000.000000000000'), None),\n",
       " (1945, Decimal('1702125.666666666667'), None),\n",
       " (1946, Decimal('4426666.666666666667'), Decimal('22025000.000000000000')),\n",
       " (1947, Decimal('2503000.000000000000'), Decimal('7927.0000000000000000')),\n",
       " (1948, Decimal('3350000.000000000000'), Decimal('2956000.000000000000')),\n",
       " (1949, Decimal('1300000.000000000000'), None),\n",
       " (1950, Decimal('3768785.000000000000'), Decimal('8000000.000000000000')),\n",
       " (1951, Decimal('3906143.000000000000'), None),\n",
       " (1952, Decimal('2430266.666666666667'), Decimal('36000000.000000000000')),\n",
       " (1953, Decimal('2027500.000000000000'), Decimal('20500000.000000000000')),\n",
       " (1954, Decimal('3582000.000000000000'), Decimal('4934530.500000000000')),\n",
       " (1955, Decimal('1200000.000000000000'), None),\n",
       " (1956, Decimal('3166666.666666666667'), None),\n",
       " (1957, Decimal('1675000.000000000000'), Decimal('27200000.000000000000')),\n",
       " (1958, Decimal('3000000.000000000000'), None),\n",
       " (1959, Decimal('3794616.000000000000'), Decimal('25000000.000000000000')),\n",
       " (1960, Decimal('2268982.333333333333'), Decimal('32000000.000000000000')),\n",
       " (1961, Decimal('3580000.000000000000'), Decimal('43650000.000000000000')),\n",
       " (1962, Decimal('4420250.000000000000'), Decimal('11033517.500000000000')),\n",
       " (1963, Decimal('7712698.125000000000'), Decimal('42950000.000000000000')),\n",
       " (1964, Decimal('5454000.000000000000'), Decimal('38237907.166666666667')),\n",
       " (1965, Decimal('8716666.666666666667'), Decimal('69310231.800000000000')),\n",
       " (1966, Decimal('2679633.333333333333'), Decimal('6100000.000000000000')),\n",
       " (1967, Decimal('5333333.333333333333'), Decimal('43100000.000000000000')),\n",
       " (1968, Decimal('4428300.000000000000'), Decimal('36757685.500000000000')),\n",
       " (1969, Decimal('7616009.666666666667'), Decimal('41711931.000000000000')),\n",
       " (1970, Decimal('10513912.166666666667'), Decimal('10450000.000000000000')),\n",
       " (1971, Decimal('3432700.000000000000'), Decimal('27247057.750000000000')),\n",
       " (1972, Decimal('2012222.222222222222'), Decimal('67501217.500000000000')),\n",
       " (1973, Decimal('3968420.333333333333'), Decimal('102919529.000000000000')),\n",
       " (1974, Decimal('4185229.333333333333'), Decimal('55052942.857142857143')),\n",
       " (1975, Decimal('4821595.833333333333'), Decimal('124409732.333333333333')),\n",
       " (1976, Decimal('3838930.555555555556'), Decimal('71117623.500000000000')),\n",
       " (1977, Decimal('9863179.375000000000'), Decimal('106290809.285714285714')),\n",
       " (1978, Decimal('11283333.333333333333'), Decimal('71542234.600000000000')),\n",
       " (1979, Decimal('15714285.714285714286'), Decimal('63579571.428571428571')),\n",
       " (1980, Decimal('15990909.090909090909'), Decimal('57697266.733333333333')),\n",
       " (1981, Decimal('11861718.750000000000'), Decimal('41460781.529411764706')),\n",
       " (1982, Decimal('13101724.137931034483'), Decimal('75037552.187500000000')),\n",
       " (1983, Decimal('15875100.000000000000'), Decimal('70192386.357142857143')),\n",
       " (1984, Decimal('14368548.387096774194'), Decimal('62939598.739130434783')),\n",
       " (1985, Decimal('13513983.551724137931'), Decimal('59223134.133333333333')),\n",
       " (1986, Decimal('14002884.615384615385'), Decimal('44436464.040000000000')),\n",
       " (1987, Decimal('13533870.967741935484'), Decimal('40233264.774193548387')),\n",
       " (1988, Decimal('49061290.322580645161'), Decimal('41190351.833333333333')),\n",
       " (1989, Decimal('18359393.939393939394'), Decimal('49678453.151515151515')),\n",
       " (1990, Decimal('32388241.379310344828'), Decimal('78203971.250000000000')),\n",
       " (1991, Decimal('25176548.387096774194'), Decimal('53844501.666666666667')),\n",
       " (1992, Decimal('25982030.303030303030'), Decimal('63665195.147058823529')),\n",
       " (1993, Decimal('20729787.234042553191'), Decimal('45302091.413043478261')),\n",
       " (1994, Decimal('29013773.584905660377'), Decimal('59395666.169811320755')),\n",
       " (1995, Decimal('32775000.000000000000'), Decimal('44909519.985507246377')),\n",
       " (1996, Decimal('31620612.244897959184'), Decimal('42044174.252631578947')),\n",
       " (1997, Decimal('59424490.740740740741'), Decimal('44793772.431034482759')),\n",
       " (1998, Decimal('40460000.000000000000'), Decimal('38377007.961240310078')),\n",
       " (1999, Decimal('38981780.487804878049'), Decimal('38072176.277108433735')),\n",
       " (2000, Decimal('34931375.757575757576'), Decimal('42172627.580838323353')),\n",
       " (2001, Decimal('37687307.692307692308'), Decimal('43255716.925531914894')),\n",
       " (2002, Decimal('32598510.688118811881'), Decimal('43511151.485000000000')),\n",
       " (2003, Decimal('37208648.833333333333'), Decimal('48727746.723270440252')),\n",
       " (2004, Decimal('46865344.624365482234'), Decimal('40726529.110000000000')),\n",
       " (2005, Decimal('70323938.231527093596'), Decimal('41159143.290640394089')),\n",
       " (2006, Decimal('93968929.577464788732'), Decimal('39237855.953703703704')),\n",
       " (2007, Decimal('35271131.147540983607'), Decimal('46267501.022346368715')),\n",
       " (2008, Decimal('41804885.572139303483'), Decimal('44573509.378109452736')),\n",
       " (2009, Decimal('37073287.037037037037'), Decimal('46207440.200000000000')),\n",
       " (2010, Decimal('46094664.948453608247'), Decimal('49908326.010050251256')),\n",
       " (2011, Decimal('37775251.715686274510'), Decimal('45785836.643979057592')),\n",
       " (2012, Decimal('41331819.162436548223'), Decimal('62873527.679558011050')),\n",
       " (2013, Decimal('40519044.915492957746'), Decimal('56158357.775401069519')),\n",
       " (2014, Decimal('35325799.126637554585'), Decimal('62412136.946107784431')),\n",
       " (2015, Decimal('39298329.217391304348'), Decimal('72573302.930555555556')),\n",
       " (2016, Decimal('56642741.935483870968'), Decimal('76924035.891891891892'))]"
      ]
     },
     "execution_count": 22,
     "metadata": {},
     "output_type": "execute_result"
    }
   ],
   "source": [
    "%%sql\n",
    "SELECT release_year, \n",
    "       AVG(budget) AS avg_budget,\n",
    "       AVG(gross) AS avg_gross from films\n",
    "WHERE release_year > 1915\n",
    "GROUP BY release_year\n",
    "HAVING AVG(budget) > 60000000\n",
    "ORDER BY release_year;"
   ]
  },
  {
   "cell_type": "code",
   "execution_count": null,
   "metadata": {},
   "outputs": [],
   "source": []
  },
  {
   "cell_type": "code",
   "execution_count": null,
   "metadata": {},
   "outputs": [],
   "source": []
  },
  {
   "cell_type": "code",
   "execution_count": null,
   "metadata": {},
   "outputs": [],
   "source": []
  },
  {
   "cell_type": "code",
   "execution_count": null,
   "metadata": {},
   "outputs": [],
   "source": []
  },
  {
   "cell_type": "code",
   "execution_count": null,
   "metadata": {},
   "outputs": [],
   "source": []
  },
  {
   "cell_type": "code",
   "execution_count": null,
   "metadata": {},
   "outputs": [],
   "source": []
  },
  {
   "cell_type": "code",
   "execution_count": null,
   "metadata": {},
   "outputs": [],
   "source": []
  },
  {
   "cell_type": "code",
   "execution_count": null,
   "metadata": {},
   "outputs": [],
   "source": []
  },
  {
   "cell_type": "code",
   "execution_count": null,
   "metadata": {},
   "outputs": [],
   "source": []
  },
  {
   "cell_type": "code",
   "execution_count": null,
   "metadata": {},
   "outputs": [],
   "source": []
  },
  {
   "cell_type": "code",
   "execution_count": null,
   "metadata": {},
   "outputs": [],
   "source": []
  },
  {
   "cell_type": "code",
   "execution_count": null,
   "metadata": {},
   "outputs": [],
   "source": []
  },
  {
   "cell_type": "code",
   "execution_count": null,
   "metadata": {},
   "outputs": [],
   "source": []
  },
  {
   "cell_type": "code",
   "execution_count": null,
   "metadata": {},
   "outputs": [],
   "source": []
  }
 ],
 "metadata": {
  "kernelspec": {
   "display_name": "Python 3",
   "language": "python",
   "name": "python3"
  },
  "language_info": {
   "codemirror_mode": {
    "name": "ipython",
    "version": 3
   },
   "file_extension": ".py",
   "mimetype": "text/x-python",
   "name": "python",
   "nbconvert_exporter": "python",
   "pygments_lexer": "ipython3",
   "version": "3.7.4"
  }
 },
 "nbformat": 4,
 "nbformat_minor": 2
}
