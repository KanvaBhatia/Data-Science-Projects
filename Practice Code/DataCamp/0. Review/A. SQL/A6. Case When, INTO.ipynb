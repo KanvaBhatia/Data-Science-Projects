{
 "cells": [
  {
   "cell_type": "markdown",
   "metadata": {},
   "source": [
    "# SQL Cheat Sheet: Case When"
   ]
  },
  {
   "cell_type": "code",
   "execution_count": 4,
   "metadata": {},
   "outputs": [
    {
     "data": {
      "text/plain": [
       "'Connected: @leaders'"
      ]
     },
     "execution_count": 4,
     "metadata": {},
     "output_type": "execute_result"
    }
   ],
   "source": [
    "%reload_ext sql\n",
    "\n",
    "%sql postgresql://localhost/leaders"
   ]
  },
  {
   "cell_type": "code",
   "execution_count": 5,
   "metadata": {
    "scrolled": true
   },
   "outputs": [
    {
     "name": "stdout",
     "output_type": "stream",
     "text": [
      " * postgresql://localhost/leaders\n",
      "2 rows affected.\n"
     ]
    },
    {
     "data": {
      "text/html": [
       "<table>\n",
       "    <tr>\n",
       "        <th>name</th>\n",
       "        <th>continent</th>\n",
       "        <th>indep_year</th>\n",
       "        <th>fert_rate</th>\n",
       "        <th>women_parli_perc</th>\n",
       "    </tr>\n",
       "    <tr>\n",
       "        <td>Australia</td>\n",
       "        <td>Oceania</td>\n",
       "        <td>1901</td>\n",
       "        <td>1.88</td>\n",
       "        <td>32.74</td>\n",
       "    </tr>\n",
       "    <tr>\n",
       "        <td>Brunei</td>\n",
       "        <td>Asia</td>\n",
       "        <td>1984</td>\n",
       "        <td>1.96</td>\n",
       "        <td>6.06</td>\n",
       "    </tr>\n",
       "</table>"
      ],
      "text/plain": [
       "[('Australia', 'Oceania', 1901, 1.88, 32.74),\n",
       " ('Brunei', 'Asia', 1984, 1.96, 6.06)]"
      ]
     },
     "execution_count": 5,
     "metadata": {},
     "output_type": "execute_result"
    }
   ],
   "source": [
    "%%sql\n",
    "SELECT * FROM states LIMIT 2;"
   ]
  },
  {
   "cell_type": "markdown",
   "metadata": {},
   "source": [
    "- Group year of in dependence into 3 categories:\n",
    " - Before 1900\n",
    " - 1900 to 1930\n",
    " - After 1930"
   ]
  },
  {
   "cell_type": "code",
   "execution_count": 6,
   "metadata": {},
   "outputs": [
    {
     "name": "stdout",
     "output_type": "stream",
     "text": [
      " * postgresql://localhost/leaders\n",
      "5 rows affected.\n"
     ]
    },
    {
     "data": {
      "text/html": [
       "<table>\n",
       "    <tr>\n",
       "        <th>name</th>\n",
       "        <th>continent</th>\n",
       "        <th>indep_year</th>\n",
       "        <th>indep_year_group</th>\n",
       "    </tr>\n",
       "    <tr>\n",
       "        <td>Portugal</td>\n",
       "        <td>Europe</td>\n",
       "        <td>1143</td>\n",
       "        <td>before 1900</td>\n",
       "    </tr>\n",
       "    <tr>\n",
       "        <td>Spain</td>\n",
       "        <td>Europe</td>\n",
       "        <td>1492</td>\n",
       "        <td>before 1900</td>\n",
       "    </tr>\n",
       "    <tr>\n",
       "        <td>Haiti</td>\n",
       "        <td>North America</td>\n",
       "        <td>1804</td>\n",
       "        <td>before 1900</td>\n",
       "    </tr>\n",
       "    <tr>\n",
       "        <td>Chile</td>\n",
       "        <td>South America</td>\n",
       "        <td>1810</td>\n",
       "        <td>before 1900</td>\n",
       "    </tr>\n",
       "    <tr>\n",
       "        <td>Uruguay</td>\n",
       "        <td>South America</td>\n",
       "        <td>1828</td>\n",
       "        <td>before 1900</td>\n",
       "    </tr>\n",
       "</table>"
      ],
      "text/plain": [
       "[('Portugal', 'Europe', 1143, 'before 1900'),\n",
       " ('Spain', 'Europe', 1492, 'before 1900'),\n",
       " ('Haiti', 'North America', 1804, 'before 1900'),\n",
       " ('Chile', 'South America', 1810, 'before 1900'),\n",
       " ('Uruguay', 'South America', 1828, 'before 1900')]"
      ]
     },
     "execution_count": 6,
     "metadata": {},
     "output_type": "execute_result"
    }
   ],
   "source": [
    "%%sql\n",
    "SELECT name, continent, indep_year,\n",
    "    CASE WHEN indep_year < 1900 THEN 'before 1900'\n",
    "         WHEN indep_year <= 1930 THEN 'btw 1900 to 1930'\n",
    "         ELSE '1931 and beyond' END\n",
    "         AS indep_year_group\n",
    "FROM states\n",
    "ORDER BY indep_year      \n",
    "LIMIT 5;"
   ]
  },
  {
   "cell_type": "markdown",
   "metadata": {},
   "source": [
    "___"
   ]
  },
  {
   "cell_type": "code",
   "execution_count": 7,
   "metadata": {},
   "outputs": [
    {
     "data": {
      "text/plain": [
       "'Connected: @countries'"
      ]
     },
     "execution_count": 7,
     "metadata": {},
     "output_type": "execute_result"
    }
   ],
   "source": [
    "%sql postgresql://localhost/countries"
   ]
  },
  {
   "cell_type": "code",
   "execution_count": 8,
   "metadata": {},
   "outputs": [
    {
     "name": "stdout",
     "output_type": "stream",
     "text": [
      " * postgresql://localhost/countries\n",
      "   postgresql://localhost/leaders\n",
      "2 rows affected.\n"
     ]
    },
    {
     "data": {
      "text/html": [
       "<table>\n",
       "    <tr>\n",
       "        <th>code</th>\n",
       "        <th>name</th>\n",
       "        <th>continent</th>\n",
       "        <th>region</th>\n",
       "        <th>surface_area</th>\n",
       "        <th>indep_year</th>\n",
       "        <th>local_name</th>\n",
       "        <th>gov_form</th>\n",
       "        <th>capital</th>\n",
       "        <th>cap_long</th>\n",
       "        <th>cap_lat</th>\n",
       "    </tr>\n",
       "    <tr>\n",
       "        <td>AFG</td>\n",
       "        <td>Afghanistan</td>\n",
       "        <td>Asia</td>\n",
       "        <td>Southern and Central Asia</td>\n",
       "        <td>652090.0</td>\n",
       "        <td>1919</td>\n",
       "        <td>Afganistan/Afqanestan</td>\n",
       "        <td>Islamic Emirate</td>\n",
       "        <td>Kabul</td>\n",
       "        <td>69.1761</td>\n",
       "        <td>34.5228</td>\n",
       "    </tr>\n",
       "    <tr>\n",
       "        <td>NLD</td>\n",
       "        <td>Netherlands</td>\n",
       "        <td>Europe</td>\n",
       "        <td>Western Europe</td>\n",
       "        <td>41526.0</td>\n",
       "        <td>1581</td>\n",
       "        <td>Nederland</td>\n",
       "        <td>Constitutional Monarchy</td>\n",
       "        <td>Amsterdam</td>\n",
       "        <td>4.89095</td>\n",
       "        <td>52.3738</td>\n",
       "    </tr>\n",
       "</table>"
      ],
      "text/plain": [
       "[('AFG', 'Afghanistan', 'Asia', 'Southern and Central Asia', 652090.0, 1919, 'Afganistan/Afqanestan', 'Islamic Emirate', 'Kabul', 69.1761, 34.5228),\n",
       " ('NLD', 'Netherlands', 'Europe', 'Western Europe', 41526.0, 1581, 'Nederland', 'Constitutional Monarchy', 'Amsterdam', 4.89095, 52.3738)]"
      ]
     },
     "execution_count": 8,
     "metadata": {},
     "output_type": "execute_result"
    }
   ],
   "source": [
    "%%sql \n",
    "SELECT * FROM countries\n",
    "LIMIT 2"
   ]
  },
  {
   "cell_type": "markdown",
   "metadata": {},
   "source": [
    "Using the countries table, create a new field AS geosize_group that groups the countries into three groups:\n",
    "\n",
    "- If surface_area is greater than 2 million, geosize_group is 'large'.\n",
    "- If surface_area is greater than 350 thousand but not larger than 2 million, geosize_group is 'medium'.\n",
    "- Otherwise, geosize_group is 'small'."
   ]
  },
  {
   "cell_type": "code",
   "execution_count": 9,
   "metadata": {},
   "outputs": [
    {
     "name": "stdout",
     "output_type": "stream",
     "text": [
      " * postgresql://localhost/countries\n",
      "   postgresql://localhost/leaders\n",
      "5 rows affected.\n"
     ]
    },
    {
     "data": {
      "text/html": [
       "<table>\n",
       "    <tr>\n",
       "        <th>name</th>\n",
       "        <th>continent</th>\n",
       "        <th>code</th>\n",
       "        <th>surface_area</th>\n",
       "        <th>geosize_group</th>\n",
       "    </tr>\n",
       "    <tr>\n",
       "        <td>Monaco</td>\n",
       "        <td>Europe</td>\n",
       "        <td>MCO</td>\n",
       "        <td>1.5</td>\n",
       "        <td>small</td>\n",
       "    </tr>\n",
       "    <tr>\n",
       "        <td>Gibraltar</td>\n",
       "        <td>Europe</td>\n",
       "        <td>GIB</td>\n",
       "        <td>6.0</td>\n",
       "        <td>small</td>\n",
       "    </tr>\n",
       "    <tr>\n",
       "        <td>Macao</td>\n",
       "        <td>Asia</td>\n",
       "        <td>MAC</td>\n",
       "        <td>18.0</td>\n",
       "        <td>small</td>\n",
       "    </tr>\n",
       "    <tr>\n",
       "        <td>Nauru</td>\n",
       "        <td>Oceania</td>\n",
       "        <td>NRU</td>\n",
       "        <td>21.0</td>\n",
       "        <td>small</td>\n",
       "    </tr>\n",
       "    <tr>\n",
       "        <td>Tuvalu</td>\n",
       "        <td>Oceania</td>\n",
       "        <td>TUV</td>\n",
       "        <td>26.0</td>\n",
       "        <td>small</td>\n",
       "    </tr>\n",
       "</table>"
      ],
      "text/plain": [
       "[('Monaco', 'Europe', 'MCO', 1.5, 'small'),\n",
       " ('Gibraltar', 'Europe', 'GIB', 6.0, 'small'),\n",
       " ('Macao', 'Asia', 'MAC', 18.0, 'small'),\n",
       " ('Nauru', 'Oceania', 'NRU', 21.0, 'small'),\n",
       " ('Tuvalu', 'Oceania', 'TUV', 26.0, 'small')]"
      ]
     },
     "execution_count": 9,
     "metadata": {},
     "output_type": "execute_result"
    }
   ],
   "source": [
    "%%sql\n",
    "SELECT name, continent, code, surface_area,\n",
    "    CASE WHEN surface_area > 2000000 THEN 'large'\n",
    "         WHEN surface_area > 350000 THEN 'medium'\n",
    "         ELSE 'small' END\n",
    "    AS geosize_group\n",
    "FROM countries\n",
    "ORDER BY surface_area\n",
    "LIMIT 5;\n",
    "            "
   ]
  },
  {
   "cell_type": "markdown",
   "metadata": {},
   "source": [
    "___"
   ]
  },
  {
   "cell_type": "markdown",
   "metadata": {},
   "source": [
    "Using the populations table focused only for the year 2015, create a new field aliased as popsize_group to organize population size into\n",
    "\n",
    "- 'large' (> 50 million),\n",
    "- 'medium' (> 1 million), and\n",
    "- 'small' groups.\n",
    "\n",
    "Select only the country code, population size, and this new popsize_group as fields."
   ]
  },
  {
   "cell_type": "code",
   "execution_count": 10,
   "metadata": {},
   "outputs": [
    {
     "name": "stdout",
     "output_type": "stream",
     "text": [
      " * postgresql://localhost/countries\n",
      "   postgresql://localhost/leaders\n",
      "2 rows affected.\n"
     ]
    },
    {
     "data": {
      "text/html": [
       "<table>\n",
       "    <tr>\n",
       "        <th>pop_id</th>\n",
       "        <th>country_code</th>\n",
       "        <th>year</th>\n",
       "        <th>fertility_rate</th>\n",
       "        <th>life_expectancy</th>\n",
       "        <th>size</th>\n",
       "    </tr>\n",
       "    <tr>\n",
       "        <td>20</td>\n",
       "        <td>ABW</td>\n",
       "        <td>2010</td>\n",
       "        <td>1.704</td>\n",
       "        <td>74.95354</td>\n",
       "        <td>101597.0</td>\n",
       "    </tr>\n",
       "    <tr>\n",
       "        <td>19</td>\n",
       "        <td>ABW</td>\n",
       "        <td>2015</td>\n",
       "        <td>1.647</td>\n",
       "        <td>75.573586</td>\n",
       "        <td>103889.0</td>\n",
       "    </tr>\n",
       "</table>"
      ],
      "text/plain": [
       "[(20, 'ABW', 2010, 1.704, 74.95354, 101597.0),\n",
       " (19, 'ABW', 2015, 1.647, 75.573586, 103889.0)]"
      ]
     },
     "execution_count": 10,
     "metadata": {},
     "output_type": "execute_result"
    }
   ],
   "source": [
    "%sql SELECT * FROM populations LIMIT 2;"
   ]
  },
  {
   "cell_type": "code",
   "execution_count": 11,
   "metadata": {},
   "outputs": [
    {
     "name": "stdout",
     "output_type": "stream",
     "text": [
      " * postgresql://localhost/countries\n",
      "   postgresql://localhost/leaders\n",
      "5 rows affected.\n"
     ]
    },
    {
     "data": {
      "text/html": [
       "<table>\n",
       "    <tr>\n",
       "        <th>country_code</th>\n",
       "        <th>size</th>\n",
       "        <th>popsize_group</th>\n",
       "    </tr>\n",
       "    <tr>\n",
       "        <td>TUV</td>\n",
       "        <td>9916.0</td>\n",
       "        <td>small</td>\n",
       "    </tr>\n",
       "    <tr>\n",
       "        <td>NRU</td>\n",
       "        <td>12475.0</td>\n",
       "        <td>small</td>\n",
       "    </tr>\n",
       "    <tr>\n",
       "        <td>PLW</td>\n",
       "        <td>21291.0</td>\n",
       "        <td>small</td>\n",
       "    </tr>\n",
       "    <tr>\n",
       "        <td>VGB</td>\n",
       "        <td>30117.0</td>\n",
       "        <td>small</td>\n",
       "    </tr>\n",
       "    <tr>\n",
       "        <td>MAF</td>\n",
       "        <td>31754.0</td>\n",
       "        <td>small</td>\n",
       "    </tr>\n",
       "</table>"
      ],
      "text/plain": [
       "[('TUV', 9916.0, 'small'),\n",
       " ('NRU', 12475.0, 'small'),\n",
       " ('PLW', 21291.0, 'small'),\n",
       " ('VGB', 30117.0, 'small'),\n",
       " ('MAF', 31754.0, 'small')]"
      ]
     },
     "execution_count": 11,
     "metadata": {},
     "output_type": "execute_result"
    }
   ],
   "source": [
    "%%sql\n",
    "SELECT country_code, size,\n",
    "    CASE WHEN size > 50000000 THEN 'large'\n",
    "         WHEN size > 1000000 THEN 'medium'\n",
    "         ELSE 'small' END\n",
    "    AS popsize_group\n",
    "FROM populations\n",
    "WHERE year = 2015\n",
    "ORDER BY size\n",
    "LIMIT 5;\n",
    "            "
   ]
  },
  {
   "cell_type": "markdown",
   "metadata": {},
   "source": [
    "___"
   ]
  },
  {
   "cell_type": "markdown",
   "metadata": {},
   "source": [
    "## 1. USING INTO"
   ]
  },
  {
   "cell_type": "markdown",
   "metadata": {},
   "source": [
    "- INTO countries_pluss"
   ]
  },
  {
   "cell_type": "code",
   "execution_count": 12,
   "metadata": {},
   "outputs": [
    {
     "name": "stdout",
     "output_type": "stream",
     "text": [
      " * postgresql://localhost/countries\n",
      "   postgresql://localhost/leaders\n",
      "(psycopg2.errors.DuplicateTable) relation \"countries_pluss\" already exists\n",
      "\n",
      "[SQL: SELECT name, continent, code, surface_area,\n",
      "    CASE WHEN surface_area > 2000000 THEN 'large'\n",
      "         WHEN surface_area > 350000 THEN 'medium'\n",
      "         ELSE 'small' END\n",
      "    AS geosize_group\n",
      "INTO countries_pluss\n",
      "FROM countries;]\n",
      "(Background on this error at: http://sqlalche.me/e/f405)\n"
     ]
    }
   ],
   "source": [
    "%%sql\n",
    "SELECT name, continent, code, surface_area,\n",
    "    CASE WHEN surface_area > 2000000 THEN 'large'\n",
    "         WHEN surface_area > 350000 THEN 'medium'\n",
    "         ELSE 'small' END\n",
    "    AS geosize_group\n",
    "INTO countries_pluss\n",
    "FROM countries;"
   ]
  },
  {
   "cell_type": "code",
   "execution_count": 13,
   "metadata": {
    "scrolled": true
   },
   "outputs": [
    {
     "name": "stdout",
     "output_type": "stream",
     "text": [
      " * postgresql://localhost/countries\n",
      "   postgresql://localhost/leaders\n",
      "5 rows affected.\n"
     ]
    },
    {
     "data": {
      "text/html": [
       "<table>\n",
       "    <tr>\n",
       "        <th>name</th>\n",
       "        <th>continent</th>\n",
       "        <th>code</th>\n",
       "        <th>surface_area</th>\n",
       "        <th>geosize_group</th>\n",
       "    </tr>\n",
       "    <tr>\n",
       "        <td>Afghanistan</td>\n",
       "        <td>Asia</td>\n",
       "        <td>AFG</td>\n",
       "        <td>652090.0</td>\n",
       "        <td>medium</td>\n",
       "    </tr>\n",
       "    <tr>\n",
       "        <td>Netherlands</td>\n",
       "        <td>Europe</td>\n",
       "        <td>NLD</td>\n",
       "        <td>41526.0</td>\n",
       "        <td>small</td>\n",
       "    </tr>\n",
       "    <tr>\n",
       "        <td>Albania</td>\n",
       "        <td>Europe</td>\n",
       "        <td>ALB</td>\n",
       "        <td>28748.0</td>\n",
       "        <td>small</td>\n",
       "    </tr>\n",
       "    <tr>\n",
       "        <td>Algeria</td>\n",
       "        <td>Africa</td>\n",
       "        <td>DZA</td>\n",
       "        <td>2381740.0</td>\n",
       "        <td>large</td>\n",
       "    </tr>\n",
       "    <tr>\n",
       "        <td>American Samoa</td>\n",
       "        <td>Oceania</td>\n",
       "        <td>ASM</td>\n",
       "        <td>199.0</td>\n",
       "        <td>small</td>\n",
       "    </tr>\n",
       "</table>"
      ],
      "text/plain": [
       "[('Afghanistan', 'Asia', 'AFG', 652090.0, 'medium'),\n",
       " ('Netherlands', 'Europe', 'NLD', 41526.0, 'small'),\n",
       " ('Albania', 'Europe', 'ALB', 28748.0, 'small'),\n",
       " ('Algeria', 'Africa', 'DZA', 2381740.0, 'large'),\n",
       " ('American Samoa', 'Oceania', 'ASM', 199.0, 'small')]"
      ]
     },
     "execution_count": 13,
     "metadata": {},
     "output_type": "execute_result"
    }
   ],
   "source": [
    "%sql SELECT * FROM countries_pluss LIMIT 5;"
   ]
  },
  {
   "cell_type": "markdown",
   "metadata": {},
   "source": [
    "___"
   ]
  },
  {
   "cell_type": "markdown",
   "metadata": {},
   "source": [
    "- INTO pop_pluss"
   ]
  },
  {
   "cell_type": "code",
   "execution_count": 14,
   "metadata": {},
   "outputs": [
    {
     "name": "stdout",
     "output_type": "stream",
     "text": [
      " * postgresql://localhost/countries\n",
      "   postgresql://localhost/leaders\n",
      "(psycopg2.errors.DuplicateTable) relation \"pop_pluss\" already exists\n",
      "\n",
      "[SQL: SELECT country_code, size,\n",
      "    CASE WHEN size > 50000000 THEN 'large'\n",
      "         WHEN size > 1000000 THEN 'medium'\n",
      "         ELSE 'small' END\n",
      "    AS popsize_group\n",
      "INTO pop_pluss\n",
      "FROM populations\n",
      "WHERE year = 2015;]\n",
      "(Background on this error at: http://sqlalche.me/e/f405)\n"
     ]
    }
   ],
   "source": [
    "%%sql\n",
    "SELECT country_code, size,\n",
    "    CASE WHEN size > 50000000 THEN 'large'\n",
    "         WHEN size > 1000000 THEN 'medium'\n",
    "         ELSE 'small' END\n",
    "    AS popsize_group\n",
    "INTO pop_pluss\n",
    "FROM populations\n",
    "WHERE year = 2015; "
   ]
  },
  {
   "cell_type": "code",
   "execution_count": 15,
   "metadata": {},
   "outputs": [
    {
     "name": "stdout",
     "output_type": "stream",
     "text": [
      " * postgresql://localhost/countries\n",
      "   postgresql://localhost/leaders\n",
      "5 rows affected.\n"
     ]
    },
    {
     "data": {
      "text/html": [
       "<table>\n",
       "    <tr>\n",
       "        <th>country_code</th>\n",
       "        <th>size</th>\n",
       "        <th>popsize_group</th>\n",
       "    </tr>\n",
       "    <tr>\n",
       "        <td>ABW</td>\n",
       "        <td>103889.0</td>\n",
       "        <td>small</td>\n",
       "    </tr>\n",
       "    <tr>\n",
       "        <td>AFG</td>\n",
       "        <td>32526562.0</td>\n",
       "        <td>medium</td>\n",
       "    </tr>\n",
       "    <tr>\n",
       "        <td>AGO</td>\n",
       "        <td>25021974.0</td>\n",
       "        <td>medium</td>\n",
       "    </tr>\n",
       "    <tr>\n",
       "        <td>ALB</td>\n",
       "        <td>2889167.0</td>\n",
       "        <td>medium</td>\n",
       "    </tr>\n",
       "    <tr>\n",
       "        <td>AND</td>\n",
       "        <td>70473.0</td>\n",
       "        <td>small</td>\n",
       "    </tr>\n",
       "</table>"
      ],
      "text/plain": [
       "[('ABW', 103889.0, 'small'),\n",
       " ('AFG', 32526562.0, 'medium'),\n",
       " ('AGO', 25021974.0, 'medium'),\n",
       " ('ALB', 2889167.0, 'medium'),\n",
       " ('AND', 70473.0, 'small')]"
      ]
     },
     "execution_count": 15,
     "metadata": {},
     "output_type": "execute_result"
    }
   ],
   "source": [
    "%sql SELECT * FROM pop_pluss LIMIT 5;"
   ]
  },
  {
   "cell_type": "markdown",
   "metadata": {},
   "source": [
    "___"
   ]
  },
  {
   "cell_type": "markdown",
   "metadata": {},
   "source": [
    "Write a query to join countries_plus AS c on the left with pop_plus AS p on the right matching on the country code fields.\n",
    "- Sort the data based on geosize_group, in ascending order so that large appears on top.\n",
    "- Select the name, continent, geosize_group, and popsize_group fields."
   ]
  },
  {
   "cell_type": "code",
   "execution_count": 16,
   "metadata": {},
   "outputs": [
    {
     "name": "stdout",
     "output_type": "stream",
     "text": [
      " * postgresql://localhost/countries\n",
      "   postgresql://localhost/leaders\n",
      "5 rows affected.\n"
     ]
    },
    {
     "data": {
      "text/html": [
       "<table>\n",
       "    <tr>\n",
       "        <th>name</th>\n",
       "        <th>continent</th>\n",
       "        <th>geosize_group</th>\n",
       "        <th>popsize_group</th>\n",
       "    </tr>\n",
       "    <tr>\n",
       "        <td>Brazil</td>\n",
       "        <td>South America</td>\n",
       "        <td>large</td>\n",
       "        <td>large</td>\n",
       "    </tr>\n",
       "    <tr>\n",
       "        <td>Canada</td>\n",
       "        <td>North America</td>\n",
       "        <td>large</td>\n",
       "        <td>medium</td>\n",
       "    </tr>\n",
       "    <tr>\n",
       "        <td>Australia</td>\n",
       "        <td>Oceania</td>\n",
       "        <td>large</td>\n",
       "        <td>medium</td>\n",
       "    </tr>\n",
       "    <tr>\n",
       "        <td>Argentina</td>\n",
       "        <td>South America</td>\n",
       "        <td>large</td>\n",
       "        <td>medium</td>\n",
       "    </tr>\n",
       "    <tr>\n",
       "        <td>China</td>\n",
       "        <td>Asia</td>\n",
       "        <td>large</td>\n",
       "        <td>large</td>\n",
       "    </tr>\n",
       "</table>"
      ],
      "text/plain": [
       "[('Brazil', 'South America', 'large', 'large'),\n",
       " ('Canada', 'North America', 'large', 'medium'),\n",
       " ('Australia', 'Oceania', 'large', 'medium'),\n",
       " ('Argentina', 'South America', 'large', 'medium'),\n",
       " ('China', 'Asia', 'large', 'large')]"
      ]
     },
     "execution_count": 16,
     "metadata": {},
     "output_type": "execute_result"
    }
   ],
   "source": [
    "%%sql\n",
    "SELECT name, continent, geosize_group, popsize_group\n",
    "FROM countries_pluss AS c\n",
    "    INNER JOIN pop_pluss AS p\n",
    "        ON c.code = p.country_code\n",
    "ORDER BY geosize_group\n",
    "LIMIT 5;"
   ]
  },
  {
   "cell_type": "code",
   "execution_count": null,
   "metadata": {},
   "outputs": [],
   "source": []
  },
  {
   "cell_type": "code",
   "execution_count": null,
   "metadata": {},
   "outputs": [],
   "source": []
  },
  {
   "cell_type": "code",
   "execution_count": null,
   "metadata": {},
   "outputs": [],
   "source": []
  }
 ],
 "metadata": {
  "kernelspec": {
   "display_name": "Python 3",
   "language": "python",
   "name": "python3"
  },
  "language_info": {
   "codemirror_mode": {
    "name": "ipython",
    "version": 3
   },
   "file_extension": ".py",
   "mimetype": "text/x-python",
   "name": "python",
   "nbconvert_exporter": "python",
   "pygments_lexer": "ipython3",
   "version": "3.7.4"
  }
 },
 "nbformat": 4,
 "nbformat_minor": 2
}
