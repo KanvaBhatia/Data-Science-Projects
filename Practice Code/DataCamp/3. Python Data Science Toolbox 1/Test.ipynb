{
 "cells": [
  {
   "cell_type": "code",
   "execution_count": 4,
   "metadata": {},
   "outputs": [
    {
     "name": "stdout",
     "output_type": "stream",
     "text": [
      "9.0\n"
     ]
    },
    {
     "data": {
      "text/plain": [
       "NoneType"
      ]
     },
     "execution_count": 4,
     "metadata": {},
     "output_type": "execute_result"
    }
   ],
   "source": [
    "y = float(\"9\")\n",
    "x = print (y)\n",
    "type(x)"
   ]
  },
  {
   "cell_type": "code",
   "execution_count": 18,
   "metadata": {},
   "outputs": [],
   "source": [
    "europe = { 'A': {'1':1, '2': 2},\n",
    "          'B': {'3':3, '4': 4},\n",
    "          'C': {'5':5, '6': 6},\n",
    "          'D': {'7':7, '8': 8}}"
   ]
  },
  {
   "cell_type": "code",
   "execution_count": 5,
   "metadata": {},
   "outputs": [
    {
     "data": {
      "text/plain": [
       "{'A': {'1': 1, '2': 2},\n",
       " 'B': {'3': 3, '4': 4},\n",
       " 'C': {'5': 5, '6': 6},\n",
       " 'D': {'7': 7, '8': 8}}"
      ]
     },
     "execution_count": 5,
     "metadata": {},
     "output_type": "execute_result"
    }
   ],
   "source": [
    "europe"
   ]
  },
  {
   "cell_type": "code",
   "execution_count": 22,
   "metadata": {},
   "outputs": [
    {
     "data": {
      "text/plain": [
       "{'A': {'1': 1, '2': 2},\n",
       " 'B': {'3': 3, '4': 4},\n",
       " 'C': {'5': 5, '6': 6},\n",
       " 'D': {},\n",
       " 'lang': {},\n",
       " 'E': {}}"
      ]
     },
     "execution_count": 22,
     "metadata": {},
     "output_type": "execute_result"
    }
   ],
   "source": [
    "europe['E'] = {}\n",
    "europe"
   ]
  },
  {
   "cell_type": "code",
   "execution_count": 23,
   "metadata": {},
   "outputs": [],
   "source": [
    "# Import pandas\n",
    "import pandas as pd\n",
    "\n",
    "# Import Twitter data as DataFrame: df\n",
    "tweets_df = pd.read_csv('Datasets/tweets.csv')\n",
    "\n",
    "# Iterate over column names in args     \n",
    "col = tweets_df[\"lang\"]\n",
    "        \n"
   ]
  },
  {
   "cell_type": "code",
   "execution_count": 24,
   "metadata": {},
   "outputs": [
    {
     "data": {
      "text/plain": [
       "{'A': {'1': 1, '2': 2},\n",
       " 'B': {'3': 3, '4': 4},\n",
       " 'C': {'5': 5, '6': 6},\n",
       " 'D': {},\n",
       " 'lang': {'entry': 9},\n",
       " 'E': {}}"
      ]
     },
     "execution_count": 24,
     "metadata": {},
     "output_type": "execute_result"
    }
   ],
   "source": [
    "# create a new dict inside item_count with the key col\n",
    "europe['lang'] = {}\n",
    "europe['lang']['entry'] = 9\n",
    "europe\n",
    "        \n",
    "# # Iterate over current column in DataFrame\n",
    "# for entry in col: \n",
    "            \n",
    "#     item_count[str(col)][entry] =1\n",
    "\n",
    "#     # If the language is in item_count, add 1/       \n",
    "#     if entry in item_count.keys():\n",
    "#             item_count[entry] += 1\n",
    "            \n",
    "#     # Else add the row item (in current column) to item_count & set the value to 1\n",
    "#     else:\n",
    "#         item_count[entry] = 1     "
   ]
  }
 ],
 "metadata": {
  "kernelspec": {
   "display_name": "Python 3",
   "language": "python",
   "name": "python3"
  },
  "language_info": {
   "codemirror_mode": {
    "name": "ipython",
    "version": 3
   },
   "file_extension": ".py",
   "mimetype": "text/x-python",
   "name": "python",
   "nbconvert_exporter": "python",
   "pygments_lexer": "ipython3",
   "version": "3.7.4"
  }
 },
 "nbformat": 4,
 "nbformat_minor": 2
}
