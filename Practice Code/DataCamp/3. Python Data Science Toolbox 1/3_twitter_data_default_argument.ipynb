{
 "cells": [
  {
   "cell_type": "markdown",
   "metadata": {},
   "source": [
    "# Overview\n",
    "\n",
    "- In this exercise, we will generalize the Twitter language analysis that you did in the previous chapter. \n",
    "- You will do that by including a *default argument* that takes a column name.\n",
    "- Call count_entries() by passing the tweets_df DataFrame and the column name 'lang'. Assign the result to result1. Note that since 'lang' is the default value of the col_name parameter, you don't have to specify it here.\n",
    "- Call count_entries() by passing the tweets_df DataFrame and the column name 'source'. Assign the result to result2.\n",
    "\n",
    "- generalize this function one step further by allowing the user to pass it a flexible argument, that is, in this case, as many column names as the user would like!\n",
    "\n"
   ]
  },
  {
   "cell_type": "code",
   "execution_count": 30,
   "metadata": {},
   "outputs": [
    {
     "name": "stdout",
     "output_type": "stream",
     "text": [
      "<class 'pandas.core.frame.DataFrame'>\n",
      "RangeIndex: 100 entries, 0 to 99\n",
      "Data columns (total 31 columns):\n",
      "contributors                 0 non-null float64\n",
      "coordinates                  0 non-null float64\n",
      "created_at                   100 non-null object\n",
      "entities                     100 non-null object\n",
      "extended_entities            20 non-null object\n",
      "favorite_count               100 non-null int64\n",
      "favorited                    100 non-null bool\n",
      "filter_level                 100 non-null object\n",
      "geo                          0 non-null float64\n",
      "id                           100 non-null int64\n",
      "id_str                       100 non-null int64\n",
      "in_reply_to_screen_name      11 non-null object\n",
      "in_reply_to_status_id        8 non-null float64\n",
      "in_reply_to_status_id_str    8 non-null float64\n",
      "in_reply_to_user_id          11 non-null float64\n",
      "in_reply_to_user_id_str      11 non-null float64\n",
      "is_quote_status              100 non-null bool\n",
      "lang                         100 non-null object\n",
      "place                        3 non-null object\n",
      "possibly_sensitive           72 non-null object\n",
      "quoted_status                14 non-null object\n",
      "quoted_status_id             14 non-null float64\n",
      "quoted_status_id_str         14 non-null float64\n",
      "retweet_count                100 non-null int64\n",
      "retweeted                    100 non-null bool\n",
      "retweeted_status             62 non-null object\n",
      "source                       100 non-null object\n",
      "text                         100 non-null object\n",
      "timestamp_ms                 100 non-null int64\n",
      "truncated                    100 non-null bool\n",
      "user                         100 non-null object\n",
      "dtypes: bool(4), float64(9), int64(5), object(13)\n",
      "memory usage: 21.6+ KB\n"
     ]
    },
    {
     "data": {
      "text/plain": [
       "None"
      ]
     },
     "metadata": {},
     "output_type": "display_data"
    }
   ],
   "source": [
    "# Import pandas\n",
    "import pandas as pd\n",
    "\n",
    "# Import Twitter data as DataFrame: df\n",
    "tweets_df = pd.read_csv('Datasets/tweets.csv')\n",
    "display(tweets_df.info())\n",
    "\n",
    "# lang column contains tweets of languages for which there are 100 non null items"
   ]
  },
  {
   "cell_type": "code",
   "execution_count": 34,
   "metadata": {},
   "outputs": [],
   "source": [
    "# Parameters: d_frame = dataframe, col_name = default argument \"lang\"\n",
    "def count_entries(d_frame, col_name= \"lang\"):\n",
    "    \n",
    "    # Initialize an empty dictionary: item_count\n",
    "    item_count = {}\n",
    "\n",
    "    # Extract column from DataFrame: col\n",
    "    col = d_frame[col_name]\n",
    "\n",
    "    # Iterate over column in DataFrame\n",
    "    for entry in col:\n",
    "\n",
    "        # If the item is in item_count[col_name], add 1 to it\n",
    "        # this is the check in dictionary syntax\n",
    "        if entry in item_count.keys():\n",
    "            item_count[entry] += 1\n",
    "        # Else add the item to item_count, set the value to 1\n",
    "        else:\n",
    "            item_count[entry] = 1\n",
    "\n",
    "    # Return the item_count dictionary\n",
    "    return item_count"
   ]
  },
  {
   "cell_type": "code",
   "execution_count": 35,
   "metadata": {},
   "outputs": [
    {
     "data": {
      "text/html": [
       "<div>\n",
       "<style scoped>\n",
       "    .dataframe tbody tr th:only-of-type {\n",
       "        vertical-align: middle;\n",
       "    }\n",
       "\n",
       "    .dataframe tbody tr th {\n",
       "        vertical-align: top;\n",
       "    }\n",
       "\n",
       "    .dataframe thead th {\n",
       "        text-align: right;\n",
       "    }\n",
       "</style>\n",
       "<table border=\"1\" class=\"dataframe\">\n",
       "  <thead>\n",
       "    <tr style=\"text-align: right;\">\n",
       "      <th></th>\n",
       "      <th>en</th>\n",
       "      <th>et</th>\n",
       "      <th>und</th>\n",
       "    </tr>\n",
       "  </thead>\n",
       "  <tbody>\n",
       "    <tr>\n",
       "      <td>0</td>\n",
       "      <td>97</td>\n",
       "      <td>1</td>\n",
       "      <td>2</td>\n",
       "    </tr>\n",
       "  </tbody>\n",
       "</table>\n",
       "</div>"
      ],
      "text/plain": [
       "   en  et  und\n",
       "0  97   1    2"
      ]
     },
     "metadata": {},
     "output_type": "display_data"
    },
    {
     "data": {
      "text/html": [
       "<div>\n",
       "<style scoped>\n",
       "    .dataframe tbody tr th:only-of-type {\n",
       "        vertical-align: middle;\n",
       "    }\n",
       "\n",
       "    .dataframe tbody tr th {\n",
       "        vertical-align: top;\n",
       "    }\n",
       "\n",
       "    .dataframe thead th {\n",
       "        text-align: right;\n",
       "    }\n",
       "</style>\n",
       "<table border=\"1\" class=\"dataframe\">\n",
       "  <thead>\n",
       "    <tr style=\"text-align: right;\">\n",
       "      <th></th>\n",
       "      <th>&lt;a href=\"http://twitter.com\" rel=\"nofollow\"&gt;Twitter Web Client&lt;/a&gt;</th>\n",
       "      <th>&lt;a href=\"http://www.facebook.com/twitter\" rel=\"nofollow\"&gt;Facebook&lt;/a&gt;</th>\n",
       "      <th>&lt;a href=\"http://twitter.com/download/android\" rel=\"nofollow\"&gt;Twitter for Android&lt;/a&gt;</th>\n",
       "      <th>&lt;a href=\"http://twitter.com/download/iphone\" rel=\"nofollow\"&gt;Twitter for iPhone&lt;/a&gt;</th>\n",
       "      <th>&lt;a href=\"http://www.twitter.com\" rel=\"nofollow\"&gt;Twitter for BlackBerry&lt;/a&gt;</th>\n",
       "      <th>&lt;a href=\"http://www.google.com/\" rel=\"nofollow\"&gt;Google&lt;/a&gt;</th>\n",
       "      <th>&lt;a href=\"http://twitter.com/#!/download/ipad\" rel=\"nofollow\"&gt;Twitter for iPad&lt;/a&gt;</th>\n",
       "      <th>&lt;a href=\"http://linkis.com\" rel=\"nofollow\"&gt;Linkis.com&lt;/a&gt;</th>\n",
       "      <th>&lt;a href=\"http://rutracker.org/forum/viewforum.php?f=93\" rel=\"nofollow\"&gt;newzlasz&lt;/a&gt;</th>\n",
       "      <th>&lt;a href=\"http://ifttt.com\" rel=\"nofollow\"&gt;IFTTT&lt;/a&gt;</th>\n",
       "      <th>&lt;a href=\"http://www.myplume.com/\" rel=\"nofollow\"&gt;Plume for Android&lt;/a&gt;</th>\n",
       "    </tr>\n",
       "  </thead>\n",
       "  <tbody>\n",
       "    <tr>\n",
       "      <td>0</td>\n",
       "      <td>24</td>\n",
       "      <td>1</td>\n",
       "      <td>26</td>\n",
       "      <td>33</td>\n",
       "      <td>2</td>\n",
       "      <td>2</td>\n",
       "      <td>6</td>\n",
       "      <td>2</td>\n",
       "      <td>2</td>\n",
       "      <td>1</td>\n",
       "      <td>1</td>\n",
       "    </tr>\n",
       "  </tbody>\n",
       "</table>\n",
       "</div>"
      ],
      "text/plain": [
       "   <a href=\"http://twitter.com\" rel=\"nofollow\">Twitter Web Client</a>  \\\n",
       "0                                                 24                    \n",
       "\n",
       "   <a href=\"http://www.facebook.com/twitter\" rel=\"nofollow\">Facebook</a>  \\\n",
       "0                                                  1                       \n",
       "\n",
       "   <a href=\"http://twitter.com/download/android\" rel=\"nofollow\">Twitter for Android</a>  \\\n",
       "0                                                 26                                      \n",
       "\n",
       "   <a href=\"http://twitter.com/download/iphone\" rel=\"nofollow\">Twitter for iPhone</a>  \\\n",
       "0                                                 33                                    \n",
       "\n",
       "   <a href=\"http://www.twitter.com\" rel=\"nofollow\">Twitter for BlackBerry</a>  \\\n",
       "0                                                  2                            \n",
       "\n",
       "   <a href=\"http://www.google.com/\" rel=\"nofollow\">Google</a>  \\\n",
       "0                                                  2            \n",
       "\n",
       "   <a href=\"http://twitter.com/#!/download/ipad\" rel=\"nofollow\">Twitter for iPad</a>  \\\n",
       "0                                                  6                                   \n",
       "\n",
       "   <a href=\"http://linkis.com\" rel=\"nofollow\">Linkis.com</a>  \\\n",
       "0                                                  2           \n",
       "\n",
       "   <a href=\"http://rutracker.org/forum/viewforum.php?f=93\" rel=\"nofollow\">newzlasz</a>  \\\n",
       "0                                                  2                                     \n",
       "\n",
       "   <a href=\"http://ifttt.com\" rel=\"nofollow\">IFTTT</a>  \\\n",
       "0                                                  1     \n",
       "\n",
       "   <a href=\"http://www.myplume.com/\" rel=\"nofollow\">Plume for Android</a>  \n",
       "0                                                  1                       "
      ]
     },
     "metadata": {},
     "output_type": "display_data"
    }
   ],
   "source": [
    "# Call count_entries(): result1\n",
    "result1 = count_entries(tweets_df)\n",
    "\n",
    "# Call count_entries(): result2\n",
    "result2 = count_entries(tweets_df, 'source')\n",
    "\n",
    "# Print result1 and result2\n",
    "# converted dict to dataframe for better viewing\n",
    "df_result1 = pd.DataFrame(result1, index=[0])\n",
    "display(df_result1)\n",
    "\n",
    "import pandas as pd\n",
    "df_result2 = pd.DataFrame(result2, index=[0]) # why can't i convert to DF\n",
    "display(df_result2)"
   ]
  },
  {
   "cell_type": "code",
   "execution_count": null,
   "metadata": {},
   "outputs": [],
   "source": []
  }
 ],
 "metadata": {
  "kernelspec": {
   "display_name": "Python 3",
   "language": "python",
   "name": "python3"
  },
  "language_info": {
   "codemirror_mode": {
    "name": "ipython",
    "version": 3
   },
   "file_extension": ".py",
   "mimetype": "text/x-python",
   "name": "python",
   "nbconvert_exporter": "python",
   "pygments_lexer": "ipython3",
   "version": "3.7.4"
  }
 },
 "nbformat": 4,
 "nbformat_minor": 2
}
