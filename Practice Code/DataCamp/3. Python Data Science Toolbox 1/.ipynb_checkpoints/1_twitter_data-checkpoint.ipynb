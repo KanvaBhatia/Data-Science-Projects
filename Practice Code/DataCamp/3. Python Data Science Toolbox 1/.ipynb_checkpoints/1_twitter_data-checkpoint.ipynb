{
 "cells": [
  {
   "cell_type": "markdown",
   "metadata": {},
   "source": [
    "# Objective\n",
    "\n",
    "For this ecercise\n",
    "    The dataset contains Twitter data and the goal is to iterate over entries in a column to build a dictionary\n",
    "    in which the <b>keys are the names of languages</b> and the <b>values are the number of tweets in the given language.</b>\n",
    "    The file tweets.csv is available in your current directory."
   ]
  },
  {
   "cell_type": "code",
   "execution_count": 2,
   "metadata": {
    "scrolled": true
   },
   "outputs": [
    {
     "name": "stdout",
     "output_type": "stream",
     "text": [
      "<class 'pandas.core.frame.DataFrame'>\n",
      "RangeIndex: 100 entries, 0 to 99\n",
      "Data columns (total 31 columns):\n",
      "contributors                 0 non-null float64\n",
      "coordinates                  0 non-null float64\n",
      "created_at                   100 non-null object\n",
      "entities                     100 non-null object\n",
      "extended_entities            20 non-null object\n",
      "favorite_count               100 non-null int64\n",
      "favorited                    100 non-null bool\n",
      "filter_level                 100 non-null object\n",
      "geo                          0 non-null float64\n",
      "id                           100 non-null int64\n",
      "id_str                       100 non-null int64\n",
      "in_reply_to_screen_name      11 non-null object\n",
      "in_reply_to_status_id        8 non-null float64\n",
      "in_reply_to_status_id_str    8 non-null float64\n",
      "in_reply_to_user_id          11 non-null float64\n",
      "in_reply_to_user_id_str      11 non-null float64\n",
      "is_quote_status              100 non-null bool\n",
      "lang                         100 non-null object\n",
      "place                        3 non-null object\n",
      "possibly_sensitive           72 non-null object\n",
      "quoted_status                14 non-null object\n",
      "quoted_status_id             14 non-null float64\n",
      "quoted_status_id_str         14 non-null float64\n",
      "retweet_count                100 non-null int64\n",
      "retweeted                    100 non-null bool\n",
      "retweeted_status             62 non-null object\n",
      "source                       100 non-null object\n",
      "text                         100 non-null object\n",
      "timestamp_ms                 100 non-null int64\n",
      "truncated                    100 non-null bool\n",
      "user                         100 non-null object\n",
      "dtypes: bool(4), float64(9), int64(5), object(13)\n",
      "memory usage: 21.6+ KB\n"
     ]
    },
    {
     "data": {
      "text/plain": [
       "None"
      ]
     },
     "metadata": {},
     "output_type": "display_data"
    }
   ],
   "source": [
    "# Import pandas\n",
    "import pandas as pd\n",
    "\n",
    "# Import Twitter data as DataFrame: df and display it\n",
    "df = pd.read_csv('Datasets/tweets.csv')\n",
    "display(df.info())\n",
    "\n",
    "#lang column contains tweets of languages for which there are 100 non null items"
   ]
  },
  {
   "cell_type": "code",
   "execution_count": 4,
   "metadata": {},
   "outputs": [],
   "source": [
    "# Initialize an empty dictionary: langs_count to hold the languages and their respective counts\n",
    "langs_count = {}\n",
    "\n",
    "# Extract lang column from DataFrame and assign it to col\n",
    "col = df['lang']"
   ]
  },
  {
   "cell_type": "code",
   "execution_count": 5,
   "metadata": {},
   "outputs": [
    {
     "data": {
      "text/plain": [
       "{'en': 97, 'et': 1, 'und': 2}"
      ]
     },
     "metadata": {},
     "output_type": "display_data"
    }
   ],
   "source": [
    "# Iterate over lang column in DataFrame\n",
    "for entry in col:\n",
    "\n",
    "    # If the language is in langs_count, add 1\n",
    "    if entry in langs_count.keys():\n",
    "        langs_count[entry] += 1\n",
    "    # Else add the language to langs_count, set the value to 1\n",
    "    else:\n",
    "        langs_count[entry] = 1\n",
    "\n",
    "# Print the populated dictionary\n",
    "display(langs_count)"
   ]
  },
  {
   "cell_type": "markdown",
   "metadata": {},
   "source": [
    "# Results\n",
    "\n",
    "There are \n",
    "    - 7 tweets in the english language\n",
    "    - 1 tweet in the Estonian language\n",
    "    - 2 tweets in an undefined language\n"
   ]
  },
  {
   "cell_type": "code",
   "execution_count": null,
   "metadata": {},
   "outputs": [],
   "source": []
  }
 ],
 "metadata": {
  "kernelspec": {
   "display_name": "Python 3",
   "language": "python",
   "name": "python3"
  },
  "language_info": {
   "codemirror_mode": {
    "name": "ipython",
    "version": 3
   },
   "file_extension": ".py",
   "mimetype": "text/x-python",
   "name": "python",
   "nbconvert_exporter": "python",
   "pygments_lexer": "ipython3",
   "version": "3.7.4"
  }
 },
 "nbformat": 4,
 "nbformat_minor": 2
}
